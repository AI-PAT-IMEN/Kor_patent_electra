{
 "cells": [
  {
   "cell_type": "code",
   "execution_count": 1,
   "metadata": {},
   "outputs": [
    {
     "data": {
      "text/html": [
       "        <script type=\"text/javascript\">\n",
       "        window.PlotlyConfig = {MathJaxConfig: 'local'};\n",
       "        if (window.MathJax) {MathJax.Hub.Config({SVG: {font: \"STIX-Web\"}});}\n",
       "        if (typeof require !== 'undefined') {\n",
       "        require.undef(\"plotly\");\n",
       "        requirejs.config({\n",
       "            paths: {\n",
       "                'plotly': ['https://cdn.plot.ly/plotly-2.9.0.min']\n",
       "            }\n",
       "        });\n",
       "        require(['plotly'], function(Plotly) {\n",
       "            window._Plotly = Plotly;\n",
       "        });\n",
       "        }\n",
       "        </script>\n",
       "        "
      ]
     },
     "metadata": {},
     "output_type": "display_data"
    }
   ],
   "source": [
    "import pandas as pd\n",
    "import numpy as np\n",
    "import cufflinks as cf\n",
    "import chart_studio.plotly as py\n",
    "import plotly.graph_objects as go\n",
    "import re\n",
    "from tqdm import tqdm\n",
    "\n",
    "cf.go_offline(connected = True)"
   ]
  },
  {
   "cell_type": "code",
   "execution_count": 2,
   "metadata": {},
   "outputs": [],
   "source": [
    "df1 = pd.read_csv('cs_new_total.csv',index_col = 0)"
   ]
  },
  {
   "cell_type": "code",
   "execution_count": 3,
   "metadata": {},
   "outputs": [],
   "source": [
    "df2 = df1.copy()"
   ]
  },
  {
   "cell_type": "code",
   "execution_count": 4,
   "metadata": {},
   "outputs": [],
   "source": [
    "df2.columns = df1.columns.str.strip()"
   ]
  },
  {
   "cell_type": "code",
   "execution_count": 5,
   "metadata": {},
   "outputs": [
    {
     "data": {
      "text/plain": [
       "array([[\"['G01N21/8851(2013.01)', 'G01B11/026(2013.01)', 'G01B11/03(2013.01)', 'G06T7/0004(2013.01)', 'G06N20/00(2013.01)', 'G01N2021/8861(2013.01)', 'G01N2021/8887(2013.01)', 'G01N2201/1296(2013.01)']\"]],\n",
       "      dtype=object)"
      ]
     },
     "execution_count": 5,
     "metadata": {},
     "output_type": "execute_result"
    }
   ],
   "source": [
    "df2[['(52) CPC']].head(1).values"
   ]
  },
  {
   "cell_type": "code",
   "execution_count": 6,
   "metadata": {},
   "outputs": [],
   "source": [
    "string = \"['G01N21/8851(2013.01)', 'G01B11/026(2013.01)', 'G01B11/03(2013.01)', 'G06T7/0004(2013.01)', 'G06N20/00(2013.01)', 'G01N2021/8861(2013.01)', 'G01N2021/8887(2013.01)', 'G01N2201/1296(2013.01)']\""
   ]
  },
  {
   "cell_type": "code",
   "execution_count": null,
   "metadata": {},
   "outputs": [],
   "source": []
  },
  {
   "cell_type": "code",
   "execution_count": 7,
   "metadata": {},
   "outputs": [
    {
     "name": "stdout",
     "output_type": "stream",
     "text": [
      "G01N 21\n",
      "G01B 11\n",
      "G01B 11\n",
      "G06T 7\n",
      "G06N 20\n",
      "G01N 20\n",
      "G01N 20\n",
      "G01N 22\n"
     ]
    }
   ],
   "source": [
    "regex = \"\\(.*\\)|\\s-\\s.*\"\n",
    "a = string.replace(\"'\",'').replace('[','').replace(']','').split(',')\n",
    "for ww in a:\n",
    "    ww_sub = re.sub(regex, '', ww.strip())\n",
    "    ww_sub_split = ww_sub.split('/')\n",
    "    print(ww_sub_split[0][0:4].strip() + ' ' + ww_sub_split[0][4:6].strip())"
   ]
  },
  {
   "cell_type": "code",
   "execution_count": 8,
   "metadata": {},
   "outputs": [],
   "source": [
    "# [G06Q 30 | G06Q 40 | G06N 20 | H04L 65 | G06Q 10] "
   ]
  },
  {
   "cell_type": "code",
   "execution_count": 9,
   "metadata": {},
   "outputs": [
    {
     "data": {
      "text/plain": [
       "(30039, 30)"
      ]
     },
     "execution_count": 9,
     "metadata": {},
     "output_type": "execute_result"
    }
   ],
   "source": [
    "df2.shape"
   ]
  },
  {
   "cell_type": "code",
   "execution_count": 10,
   "metadata": {},
   "outputs": [],
   "source": [
    "def make_sep(df):\n",
    "    regex = \"\\(.*\\)|\\s-\\s.*\"\n",
    "    lst_all = []\n",
    "    for idx, CPC in zip(df['(52) CPC'].index, df['(52) CPC']):\n",
    "        a = CPC.replace(\"'\",'').replace('[','').replace(']','').split(',')\n",
    "        lst_small = []\n",
    "        for ww in a:\n",
    "            ww_sub = re.sub(regex, '', ww.strip())\n",
    "            ww_sub_split = ww_sub.split('/')\n",
    "            lst_small.append(ww_sub_split[0][0:4].strip() + ' ' + ww_sub_split[0][4:6].strip())\n",
    "            \n",
    "        lst_all.append(lst_small)\n",
    "    \n",
    "    lst_G06Q_30 = []\n",
    "    lst_G06Q_40 = []\n",
    "    lst_G06N_20 = []\n",
    "    lst_H04L_65 = []\n",
    "    lst_G06Q_10 = []\n",
    "     \n",
    "    for idx_2, abc in enumerate(lst_all):\n",
    "\n",
    "        if ('G06Q 30' in abc) & ('G06Q 40' not in abc) & ('G06N 20' not in abc) & ('H04L 65' not in abc) & ('G06Q 10' not in abc):\n",
    "            lst_G06Q_30.append(idx_2)\n",
    "            continue\n",
    "            \n",
    "        if ('G06Q 30' not in abc) & ('G06Q 40' in abc) & ('G06N 20' not in abc) & ('H04L 65' not in abc) & ('G06Q 10' not in abc):\n",
    "            lst_G06Q_40.append(idx_2)\n",
    "            continue\n",
    "\n",
    "        if ('G06Q 30' not in abc) & ('G06Q 40' not in abc) & ('G06N 20' in abc) & ('H04L 65' not in abc) & ('G06Q 10' not in abc):\n",
    "            lst_G06N_20.append(idx_2)\n",
    "            continue            \n",
    "            \n",
    "        if ('G06Q 30' not in abc) & ('G06Q 40' not in abc) & ('G06N 20'  not in abc) & ('H04L 65' in abc) & ('G06Q 10' not in abc):\n",
    "            lst_H04L_65.append(idx_2)\n",
    "            continue    \n",
    "            \n",
    "        if ('G06Q 30' not in abc) & ('G06Q 40' not in abc) & ('G06N 20' not in abc) & ('H04L 65' not in abc) & ('G06Q 10' in abc):\n",
    "            lst_G06Q_10.append(idx_2)\n",
    "            continue    \n",
    "        \n",
    "    return lst_G06Q_30, lst_G06Q_40,lst_G06N_20,lst_H04L_65,lst_G06Q_10\n",
    "    return lst_all\n",
    "    "
   ]
  },
  {
   "cell_type": "code",
   "execution_count": 11,
   "metadata": {},
   "outputs": [],
   "source": [
    "A = make_sep(df2)"
   ]
  },
  {
   "cell_type": "code",
   "execution_count": 12,
   "metadata": {},
   "outputs": [
    {
     "data": {
      "text/plain": [
       "1271"
      ]
     },
     "execution_count": 12,
     "metadata": {},
     "output_type": "execute_result"
    }
   ],
   "source": [
    "len(A[1])"
   ]
  },
  {
   "cell_type": "code",
   "execution_count": 13,
   "metadata": {},
   "outputs": [],
   "source": [
    "df3 = df2.reset_index().iloc[:,1:]"
   ]
  },
  {
   "cell_type": "code",
   "execution_count": 14,
   "metadata": {},
   "outputs": [
    {
     "data": {
      "text/plain": [
       "(30039, 30)"
      ]
     },
     "execution_count": 14,
     "metadata": {},
     "output_type": "execute_result"
    }
   ],
   "source": [
    "df3.shape"
   ]
  },
  {
   "cell_type": "code",
   "execution_count": 15,
   "metadata": {},
   "outputs": [
    {
     "data": {
      "text/html": [
       "<div>\n",
       "<style scoped>\n",
       "    .dataframe tbody tr th:only-of-type {\n",
       "        vertical-align: middle;\n",
       "    }\n",
       "\n",
       "    .dataframe tbody tr th {\n",
       "        vertical-align: top;\n",
       "    }\n",
       "\n",
       "    .dataframe thead th {\n",
       "        text-align: right;\n",
       "    }\n",
       "</style>\n",
       "<table border=\"1\" class=\"dataframe\">\n",
       "  <thead>\n",
       "    <tr style=\"text-align: right;\">\n",
       "      <th></th>\n",
       "      <th>제목</th>\n",
       "      <th>출원인</th>\n",
       "      <th>피인용 횟수</th>\n",
       "      <th>IPC</th>\n",
       "      <th>출원번호(일자)</th>\n",
       "      <th>최종권리자</th>\n",
       "      <th>요약</th>\n",
       "      <th>(51) Int. CL</th>\n",
       "      <th>(52) CPC</th>\n",
       "      <th>(21) 출원번호/일자(국제)</th>\n",
       "      <th>...</th>\n",
       "      <th>심판사항</th>\n",
       "      <th>구분</th>\n",
       "      <th>원출원번호/일자(국제)</th>\n",
       "      <th>관련 출원번호</th>\n",
       "      <th>기술이전 희망</th>\n",
       "      <th>심사청구여부/일자</th>\n",
       "      <th>심사청구항수</th>\n",
       "      <th>(21) 출원번호/일자</th>\n",
       "      <th>원출원번호/일자</th>\n",
       "      <th>cosing_simliarity</th>\n",
       "    </tr>\n",
       "  </thead>\n",
       "  <tbody>\n",
       "    <tr>\n",
       "      <th>0</th>\n",
       "      <td>모바일 단말 기반의 구조물 균열 검출 방법, 장치 및 시스템(METHOD, DEVI...</td>\n",
       "      <td>주식회사 디와이스코프코리아</td>\n",
       "      <td>0.0</td>\n",
       "      <td>['G01N 21/88', 'G01B 11/02', 'G01B 11/03', 'G0...</td>\n",
       "      <td>1020220045565 (2022.04.13)</td>\n",
       "      <td>주식회사 디와이스코프코리아</td>\n",
       "      <td>본 발명은 모바일 단말 기반의 구조물 균열 검출 방법, 장치 및 시스템에 관한 것이...</td>\n",
       "      <td>['G01N21/88(2006.01.01)', 'G01B11/02(2006.01.0...</td>\n",
       "      <td>['G01N21/8851(2013.01)', 'G01B11/026(2013.01)'...</td>\n",
       "      <td>NaN</td>\n",
       "      <td>...</td>\n",
       "      <td>['']</td>\n",
       "      <td>국내출원/신규</td>\n",
       "      <td>NaN</td>\n",
       "      <td>['\\xa0']</td>\n",
       "      <td>NaN</td>\n",
       "      <td>Y(2022.04.13)</td>\n",
       "      <td>1.0</td>\n",
       "      <td>1020220045565 (2022.04.13)</td>\n",
       "      <td>NaN</td>\n",
       "      <td>0.838633</td>\n",
       "    </tr>\n",
       "    <tr>\n",
       "      <th>1</th>\n",
       "      <td>포인트 전환을 위하여 정보를 처리하는 전자 장치 및 그 방법(ELECTRONIC A...</td>\n",
       "      <td>쿠팡 주식회사</td>\n",
       "      <td>0.0</td>\n",
       "      <td>['G06Q 30/02']</td>\n",
       "      <td>1020210164305 (2021.11.25)</td>\n",
       "      <td>쿠팡 주식회사</td>\n",
       "      <td>본 개시에 따르면, 사용자를 식별하기 위한 사용자 정보를 포함하는 포인트 조회 요청...</td>\n",
       "      <td>['G06Q30/02(2012.01.01)']</td>\n",
       "      <td>['G06Q30/0226(2013.01)', 'G06Q30/0208(2013.01)']</td>\n",
       "      <td>NaN</td>\n",
       "      <td>...</td>\n",
       "      <td>['']</td>\n",
       "      <td>국내출원/분할</td>\n",
       "      <td>NaN</td>\n",
       "      <td>['1020210034170\\xa0']</td>\n",
       "      <td>NaN</td>\n",
       "      <td>Y(2021.11.25)</td>\n",
       "      <td>21.0</td>\n",
       "      <td>1020210164305 (2021.11.25)</td>\n",
       "      <td>1020210034170 (2021.03.16)</td>\n",
       "      <td>0.838508</td>\n",
       "    </tr>\n",
       "    <tr>\n",
       "      <th>2</th>\n",
       "      <td>게놈(유전자) 데이터를 디지털 이미지화하여 디지털 미디어의 저작권 인증을 수행하는 ...</td>\n",
       "      <td>주식회사 클리노믹스</td>\n",
       "      <td>0.0</td>\n",
       "      <td>['G06F 21/44', 'G06F 21/10', 'G06F 21/60', 'G1...</td>\n",
       "      <td>1020220017516 (2022.02.10)</td>\n",
       "      <td>주식회사 클리노믹스</td>\n",
       "      <td>본 발명의 게놈 데이터를 디지털 이미지화하여 디지털 미디어의 저작권 인증을 수행하는...</td>\n",
       "      <td>['G06F21/44(2013.01.01)', 'G06F21/10(2013.01.0...</td>\n",
       "      <td>['G06F21/44(2013.01)', 'G06F21/10(2013.01)', '...</td>\n",
       "      <td>NaN</td>\n",
       "      <td>...</td>\n",
       "      <td>['']</td>\n",
       "      <td>국내출원/신규</td>\n",
       "      <td>NaN</td>\n",
       "      <td>['\\xa0']</td>\n",
       "      <td>NaN</td>\n",
       "      <td>Y(2022.02.10)</td>\n",
       "      <td>6.0</td>\n",
       "      <td>1020220017516 (2022.02.10)</td>\n",
       "      <td>NaN</td>\n",
       "      <td>0.888553</td>\n",
       "    </tr>\n",
       "    <tr>\n",
       "      <th>3</th>\n",
       "      <td>이미지에 대한 음성합성에 기반하여 영상 컨텐츠를 생성하는 방법 및 시스템(METHO...</td>\n",
       "      <td>네이버 주식회사\\n, 라인 가부시키가이샤\\n더보기</td>\n",
       "      <td>0.0</td>\n",
       "      <td>['H04N 21/854', 'H04N 21/43', 'H04N 21/845', '...</td>\n",
       "      <td>1020210034735 (2021.03.17)</td>\n",
       "      <td>네이버 주식회사 , 라인 가부시키가이샤</td>\n",
       "      <td>이미지에 대한 음성합성에 기반하여 영상 컨텐츠를 생성하는 방법 및 시스템을 개시한다...</td>\n",
       "      <td>['H04N21/854(2011.01.01)', 'H04N21/43(2011.01....</td>\n",
       "      <td>['H04N21/854(2013.01)', 'H04N21/4307(2013.01)'...</td>\n",
       "      <td>NaN</td>\n",
       "      <td>...</td>\n",
       "      <td>['']</td>\n",
       "      <td>국내출원/신규</td>\n",
       "      <td>NaN</td>\n",
       "      <td>['\\xa0']</td>\n",
       "      <td>NaN</td>\n",
       "      <td>Y(2021.03.17)</td>\n",
       "      <td>20.0</td>\n",
       "      <td>1020210034735 (2021.03.17)</td>\n",
       "      <td>NaN</td>\n",
       "      <td>0.818725</td>\n",
       "    </tr>\n",
       "    <tr>\n",
       "      <th>4</th>\n",
       "      <td>실시간 미용사 매칭 예약방법(AN BOOKING METHOD OF MATCHING ...</td>\n",
       "      <td>이훈민</td>\n",
       "      <td>0.0</td>\n",
       "      <td>['G06Q 30/08', 'G06Q 30/02', 'G06Q 10/02', 'G0...</td>\n",
       "      <td>1020210120566 (2021.09.09)</td>\n",
       "      <td>이훈민</td>\n",
       "      <td>본 발명은 사용자의 일반검색이나 위치검색 요청에 따라 사용자가 제안한 청약금액에 대...</td>\n",
       "      <td>['G06Q30/08(2012.01.01)', 'G06Q30/02(2012.01.0...</td>\n",
       "      <td>['G06Q30/08(2013.01)', 'G06Q30/0207(2013.01)',...</td>\n",
       "      <td>NaN</td>\n",
       "      <td>...</td>\n",
       "      <td>['']</td>\n",
       "      <td>국내출원/분할</td>\n",
       "      <td>NaN</td>\n",
       "      <td>['1020190176668\\xa0']</td>\n",
       "      <td>NaN</td>\n",
       "      <td>Y(2021.09.09)</td>\n",
       "      <td>13.0</td>\n",
       "      <td>1020210120566 (2021.09.09)</td>\n",
       "      <td>1020190176668 (2019.12.27)</td>\n",
       "      <td>0.813184</td>\n",
       "    </tr>\n",
       "    <tr>\n",
       "      <th>...</th>\n",
       "      <td>...</td>\n",
       "      <td>...</td>\n",
       "      <td>...</td>\n",
       "      <td>...</td>\n",
       "      <td>...</td>\n",
       "      <td>...</td>\n",
       "      <td>...</td>\n",
       "      <td>...</td>\n",
       "      <td>...</td>\n",
       "      <td>...</td>\n",
       "      <td>...</td>\n",
       "      <td>...</td>\n",
       "      <td>...</td>\n",
       "      <td>...</td>\n",
       "      <td>...</td>\n",
       "      <td>...</td>\n",
       "      <td>...</td>\n",
       "      <td>...</td>\n",
       "      <td>...</td>\n",
       "      <td>...</td>\n",
       "      <td>...</td>\n",
       "    </tr>\n",
       "    <tr>\n",
       "      <th>30034</th>\n",
       "      <td>무선랜 네트워크 광고 서비스 제공 방법 및 이를 이용한 무선 단말(METHOD FO...</td>\n",
       "      <td>에스케이텔레콤 주식회사</td>\n",
       "      <td>0.0</td>\n",
       "      <td>['G06Q 30/02', 'H04W 8/24']</td>\n",
       "      <td>1020130093014 (2013.08.06)</td>\n",
       "      <td>에스케이텔레콤 주식회사</td>\n",
       "      <td>무선랜 채널 검색 방법이 제공되며, 적어도 하나의 무선랜 AP로 프로브 요청(Pro...</td>\n",
       "      <td>['G06Q30/02(2012.01.01)', 'H04W8/24(2009.01.01)']</td>\n",
       "      <td>['G06Q30/0277(2013.01)', 'H04W8/245(2013.01)']</td>\n",
       "      <td>NaN</td>\n",
       "      <td>...</td>\n",
       "      <td>['']</td>\n",
       "      <td>국내출원/신규</td>\n",
       "      <td>NaN</td>\n",
       "      <td>['1020200054006\\xa0']</td>\n",
       "      <td>NaN</td>\n",
       "      <td>Y(2018.07.12)</td>\n",
       "      <td>11.0</td>\n",
       "      <td>1020130093014 (2013.08.06)</td>\n",
       "      <td>NaN</td>\n",
       "      <td>0.878179</td>\n",
       "    </tr>\n",
       "    <tr>\n",
       "      <th>30035</th>\n",
       "      <td>광고 제공 시스템 및 그 방법, 그리고 이에 적용되는 장치(ADVERTISEMENT...</td>\n",
       "      <td>에스케이플래닛 주식회사</td>\n",
       "      <td>0.0</td>\n",
       "      <td>['G06Q 30/02', 'G06Q 10/08']</td>\n",
       "      <td>1020130063613 (2013.06.03)</td>\n",
       "      <td>에스케이플래닛 주식회사</td>\n",
       "      <td>본 발명은 광고 제공 시스템 및 그 방법, 그리고 이에 적용되는 장치를 개시한다. ...</td>\n",
       "      <td>['G06Q30/02(2012.01.01)', 'G06Q10/08(2012.01.0...</td>\n",
       "      <td>['G06Q30/0264(2013.01)', 'G06Q10/087(2013.01)']</td>\n",
       "      <td>NaN</td>\n",
       "      <td>...</td>\n",
       "      <td>['']</td>\n",
       "      <td>국내출원/신규</td>\n",
       "      <td>NaN</td>\n",
       "      <td>['\\xa0']</td>\n",
       "      <td>NaN</td>\n",
       "      <td>Y(2018.06.04)</td>\n",
       "      <td>2.0</td>\n",
       "      <td>1020130063613 (2013.06.03)</td>\n",
       "      <td>NaN</td>\n",
       "      <td>0.726583</td>\n",
       "    </tr>\n",
       "    <tr>\n",
       "      <th>30036</th>\n",
       "      <td>터치 인증 기반 가치 적립 방법(Method for Accumulating Valu...</td>\n",
       "      <td>원투씨엠 주식회사</td>\n",
       "      <td>0.0</td>\n",
       "      <td>['G06Q 30/02', 'G06F 3/0488']</td>\n",
       "      <td>1020130085745 (2013.07.20)</td>\n",
       "      <td>원투씨엠 주식회사</td>\n",
       "      <td>본 발명은 터치 인증 기반 가치 적립 방법에 관한 것으로, 지정된 가맹점에 구비된 ...</td>\n",
       "      <td>['G06Q30/02(2012.01.01)', 'G06F3/0488(2022.01....</td>\n",
       "      <td>['G06Q30/0226(2013.01)', 'G06Q30/0238(2013.01)...</td>\n",
       "      <td>NaN</td>\n",
       "      <td>...</td>\n",
       "      <td>['']</td>\n",
       "      <td>국내출원/신규</td>\n",
       "      <td>NaN</td>\n",
       "      <td>['10201401038421020140103868\\xa0']</td>\n",
       "      <td>NaN</td>\n",
       "      <td>Y(2018.07.20)</td>\n",
       "      <td>8.0</td>\n",
       "      <td>1020130085745 (2013.07.20)</td>\n",
       "      <td>NaN</td>\n",
       "      <td>0.878095</td>\n",
       "    </tr>\n",
       "    <tr>\n",
       "      <th>30037</th>\n",
       "      <td>전자토큰 제어 방법 및 장치(METHOD FOR CONTROLLING AN ELEC...</td>\n",
       "      <td>삼성전자주식회사</td>\n",
       "      <td>0.0</td>\n",
       "      <td>['G06Q 10/10', 'H04M 1/725', 'H04W 4/00']</td>\n",
       "      <td>1020130019468 (2013.02.22)</td>\n",
       "      <td>삼성전자주식회사</td>\n",
       "      <td>본 발명에 따른 전자토큰을 제어하는 방법은, 제1전자토큰의 리마인더 타입을 설정하는...</td>\n",
       "      <td>['G06Q10/10(2022.01.01)', 'H04M1/725(2021.01.0...</td>\n",
       "      <td>['G06Q10/109(2013.01)', 'G06Q20/367(2013.01)',...</td>\n",
       "      <td>NaN</td>\n",
       "      <td>...</td>\n",
       "      <td>['']</td>\n",
       "      <td>국내출원/신규</td>\n",
       "      <td>NaN</td>\n",
       "      <td>['\\xa0']</td>\n",
       "      <td>NaN</td>\n",
       "      <td>Y(2018.02.13)</td>\n",
       "      <td>18.0</td>\n",
       "      <td>1020130019468 (2013.02.22)</td>\n",
       "      <td>NaN</td>\n",
       "      <td>0.807682</td>\n",
       "    </tr>\n",
       "    <tr>\n",
       "      <th>30038</th>\n",
       "      <td>클라우드 인프라스트럭처를 활용한 협업 시스템 및 이에 적용되는 이벤트 기반 협업 흐...</td>\n",
       "      <td>고려대학교 산학협력단</td>\n",
       "      <td>0.0</td>\n",
       "      <td>['G06Q 10/10']</td>\n",
       "      <td>1020120134049 (2012.11.23)</td>\n",
       "      <td>고려대학교 산학협력단</td>\n",
       "      <td>본 발명은 클라우드 기술을 활용한 협업 시스템에서 협업 흐름을 간편하게 정의하고 협...</td>\n",
       "      <td>['G06Q10/10(2022.01.01)']</td>\n",
       "      <td>['G06Q10/103(2013.01)', 'G16Y30/06(2013.01)']</td>\n",
       "      <td>NaN</td>\n",
       "      <td>...</td>\n",
       "      <td>['']</td>\n",
       "      <td>국내출원/신규</td>\n",
       "      <td>NaN</td>\n",
       "      <td>['\\xa0']</td>\n",
       "      <td>NaN</td>\n",
       "      <td>Y(2017.11.23)</td>\n",
       "      <td>7.0</td>\n",
       "      <td>1020120134049 (2012.11.23)</td>\n",
       "      <td>NaN</td>\n",
       "      <td>0.824174</td>\n",
       "    </tr>\n",
       "  </tbody>\n",
       "</table>\n",
       "<p>30039 rows × 30 columns</p>\n",
       "</div>"
      ],
      "text/plain": [
       "                                                      제목  \\\n",
       "0      모바일 단말 기반의 구조물 균열 검출 방법, 장치 및 시스템(METHOD, DEVI...   \n",
       "1      포인트 전환을 위하여 정보를 처리하는 전자 장치 및 그 방법(ELECTRONIC A...   \n",
       "2      게놈(유전자) 데이터를 디지털 이미지화하여 디지털 미디어의 저작권 인증을 수행하는 ...   \n",
       "3      이미지에 대한 음성합성에 기반하여 영상 컨텐츠를 생성하는 방법 및 시스템(METHO...   \n",
       "4      실시간 미용사 매칭 예약방법(AN BOOKING METHOD OF MATCHING ...   \n",
       "...                                                  ...   \n",
       "30034  무선랜 네트워크 광고 서비스 제공 방법 및 이를 이용한 무선 단말(METHOD FO...   \n",
       "30035  광고 제공 시스템 및 그 방법, 그리고 이에 적용되는 장치(ADVERTISEMENT...   \n",
       "30036  터치 인증 기반 가치 적립 방법(Method for Accumulating Valu...   \n",
       "30037  전자토큰 제어 방법 및 장치(METHOD FOR CONTROLLING AN ELEC...   \n",
       "30038  클라우드 인프라스트럭처를 활용한 협업 시스템 및 이에 적용되는 이벤트 기반 협업 흐...   \n",
       "\n",
       "                                출원인  피인용 횟수  \\\n",
       "0                    주식회사 디와이스코프코리아     0.0   \n",
       "1                           쿠팡 주식회사     0.0   \n",
       "2                        주식회사 클리노믹스     0.0   \n",
       "3       네이버 주식회사\\n, 라인 가부시키가이샤\\n더보기     0.0   \n",
       "4                               이훈민     0.0   \n",
       "...                             ...     ...   \n",
       "30034                  에스케이텔레콤 주식회사     0.0   \n",
       "30035                  에스케이플래닛 주식회사     0.0   \n",
       "30036                     원투씨엠 주식회사     0.0   \n",
       "30037                      삼성전자주식회사     0.0   \n",
       "30038                   고려대학교 산학협력단     0.0   \n",
       "\n",
       "                                                     IPC  \\\n",
       "0      ['G01N 21/88', 'G01B 11/02', 'G01B 11/03', 'G0...   \n",
       "1                                         ['G06Q 30/02']   \n",
       "2      ['G06F 21/44', 'G06F 21/10', 'G06F 21/60', 'G1...   \n",
       "3      ['H04N 21/854', 'H04N 21/43', 'H04N 21/845', '...   \n",
       "4      ['G06Q 30/08', 'G06Q 30/02', 'G06Q 10/02', 'G0...   \n",
       "...                                                  ...   \n",
       "30034                        ['G06Q 30/02', 'H04W 8/24']   \n",
       "30035                       ['G06Q 30/02', 'G06Q 10/08']   \n",
       "30036                      ['G06Q 30/02', 'G06F 3/0488']   \n",
       "30037          ['G06Q 10/10', 'H04M 1/725', 'H04W 4/00']   \n",
       "30038                                     ['G06Q 10/10']   \n",
       "\n",
       "                         출원번호(일자)                   최종권리자  \\\n",
       "0      1020220045565 (2022.04.13)          주식회사 디와이스코프코리아   \n",
       "1      1020210164305 (2021.11.25)                 쿠팡 주식회사   \n",
       "2      1020220017516 (2022.02.10)              주식회사 클리노믹스   \n",
       "3      1020210034735 (2021.03.17)   네이버 주식회사 , 라인 가부시키가이샤   \n",
       "4      1020210120566 (2021.09.09)                     이훈민   \n",
       "...                           ...                     ...   \n",
       "30034  1020130093014 (2013.08.06)            에스케이텔레콤 주식회사   \n",
       "30035  1020130063613 (2013.06.03)            에스케이플래닛 주식회사   \n",
       "30036  1020130085745 (2013.07.20)               원투씨엠 주식회사   \n",
       "30037  1020130019468 (2013.02.22)                삼성전자주식회사   \n",
       "30038  1020120134049 (2012.11.23)             고려대학교 산학협력단   \n",
       "\n",
       "                                                      요약  \\\n",
       "0      본 발명은 모바일 단말 기반의 구조물 균열 검출 방법, 장치 및 시스템에 관한 것이...   \n",
       "1      본 개시에 따르면, 사용자를 식별하기 위한 사용자 정보를 포함하는 포인트 조회 요청...   \n",
       "2      본 발명의 게놈 데이터를 디지털 이미지화하여 디지털 미디어의 저작권 인증을 수행하는...   \n",
       "3      이미지에 대한 음성합성에 기반하여 영상 컨텐츠를 생성하는 방법 및 시스템을 개시한다...   \n",
       "4      본 발명은 사용자의 일반검색이나 위치검색 요청에 따라 사용자가 제안한 청약금액에 대...   \n",
       "...                                                  ...   \n",
       "30034  무선랜 채널 검색 방법이 제공되며, 적어도 하나의 무선랜 AP로 프로브 요청(Pro...   \n",
       "30035  본 발명은 광고 제공 시스템 및 그 방법, 그리고 이에 적용되는 장치를 개시한다. ...   \n",
       "30036  본 발명은 터치 인증 기반 가치 적립 방법에 관한 것으로, 지정된 가맹점에 구비된 ...   \n",
       "30037  본 발명에 따른 전자토큰을 제어하는 방법은, 제1전자토큰의 리마인더 타입을 설정하는...   \n",
       "30038  본 발명은 클라우드 기술을 활용한 협업 시스템에서 협업 흐름을 간편하게 정의하고 협...   \n",
       "\n",
       "                                            (51) Int. CL  \\\n",
       "0      ['G01N21/88(2006.01.01)', 'G01B11/02(2006.01.0...   \n",
       "1                              ['G06Q30/02(2012.01.01)']   \n",
       "2      ['G06F21/44(2013.01.01)', 'G06F21/10(2013.01.0...   \n",
       "3      ['H04N21/854(2011.01.01)', 'H04N21/43(2011.01....   \n",
       "4      ['G06Q30/08(2012.01.01)', 'G06Q30/02(2012.01.0...   \n",
       "...                                                  ...   \n",
       "30034  ['G06Q30/02(2012.01.01)', 'H04W8/24(2009.01.01)']   \n",
       "30035  ['G06Q30/02(2012.01.01)', 'G06Q10/08(2012.01.0...   \n",
       "30036  ['G06Q30/02(2012.01.01)', 'G06F3/0488(2022.01....   \n",
       "30037  ['G06Q10/10(2022.01.01)', 'H04M1/725(2021.01.0...   \n",
       "30038                          ['G06Q10/10(2022.01.01)']   \n",
       "\n",
       "                                                (52) CPC  (21) 출원번호/일자(국제)  \\\n",
       "0      ['G01N21/8851(2013.01)', 'G01B11/026(2013.01)'...               NaN   \n",
       "1       ['G06Q30/0226(2013.01)', 'G06Q30/0208(2013.01)']               NaN   \n",
       "2      ['G06F21/44(2013.01)', 'G06F21/10(2013.01)', '...               NaN   \n",
       "3      ['H04N21/854(2013.01)', 'H04N21/4307(2013.01)'...               NaN   \n",
       "4      ['G06Q30/08(2013.01)', 'G06Q30/0207(2013.01)',...               NaN   \n",
       "...                                                  ...               ...   \n",
       "30034     ['G06Q30/0277(2013.01)', 'H04W8/245(2013.01)']               NaN   \n",
       "30035    ['G06Q30/0264(2013.01)', 'G06Q10/087(2013.01)']               NaN   \n",
       "30036  ['G06Q30/0226(2013.01)', 'G06Q30/0238(2013.01)...               NaN   \n",
       "30037  ['G06Q10/109(2013.01)', 'G06Q20/367(2013.01)',...               NaN   \n",
       "30038      ['G06Q10/103(2013.01)', 'G16Y30/06(2013.01)']               NaN   \n",
       "\n",
       "       ...  심판사항       구분 원출원번호/일자(국제)                             관련 출원번호  \\\n",
       "0      ...  ['']  국내출원/신규          NaN                            ['\\xa0']   \n",
       "1      ...  ['']  국내출원/분할          NaN               ['1020210034170\\xa0']   \n",
       "2      ...  ['']  국내출원/신규          NaN                            ['\\xa0']   \n",
       "3      ...  ['']  국내출원/신규          NaN                            ['\\xa0']   \n",
       "4      ...  ['']  국내출원/분할          NaN               ['1020190176668\\xa0']   \n",
       "...    ...   ...      ...          ...                                 ...   \n",
       "30034  ...  ['']  국내출원/신규          NaN               ['1020200054006\\xa0']   \n",
       "30035  ...  ['']  국내출원/신규          NaN                            ['\\xa0']   \n",
       "30036  ...  ['']  국내출원/신규          NaN  ['10201401038421020140103868\\xa0']   \n",
       "30037  ...  ['']  국내출원/신규          NaN                            ['\\xa0']   \n",
       "30038  ...  ['']  국내출원/신규          NaN                            ['\\xa0']   \n",
       "\n",
       "       기술이전 희망      심사청구여부/일자 심사청구항수                (21) 출원번호/일자  \\\n",
       "0          NaN  Y(2022.04.13)    1.0  1020220045565 (2022.04.13)   \n",
       "1          NaN  Y(2021.11.25)   21.0  1020210164305 (2021.11.25)   \n",
       "2          NaN  Y(2022.02.10)    6.0  1020220017516 (2022.02.10)   \n",
       "3          NaN  Y(2021.03.17)   20.0  1020210034735 (2021.03.17)   \n",
       "4          NaN  Y(2021.09.09)   13.0  1020210120566 (2021.09.09)   \n",
       "...        ...            ...    ...                         ...   \n",
       "30034      NaN  Y(2018.07.12)   11.0  1020130093014 (2013.08.06)   \n",
       "30035      NaN  Y(2018.06.04)    2.0  1020130063613 (2013.06.03)   \n",
       "30036      NaN  Y(2018.07.20)    8.0  1020130085745 (2013.07.20)   \n",
       "30037      NaN  Y(2018.02.13)   18.0  1020130019468 (2013.02.22)   \n",
       "30038      NaN  Y(2017.11.23)    7.0  1020120134049 (2012.11.23)   \n",
       "\n",
       "                         원출원번호/일자 cosing_simliarity  \n",
       "0                             NaN          0.838633  \n",
       "1      1020210034170 (2021.03.16)          0.838508  \n",
       "2                             NaN          0.888553  \n",
       "3                             NaN          0.818725  \n",
       "4      1020190176668 (2019.12.27)          0.813184  \n",
       "...                           ...               ...  \n",
       "30034                         NaN          0.878179  \n",
       "30035                         NaN          0.726583  \n",
       "30036                         NaN          0.878095  \n",
       "30037                         NaN          0.807682  \n",
       "30038                         NaN          0.824174  \n",
       "\n",
       "[30039 rows x 30 columns]"
      ]
     },
     "execution_count": 15,
     "metadata": {},
     "output_type": "execute_result"
    }
   ],
   "source": [
    "df3"
   ]
  },
  {
   "cell_type": "code",
   "execution_count": 16,
   "metadata": {},
   "outputs": [],
   "source": [
    "df_G06Q_30 = df3.iloc[A[0]].copy()\n",
    "df_G06Q_40 = df3.iloc[A[1]].copy()\n",
    "df_G06N_20 = df3.iloc[A[2]].copy()\n",
    "df_H04L_65 = df3.iloc[A[3]].copy()\n",
    "df_G06Q_10 = df3.iloc[A[4]].copy()"
   ]
  },
  {
   "cell_type": "code",
   "execution_count": 17,
   "metadata": {},
   "outputs": [],
   "source": [
    "tqdm.pandas()"
   ]
  },
  {
   "cell_type": "code",
   "execution_count": 18,
   "metadata": {},
   "outputs": [],
   "source": [
    "def make_일자(row):\n",
    "    w = row['(11) 등록번호/일자'] \n",
    "    ww =  w.replace(')','').split('(')[1]\n",
    "    \n",
    "    row['등록일자'] = ww\n",
    "    row['등록일자2'] = pd.to_datetime(ww)\n",
    "    \n",
    "    \n",
    "    return row"
   ]
  },
  {
   "cell_type": "code",
   "execution_count": 19,
   "metadata": {},
   "outputs": [
    {
     "name": "stderr",
     "output_type": "stream",
     "text": [
      "100%|████████████████████████████████████████████████████████████████████████████| 8455/8455 [00:07<00:00, 1152.75it/s]\n",
      "100%|████████████████████████████████████████████████████████████████████████████| 1271/1271 [00:01<00:00, 1123.53it/s]\n",
      "100%|████████████████████████████████████████████████████████████████████████████| 2779/2779 [00:02<00:00, 1150.94it/s]\n",
      "100%|██████████████████████████████████████████████████████████████████████████████| 279/279 [00:00<00:00, 1138.52it/s]\n",
      "100%|████████████████████████████████████████████████████████████████████████████| 5530/5530 [00:04<00:00, 1111.08it/s]\n"
     ]
    }
   ],
   "source": [
    "df_G06Q_30_2 = df_G06Q_30.progress_apply(make_일자,axis=1).copy()\n",
    "df_G06Q_40_2 = df_G06Q_40.progress_apply(make_일자,axis=1).copy()\n",
    "df_G06N_20_2 = df_G06N_20.progress_apply(make_일자,axis=1).copy()\n",
    "df_H04L_65_2 = df_H04L_65.progress_apply(make_일자,axis=1).copy()\n",
    "df_G06Q_10_2 = df_G06Q_10.progress_apply(make_일자,axis=1).copy()"
   ]
  },
  {
   "cell_type": "code",
   "execution_count": 20,
   "metadata": {},
   "outputs": [
    {
     "data": {
      "text/html": [
       "<div>\n",
       "<style scoped>\n",
       "    .dataframe tbody tr th:only-of-type {\n",
       "        vertical-align: middle;\n",
       "    }\n",
       "\n",
       "    .dataframe tbody tr th {\n",
       "        vertical-align: top;\n",
       "    }\n",
       "\n",
       "    .dataframe thead th {\n",
       "        text-align: right;\n",
       "    }\n",
       "</style>\n",
       "<table border=\"1\" class=\"dataframe\">\n",
       "  <thead>\n",
       "    <tr style=\"text-align: right;\">\n",
       "      <th></th>\n",
       "      <th>등록일자2</th>\n",
       "    </tr>\n",
       "  </thead>\n",
       "  <tbody>\n",
       "    <tr>\n",
       "      <th>1</th>\n",
       "      <td>2022-11-08</td>\n",
       "    </tr>\n",
       "    <tr>\n",
       "      <th>16</th>\n",
       "      <td>2022-11-04</td>\n",
       "    </tr>\n",
       "    <tr>\n",
       "      <th>19</th>\n",
       "      <td>2022-11-07</td>\n",
       "    </tr>\n",
       "    <tr>\n",
       "      <th>21</th>\n",
       "      <td>2022-11-08</td>\n",
       "    </tr>\n",
       "    <tr>\n",
       "      <th>25</th>\n",
       "      <td>2022-09-07</td>\n",
       "    </tr>\n",
       "    <tr>\n",
       "      <th>...</th>\n",
       "      <td>...</td>\n",
       "    </tr>\n",
       "    <tr>\n",
       "      <th>30031</th>\n",
       "      <td>2020-09-25</td>\n",
       "    </tr>\n",
       "    <tr>\n",
       "      <th>30032</th>\n",
       "      <td>2020-09-25</td>\n",
       "    </tr>\n",
       "    <tr>\n",
       "      <th>30033</th>\n",
       "      <td>2020-02-19</td>\n",
       "    </tr>\n",
       "    <tr>\n",
       "      <th>30034</th>\n",
       "      <td>2020-06-22</td>\n",
       "    </tr>\n",
       "    <tr>\n",
       "      <th>30036</th>\n",
       "      <td>2020-08-06</td>\n",
       "    </tr>\n",
       "  </tbody>\n",
       "</table>\n",
       "<p>8455 rows × 1 columns</p>\n",
       "</div>"
      ],
      "text/plain": [
       "           등록일자2\n",
       "1     2022-11-08\n",
       "16    2022-11-04\n",
       "19    2022-11-07\n",
       "21    2022-11-08\n",
       "25    2022-09-07\n",
       "...          ...\n",
       "30031 2020-09-25\n",
       "30032 2020-09-25\n",
       "30033 2020-02-19\n",
       "30034 2020-06-22\n",
       "30036 2020-08-06\n",
       "\n",
       "[8455 rows x 1 columns]"
      ]
     },
     "execution_count": 20,
     "metadata": {},
     "output_type": "execute_result"
    }
   ],
   "source": [
    "\n",
    "df_G06Q_30_2[['등록일자2']]"
   ]
  },
  {
   "cell_type": "code",
   "execution_count": 21,
   "metadata": {},
   "outputs": [],
   "source": [
    "df_G06Q_30_2_count = df_G06Q_30_2.groupby(['등록일자2','출원인']).agg('count').copy()\n",
    "df_G06Q_30_2_count_1 = df_G06Q_30_2_count.reset_index()[df_G06Q_30_2_count[['제목']].reset_index()['등록일자2'] < pd.to_datetime('20221031')].copy()\n",
    "\n",
    "df_G06Q_40_2_count = df_G06Q_40_2.groupby(['등록일자2','출원인']).agg('count').copy()\n",
    "df_G06Q_40_2_count_1 = df_G06Q_40_2_count.reset_index()[df_G06Q_40_2_count[['제목']].reset_index()['등록일자2'] < pd.to_datetime('20221031')].copy()\n",
    "\n",
    "df_G06N_20_2_count = df_G06N_20_2.groupby(['등록일자2','출원인']).agg('count').copy()\n",
    "df_G06N_20_2_count_1 = df_G06N_20_2_count.reset_index()[df_G06N_20_2_count[['제목']].reset_index()['등록일자2'] < pd.to_datetime('20221031')].copy()\n",
    "\n",
    "df_H04L_65_2_count = df_H04L_65_2.groupby(['등록일자2','출원인']).agg('count').copy()\n",
    "df_H04L_65_2_count_1 = df_H04L_65_2_count.reset_index()[df_H04L_65_2_count[['제목']].reset_index()['등록일자2'] < pd.to_datetime('20221031')].copy()\n",
    "\n",
    "df_G06Q_10_2_count = df_G06Q_10_2.groupby(['등록일자2','출원인']).agg('count').copy()\n",
    "df_G06Q_10_2_count_1 = df_G06Q_10_2_count.reset_index()[df_G06Q_10_2_count[['제목']].reset_index()['등록일자2'] < pd.to_datetime('20221031')].copy()\n"
   ]
  },
  {
   "cell_type": "code",
   "execution_count": 22,
   "metadata": {},
   "outputs": [
    {
     "data": {
      "text/html": [
       "<div>\n",
       "<style scoped>\n",
       "    .dataframe tbody tr th:only-of-type {\n",
       "        vertical-align: middle;\n",
       "    }\n",
       "\n",
       "    .dataframe tbody tr th {\n",
       "        vertical-align: top;\n",
       "    }\n",
       "\n",
       "    .dataframe thead th {\n",
       "        text-align: right;\n",
       "    }\n",
       "</style>\n",
       "<table border=\"1\" class=\"dataframe\">\n",
       "  <thead>\n",
       "    <tr style=\"text-align: right;\">\n",
       "      <th></th>\n",
       "      <th>제목</th>\n",
       "    </tr>\n",
       "    <tr>\n",
       "      <th>등록일자2</th>\n",
       "      <th></th>\n",
       "    </tr>\n",
       "  </thead>\n",
       "  <tbody>\n",
       "    <tr>\n",
       "      <th>2016-01-31</th>\n",
       "      <td>55</td>\n",
       "    </tr>\n",
       "    <tr>\n",
       "      <th>2016-02-29</th>\n",
       "      <td>69</td>\n",
       "    </tr>\n",
       "    <tr>\n",
       "      <th>2016-03-31</th>\n",
       "      <td>58</td>\n",
       "    </tr>\n",
       "    <tr>\n",
       "      <th>2016-04-30</th>\n",
       "      <td>59</td>\n",
       "    </tr>\n",
       "    <tr>\n",
       "      <th>2016-05-31</th>\n",
       "      <td>56</td>\n",
       "    </tr>\n",
       "    <tr>\n",
       "      <th>...</th>\n",
       "      <td>...</td>\n",
       "    </tr>\n",
       "    <tr>\n",
       "      <th>2022-06-30</th>\n",
       "      <td>117</td>\n",
       "    </tr>\n",
       "    <tr>\n",
       "      <th>2022-07-31</th>\n",
       "      <td>149</td>\n",
       "    </tr>\n",
       "    <tr>\n",
       "      <th>2022-08-31</th>\n",
       "      <td>140</td>\n",
       "    </tr>\n",
       "    <tr>\n",
       "      <th>2022-09-30</th>\n",
       "      <td>125</td>\n",
       "    </tr>\n",
       "    <tr>\n",
       "      <th>2022-10-31</th>\n",
       "      <td>117</td>\n",
       "    </tr>\n",
       "  </tbody>\n",
       "</table>\n",
       "<p>82 rows × 1 columns</p>\n",
       "</div>"
      ],
      "text/plain": [
       "             제목\n",
       "등록일자2          \n",
       "2016-01-31   55\n",
       "2016-02-29   69\n",
       "2016-03-31   58\n",
       "2016-04-30   59\n",
       "2016-05-31   56\n",
       "...         ...\n",
       "2022-06-30  117\n",
       "2022-07-31  149\n",
       "2022-08-31  140\n",
       "2022-09-30  125\n",
       "2022-10-31  117\n",
       "\n",
       "[82 rows x 1 columns]"
      ]
     },
     "execution_count": 22,
     "metadata": {},
     "output_type": "execute_result"
    }
   ],
   "source": [
    "df_G06Q_30_2_count_1.groupby(\n",
    "    pd.Grouper(key = '등록일자2',freq = 'M')).count()[['제목']]"
   ]
  },
  {
   "cell_type": "code",
   "execution_count": 23,
   "metadata": {},
   "outputs": [],
   "source": [
    "df_G06Q_30_2_count_1_groupby = df_G06Q_30_2_count_1.groupby(pd.Grouper(key = '등록일자2',freq = 'M')).count()[['제목']]\n",
    "df_G06Q_40_2_count_1_groupby =df_G06Q_40_2_count_1.groupby(pd.Grouper(key = '등록일자2',freq = 'M')).count()[['제목']]\n",
    "df_G06N_20_2_count_1_groupby = df_G06N_20_2_count_1.groupby(pd.Grouper(key = '등록일자2',freq = 'M')).count()[['제목']]\n",
    "df_H04L_65_2_count_1_groupby = df_H04L_65_2_count_1.groupby(pd.Grouper(key = '등록일자2',freq = 'M')).count()[['제목']]\n",
    "df_G06Q_10_2_count_1_groupby = df_G06Q_10_2_count_1.groupby(pd.Grouper(key = '등록일자2',freq = 'M')).count()[['제목']]"
   ]
  },
  {
   "cell_type": "code",
   "execution_count": 24,
   "metadata": {},
   "outputs": [
    {
     "data": {
      "text/html": [
       "<div>\n",
       "<style scoped>\n",
       "    .dataframe tbody tr th:only-of-type {\n",
       "        vertical-align: middle;\n",
       "    }\n",
       "\n",
       "    .dataframe tbody tr th {\n",
       "        vertical-align: top;\n",
       "    }\n",
       "\n",
       "    .dataframe thead th {\n",
       "        text-align: right;\n",
       "    }\n",
       "</style>\n",
       "<table border=\"1\" class=\"dataframe\">\n",
       "  <thead>\n",
       "    <tr style=\"text-align: right;\">\n",
       "      <th></th>\n",
       "      <th>제목</th>\n",
       "    </tr>\n",
       "    <tr>\n",
       "      <th>등록일자2</th>\n",
       "      <th></th>\n",
       "    </tr>\n",
       "  </thead>\n",
       "  <tbody>\n",
       "    <tr>\n",
       "      <th>2016-01-31</th>\n",
       "      <td>55</td>\n",
       "    </tr>\n",
       "    <tr>\n",
       "      <th>2016-02-29</th>\n",
       "      <td>69</td>\n",
       "    </tr>\n",
       "    <tr>\n",
       "      <th>2016-03-31</th>\n",
       "      <td>58</td>\n",
       "    </tr>\n",
       "    <tr>\n",
       "      <th>2016-04-30</th>\n",
       "      <td>59</td>\n",
       "    </tr>\n",
       "    <tr>\n",
       "      <th>2016-05-31</th>\n",
       "      <td>56</td>\n",
       "    </tr>\n",
       "    <tr>\n",
       "      <th>...</th>\n",
       "      <td>...</td>\n",
       "    </tr>\n",
       "    <tr>\n",
       "      <th>2022-06-30</th>\n",
       "      <td>117</td>\n",
       "    </tr>\n",
       "    <tr>\n",
       "      <th>2022-07-31</th>\n",
       "      <td>149</td>\n",
       "    </tr>\n",
       "    <tr>\n",
       "      <th>2022-08-31</th>\n",
       "      <td>140</td>\n",
       "    </tr>\n",
       "    <tr>\n",
       "      <th>2022-09-30</th>\n",
       "      <td>125</td>\n",
       "    </tr>\n",
       "    <tr>\n",
       "      <th>2022-10-31</th>\n",
       "      <td>117</td>\n",
       "    </tr>\n",
       "  </tbody>\n",
       "</table>\n",
       "<p>82 rows × 1 columns</p>\n",
       "</div>"
      ],
      "text/plain": [
       "             제목\n",
       "등록일자2          \n",
       "2016-01-31   55\n",
       "2016-02-29   69\n",
       "2016-03-31   58\n",
       "2016-04-30   59\n",
       "2016-05-31   56\n",
       "...         ...\n",
       "2022-06-30  117\n",
       "2022-07-31  149\n",
       "2022-08-31  140\n",
       "2022-09-30  125\n",
       "2022-10-31  117\n",
       "\n",
       "[82 rows x 1 columns]"
      ]
     },
     "execution_count": 24,
     "metadata": {},
     "output_type": "execute_result"
    }
   ],
   "source": [
    "df_G06Q_30_2_count_1_groupby"
   ]
  },
  {
   "cell_type": "code",
   "execution_count": 25,
   "metadata": {},
   "outputs": [
    {
     "name": "stderr",
     "output_type": "stream",
     "text": [
      "100%|██████████████████████████████████████████████████████████████████████████| 30039/30039 [00:26<00:00, 1122.39it/s]\n"
     ]
    }
   ],
   "source": [
    "df4 = df3.progress_apply(make_일자,axis = 1).copy()"
   ]
  },
  {
   "cell_type": "code",
   "execution_count": 26,
   "metadata": {},
   "outputs": [
    {
     "data": {
      "text/html": [
       "<div>\n",
       "<style scoped>\n",
       "    .dataframe tbody tr th:only-of-type {\n",
       "        vertical-align: middle;\n",
       "    }\n",
       "\n",
       "    .dataframe tbody tr th {\n",
       "        vertical-align: top;\n",
       "    }\n",
       "\n",
       "    .dataframe thead th {\n",
       "        text-align: right;\n",
       "    }\n",
       "</style>\n",
       "<table border=\"1\" class=\"dataframe\">\n",
       "  <thead>\n",
       "    <tr style=\"text-align: right;\">\n",
       "      <th></th>\n",
       "      <th>제목</th>\n",
       "      <th>출원인</th>\n",
       "      <th>피인용 횟수</th>\n",
       "      <th>IPC</th>\n",
       "      <th>출원번호(일자)</th>\n",
       "      <th>최종권리자</th>\n",
       "      <th>요약</th>\n",
       "      <th>(51) Int. CL</th>\n",
       "      <th>(52) CPC</th>\n",
       "      <th>(21) 출원번호/일자(국제)</th>\n",
       "      <th>...</th>\n",
       "      <th>원출원번호/일자(국제)</th>\n",
       "      <th>관련 출원번호</th>\n",
       "      <th>기술이전 희망</th>\n",
       "      <th>심사청구여부/일자</th>\n",
       "      <th>심사청구항수</th>\n",
       "      <th>(21) 출원번호/일자</th>\n",
       "      <th>원출원번호/일자</th>\n",
       "      <th>cosing_simliarity</th>\n",
       "      <th>등록일자</th>\n",
       "      <th>등록일자2</th>\n",
       "    </tr>\n",
       "  </thead>\n",
       "  <tbody>\n",
       "    <tr>\n",
       "      <th>0</th>\n",
       "      <td>모바일 단말 기반의 구조물 균열 검출 방법, 장치 및 시스템(METHOD, DEVI...</td>\n",
       "      <td>주식회사 디와이스코프코리아</td>\n",
       "      <td>0.0</td>\n",
       "      <td>['G01N 21/88', 'G01B 11/02', 'G01B 11/03', 'G0...</td>\n",
       "      <td>1020220045565 (2022.04.13)</td>\n",
       "      <td>주식회사 디와이스코프코리아</td>\n",
       "      <td>본 발명은 모바일 단말 기반의 구조물 균열 검출 방법, 장치 및 시스템에 관한 것이...</td>\n",
       "      <td>['G01N21/88(2006.01.01)', 'G01B11/02(2006.01.0...</td>\n",
       "      <td>['G01N21/8851(2013.01)', 'G01B11/026(2013.01)'...</td>\n",
       "      <td>NaN</td>\n",
       "      <td>...</td>\n",
       "      <td>NaN</td>\n",
       "      <td>['\\xa0']</td>\n",
       "      <td>NaN</td>\n",
       "      <td>Y(2022.04.13)</td>\n",
       "      <td>1.0</td>\n",
       "      <td>1020220045565 (2022.04.13)</td>\n",
       "      <td>NaN</td>\n",
       "      <td>0.838633</td>\n",
       "      <td>2022.11.04</td>\n",
       "      <td>2022-11-04</td>\n",
       "    </tr>\n",
       "    <tr>\n",
       "      <th>1</th>\n",
       "      <td>포인트 전환을 위하여 정보를 처리하는 전자 장치 및 그 방법(ELECTRONIC A...</td>\n",
       "      <td>쿠팡 주식회사</td>\n",
       "      <td>0.0</td>\n",
       "      <td>['G06Q 30/02']</td>\n",
       "      <td>1020210164305 (2021.11.25)</td>\n",
       "      <td>쿠팡 주식회사</td>\n",
       "      <td>본 개시에 따르면, 사용자를 식별하기 위한 사용자 정보를 포함하는 포인트 조회 요청...</td>\n",
       "      <td>['G06Q30/02(2012.01.01)']</td>\n",
       "      <td>['G06Q30/0226(2013.01)', 'G06Q30/0208(2013.01)']</td>\n",
       "      <td>NaN</td>\n",
       "      <td>...</td>\n",
       "      <td>NaN</td>\n",
       "      <td>['1020210034170\\xa0']</td>\n",
       "      <td>NaN</td>\n",
       "      <td>Y(2021.11.25)</td>\n",
       "      <td>21.0</td>\n",
       "      <td>1020210164305 (2021.11.25)</td>\n",
       "      <td>1020210034170 (2021.03.16)</td>\n",
       "      <td>0.838508</td>\n",
       "      <td>2022.11.08</td>\n",
       "      <td>2022-11-08</td>\n",
       "    </tr>\n",
       "    <tr>\n",
       "      <th>2</th>\n",
       "      <td>게놈(유전자) 데이터를 디지털 이미지화하여 디지털 미디어의 저작권 인증을 수행하는 ...</td>\n",
       "      <td>주식회사 클리노믹스</td>\n",
       "      <td>0.0</td>\n",
       "      <td>['G06F 21/44', 'G06F 21/10', 'G06F 21/60', 'G1...</td>\n",
       "      <td>1020220017516 (2022.02.10)</td>\n",
       "      <td>주식회사 클리노믹스</td>\n",
       "      <td>본 발명의 게놈 데이터를 디지털 이미지화하여 디지털 미디어의 저작권 인증을 수행하는...</td>\n",
       "      <td>['G06F21/44(2013.01.01)', 'G06F21/10(2013.01.0...</td>\n",
       "      <td>['G06F21/44(2013.01)', 'G06F21/10(2013.01)', '...</td>\n",
       "      <td>NaN</td>\n",
       "      <td>...</td>\n",
       "      <td>NaN</td>\n",
       "      <td>['\\xa0']</td>\n",
       "      <td>NaN</td>\n",
       "      <td>Y(2022.02.10)</td>\n",
       "      <td>6.0</td>\n",
       "      <td>1020220017516 (2022.02.10)</td>\n",
       "      <td>NaN</td>\n",
       "      <td>0.888553</td>\n",
       "      <td>2022.09.07</td>\n",
       "      <td>2022-09-07</td>\n",
       "    </tr>\n",
       "    <tr>\n",
       "      <th>3</th>\n",
       "      <td>이미지에 대한 음성합성에 기반하여 영상 컨텐츠를 생성하는 방법 및 시스템(METHO...</td>\n",
       "      <td>네이버 주식회사\\n, 라인 가부시키가이샤\\n더보기</td>\n",
       "      <td>0.0</td>\n",
       "      <td>['H04N 21/854', 'H04N 21/43', 'H04N 21/845', '...</td>\n",
       "      <td>1020210034735 (2021.03.17)</td>\n",
       "      <td>네이버 주식회사 , 라인 가부시키가이샤</td>\n",
       "      <td>이미지에 대한 음성합성에 기반하여 영상 컨텐츠를 생성하는 방법 및 시스템을 개시한다...</td>\n",
       "      <td>['H04N21/854(2011.01.01)', 'H04N21/43(2011.01....</td>\n",
       "      <td>['H04N21/854(2013.01)', 'H04N21/4307(2013.01)'...</td>\n",
       "      <td>NaN</td>\n",
       "      <td>...</td>\n",
       "      <td>NaN</td>\n",
       "      <td>['\\xa0']</td>\n",
       "      <td>NaN</td>\n",
       "      <td>Y(2021.03.17)</td>\n",
       "      <td>20.0</td>\n",
       "      <td>1020210034735 (2021.03.17)</td>\n",
       "      <td>NaN</td>\n",
       "      <td>0.818725</td>\n",
       "      <td>2022.11.07</td>\n",
       "      <td>2022-11-07</td>\n",
       "    </tr>\n",
       "    <tr>\n",
       "      <th>4</th>\n",
       "      <td>실시간 미용사 매칭 예약방법(AN BOOKING METHOD OF MATCHING ...</td>\n",
       "      <td>이훈민</td>\n",
       "      <td>0.0</td>\n",
       "      <td>['G06Q 30/08', 'G06Q 30/02', 'G06Q 10/02', 'G0...</td>\n",
       "      <td>1020210120566 (2021.09.09)</td>\n",
       "      <td>이훈민</td>\n",
       "      <td>본 발명은 사용자의 일반검색이나 위치검색 요청에 따라 사용자가 제안한 청약금액에 대...</td>\n",
       "      <td>['G06Q30/08(2012.01.01)', 'G06Q30/02(2012.01.0...</td>\n",
       "      <td>['G06Q30/08(2013.01)', 'G06Q30/0207(2013.01)',...</td>\n",
       "      <td>NaN</td>\n",
       "      <td>...</td>\n",
       "      <td>NaN</td>\n",
       "      <td>['1020190176668\\xa0']</td>\n",
       "      <td>NaN</td>\n",
       "      <td>Y(2021.09.09)</td>\n",
       "      <td>13.0</td>\n",
       "      <td>1020210120566 (2021.09.09)</td>\n",
       "      <td>1020190176668 (2019.12.27)</td>\n",
       "      <td>0.813184</td>\n",
       "      <td>2022.09.19</td>\n",
       "      <td>2022-09-19</td>\n",
       "    </tr>\n",
       "    <tr>\n",
       "      <th>...</th>\n",
       "      <td>...</td>\n",
       "      <td>...</td>\n",
       "      <td>...</td>\n",
       "      <td>...</td>\n",
       "      <td>...</td>\n",
       "      <td>...</td>\n",
       "      <td>...</td>\n",
       "      <td>...</td>\n",
       "      <td>...</td>\n",
       "      <td>...</td>\n",
       "      <td>...</td>\n",
       "      <td>...</td>\n",
       "      <td>...</td>\n",
       "      <td>...</td>\n",
       "      <td>...</td>\n",
       "      <td>...</td>\n",
       "      <td>...</td>\n",
       "      <td>...</td>\n",
       "      <td>...</td>\n",
       "      <td>...</td>\n",
       "      <td>...</td>\n",
       "    </tr>\n",
       "    <tr>\n",
       "      <th>30034</th>\n",
       "      <td>무선랜 네트워크 광고 서비스 제공 방법 및 이를 이용한 무선 단말(METHOD FO...</td>\n",
       "      <td>에스케이텔레콤 주식회사</td>\n",
       "      <td>0.0</td>\n",
       "      <td>['G06Q 30/02', 'H04W 8/24']</td>\n",
       "      <td>1020130093014 (2013.08.06)</td>\n",
       "      <td>에스케이텔레콤 주식회사</td>\n",
       "      <td>무선랜 채널 검색 방법이 제공되며, 적어도 하나의 무선랜 AP로 프로브 요청(Pro...</td>\n",
       "      <td>['G06Q30/02(2012.01.01)', 'H04W8/24(2009.01.01)']</td>\n",
       "      <td>['G06Q30/0277(2013.01)', 'H04W8/245(2013.01)']</td>\n",
       "      <td>NaN</td>\n",
       "      <td>...</td>\n",
       "      <td>NaN</td>\n",
       "      <td>['1020200054006\\xa0']</td>\n",
       "      <td>NaN</td>\n",
       "      <td>Y(2018.07.12)</td>\n",
       "      <td>11.0</td>\n",
       "      <td>1020130093014 (2013.08.06)</td>\n",
       "      <td>NaN</td>\n",
       "      <td>0.878179</td>\n",
       "      <td>2020.06.22</td>\n",
       "      <td>2020-06-22</td>\n",
       "    </tr>\n",
       "    <tr>\n",
       "      <th>30035</th>\n",
       "      <td>광고 제공 시스템 및 그 방법, 그리고 이에 적용되는 장치(ADVERTISEMENT...</td>\n",
       "      <td>에스케이플래닛 주식회사</td>\n",
       "      <td>0.0</td>\n",
       "      <td>['G06Q 30/02', 'G06Q 10/08']</td>\n",
       "      <td>1020130063613 (2013.06.03)</td>\n",
       "      <td>에스케이플래닛 주식회사</td>\n",
       "      <td>본 발명은 광고 제공 시스템 및 그 방법, 그리고 이에 적용되는 장치를 개시한다. ...</td>\n",
       "      <td>['G06Q30/02(2012.01.01)', 'G06Q10/08(2012.01.0...</td>\n",
       "      <td>['G06Q30/0264(2013.01)', 'G06Q10/087(2013.01)']</td>\n",
       "      <td>NaN</td>\n",
       "      <td>...</td>\n",
       "      <td>NaN</td>\n",
       "      <td>['\\xa0']</td>\n",
       "      <td>NaN</td>\n",
       "      <td>Y(2018.06.04)</td>\n",
       "      <td>2.0</td>\n",
       "      <td>1020130063613 (2013.06.03)</td>\n",
       "      <td>NaN</td>\n",
       "      <td>0.726583</td>\n",
       "      <td>2020.03.25</td>\n",
       "      <td>2020-03-25</td>\n",
       "    </tr>\n",
       "    <tr>\n",
       "      <th>30036</th>\n",
       "      <td>터치 인증 기반 가치 적립 방법(Method for Accumulating Valu...</td>\n",
       "      <td>원투씨엠 주식회사</td>\n",
       "      <td>0.0</td>\n",
       "      <td>['G06Q 30/02', 'G06F 3/0488']</td>\n",
       "      <td>1020130085745 (2013.07.20)</td>\n",
       "      <td>원투씨엠 주식회사</td>\n",
       "      <td>본 발명은 터치 인증 기반 가치 적립 방법에 관한 것으로, 지정된 가맹점에 구비된 ...</td>\n",
       "      <td>['G06Q30/02(2012.01.01)', 'G06F3/0488(2022.01....</td>\n",
       "      <td>['G06Q30/0226(2013.01)', 'G06Q30/0238(2013.01)...</td>\n",
       "      <td>NaN</td>\n",
       "      <td>...</td>\n",
       "      <td>NaN</td>\n",
       "      <td>['10201401038421020140103868\\xa0']</td>\n",
       "      <td>NaN</td>\n",
       "      <td>Y(2018.07.20)</td>\n",
       "      <td>8.0</td>\n",
       "      <td>1020130085745 (2013.07.20)</td>\n",
       "      <td>NaN</td>\n",
       "      <td>0.878095</td>\n",
       "      <td>2020.08.06</td>\n",
       "      <td>2020-08-06</td>\n",
       "    </tr>\n",
       "    <tr>\n",
       "      <th>30037</th>\n",
       "      <td>전자토큰 제어 방법 및 장치(METHOD FOR CONTROLLING AN ELEC...</td>\n",
       "      <td>삼성전자주식회사</td>\n",
       "      <td>0.0</td>\n",
       "      <td>['G06Q 10/10', 'H04M 1/725', 'H04W 4/00']</td>\n",
       "      <td>1020130019468 (2013.02.22)</td>\n",
       "      <td>삼성전자주식회사</td>\n",
       "      <td>본 발명에 따른 전자토큰을 제어하는 방법은, 제1전자토큰의 리마인더 타입을 설정하는...</td>\n",
       "      <td>['G06Q10/10(2022.01.01)', 'H04M1/725(2021.01.0...</td>\n",
       "      <td>['G06Q10/109(2013.01)', 'G06Q20/367(2013.01)',...</td>\n",
       "      <td>NaN</td>\n",
       "      <td>...</td>\n",
       "      <td>NaN</td>\n",
       "      <td>['\\xa0']</td>\n",
       "      <td>NaN</td>\n",
       "      <td>Y(2018.02.13)</td>\n",
       "      <td>18.0</td>\n",
       "      <td>1020130019468 (2013.02.22)</td>\n",
       "      <td>NaN</td>\n",
       "      <td>0.807682</td>\n",
       "      <td>2020.05.26</td>\n",
       "      <td>2020-05-26</td>\n",
       "    </tr>\n",
       "    <tr>\n",
       "      <th>30038</th>\n",
       "      <td>클라우드 인프라스트럭처를 활용한 협업 시스템 및 이에 적용되는 이벤트 기반 협업 흐...</td>\n",
       "      <td>고려대학교 산학협력단</td>\n",
       "      <td>0.0</td>\n",
       "      <td>['G06Q 10/10']</td>\n",
       "      <td>1020120134049 (2012.11.23)</td>\n",
       "      <td>고려대학교 산학협력단</td>\n",
       "      <td>본 발명은 클라우드 기술을 활용한 협업 시스템에서 협업 흐름을 간편하게 정의하고 협...</td>\n",
       "      <td>['G06Q10/10(2022.01.01)']</td>\n",
       "      <td>['G06Q10/103(2013.01)', 'G16Y30/06(2013.01)']</td>\n",
       "      <td>NaN</td>\n",
       "      <td>...</td>\n",
       "      <td>NaN</td>\n",
       "      <td>['\\xa0']</td>\n",
       "      <td>NaN</td>\n",
       "      <td>Y(2017.11.23)</td>\n",
       "      <td>7.0</td>\n",
       "      <td>1020120134049 (2012.11.23)</td>\n",
       "      <td>NaN</td>\n",
       "      <td>0.824174</td>\n",
       "      <td>2020.01.02</td>\n",
       "      <td>2020-01-02</td>\n",
       "    </tr>\n",
       "  </tbody>\n",
       "</table>\n",
       "<p>30039 rows × 32 columns</p>\n",
       "</div>"
      ],
      "text/plain": [
       "                                                      제목  \\\n",
       "0      모바일 단말 기반의 구조물 균열 검출 방법, 장치 및 시스템(METHOD, DEVI...   \n",
       "1      포인트 전환을 위하여 정보를 처리하는 전자 장치 및 그 방법(ELECTRONIC A...   \n",
       "2      게놈(유전자) 데이터를 디지털 이미지화하여 디지털 미디어의 저작권 인증을 수행하는 ...   \n",
       "3      이미지에 대한 음성합성에 기반하여 영상 컨텐츠를 생성하는 방법 및 시스템(METHO...   \n",
       "4      실시간 미용사 매칭 예약방법(AN BOOKING METHOD OF MATCHING ...   \n",
       "...                                                  ...   \n",
       "30034  무선랜 네트워크 광고 서비스 제공 방법 및 이를 이용한 무선 단말(METHOD FO...   \n",
       "30035  광고 제공 시스템 및 그 방법, 그리고 이에 적용되는 장치(ADVERTISEMENT...   \n",
       "30036  터치 인증 기반 가치 적립 방법(Method for Accumulating Valu...   \n",
       "30037  전자토큰 제어 방법 및 장치(METHOD FOR CONTROLLING AN ELEC...   \n",
       "30038  클라우드 인프라스트럭처를 활용한 협업 시스템 및 이에 적용되는 이벤트 기반 협업 흐...   \n",
       "\n",
       "                                출원인  피인용 횟수  \\\n",
       "0                    주식회사 디와이스코프코리아     0.0   \n",
       "1                           쿠팡 주식회사     0.0   \n",
       "2                        주식회사 클리노믹스     0.0   \n",
       "3       네이버 주식회사\\n, 라인 가부시키가이샤\\n더보기     0.0   \n",
       "4                               이훈민     0.0   \n",
       "...                             ...     ...   \n",
       "30034                  에스케이텔레콤 주식회사     0.0   \n",
       "30035                  에스케이플래닛 주식회사     0.0   \n",
       "30036                     원투씨엠 주식회사     0.0   \n",
       "30037                      삼성전자주식회사     0.0   \n",
       "30038                   고려대학교 산학협력단     0.0   \n",
       "\n",
       "                                                     IPC  \\\n",
       "0      ['G01N 21/88', 'G01B 11/02', 'G01B 11/03', 'G0...   \n",
       "1                                         ['G06Q 30/02']   \n",
       "2      ['G06F 21/44', 'G06F 21/10', 'G06F 21/60', 'G1...   \n",
       "3      ['H04N 21/854', 'H04N 21/43', 'H04N 21/845', '...   \n",
       "4      ['G06Q 30/08', 'G06Q 30/02', 'G06Q 10/02', 'G0...   \n",
       "...                                                  ...   \n",
       "30034                        ['G06Q 30/02', 'H04W 8/24']   \n",
       "30035                       ['G06Q 30/02', 'G06Q 10/08']   \n",
       "30036                      ['G06Q 30/02', 'G06F 3/0488']   \n",
       "30037          ['G06Q 10/10', 'H04M 1/725', 'H04W 4/00']   \n",
       "30038                                     ['G06Q 10/10']   \n",
       "\n",
       "                         출원번호(일자)                   최종권리자  \\\n",
       "0      1020220045565 (2022.04.13)          주식회사 디와이스코프코리아   \n",
       "1      1020210164305 (2021.11.25)                 쿠팡 주식회사   \n",
       "2      1020220017516 (2022.02.10)              주식회사 클리노믹스   \n",
       "3      1020210034735 (2021.03.17)   네이버 주식회사 , 라인 가부시키가이샤   \n",
       "4      1020210120566 (2021.09.09)                     이훈민   \n",
       "...                           ...                     ...   \n",
       "30034  1020130093014 (2013.08.06)            에스케이텔레콤 주식회사   \n",
       "30035  1020130063613 (2013.06.03)            에스케이플래닛 주식회사   \n",
       "30036  1020130085745 (2013.07.20)               원투씨엠 주식회사   \n",
       "30037  1020130019468 (2013.02.22)                삼성전자주식회사   \n",
       "30038  1020120134049 (2012.11.23)             고려대학교 산학협력단   \n",
       "\n",
       "                                                      요약  \\\n",
       "0      본 발명은 모바일 단말 기반의 구조물 균열 검출 방법, 장치 및 시스템에 관한 것이...   \n",
       "1      본 개시에 따르면, 사용자를 식별하기 위한 사용자 정보를 포함하는 포인트 조회 요청...   \n",
       "2      본 발명의 게놈 데이터를 디지털 이미지화하여 디지털 미디어의 저작권 인증을 수행하는...   \n",
       "3      이미지에 대한 음성합성에 기반하여 영상 컨텐츠를 생성하는 방법 및 시스템을 개시한다...   \n",
       "4      본 발명은 사용자의 일반검색이나 위치검색 요청에 따라 사용자가 제안한 청약금액에 대...   \n",
       "...                                                  ...   \n",
       "30034  무선랜 채널 검색 방법이 제공되며, 적어도 하나의 무선랜 AP로 프로브 요청(Pro...   \n",
       "30035  본 발명은 광고 제공 시스템 및 그 방법, 그리고 이에 적용되는 장치를 개시한다. ...   \n",
       "30036  본 발명은 터치 인증 기반 가치 적립 방법에 관한 것으로, 지정된 가맹점에 구비된 ...   \n",
       "30037  본 발명에 따른 전자토큰을 제어하는 방법은, 제1전자토큰의 리마인더 타입을 설정하는...   \n",
       "30038  본 발명은 클라우드 기술을 활용한 협업 시스템에서 협업 흐름을 간편하게 정의하고 협...   \n",
       "\n",
       "                                            (51) Int. CL  \\\n",
       "0      ['G01N21/88(2006.01.01)', 'G01B11/02(2006.01.0...   \n",
       "1                              ['G06Q30/02(2012.01.01)']   \n",
       "2      ['G06F21/44(2013.01.01)', 'G06F21/10(2013.01.0...   \n",
       "3      ['H04N21/854(2011.01.01)', 'H04N21/43(2011.01....   \n",
       "4      ['G06Q30/08(2012.01.01)', 'G06Q30/02(2012.01.0...   \n",
       "...                                                  ...   \n",
       "30034  ['G06Q30/02(2012.01.01)', 'H04W8/24(2009.01.01)']   \n",
       "30035  ['G06Q30/02(2012.01.01)', 'G06Q10/08(2012.01.0...   \n",
       "30036  ['G06Q30/02(2012.01.01)', 'G06F3/0488(2022.01....   \n",
       "30037  ['G06Q10/10(2022.01.01)', 'H04M1/725(2021.01.0...   \n",
       "30038                          ['G06Q10/10(2022.01.01)']   \n",
       "\n",
       "                                                (52) CPC  (21) 출원번호/일자(국제)  \\\n",
       "0      ['G01N21/8851(2013.01)', 'G01B11/026(2013.01)'...               NaN   \n",
       "1       ['G06Q30/0226(2013.01)', 'G06Q30/0208(2013.01)']               NaN   \n",
       "2      ['G06F21/44(2013.01)', 'G06F21/10(2013.01)', '...               NaN   \n",
       "3      ['H04N21/854(2013.01)', 'H04N21/4307(2013.01)'...               NaN   \n",
       "4      ['G06Q30/08(2013.01)', 'G06Q30/0207(2013.01)',...               NaN   \n",
       "...                                                  ...               ...   \n",
       "30034     ['G06Q30/0277(2013.01)', 'H04W8/245(2013.01)']               NaN   \n",
       "30035    ['G06Q30/0264(2013.01)', 'G06Q10/087(2013.01)']               NaN   \n",
       "30036  ['G06Q30/0226(2013.01)', 'G06Q30/0238(2013.01)...               NaN   \n",
       "30037  ['G06Q10/109(2013.01)', 'G06Q20/367(2013.01)',...               NaN   \n",
       "30038      ['G06Q10/103(2013.01)', 'G16Y30/06(2013.01)']               NaN   \n",
       "\n",
       "       ... 원출원번호/일자(국제)                             관련 출원번호 기술이전 희망  \\\n",
       "0      ...          NaN                            ['\\xa0']     NaN   \n",
       "1      ...          NaN               ['1020210034170\\xa0']     NaN   \n",
       "2      ...          NaN                            ['\\xa0']     NaN   \n",
       "3      ...          NaN                            ['\\xa0']     NaN   \n",
       "4      ...          NaN               ['1020190176668\\xa0']     NaN   \n",
       "...    ...          ...                                 ...     ...   \n",
       "30034  ...          NaN               ['1020200054006\\xa0']     NaN   \n",
       "30035  ...          NaN                            ['\\xa0']     NaN   \n",
       "30036  ...          NaN  ['10201401038421020140103868\\xa0']     NaN   \n",
       "30037  ...          NaN                            ['\\xa0']     NaN   \n",
       "30038  ...          NaN                            ['\\xa0']     NaN   \n",
       "\n",
       "           심사청구여부/일자  심사청구항수                (21) 출원번호/일자  \\\n",
       "0      Y(2022.04.13)     1.0  1020220045565 (2022.04.13)   \n",
       "1      Y(2021.11.25)    21.0  1020210164305 (2021.11.25)   \n",
       "2      Y(2022.02.10)     6.0  1020220017516 (2022.02.10)   \n",
       "3      Y(2021.03.17)    20.0  1020210034735 (2021.03.17)   \n",
       "4      Y(2021.09.09)    13.0  1020210120566 (2021.09.09)   \n",
       "...              ...     ...                         ...   \n",
       "30034  Y(2018.07.12)    11.0  1020130093014 (2013.08.06)   \n",
       "30035  Y(2018.06.04)     2.0  1020130063613 (2013.06.03)   \n",
       "30036  Y(2018.07.20)     8.0  1020130085745 (2013.07.20)   \n",
       "30037  Y(2018.02.13)    18.0  1020130019468 (2013.02.22)   \n",
       "30038  Y(2017.11.23)     7.0  1020120134049 (2012.11.23)   \n",
       "\n",
       "                         원출원번호/일자 cosing_simliarity        등록일자      등록일자2  \n",
       "0                             NaN          0.838633  2022.11.04 2022-11-04  \n",
       "1      1020210034170 (2021.03.16)          0.838508  2022.11.08 2022-11-08  \n",
       "2                             NaN          0.888553  2022.09.07 2022-09-07  \n",
       "3                             NaN          0.818725  2022.11.07 2022-11-07  \n",
       "4      1020190176668 (2019.12.27)          0.813184  2022.09.19 2022-09-19  \n",
       "...                           ...               ...         ...        ...  \n",
       "30034                         NaN          0.878179  2020.06.22 2020-06-22  \n",
       "30035                         NaN          0.726583  2020.03.25 2020-03-25  \n",
       "30036                         NaN          0.878095  2020.08.06 2020-08-06  \n",
       "30037                         NaN          0.807682  2020.05.26 2020-05-26  \n",
       "30038                         NaN          0.824174  2020.01.02 2020-01-02  \n",
       "\n",
       "[30039 rows x 32 columns]"
      ]
     },
     "execution_count": 26,
     "metadata": {},
     "output_type": "execute_result"
    }
   ],
   "source": [
    "df4"
   ]
  },
  {
   "cell_type": "code",
   "execution_count": 27,
   "metadata": {},
   "outputs": [],
   "source": [
    "df4_count = df4.groupby(['등록일자2','출원인']).agg('count').copy()\n",
    "df4_count['출원인 수'] = 1\n",
    "df4_count_1 = df4_count.reset_index()[df4_count[['제목']].reset_index()['등록일자2'] < pd.to_datetime('20221031')].copy()"
   ]
  },
  {
   "cell_type": "code",
   "execution_count": null,
   "metadata": {},
   "outputs": [],
   "source": []
  },
  {
   "cell_type": "code",
   "execution_count": null,
   "metadata": {},
   "outputs": [],
   "source": []
  },
  {
   "cell_type": "code",
   "execution_count": 47,
   "metadata": {},
   "outputs": [
    {
     "data": {
      "application/vnd.plotly.v1+json": {
       "config": {
        "plotlyServerURL": "https://plot.ly"
       },
       "data": [
        {
         "mode": "lines+markers",
         "name": "전체_관련_특허_수",
         "type": "scatter",
         "x": [
          "2016-01-31T00:00:00",
          "2016-02-29T00:00:00",
          "2016-03-31T00:00:00",
          "2016-04-30T00:00:00",
          "2016-05-31T00:00:00",
          "2016-06-30T00:00:00",
          "2016-07-31T00:00:00",
          "2016-08-31T00:00:00",
          "2016-09-30T00:00:00",
          "2016-10-31T00:00:00",
          "2016-11-30T00:00:00",
          "2016-12-31T00:00:00",
          "2017-01-31T00:00:00",
          "2017-02-28T00:00:00",
          "2017-03-31T00:00:00",
          "2017-04-30T00:00:00",
          "2017-05-31T00:00:00",
          "2017-06-30T00:00:00",
          "2017-07-31T00:00:00",
          "2017-08-31T00:00:00",
          "2017-09-30T00:00:00",
          "2017-10-31T00:00:00",
          "2017-11-30T00:00:00",
          "2017-12-31T00:00:00",
          "2018-01-31T00:00:00",
          "2018-02-28T00:00:00",
          "2018-03-31T00:00:00",
          "2018-04-30T00:00:00",
          "2018-05-31T00:00:00",
          "2018-06-30T00:00:00",
          "2018-07-31T00:00:00",
          "2018-08-31T00:00:00",
          "2018-09-30T00:00:00",
          "2018-10-31T00:00:00",
          "2018-11-30T00:00:00",
          "2018-12-31T00:00:00",
          "2019-01-31T00:00:00",
          "2019-02-28T00:00:00",
          "2019-03-31T00:00:00",
          "2019-04-30T00:00:00",
          "2019-05-31T00:00:00",
          "2019-06-30T00:00:00",
          "2019-07-31T00:00:00",
          "2019-08-31T00:00:00",
          "2019-09-30T00:00:00",
          "2019-10-31T00:00:00",
          "2019-11-30T00:00:00",
          "2019-12-31T00:00:00",
          "2020-01-31T00:00:00",
          "2020-02-29T00:00:00",
          "2020-03-31T00:00:00",
          "2020-04-30T00:00:00",
          "2020-05-31T00:00:00",
          "2020-06-30T00:00:00",
          "2020-07-31T00:00:00",
          "2020-08-31T00:00:00",
          "2020-09-30T00:00:00",
          "2020-10-31T00:00:00",
          "2020-11-30T00:00:00",
          "2020-12-31T00:00:00",
          "2021-01-31T00:00:00",
          "2021-02-28T00:00:00",
          "2021-03-31T00:00:00",
          "2021-04-30T00:00:00",
          "2021-05-31T00:00:00",
          "2021-06-30T00:00:00",
          "2021-07-31T00:00:00",
          "2021-08-31T00:00:00",
          "2021-09-30T00:00:00",
          "2021-10-31T00:00:00",
          "2021-11-30T00:00:00",
          "2021-12-31T00:00:00",
          "2022-01-31T00:00:00",
          "2022-02-28T00:00:00",
          "2022-03-31T00:00:00",
          "2022-04-30T00:00:00",
          "2022-05-31T00:00:00",
          "2022-06-30T00:00:00",
          "2022-07-31T00:00:00",
          "2022-08-31T00:00:00",
          "2022-09-30T00:00:00",
          "2022-10-31T00:00:00"
         ],
         "y": [
          109,
          134,
          110,
          126,
          118,
          137,
          175,
          185,
          196,
          175,
          234,
          250,
          222,
          240,
          274,
          243,
          266,
          269,
          283,
          273,
          251,
          207,
          274,
          267,
          249,
          205,
          257,
          224,
          224,
          257,
          236,
          261,
          208,
          268,
          201,
          252,
          276,
          215,
          228,
          236,
          249,
          231,
          300,
          275,
          235,
          289,
          282,
          276,
          318,
          298,
          366,
          291,
          319,
          350,
          369,
          319,
          341,
          390,
          437,
          499,
          484,
          425,
          530,
          505,
          479,
          584,
          564,
          528,
          533,
          562,
          588,
          578,
          541,
          540,
          585,
          534,
          517,
          543,
          632,
          616,
          514,
          559
         ]
        },
        {
         "name": "Only_G06Q_30",
         "type": "scatter",
         "x": [
          "2016-01-31T00:00:00",
          "2016-02-29T00:00:00",
          "2016-03-31T00:00:00",
          "2016-04-30T00:00:00",
          "2016-05-31T00:00:00",
          "2016-06-30T00:00:00",
          "2016-07-31T00:00:00",
          "2016-08-31T00:00:00",
          "2016-09-30T00:00:00",
          "2016-10-31T00:00:00",
          "2016-11-30T00:00:00",
          "2016-12-31T00:00:00",
          "2017-01-31T00:00:00",
          "2017-02-28T00:00:00",
          "2017-03-31T00:00:00",
          "2017-04-30T00:00:00",
          "2017-05-31T00:00:00",
          "2017-06-30T00:00:00",
          "2017-07-31T00:00:00",
          "2017-08-31T00:00:00",
          "2017-09-30T00:00:00",
          "2017-10-31T00:00:00",
          "2017-11-30T00:00:00",
          "2017-12-31T00:00:00",
          "2018-01-31T00:00:00",
          "2018-02-28T00:00:00",
          "2018-03-31T00:00:00",
          "2018-04-30T00:00:00",
          "2018-05-31T00:00:00",
          "2018-06-30T00:00:00",
          "2018-07-31T00:00:00",
          "2018-08-31T00:00:00",
          "2018-09-30T00:00:00",
          "2018-10-31T00:00:00",
          "2018-11-30T00:00:00",
          "2018-12-31T00:00:00",
          "2019-01-31T00:00:00",
          "2019-02-28T00:00:00",
          "2019-03-31T00:00:00",
          "2019-04-30T00:00:00",
          "2019-05-31T00:00:00",
          "2019-06-30T00:00:00",
          "2019-07-31T00:00:00",
          "2019-08-31T00:00:00",
          "2019-09-30T00:00:00",
          "2019-10-31T00:00:00",
          "2019-11-30T00:00:00",
          "2019-12-31T00:00:00",
          "2020-01-31T00:00:00",
          "2020-02-29T00:00:00",
          "2020-03-31T00:00:00",
          "2020-04-30T00:00:00",
          "2020-05-31T00:00:00",
          "2020-06-30T00:00:00",
          "2020-07-31T00:00:00",
          "2020-08-31T00:00:00",
          "2020-09-30T00:00:00",
          "2020-10-31T00:00:00",
          "2020-11-30T00:00:00",
          "2020-12-31T00:00:00",
          "2021-01-31T00:00:00",
          "2021-02-28T00:00:00",
          "2021-03-31T00:00:00",
          "2021-04-30T00:00:00",
          "2021-05-31T00:00:00",
          "2021-06-30T00:00:00",
          "2021-07-31T00:00:00",
          "2021-08-31T00:00:00",
          "2021-09-30T00:00:00",
          "2021-10-31T00:00:00",
          "2021-11-30T00:00:00",
          "2021-12-31T00:00:00",
          "2022-01-31T00:00:00",
          "2022-02-28T00:00:00",
          "2022-03-31T00:00:00",
          "2022-04-30T00:00:00",
          "2022-05-31T00:00:00",
          "2022-06-30T00:00:00",
          "2022-07-31T00:00:00",
          "2022-08-31T00:00:00",
          "2022-09-30T00:00:00",
          "2022-10-31T00:00:00"
         ],
         "y": [
          55,
          69,
          58,
          59,
          56,
          63,
          82,
          75,
          83,
          70,
          92,
          97,
          73,
          88,
          87,
          79,
          87,
          93,
          100,
          70,
          95,
          65,
          84,
          93,
          78,
          57,
          76,
          72,
          72,
          65,
          69,
          92,
          62,
          85,
          58,
          84,
          88,
          72,
          67,
          63,
          81,
          62,
          102,
          78,
          66,
          71,
          89,
          84,
          105,
          96,
          109,
          84,
          88,
          118,
          127,
          92,
          107,
          97,
          133,
          156,
          142,
          108,
          158,
          122,
          105,
          150,
          169,
          136,
          133,
          129,
          140,
          137,
          121,
          112,
          136,
          104,
          105,
          117,
          149,
          140,
          125,
          117
         ]
        },
        {
         "name": "Only_G06Q_40",
         "type": "scatter",
         "x": [
          "2016-01-31T00:00:00",
          "2016-02-29T00:00:00",
          "2016-03-31T00:00:00",
          "2016-04-30T00:00:00",
          "2016-05-31T00:00:00",
          "2016-06-30T00:00:00",
          "2016-07-31T00:00:00",
          "2016-08-31T00:00:00",
          "2016-09-30T00:00:00",
          "2016-10-31T00:00:00",
          "2016-11-30T00:00:00",
          "2016-12-31T00:00:00",
          "2017-01-31T00:00:00",
          "2017-02-28T00:00:00",
          "2017-03-31T00:00:00",
          "2017-04-30T00:00:00",
          "2017-05-31T00:00:00",
          "2017-06-30T00:00:00",
          "2017-07-31T00:00:00",
          "2017-08-31T00:00:00",
          "2017-09-30T00:00:00",
          "2017-10-31T00:00:00",
          "2017-11-30T00:00:00",
          "2017-12-31T00:00:00",
          "2018-01-31T00:00:00",
          "2018-02-28T00:00:00",
          "2018-03-31T00:00:00",
          "2018-04-30T00:00:00",
          "2018-05-31T00:00:00",
          "2018-06-30T00:00:00",
          "2018-07-31T00:00:00",
          "2018-08-31T00:00:00",
          "2018-09-30T00:00:00",
          "2018-10-31T00:00:00",
          "2018-11-30T00:00:00",
          "2018-12-31T00:00:00",
          "2019-01-31T00:00:00",
          "2019-02-28T00:00:00",
          "2019-03-31T00:00:00",
          "2019-04-30T00:00:00",
          "2019-05-31T00:00:00",
          "2019-06-30T00:00:00",
          "2019-07-31T00:00:00",
          "2019-08-31T00:00:00",
          "2019-09-30T00:00:00",
          "2019-10-31T00:00:00",
          "2019-11-30T00:00:00",
          "2019-12-31T00:00:00",
          "2020-01-31T00:00:00",
          "2020-02-29T00:00:00",
          "2020-03-31T00:00:00",
          "2020-04-30T00:00:00",
          "2020-05-31T00:00:00",
          "2020-06-30T00:00:00",
          "2020-07-31T00:00:00",
          "2020-08-31T00:00:00",
          "2020-09-30T00:00:00",
          "2020-10-31T00:00:00",
          "2020-11-30T00:00:00",
          "2020-12-31T00:00:00",
          "2021-01-31T00:00:00",
          "2021-02-28T00:00:00",
          "2021-03-31T00:00:00",
          "2021-04-30T00:00:00",
          "2021-05-31T00:00:00",
          "2021-06-30T00:00:00",
          "2021-07-31T00:00:00",
          "2021-08-31T00:00:00",
          "2021-09-30T00:00:00",
          "2021-10-31T00:00:00",
          "2021-11-30T00:00:00",
          "2021-12-31T00:00:00",
          "2022-01-31T00:00:00",
          "2022-02-28T00:00:00",
          "2022-03-31T00:00:00",
          "2022-04-30T00:00:00",
          "2022-05-31T00:00:00",
          "2022-06-30T00:00:00",
          "2022-07-31T00:00:00",
          "2022-08-31T00:00:00",
          "2022-09-30T00:00:00",
          "2022-10-31T00:00:00"
         ],
         "y": [
          9,
          13,
          12,
          10,
          6,
          11,
          10,
          10,
          21,
          19,
          23,
          14,
          19,
          28,
          21,
          14,
          16,
          13,
          15,
          14,
          15,
          16,
          18,
          22,
          6,
          11,
          4,
          14,
          5,
          13,
          5,
          10,
          12,
          16,
          6,
          9,
          9,
          14,
          6,
          5,
          6,
          8,
          6,
          13,
          10,
          10,
          10,
          7,
          11,
          15,
          17,
          13,
          24,
          20,
          23,
          13,
          17,
          14,
          23,
          22,
          19,
          8,
          15,
          25,
          14,
          18,
          18,
          22,
          16,
          19,
          24,
          18,
          21,
          8,
          17,
          23,
          19,
          13,
          18,
          13,
          13,
          24
         ]
        },
        {
         "name": "Only_G06N_20",
         "type": "scatter",
         "x": [
          "2016-01-31T00:00:00",
          "2016-02-29T00:00:00",
          "2016-03-31T00:00:00",
          "2016-04-30T00:00:00",
          "2016-05-31T00:00:00",
          "2016-06-30T00:00:00",
          "2016-07-31T00:00:00",
          "2016-08-31T00:00:00",
          "2016-09-30T00:00:00",
          "2016-10-31T00:00:00",
          "2016-11-30T00:00:00",
          "2016-12-31T00:00:00",
          "2017-01-31T00:00:00",
          "2017-02-28T00:00:00",
          "2017-03-31T00:00:00",
          "2017-04-30T00:00:00",
          "2017-05-31T00:00:00",
          "2017-06-30T00:00:00",
          "2017-07-31T00:00:00",
          "2017-08-31T00:00:00",
          "2017-09-30T00:00:00",
          "2017-10-31T00:00:00",
          "2017-11-30T00:00:00",
          "2017-12-31T00:00:00",
          "2018-01-31T00:00:00",
          "2018-02-28T00:00:00",
          "2018-03-31T00:00:00",
          "2018-04-30T00:00:00",
          "2018-05-31T00:00:00",
          "2018-06-30T00:00:00",
          "2018-07-31T00:00:00",
          "2018-08-31T00:00:00",
          "2018-09-30T00:00:00",
          "2018-10-31T00:00:00",
          "2018-11-30T00:00:00",
          "2018-12-31T00:00:00",
          "2019-01-31T00:00:00",
          "2019-02-28T00:00:00",
          "2019-03-31T00:00:00",
          "2019-04-30T00:00:00",
          "2019-05-31T00:00:00",
          "2019-06-30T00:00:00",
          "2019-07-31T00:00:00",
          "2019-08-31T00:00:00",
          "2019-09-30T00:00:00",
          "2019-10-31T00:00:00",
          "2019-11-30T00:00:00",
          "2019-12-31T00:00:00",
          "2020-01-31T00:00:00",
          "2020-02-29T00:00:00",
          "2020-03-31T00:00:00",
          "2020-04-30T00:00:00",
          "2020-05-31T00:00:00",
          "2020-06-30T00:00:00",
          "2020-07-31T00:00:00",
          "2020-08-31T00:00:00",
          "2020-09-30T00:00:00",
          "2020-10-31T00:00:00",
          "2020-11-30T00:00:00",
          "2020-12-31T00:00:00",
          "2021-01-31T00:00:00",
          "2021-02-28T00:00:00",
          "2021-03-31T00:00:00",
          "2021-04-30T00:00:00",
          "2021-05-31T00:00:00",
          "2021-06-30T00:00:00",
          "2021-07-31T00:00:00",
          "2021-08-31T00:00:00",
          "2021-09-30T00:00:00",
          "2021-10-31T00:00:00",
          "2021-11-30T00:00:00",
          "2021-12-31T00:00:00",
          "2022-01-31T00:00:00",
          "2022-02-28T00:00:00",
          "2022-03-31T00:00:00",
          "2022-04-30T00:00:00",
          "2022-05-31T00:00:00",
          "2022-06-30T00:00:00",
          "2022-07-31T00:00:00",
          "2022-08-31T00:00:00",
          "2022-09-30T00:00:00",
          "2022-10-31T00:00:00"
         ],
         "y": [
          1,
          1,
          0,
          0,
          4,
          0,
          1,
          3,
          1,
          1,
          2,
          3,
          1,
          2,
          1,
          2,
          3,
          3,
          4,
          3,
          4,
          2,
          3,
          1,
          12,
          3,
          6,
          11,
          10,
          6,
          10,
          10,
          7,
          8,
          8,
          6,
          16,
          9,
          13,
          11,
          16,
          15,
          15,
          26,
          16,
          32,
          18,
          27,
          31,
          29,
          39,
          40,
          29,
          32,
          28,
          36,
          36,
          40,
          39,
          57,
          56,
          44,
          72,
          67,
          62,
          89,
          73,
          71,
          80,
          100,
          91,
          73,
          89,
          64,
          90,
          62,
          90,
          97,
          103,
          114,
          69,
          98
         ]
        },
        {
         "name": "Only_H04L_65",
         "type": "scatter",
         "x": [
          "2016-01-31T00:00:00",
          "2016-02-29T00:00:00",
          "2016-03-31T00:00:00",
          "2016-04-30T00:00:00",
          "2016-05-31T00:00:00",
          "2016-06-30T00:00:00",
          "2016-07-31T00:00:00",
          "2016-08-31T00:00:00",
          "2016-09-30T00:00:00",
          "2016-10-31T00:00:00",
          "2016-11-30T00:00:00",
          "2016-12-31T00:00:00",
          "2017-01-31T00:00:00",
          "2017-02-28T00:00:00",
          "2017-03-31T00:00:00",
          "2017-04-30T00:00:00",
          "2017-05-31T00:00:00",
          "2017-06-30T00:00:00",
          "2017-07-31T00:00:00",
          "2017-08-31T00:00:00",
          "2017-09-30T00:00:00",
          "2017-10-31T00:00:00",
          "2017-11-30T00:00:00",
          "2017-12-31T00:00:00",
          "2018-01-31T00:00:00",
          "2018-02-28T00:00:00",
          "2018-03-31T00:00:00",
          "2018-04-30T00:00:00",
          "2018-05-31T00:00:00",
          "2018-06-30T00:00:00",
          "2018-07-31T00:00:00",
          "2018-08-31T00:00:00",
          "2018-09-30T00:00:00",
          "2018-10-31T00:00:00",
          "2018-11-30T00:00:00",
          "2018-12-31T00:00:00",
          "2019-01-31T00:00:00",
          "2019-02-28T00:00:00",
          "2019-03-31T00:00:00",
          "2019-04-30T00:00:00",
          "2019-05-31T00:00:00",
          "2019-06-30T00:00:00",
          "2019-07-31T00:00:00",
          "2019-08-31T00:00:00",
          "2019-09-30T00:00:00",
          "2019-10-31T00:00:00",
          "2019-11-30T00:00:00",
          "2019-12-31T00:00:00",
          "2020-01-31T00:00:00",
          "2020-02-29T00:00:00",
          "2020-03-31T00:00:00",
          "2020-04-30T00:00:00",
          "2020-05-31T00:00:00",
          "2020-06-30T00:00:00",
          "2020-07-31T00:00:00",
          "2020-08-31T00:00:00",
          "2020-09-30T00:00:00",
          "2020-10-31T00:00:00",
          "2020-11-30T00:00:00",
          "2020-12-31T00:00:00",
          "2021-01-31T00:00:00",
          "2021-02-28T00:00:00",
          "2021-03-31T00:00:00",
          "2021-04-30T00:00:00",
          "2021-05-31T00:00:00",
          "2021-06-30T00:00:00",
          "2021-07-31T00:00:00",
          "2021-08-31T00:00:00",
          "2021-09-30T00:00:00",
          "2021-10-31T00:00:00",
          "2021-11-30T00:00:00",
          "2021-12-31T00:00:00",
          "2022-01-31T00:00:00",
          "2022-02-28T00:00:00",
          "2022-03-31T00:00:00",
          "2022-04-30T00:00:00",
          "2022-05-31T00:00:00",
          "2022-06-30T00:00:00",
          "2022-07-31T00:00:00",
          "2022-08-31T00:00:00",
          "2022-09-30T00:00:00",
          "2022-10-31T00:00:00"
         ],
         "y": [
          6,
          8,
          1,
          7,
          6,
          5,
          4,
          5,
          5,
          3,
          4,
          4,
          5,
          6,
          8,
          4,
          7,
          4,
          8,
          7,
          6,
          3,
          4,
          7,
          4,
          2,
          2,
          0,
          1,
          5,
          4,
          4,
          3,
          4,
          0,
          2,
          5,
          3,
          2,
          3,
          1,
          4,
          3,
          3,
          2,
          1,
          1,
          3,
          2,
          1,
          3,
          0,
          1,
          3,
          3,
          1,
          1,
          3,
          2,
          4,
          1,
          1,
          1,
          1,
          0,
          4,
          4,
          2,
          5,
          0,
          5,
          6,
          3,
          1,
          5,
          2,
          1,
          4,
          2,
          3,
          1,
          1
         ]
        },
        {
         "name": "Only_G06Q_10",
         "type": "scatter",
         "x": [
          "2016-01-31T00:00:00",
          "2016-02-29T00:00:00",
          "2016-03-31T00:00:00",
          "2016-04-30T00:00:00",
          "2016-05-31T00:00:00",
          "2016-06-30T00:00:00",
          "2016-07-31T00:00:00",
          "2016-08-31T00:00:00",
          "2016-09-30T00:00:00",
          "2016-10-31T00:00:00",
          "2016-11-30T00:00:00",
          "2016-12-31T00:00:00",
          "2017-01-31T00:00:00",
          "2017-02-28T00:00:00",
          "2017-03-31T00:00:00",
          "2017-04-30T00:00:00",
          "2017-05-31T00:00:00",
          "2017-06-30T00:00:00",
          "2017-07-31T00:00:00",
          "2017-08-31T00:00:00",
          "2017-09-30T00:00:00",
          "2017-10-31T00:00:00",
          "2017-11-30T00:00:00",
          "2017-12-31T00:00:00",
          "2018-01-31T00:00:00",
          "2018-02-28T00:00:00",
          "2018-03-31T00:00:00",
          "2018-04-30T00:00:00",
          "2018-05-31T00:00:00",
          "2018-06-30T00:00:00",
          "2018-07-31T00:00:00",
          "2018-08-31T00:00:00",
          "2018-09-30T00:00:00",
          "2018-10-31T00:00:00",
          "2018-11-30T00:00:00",
          "2018-12-31T00:00:00",
          "2019-01-31T00:00:00",
          "2019-02-28T00:00:00",
          "2019-03-31T00:00:00",
          "2019-04-30T00:00:00",
          "2019-05-31T00:00:00",
          "2019-06-30T00:00:00",
          "2019-07-31T00:00:00",
          "2019-08-31T00:00:00",
          "2019-09-30T00:00:00",
          "2019-10-31T00:00:00",
          "2019-11-30T00:00:00",
          "2019-12-31T00:00:00",
          "2020-01-31T00:00:00",
          "2020-02-29T00:00:00",
          "2020-03-31T00:00:00",
          "2020-04-30T00:00:00",
          "2020-05-31T00:00:00",
          "2020-06-30T00:00:00",
          "2020-07-31T00:00:00",
          "2020-08-31T00:00:00",
          "2020-09-30T00:00:00",
          "2020-10-31T00:00:00",
          "2020-11-30T00:00:00",
          "2020-12-31T00:00:00",
          "2021-01-31T00:00:00",
          "2021-02-28T00:00:00",
          "2021-03-31T00:00:00",
          "2021-04-30T00:00:00",
          "2021-05-31T00:00:00",
          "2021-06-30T00:00:00",
          "2021-07-31T00:00:00",
          "2021-08-31T00:00:00",
          "2021-09-30T00:00:00",
          "2021-10-31T00:00:00",
          "2021-11-30T00:00:00",
          "2021-12-31T00:00:00",
          "2022-01-31T00:00:00",
          "2022-02-28T00:00:00",
          "2022-03-31T00:00:00",
          "2022-04-30T00:00:00",
          "2022-05-31T00:00:00",
          "2022-06-30T00:00:00",
          "2022-07-31T00:00:00",
          "2022-08-31T00:00:00",
          "2022-09-30T00:00:00",
          "2022-10-31T00:00:00"
         ],
         "y": [
          18,
          11,
          14,
          19,
          21,
          22,
          25,
          31,
          29,
          29,
          46,
          53,
          43,
          47,
          57,
          48,
          50,
          47,
          51,
          62,
          37,
          40,
          53,
          60,
          56,
          43,
          56,
          33,
          53,
          51,
          57,
          60,
          45,
          52,
          50,
          65,
          62,
          50,
          52,
          60,
          48,
          54,
          62,
          66,
          33,
          53,
          62,
          56,
          49,
          68,
          68,
          59,
          56,
          54,
          56,
          51,
          47,
          78,
          80,
          84,
          96,
          103,
          97,
          86,
          99,
          111,
          96,
          109,
          98,
          112,
          115,
          104,
          110,
          120,
          104,
          103,
          90,
          75,
          104,
          89,
          91,
          103
         ]
        }
       ],
       "layout": {
        "template": {
         "data": {
          "bar": [
           {
            "error_x": {
             "color": "#2a3f5f"
            },
            "error_y": {
             "color": "#2a3f5f"
            },
            "marker": {
             "line": {
              "color": "#E5ECF6",
              "width": 0.5
             },
             "pattern": {
              "fillmode": "overlay",
              "size": 10,
              "solidity": 0.2
             }
            },
            "type": "bar"
           }
          ],
          "barpolar": [
           {
            "marker": {
             "line": {
              "color": "#E5ECF6",
              "width": 0.5
             },
             "pattern": {
              "fillmode": "overlay",
              "size": 10,
              "solidity": 0.2
             }
            },
            "type": "barpolar"
           }
          ],
          "carpet": [
           {
            "aaxis": {
             "endlinecolor": "#2a3f5f",
             "gridcolor": "white",
             "linecolor": "white",
             "minorgridcolor": "white",
             "startlinecolor": "#2a3f5f"
            },
            "baxis": {
             "endlinecolor": "#2a3f5f",
             "gridcolor": "white",
             "linecolor": "white",
             "minorgridcolor": "white",
             "startlinecolor": "#2a3f5f"
            },
            "type": "carpet"
           }
          ],
          "choropleth": [
           {
            "colorbar": {
             "outlinewidth": 0,
             "ticks": ""
            },
            "type": "choropleth"
           }
          ],
          "contour": [
           {
            "colorbar": {
             "outlinewidth": 0,
             "ticks": ""
            },
            "colorscale": [
             [
              0,
              "#0d0887"
             ],
             [
              0.1111111111111111,
              "#46039f"
             ],
             [
              0.2222222222222222,
              "#7201a8"
             ],
             [
              0.3333333333333333,
              "#9c179e"
             ],
             [
              0.4444444444444444,
              "#bd3786"
             ],
             [
              0.5555555555555556,
              "#d8576b"
             ],
             [
              0.6666666666666666,
              "#ed7953"
             ],
             [
              0.7777777777777778,
              "#fb9f3a"
             ],
             [
              0.8888888888888888,
              "#fdca26"
             ],
             [
              1,
              "#f0f921"
             ]
            ],
            "type": "contour"
           }
          ],
          "contourcarpet": [
           {
            "colorbar": {
             "outlinewidth": 0,
             "ticks": ""
            },
            "type": "contourcarpet"
           }
          ],
          "heatmap": [
           {
            "colorbar": {
             "outlinewidth": 0,
             "ticks": ""
            },
            "colorscale": [
             [
              0,
              "#0d0887"
             ],
             [
              0.1111111111111111,
              "#46039f"
             ],
             [
              0.2222222222222222,
              "#7201a8"
             ],
             [
              0.3333333333333333,
              "#9c179e"
             ],
             [
              0.4444444444444444,
              "#bd3786"
             ],
             [
              0.5555555555555556,
              "#d8576b"
             ],
             [
              0.6666666666666666,
              "#ed7953"
             ],
             [
              0.7777777777777778,
              "#fb9f3a"
             ],
             [
              0.8888888888888888,
              "#fdca26"
             ],
             [
              1,
              "#f0f921"
             ]
            ],
            "type": "heatmap"
           }
          ],
          "heatmapgl": [
           {
            "colorbar": {
             "outlinewidth": 0,
             "ticks": ""
            },
            "colorscale": [
             [
              0,
              "#0d0887"
             ],
             [
              0.1111111111111111,
              "#46039f"
             ],
             [
              0.2222222222222222,
              "#7201a8"
             ],
             [
              0.3333333333333333,
              "#9c179e"
             ],
             [
              0.4444444444444444,
              "#bd3786"
             ],
             [
              0.5555555555555556,
              "#d8576b"
             ],
             [
              0.6666666666666666,
              "#ed7953"
             ],
             [
              0.7777777777777778,
              "#fb9f3a"
             ],
             [
              0.8888888888888888,
              "#fdca26"
             ],
             [
              1,
              "#f0f921"
             ]
            ],
            "type": "heatmapgl"
           }
          ],
          "histogram": [
           {
            "marker": {
             "pattern": {
              "fillmode": "overlay",
              "size": 10,
              "solidity": 0.2
             }
            },
            "type": "histogram"
           }
          ],
          "histogram2d": [
           {
            "colorbar": {
             "outlinewidth": 0,
             "ticks": ""
            },
            "colorscale": [
             [
              0,
              "#0d0887"
             ],
             [
              0.1111111111111111,
              "#46039f"
             ],
             [
              0.2222222222222222,
              "#7201a8"
             ],
             [
              0.3333333333333333,
              "#9c179e"
             ],
             [
              0.4444444444444444,
              "#bd3786"
             ],
             [
              0.5555555555555556,
              "#d8576b"
             ],
             [
              0.6666666666666666,
              "#ed7953"
             ],
             [
              0.7777777777777778,
              "#fb9f3a"
             ],
             [
              0.8888888888888888,
              "#fdca26"
             ],
             [
              1,
              "#f0f921"
             ]
            ],
            "type": "histogram2d"
           }
          ],
          "histogram2dcontour": [
           {
            "colorbar": {
             "outlinewidth": 0,
             "ticks": ""
            },
            "colorscale": [
             [
              0,
              "#0d0887"
             ],
             [
              0.1111111111111111,
              "#46039f"
             ],
             [
              0.2222222222222222,
              "#7201a8"
             ],
             [
              0.3333333333333333,
              "#9c179e"
             ],
             [
              0.4444444444444444,
              "#bd3786"
             ],
             [
              0.5555555555555556,
              "#d8576b"
             ],
             [
              0.6666666666666666,
              "#ed7953"
             ],
             [
              0.7777777777777778,
              "#fb9f3a"
             ],
             [
              0.8888888888888888,
              "#fdca26"
             ],
             [
              1,
              "#f0f921"
             ]
            ],
            "type": "histogram2dcontour"
           }
          ],
          "mesh3d": [
           {
            "colorbar": {
             "outlinewidth": 0,
             "ticks": ""
            },
            "type": "mesh3d"
           }
          ],
          "parcoords": [
           {
            "line": {
             "colorbar": {
              "outlinewidth": 0,
              "ticks": ""
             }
            },
            "type": "parcoords"
           }
          ],
          "pie": [
           {
            "automargin": true,
            "type": "pie"
           }
          ],
          "scatter": [
           {
            "marker": {
             "colorbar": {
              "outlinewidth": 0,
              "ticks": ""
             }
            },
            "type": "scatter"
           }
          ],
          "scatter3d": [
           {
            "line": {
             "colorbar": {
              "outlinewidth": 0,
              "ticks": ""
             }
            },
            "marker": {
             "colorbar": {
              "outlinewidth": 0,
              "ticks": ""
             }
            },
            "type": "scatter3d"
           }
          ],
          "scattercarpet": [
           {
            "marker": {
             "colorbar": {
              "outlinewidth": 0,
              "ticks": ""
             }
            },
            "type": "scattercarpet"
           }
          ],
          "scattergeo": [
           {
            "marker": {
             "colorbar": {
              "outlinewidth": 0,
              "ticks": ""
             }
            },
            "type": "scattergeo"
           }
          ],
          "scattergl": [
           {
            "marker": {
             "colorbar": {
              "outlinewidth": 0,
              "ticks": ""
             }
            },
            "type": "scattergl"
           }
          ],
          "scattermapbox": [
           {
            "marker": {
             "colorbar": {
              "outlinewidth": 0,
              "ticks": ""
             }
            },
            "type": "scattermapbox"
           }
          ],
          "scatterpolar": [
           {
            "marker": {
             "colorbar": {
              "outlinewidth": 0,
              "ticks": ""
             }
            },
            "type": "scatterpolar"
           }
          ],
          "scatterpolargl": [
           {
            "marker": {
             "colorbar": {
              "outlinewidth": 0,
              "ticks": ""
             }
            },
            "type": "scatterpolargl"
           }
          ],
          "scatterternary": [
           {
            "marker": {
             "colorbar": {
              "outlinewidth": 0,
              "ticks": ""
             }
            },
            "type": "scatterternary"
           }
          ],
          "surface": [
           {
            "colorbar": {
             "outlinewidth": 0,
             "ticks": ""
            },
            "colorscale": [
             [
              0,
              "#0d0887"
             ],
             [
              0.1111111111111111,
              "#46039f"
             ],
             [
              0.2222222222222222,
              "#7201a8"
             ],
             [
              0.3333333333333333,
              "#9c179e"
             ],
             [
              0.4444444444444444,
              "#bd3786"
             ],
             [
              0.5555555555555556,
              "#d8576b"
             ],
             [
              0.6666666666666666,
              "#ed7953"
             ],
             [
              0.7777777777777778,
              "#fb9f3a"
             ],
             [
              0.8888888888888888,
              "#fdca26"
             ],
             [
              1,
              "#f0f921"
             ]
            ],
            "type": "surface"
           }
          ],
          "table": [
           {
            "cells": {
             "fill": {
              "color": "#EBF0F8"
             },
             "line": {
              "color": "white"
             }
            },
            "header": {
             "fill": {
              "color": "#C8D4E3"
             },
             "line": {
              "color": "white"
             }
            },
            "type": "table"
           }
          ]
         },
         "layout": {
          "annotationdefaults": {
           "arrowcolor": "#2a3f5f",
           "arrowhead": 0,
           "arrowwidth": 1
          },
          "autotypenumbers": "strict",
          "coloraxis": {
           "colorbar": {
            "outlinewidth": 0,
            "ticks": ""
           }
          },
          "colorscale": {
           "diverging": [
            [
             0,
             "#8e0152"
            ],
            [
             0.1,
             "#c51b7d"
            ],
            [
             0.2,
             "#de77ae"
            ],
            [
             0.3,
             "#f1b6da"
            ],
            [
             0.4,
             "#fde0ef"
            ],
            [
             0.5,
             "#f7f7f7"
            ],
            [
             0.6,
             "#e6f5d0"
            ],
            [
             0.7,
             "#b8e186"
            ],
            [
             0.8,
             "#7fbc41"
            ],
            [
             0.9,
             "#4d9221"
            ],
            [
             1,
             "#276419"
            ]
           ],
           "sequential": [
            [
             0,
             "#0d0887"
            ],
            [
             0.1111111111111111,
             "#46039f"
            ],
            [
             0.2222222222222222,
             "#7201a8"
            ],
            [
             0.3333333333333333,
             "#9c179e"
            ],
            [
             0.4444444444444444,
             "#bd3786"
            ],
            [
             0.5555555555555556,
             "#d8576b"
            ],
            [
             0.6666666666666666,
             "#ed7953"
            ],
            [
             0.7777777777777778,
             "#fb9f3a"
            ],
            [
             0.8888888888888888,
             "#fdca26"
            ],
            [
             1,
             "#f0f921"
            ]
           ],
           "sequentialminus": [
            [
             0,
             "#0d0887"
            ],
            [
             0.1111111111111111,
             "#46039f"
            ],
            [
             0.2222222222222222,
             "#7201a8"
            ],
            [
             0.3333333333333333,
             "#9c179e"
            ],
            [
             0.4444444444444444,
             "#bd3786"
            ],
            [
             0.5555555555555556,
             "#d8576b"
            ],
            [
             0.6666666666666666,
             "#ed7953"
            ],
            [
             0.7777777777777778,
             "#fb9f3a"
            ],
            [
             0.8888888888888888,
             "#fdca26"
            ],
            [
             1,
             "#f0f921"
            ]
           ]
          },
          "colorway": [
           "#636efa",
           "#EF553B",
           "#00cc96",
           "#ab63fa",
           "#FFA15A",
           "#19d3f3",
           "#FF6692",
           "#B6E880",
           "#FF97FF",
           "#FECB52"
          ],
          "font": {
           "color": "#2a3f5f"
          },
          "geo": {
           "bgcolor": "white",
           "lakecolor": "white",
           "landcolor": "#E5ECF6",
           "showlakes": true,
           "showland": true,
           "subunitcolor": "white"
          },
          "hoverlabel": {
           "align": "left"
          },
          "hovermode": "closest",
          "mapbox": {
           "style": "light"
          },
          "paper_bgcolor": "white",
          "plot_bgcolor": "#E5ECF6",
          "polar": {
           "angularaxis": {
            "gridcolor": "white",
            "linecolor": "white",
            "ticks": ""
           },
           "bgcolor": "#E5ECF6",
           "radialaxis": {
            "gridcolor": "white",
            "linecolor": "white",
            "ticks": ""
           }
          },
          "scene": {
           "xaxis": {
            "backgroundcolor": "#E5ECF6",
            "gridcolor": "white",
            "gridwidth": 2,
            "linecolor": "white",
            "showbackground": true,
            "ticks": "",
            "zerolinecolor": "white"
           },
           "yaxis": {
            "backgroundcolor": "#E5ECF6",
            "gridcolor": "white",
            "gridwidth": 2,
            "linecolor": "white",
            "showbackground": true,
            "ticks": "",
            "zerolinecolor": "white"
           },
           "zaxis": {
            "backgroundcolor": "#E5ECF6",
            "gridcolor": "white",
            "gridwidth": 2,
            "linecolor": "white",
            "showbackground": true,
            "ticks": "",
            "zerolinecolor": "white"
           }
          },
          "shapedefaults": {
           "line": {
            "color": "#2a3f5f"
           }
          },
          "ternary": {
           "aaxis": {
            "gridcolor": "white",
            "linecolor": "white",
            "ticks": ""
           },
           "baxis": {
            "gridcolor": "white",
            "linecolor": "white",
            "ticks": ""
           },
           "bgcolor": "#E5ECF6",
           "caxis": {
            "gridcolor": "white",
            "linecolor": "white",
            "ticks": ""
           }
          },
          "title": {
           "x": 0.05
          },
          "xaxis": {
           "automargin": true,
           "gridcolor": "white",
           "linecolor": "white",
           "ticks": "",
           "title": {
            "standoff": 15
           },
           "zerolinecolor": "white",
           "zerolinewidth": 2
          },
          "yaxis": {
           "automargin": true,
           "gridcolor": "white",
           "linecolor": "white",
           "ticks": "",
           "title": {
            "standoff": 15
           },
           "zerolinecolor": "white",
           "zerolinewidth": 2
          }
         }
        },
        "title": {
         "text": "각각의 기술을 독립적으로 보았을 때 시간에 따른 특허 수 (1M으로 묶음)"
        }
       }
      },
      "text/html": [
       "<div>                            <div id=\"478e31ae-096b-4685-b64f-9cff633d9065\" class=\"plotly-graph-div\" style=\"height:525px; width:100%;\"></div>            <script type=\"text/javascript\">                require([\"plotly\"], function(Plotly) {                    window.PLOTLYENV=window.PLOTLYENV || {};                                    if (document.getElementById(\"478e31ae-096b-4685-b64f-9cff633d9065\")) {                    Plotly.newPlot(                        \"478e31ae-096b-4685-b64f-9cff633d9065\",                        [{\"mode\":\"lines+markers\",\"name\":\"\\uc804\\uccb4_\\uad00\\ub828_\\ud2b9\\ud5c8_\\uc218\",\"x\":[\"2016-01-31T00:00:00\",\"2016-02-29T00:00:00\",\"2016-03-31T00:00:00\",\"2016-04-30T00:00:00\",\"2016-05-31T00:00:00\",\"2016-06-30T00:00:00\",\"2016-07-31T00:00:00\",\"2016-08-31T00:00:00\",\"2016-09-30T00:00:00\",\"2016-10-31T00:00:00\",\"2016-11-30T00:00:00\",\"2016-12-31T00:00:00\",\"2017-01-31T00:00:00\",\"2017-02-28T00:00:00\",\"2017-03-31T00:00:00\",\"2017-04-30T00:00:00\",\"2017-05-31T00:00:00\",\"2017-06-30T00:00:00\",\"2017-07-31T00:00:00\",\"2017-08-31T00:00:00\",\"2017-09-30T00:00:00\",\"2017-10-31T00:00:00\",\"2017-11-30T00:00:00\",\"2017-12-31T00:00:00\",\"2018-01-31T00:00:00\",\"2018-02-28T00:00:00\",\"2018-03-31T00:00:00\",\"2018-04-30T00:00:00\",\"2018-05-31T00:00:00\",\"2018-06-30T00:00:00\",\"2018-07-31T00:00:00\",\"2018-08-31T00:00:00\",\"2018-09-30T00:00:00\",\"2018-10-31T00:00:00\",\"2018-11-30T00:00:00\",\"2018-12-31T00:00:00\",\"2019-01-31T00:00:00\",\"2019-02-28T00:00:00\",\"2019-03-31T00:00:00\",\"2019-04-30T00:00:00\",\"2019-05-31T00:00:00\",\"2019-06-30T00:00:00\",\"2019-07-31T00:00:00\",\"2019-08-31T00:00:00\",\"2019-09-30T00:00:00\",\"2019-10-31T00:00:00\",\"2019-11-30T00:00:00\",\"2019-12-31T00:00:00\",\"2020-01-31T00:00:00\",\"2020-02-29T00:00:00\",\"2020-03-31T00:00:00\",\"2020-04-30T00:00:00\",\"2020-05-31T00:00:00\",\"2020-06-30T00:00:00\",\"2020-07-31T00:00:00\",\"2020-08-31T00:00:00\",\"2020-09-30T00:00:00\",\"2020-10-31T00:00:00\",\"2020-11-30T00:00:00\",\"2020-12-31T00:00:00\",\"2021-01-31T00:00:00\",\"2021-02-28T00:00:00\",\"2021-03-31T00:00:00\",\"2021-04-30T00:00:00\",\"2021-05-31T00:00:00\",\"2021-06-30T00:00:00\",\"2021-07-31T00:00:00\",\"2021-08-31T00:00:00\",\"2021-09-30T00:00:00\",\"2021-10-31T00:00:00\",\"2021-11-30T00:00:00\",\"2021-12-31T00:00:00\",\"2022-01-31T00:00:00\",\"2022-02-28T00:00:00\",\"2022-03-31T00:00:00\",\"2022-04-30T00:00:00\",\"2022-05-31T00:00:00\",\"2022-06-30T00:00:00\",\"2022-07-31T00:00:00\",\"2022-08-31T00:00:00\",\"2022-09-30T00:00:00\",\"2022-10-31T00:00:00\"],\"y\":[109,134,110,126,118,137,175,185,196,175,234,250,222,240,274,243,266,269,283,273,251,207,274,267,249,205,257,224,224,257,236,261,208,268,201,252,276,215,228,236,249,231,300,275,235,289,282,276,318,298,366,291,319,350,369,319,341,390,437,499,484,425,530,505,479,584,564,528,533,562,588,578,541,540,585,534,517,543,632,616,514,559],\"type\":\"scatter\"},{\"name\":\"Only_G06Q_30\",\"x\":[\"2016-01-31T00:00:00\",\"2016-02-29T00:00:00\",\"2016-03-31T00:00:00\",\"2016-04-30T00:00:00\",\"2016-05-31T00:00:00\",\"2016-06-30T00:00:00\",\"2016-07-31T00:00:00\",\"2016-08-31T00:00:00\",\"2016-09-30T00:00:00\",\"2016-10-31T00:00:00\",\"2016-11-30T00:00:00\",\"2016-12-31T00:00:00\",\"2017-01-31T00:00:00\",\"2017-02-28T00:00:00\",\"2017-03-31T00:00:00\",\"2017-04-30T00:00:00\",\"2017-05-31T00:00:00\",\"2017-06-30T00:00:00\",\"2017-07-31T00:00:00\",\"2017-08-31T00:00:00\",\"2017-09-30T00:00:00\",\"2017-10-31T00:00:00\",\"2017-11-30T00:00:00\",\"2017-12-31T00:00:00\",\"2018-01-31T00:00:00\",\"2018-02-28T00:00:00\",\"2018-03-31T00:00:00\",\"2018-04-30T00:00:00\",\"2018-05-31T00:00:00\",\"2018-06-30T00:00:00\",\"2018-07-31T00:00:00\",\"2018-08-31T00:00:00\",\"2018-09-30T00:00:00\",\"2018-10-31T00:00:00\",\"2018-11-30T00:00:00\",\"2018-12-31T00:00:00\",\"2019-01-31T00:00:00\",\"2019-02-28T00:00:00\",\"2019-03-31T00:00:00\",\"2019-04-30T00:00:00\",\"2019-05-31T00:00:00\",\"2019-06-30T00:00:00\",\"2019-07-31T00:00:00\",\"2019-08-31T00:00:00\",\"2019-09-30T00:00:00\",\"2019-10-31T00:00:00\",\"2019-11-30T00:00:00\",\"2019-12-31T00:00:00\",\"2020-01-31T00:00:00\",\"2020-02-29T00:00:00\",\"2020-03-31T00:00:00\",\"2020-04-30T00:00:00\",\"2020-05-31T00:00:00\",\"2020-06-30T00:00:00\",\"2020-07-31T00:00:00\",\"2020-08-31T00:00:00\",\"2020-09-30T00:00:00\",\"2020-10-31T00:00:00\",\"2020-11-30T00:00:00\",\"2020-12-31T00:00:00\",\"2021-01-31T00:00:00\",\"2021-02-28T00:00:00\",\"2021-03-31T00:00:00\",\"2021-04-30T00:00:00\",\"2021-05-31T00:00:00\",\"2021-06-30T00:00:00\",\"2021-07-31T00:00:00\",\"2021-08-31T00:00:00\",\"2021-09-30T00:00:00\",\"2021-10-31T00:00:00\",\"2021-11-30T00:00:00\",\"2021-12-31T00:00:00\",\"2022-01-31T00:00:00\",\"2022-02-28T00:00:00\",\"2022-03-31T00:00:00\",\"2022-04-30T00:00:00\",\"2022-05-31T00:00:00\",\"2022-06-30T00:00:00\",\"2022-07-31T00:00:00\",\"2022-08-31T00:00:00\",\"2022-09-30T00:00:00\",\"2022-10-31T00:00:00\"],\"y\":[55,69,58,59,56,63,82,75,83,70,92,97,73,88,87,79,87,93,100,70,95,65,84,93,78,57,76,72,72,65,69,92,62,85,58,84,88,72,67,63,81,62,102,78,66,71,89,84,105,96,109,84,88,118,127,92,107,97,133,156,142,108,158,122,105,150,169,136,133,129,140,137,121,112,136,104,105,117,149,140,125,117],\"type\":\"scatter\"},{\"name\":\"Only_G06Q_40\",\"x\":[\"2016-01-31T00:00:00\",\"2016-02-29T00:00:00\",\"2016-03-31T00:00:00\",\"2016-04-30T00:00:00\",\"2016-05-31T00:00:00\",\"2016-06-30T00:00:00\",\"2016-07-31T00:00:00\",\"2016-08-31T00:00:00\",\"2016-09-30T00:00:00\",\"2016-10-31T00:00:00\",\"2016-11-30T00:00:00\",\"2016-12-31T00:00:00\",\"2017-01-31T00:00:00\",\"2017-02-28T00:00:00\",\"2017-03-31T00:00:00\",\"2017-04-30T00:00:00\",\"2017-05-31T00:00:00\",\"2017-06-30T00:00:00\",\"2017-07-31T00:00:00\",\"2017-08-31T00:00:00\",\"2017-09-30T00:00:00\",\"2017-10-31T00:00:00\",\"2017-11-30T00:00:00\",\"2017-12-31T00:00:00\",\"2018-01-31T00:00:00\",\"2018-02-28T00:00:00\",\"2018-03-31T00:00:00\",\"2018-04-30T00:00:00\",\"2018-05-31T00:00:00\",\"2018-06-30T00:00:00\",\"2018-07-31T00:00:00\",\"2018-08-31T00:00:00\",\"2018-09-30T00:00:00\",\"2018-10-31T00:00:00\",\"2018-11-30T00:00:00\",\"2018-12-31T00:00:00\",\"2019-01-31T00:00:00\",\"2019-02-28T00:00:00\",\"2019-03-31T00:00:00\",\"2019-04-30T00:00:00\",\"2019-05-31T00:00:00\",\"2019-06-30T00:00:00\",\"2019-07-31T00:00:00\",\"2019-08-31T00:00:00\",\"2019-09-30T00:00:00\",\"2019-10-31T00:00:00\",\"2019-11-30T00:00:00\",\"2019-12-31T00:00:00\",\"2020-01-31T00:00:00\",\"2020-02-29T00:00:00\",\"2020-03-31T00:00:00\",\"2020-04-30T00:00:00\",\"2020-05-31T00:00:00\",\"2020-06-30T00:00:00\",\"2020-07-31T00:00:00\",\"2020-08-31T00:00:00\",\"2020-09-30T00:00:00\",\"2020-10-31T00:00:00\",\"2020-11-30T00:00:00\",\"2020-12-31T00:00:00\",\"2021-01-31T00:00:00\",\"2021-02-28T00:00:00\",\"2021-03-31T00:00:00\",\"2021-04-30T00:00:00\",\"2021-05-31T00:00:00\",\"2021-06-30T00:00:00\",\"2021-07-31T00:00:00\",\"2021-08-31T00:00:00\",\"2021-09-30T00:00:00\",\"2021-10-31T00:00:00\",\"2021-11-30T00:00:00\",\"2021-12-31T00:00:00\",\"2022-01-31T00:00:00\",\"2022-02-28T00:00:00\",\"2022-03-31T00:00:00\",\"2022-04-30T00:00:00\",\"2022-05-31T00:00:00\",\"2022-06-30T00:00:00\",\"2022-07-31T00:00:00\",\"2022-08-31T00:00:00\",\"2022-09-30T00:00:00\",\"2022-10-31T00:00:00\"],\"y\":[9,13,12,10,6,11,10,10,21,19,23,14,19,28,21,14,16,13,15,14,15,16,18,22,6,11,4,14,5,13,5,10,12,16,6,9,9,14,6,5,6,8,6,13,10,10,10,7,11,15,17,13,24,20,23,13,17,14,23,22,19,8,15,25,14,18,18,22,16,19,24,18,21,8,17,23,19,13,18,13,13,24],\"type\":\"scatter\"},{\"name\":\"Only_G06N_20\",\"x\":[\"2016-01-31T00:00:00\",\"2016-02-29T00:00:00\",\"2016-03-31T00:00:00\",\"2016-04-30T00:00:00\",\"2016-05-31T00:00:00\",\"2016-06-30T00:00:00\",\"2016-07-31T00:00:00\",\"2016-08-31T00:00:00\",\"2016-09-30T00:00:00\",\"2016-10-31T00:00:00\",\"2016-11-30T00:00:00\",\"2016-12-31T00:00:00\",\"2017-01-31T00:00:00\",\"2017-02-28T00:00:00\",\"2017-03-31T00:00:00\",\"2017-04-30T00:00:00\",\"2017-05-31T00:00:00\",\"2017-06-30T00:00:00\",\"2017-07-31T00:00:00\",\"2017-08-31T00:00:00\",\"2017-09-30T00:00:00\",\"2017-10-31T00:00:00\",\"2017-11-30T00:00:00\",\"2017-12-31T00:00:00\",\"2018-01-31T00:00:00\",\"2018-02-28T00:00:00\",\"2018-03-31T00:00:00\",\"2018-04-30T00:00:00\",\"2018-05-31T00:00:00\",\"2018-06-30T00:00:00\",\"2018-07-31T00:00:00\",\"2018-08-31T00:00:00\",\"2018-09-30T00:00:00\",\"2018-10-31T00:00:00\",\"2018-11-30T00:00:00\",\"2018-12-31T00:00:00\",\"2019-01-31T00:00:00\",\"2019-02-28T00:00:00\",\"2019-03-31T00:00:00\",\"2019-04-30T00:00:00\",\"2019-05-31T00:00:00\",\"2019-06-30T00:00:00\",\"2019-07-31T00:00:00\",\"2019-08-31T00:00:00\",\"2019-09-30T00:00:00\",\"2019-10-31T00:00:00\",\"2019-11-30T00:00:00\",\"2019-12-31T00:00:00\",\"2020-01-31T00:00:00\",\"2020-02-29T00:00:00\",\"2020-03-31T00:00:00\",\"2020-04-30T00:00:00\",\"2020-05-31T00:00:00\",\"2020-06-30T00:00:00\",\"2020-07-31T00:00:00\",\"2020-08-31T00:00:00\",\"2020-09-30T00:00:00\",\"2020-10-31T00:00:00\",\"2020-11-30T00:00:00\",\"2020-12-31T00:00:00\",\"2021-01-31T00:00:00\",\"2021-02-28T00:00:00\",\"2021-03-31T00:00:00\",\"2021-04-30T00:00:00\",\"2021-05-31T00:00:00\",\"2021-06-30T00:00:00\",\"2021-07-31T00:00:00\",\"2021-08-31T00:00:00\",\"2021-09-30T00:00:00\",\"2021-10-31T00:00:00\",\"2021-11-30T00:00:00\",\"2021-12-31T00:00:00\",\"2022-01-31T00:00:00\",\"2022-02-28T00:00:00\",\"2022-03-31T00:00:00\",\"2022-04-30T00:00:00\",\"2022-05-31T00:00:00\",\"2022-06-30T00:00:00\",\"2022-07-31T00:00:00\",\"2022-08-31T00:00:00\",\"2022-09-30T00:00:00\",\"2022-10-31T00:00:00\"],\"y\":[1,1,0,0,4,0,1,3,1,1,2,3,1,2,1,2,3,3,4,3,4,2,3,1,12,3,6,11,10,6,10,10,7,8,8,6,16,9,13,11,16,15,15,26,16,32,18,27,31,29,39,40,29,32,28,36,36,40,39,57,56,44,72,67,62,89,73,71,80,100,91,73,89,64,90,62,90,97,103,114,69,98],\"type\":\"scatter\"},{\"name\":\"Only_H04L_65\",\"x\":[\"2016-01-31T00:00:00\",\"2016-02-29T00:00:00\",\"2016-03-31T00:00:00\",\"2016-04-30T00:00:00\",\"2016-05-31T00:00:00\",\"2016-06-30T00:00:00\",\"2016-07-31T00:00:00\",\"2016-08-31T00:00:00\",\"2016-09-30T00:00:00\",\"2016-10-31T00:00:00\",\"2016-11-30T00:00:00\",\"2016-12-31T00:00:00\",\"2017-01-31T00:00:00\",\"2017-02-28T00:00:00\",\"2017-03-31T00:00:00\",\"2017-04-30T00:00:00\",\"2017-05-31T00:00:00\",\"2017-06-30T00:00:00\",\"2017-07-31T00:00:00\",\"2017-08-31T00:00:00\",\"2017-09-30T00:00:00\",\"2017-10-31T00:00:00\",\"2017-11-30T00:00:00\",\"2017-12-31T00:00:00\",\"2018-01-31T00:00:00\",\"2018-02-28T00:00:00\",\"2018-03-31T00:00:00\",\"2018-04-30T00:00:00\",\"2018-05-31T00:00:00\",\"2018-06-30T00:00:00\",\"2018-07-31T00:00:00\",\"2018-08-31T00:00:00\",\"2018-09-30T00:00:00\",\"2018-10-31T00:00:00\",\"2018-11-30T00:00:00\",\"2018-12-31T00:00:00\",\"2019-01-31T00:00:00\",\"2019-02-28T00:00:00\",\"2019-03-31T00:00:00\",\"2019-04-30T00:00:00\",\"2019-05-31T00:00:00\",\"2019-06-30T00:00:00\",\"2019-07-31T00:00:00\",\"2019-08-31T00:00:00\",\"2019-09-30T00:00:00\",\"2019-10-31T00:00:00\",\"2019-11-30T00:00:00\",\"2019-12-31T00:00:00\",\"2020-01-31T00:00:00\",\"2020-02-29T00:00:00\",\"2020-03-31T00:00:00\",\"2020-04-30T00:00:00\",\"2020-05-31T00:00:00\",\"2020-06-30T00:00:00\",\"2020-07-31T00:00:00\",\"2020-08-31T00:00:00\",\"2020-09-30T00:00:00\",\"2020-10-31T00:00:00\",\"2020-11-30T00:00:00\",\"2020-12-31T00:00:00\",\"2021-01-31T00:00:00\",\"2021-02-28T00:00:00\",\"2021-03-31T00:00:00\",\"2021-04-30T00:00:00\",\"2021-05-31T00:00:00\",\"2021-06-30T00:00:00\",\"2021-07-31T00:00:00\",\"2021-08-31T00:00:00\",\"2021-09-30T00:00:00\",\"2021-10-31T00:00:00\",\"2021-11-30T00:00:00\",\"2021-12-31T00:00:00\",\"2022-01-31T00:00:00\",\"2022-02-28T00:00:00\",\"2022-03-31T00:00:00\",\"2022-04-30T00:00:00\",\"2022-05-31T00:00:00\",\"2022-06-30T00:00:00\",\"2022-07-31T00:00:00\",\"2022-08-31T00:00:00\",\"2022-09-30T00:00:00\",\"2022-10-31T00:00:00\"],\"y\":[6,8,1,7,6,5,4,5,5,3,4,4,5,6,8,4,7,4,8,7,6,3,4,7,4,2,2,0,1,5,4,4,3,4,0,2,5,3,2,3,1,4,3,3,2,1,1,3,2,1,3,0,1,3,3,1,1,3,2,4,1,1,1,1,0,4,4,2,5,0,5,6,3,1,5,2,1,4,2,3,1,1],\"type\":\"scatter\"},{\"name\":\"Only_G06Q_10\",\"x\":[\"2016-01-31T00:00:00\",\"2016-02-29T00:00:00\",\"2016-03-31T00:00:00\",\"2016-04-30T00:00:00\",\"2016-05-31T00:00:00\",\"2016-06-30T00:00:00\",\"2016-07-31T00:00:00\",\"2016-08-31T00:00:00\",\"2016-09-30T00:00:00\",\"2016-10-31T00:00:00\",\"2016-11-30T00:00:00\",\"2016-12-31T00:00:00\",\"2017-01-31T00:00:00\",\"2017-02-28T00:00:00\",\"2017-03-31T00:00:00\",\"2017-04-30T00:00:00\",\"2017-05-31T00:00:00\",\"2017-06-30T00:00:00\",\"2017-07-31T00:00:00\",\"2017-08-31T00:00:00\",\"2017-09-30T00:00:00\",\"2017-10-31T00:00:00\",\"2017-11-30T00:00:00\",\"2017-12-31T00:00:00\",\"2018-01-31T00:00:00\",\"2018-02-28T00:00:00\",\"2018-03-31T00:00:00\",\"2018-04-30T00:00:00\",\"2018-05-31T00:00:00\",\"2018-06-30T00:00:00\",\"2018-07-31T00:00:00\",\"2018-08-31T00:00:00\",\"2018-09-30T00:00:00\",\"2018-10-31T00:00:00\",\"2018-11-30T00:00:00\",\"2018-12-31T00:00:00\",\"2019-01-31T00:00:00\",\"2019-02-28T00:00:00\",\"2019-03-31T00:00:00\",\"2019-04-30T00:00:00\",\"2019-05-31T00:00:00\",\"2019-06-30T00:00:00\",\"2019-07-31T00:00:00\",\"2019-08-31T00:00:00\",\"2019-09-30T00:00:00\",\"2019-10-31T00:00:00\",\"2019-11-30T00:00:00\",\"2019-12-31T00:00:00\",\"2020-01-31T00:00:00\",\"2020-02-29T00:00:00\",\"2020-03-31T00:00:00\",\"2020-04-30T00:00:00\",\"2020-05-31T00:00:00\",\"2020-06-30T00:00:00\",\"2020-07-31T00:00:00\",\"2020-08-31T00:00:00\",\"2020-09-30T00:00:00\",\"2020-10-31T00:00:00\",\"2020-11-30T00:00:00\",\"2020-12-31T00:00:00\",\"2021-01-31T00:00:00\",\"2021-02-28T00:00:00\",\"2021-03-31T00:00:00\",\"2021-04-30T00:00:00\",\"2021-05-31T00:00:00\",\"2021-06-30T00:00:00\",\"2021-07-31T00:00:00\",\"2021-08-31T00:00:00\",\"2021-09-30T00:00:00\",\"2021-10-31T00:00:00\",\"2021-11-30T00:00:00\",\"2021-12-31T00:00:00\",\"2022-01-31T00:00:00\",\"2022-02-28T00:00:00\",\"2022-03-31T00:00:00\",\"2022-04-30T00:00:00\",\"2022-05-31T00:00:00\",\"2022-06-30T00:00:00\",\"2022-07-31T00:00:00\",\"2022-08-31T00:00:00\",\"2022-09-30T00:00:00\",\"2022-10-31T00:00:00\"],\"y\":[18,11,14,19,21,22,25,31,29,29,46,53,43,47,57,48,50,47,51,62,37,40,53,60,56,43,56,33,53,51,57,60,45,52,50,65,62,50,52,60,48,54,62,66,33,53,62,56,49,68,68,59,56,54,56,51,47,78,80,84,96,103,97,86,99,111,96,109,98,112,115,104,110,120,104,103,90,75,104,89,91,103],\"type\":\"scatter\"}],                        {\"template\":{\"data\":{\"bar\":[{\"error_x\":{\"color\":\"#2a3f5f\"},\"error_y\":{\"color\":\"#2a3f5f\"},\"marker\":{\"line\":{\"color\":\"#E5ECF6\",\"width\":0.5},\"pattern\":{\"fillmode\":\"overlay\",\"size\":10,\"solidity\":0.2}},\"type\":\"bar\"}],\"barpolar\":[{\"marker\":{\"line\":{\"color\":\"#E5ECF6\",\"width\":0.5},\"pattern\":{\"fillmode\":\"overlay\",\"size\":10,\"solidity\":0.2}},\"type\":\"barpolar\"}],\"carpet\":[{\"aaxis\":{\"endlinecolor\":\"#2a3f5f\",\"gridcolor\":\"white\",\"linecolor\":\"white\",\"minorgridcolor\":\"white\",\"startlinecolor\":\"#2a3f5f\"},\"baxis\":{\"endlinecolor\":\"#2a3f5f\",\"gridcolor\":\"white\",\"linecolor\":\"white\",\"minorgridcolor\":\"white\",\"startlinecolor\":\"#2a3f5f\"},\"type\":\"carpet\"}],\"choropleth\":[{\"colorbar\":{\"outlinewidth\":0,\"ticks\":\"\"},\"type\":\"choropleth\"}],\"contour\":[{\"colorbar\":{\"outlinewidth\":0,\"ticks\":\"\"},\"colorscale\":[[0.0,\"#0d0887\"],[0.1111111111111111,\"#46039f\"],[0.2222222222222222,\"#7201a8\"],[0.3333333333333333,\"#9c179e\"],[0.4444444444444444,\"#bd3786\"],[0.5555555555555556,\"#d8576b\"],[0.6666666666666666,\"#ed7953\"],[0.7777777777777778,\"#fb9f3a\"],[0.8888888888888888,\"#fdca26\"],[1.0,\"#f0f921\"]],\"type\":\"contour\"}],\"contourcarpet\":[{\"colorbar\":{\"outlinewidth\":0,\"ticks\":\"\"},\"type\":\"contourcarpet\"}],\"heatmap\":[{\"colorbar\":{\"outlinewidth\":0,\"ticks\":\"\"},\"colorscale\":[[0.0,\"#0d0887\"],[0.1111111111111111,\"#46039f\"],[0.2222222222222222,\"#7201a8\"],[0.3333333333333333,\"#9c179e\"],[0.4444444444444444,\"#bd3786\"],[0.5555555555555556,\"#d8576b\"],[0.6666666666666666,\"#ed7953\"],[0.7777777777777778,\"#fb9f3a\"],[0.8888888888888888,\"#fdca26\"],[1.0,\"#f0f921\"]],\"type\":\"heatmap\"}],\"heatmapgl\":[{\"colorbar\":{\"outlinewidth\":0,\"ticks\":\"\"},\"colorscale\":[[0.0,\"#0d0887\"],[0.1111111111111111,\"#46039f\"],[0.2222222222222222,\"#7201a8\"],[0.3333333333333333,\"#9c179e\"],[0.4444444444444444,\"#bd3786\"],[0.5555555555555556,\"#d8576b\"],[0.6666666666666666,\"#ed7953\"],[0.7777777777777778,\"#fb9f3a\"],[0.8888888888888888,\"#fdca26\"],[1.0,\"#f0f921\"]],\"type\":\"heatmapgl\"}],\"histogram\":[{\"marker\":{\"pattern\":{\"fillmode\":\"overlay\",\"size\":10,\"solidity\":0.2}},\"type\":\"histogram\"}],\"histogram2d\":[{\"colorbar\":{\"outlinewidth\":0,\"ticks\":\"\"},\"colorscale\":[[0.0,\"#0d0887\"],[0.1111111111111111,\"#46039f\"],[0.2222222222222222,\"#7201a8\"],[0.3333333333333333,\"#9c179e\"],[0.4444444444444444,\"#bd3786\"],[0.5555555555555556,\"#d8576b\"],[0.6666666666666666,\"#ed7953\"],[0.7777777777777778,\"#fb9f3a\"],[0.8888888888888888,\"#fdca26\"],[1.0,\"#f0f921\"]],\"type\":\"histogram2d\"}],\"histogram2dcontour\":[{\"colorbar\":{\"outlinewidth\":0,\"ticks\":\"\"},\"colorscale\":[[0.0,\"#0d0887\"],[0.1111111111111111,\"#46039f\"],[0.2222222222222222,\"#7201a8\"],[0.3333333333333333,\"#9c179e\"],[0.4444444444444444,\"#bd3786\"],[0.5555555555555556,\"#d8576b\"],[0.6666666666666666,\"#ed7953\"],[0.7777777777777778,\"#fb9f3a\"],[0.8888888888888888,\"#fdca26\"],[1.0,\"#f0f921\"]],\"type\":\"histogram2dcontour\"}],\"mesh3d\":[{\"colorbar\":{\"outlinewidth\":0,\"ticks\":\"\"},\"type\":\"mesh3d\"}],\"parcoords\":[{\"line\":{\"colorbar\":{\"outlinewidth\":0,\"ticks\":\"\"}},\"type\":\"parcoords\"}],\"pie\":[{\"automargin\":true,\"type\":\"pie\"}],\"scatter\":[{\"marker\":{\"colorbar\":{\"outlinewidth\":0,\"ticks\":\"\"}},\"type\":\"scatter\"}],\"scatter3d\":[{\"line\":{\"colorbar\":{\"outlinewidth\":0,\"ticks\":\"\"}},\"marker\":{\"colorbar\":{\"outlinewidth\":0,\"ticks\":\"\"}},\"type\":\"scatter3d\"}],\"scattercarpet\":[{\"marker\":{\"colorbar\":{\"outlinewidth\":0,\"ticks\":\"\"}},\"type\":\"scattercarpet\"}],\"scattergeo\":[{\"marker\":{\"colorbar\":{\"outlinewidth\":0,\"ticks\":\"\"}},\"type\":\"scattergeo\"}],\"scattergl\":[{\"marker\":{\"colorbar\":{\"outlinewidth\":0,\"ticks\":\"\"}},\"type\":\"scattergl\"}],\"scattermapbox\":[{\"marker\":{\"colorbar\":{\"outlinewidth\":0,\"ticks\":\"\"}},\"type\":\"scattermapbox\"}],\"scatterpolar\":[{\"marker\":{\"colorbar\":{\"outlinewidth\":0,\"ticks\":\"\"}},\"type\":\"scatterpolar\"}],\"scatterpolargl\":[{\"marker\":{\"colorbar\":{\"outlinewidth\":0,\"ticks\":\"\"}},\"type\":\"scatterpolargl\"}],\"scatterternary\":[{\"marker\":{\"colorbar\":{\"outlinewidth\":0,\"ticks\":\"\"}},\"type\":\"scatterternary\"}],\"surface\":[{\"colorbar\":{\"outlinewidth\":0,\"ticks\":\"\"},\"colorscale\":[[0.0,\"#0d0887\"],[0.1111111111111111,\"#46039f\"],[0.2222222222222222,\"#7201a8\"],[0.3333333333333333,\"#9c179e\"],[0.4444444444444444,\"#bd3786\"],[0.5555555555555556,\"#d8576b\"],[0.6666666666666666,\"#ed7953\"],[0.7777777777777778,\"#fb9f3a\"],[0.8888888888888888,\"#fdca26\"],[1.0,\"#f0f921\"]],\"type\":\"surface\"}],\"table\":[{\"cells\":{\"fill\":{\"color\":\"#EBF0F8\"},\"line\":{\"color\":\"white\"}},\"header\":{\"fill\":{\"color\":\"#C8D4E3\"},\"line\":{\"color\":\"white\"}},\"type\":\"table\"}]},\"layout\":{\"annotationdefaults\":{\"arrowcolor\":\"#2a3f5f\",\"arrowhead\":0,\"arrowwidth\":1},\"autotypenumbers\":\"strict\",\"coloraxis\":{\"colorbar\":{\"outlinewidth\":0,\"ticks\":\"\"}},\"colorscale\":{\"diverging\":[[0,\"#8e0152\"],[0.1,\"#c51b7d\"],[0.2,\"#de77ae\"],[0.3,\"#f1b6da\"],[0.4,\"#fde0ef\"],[0.5,\"#f7f7f7\"],[0.6,\"#e6f5d0\"],[0.7,\"#b8e186\"],[0.8,\"#7fbc41\"],[0.9,\"#4d9221\"],[1,\"#276419\"]],\"sequential\":[[0.0,\"#0d0887\"],[0.1111111111111111,\"#46039f\"],[0.2222222222222222,\"#7201a8\"],[0.3333333333333333,\"#9c179e\"],[0.4444444444444444,\"#bd3786\"],[0.5555555555555556,\"#d8576b\"],[0.6666666666666666,\"#ed7953\"],[0.7777777777777778,\"#fb9f3a\"],[0.8888888888888888,\"#fdca26\"],[1.0,\"#f0f921\"]],\"sequentialminus\":[[0.0,\"#0d0887\"],[0.1111111111111111,\"#46039f\"],[0.2222222222222222,\"#7201a8\"],[0.3333333333333333,\"#9c179e\"],[0.4444444444444444,\"#bd3786\"],[0.5555555555555556,\"#d8576b\"],[0.6666666666666666,\"#ed7953\"],[0.7777777777777778,\"#fb9f3a\"],[0.8888888888888888,\"#fdca26\"],[1.0,\"#f0f921\"]]},\"colorway\":[\"#636efa\",\"#EF553B\",\"#00cc96\",\"#ab63fa\",\"#FFA15A\",\"#19d3f3\",\"#FF6692\",\"#B6E880\",\"#FF97FF\",\"#FECB52\"],\"font\":{\"color\":\"#2a3f5f\"},\"geo\":{\"bgcolor\":\"white\",\"lakecolor\":\"white\",\"landcolor\":\"#E5ECF6\",\"showlakes\":true,\"showland\":true,\"subunitcolor\":\"white\"},\"hoverlabel\":{\"align\":\"left\"},\"hovermode\":\"closest\",\"mapbox\":{\"style\":\"light\"},\"paper_bgcolor\":\"white\",\"plot_bgcolor\":\"#E5ECF6\",\"polar\":{\"angularaxis\":{\"gridcolor\":\"white\",\"linecolor\":\"white\",\"ticks\":\"\"},\"bgcolor\":\"#E5ECF6\",\"radialaxis\":{\"gridcolor\":\"white\",\"linecolor\":\"white\",\"ticks\":\"\"}},\"scene\":{\"xaxis\":{\"backgroundcolor\":\"#E5ECF6\",\"gridcolor\":\"white\",\"gridwidth\":2,\"linecolor\":\"white\",\"showbackground\":true,\"ticks\":\"\",\"zerolinecolor\":\"white\"},\"yaxis\":{\"backgroundcolor\":\"#E5ECF6\",\"gridcolor\":\"white\",\"gridwidth\":2,\"linecolor\":\"white\",\"showbackground\":true,\"ticks\":\"\",\"zerolinecolor\":\"white\"},\"zaxis\":{\"backgroundcolor\":\"#E5ECF6\",\"gridcolor\":\"white\",\"gridwidth\":2,\"linecolor\":\"white\",\"showbackground\":true,\"ticks\":\"\",\"zerolinecolor\":\"white\"}},\"shapedefaults\":{\"line\":{\"color\":\"#2a3f5f\"}},\"ternary\":{\"aaxis\":{\"gridcolor\":\"white\",\"linecolor\":\"white\",\"ticks\":\"\"},\"baxis\":{\"gridcolor\":\"white\",\"linecolor\":\"white\",\"ticks\":\"\"},\"bgcolor\":\"#E5ECF6\",\"caxis\":{\"gridcolor\":\"white\",\"linecolor\":\"white\",\"ticks\":\"\"}},\"title\":{\"x\":0.05},\"xaxis\":{\"automargin\":true,\"gridcolor\":\"white\",\"linecolor\":\"white\",\"ticks\":\"\",\"title\":{\"standoff\":15},\"zerolinecolor\":\"white\",\"zerolinewidth\":2},\"yaxis\":{\"automargin\":true,\"gridcolor\":\"white\",\"linecolor\":\"white\",\"ticks\":\"\",\"title\":{\"standoff\":15},\"zerolinecolor\":\"white\",\"zerolinewidth\":2}}},\"title\":{\"text\":\"\\uac01\\uac01\\uc758 \\uae30\\uc220\\uc744 \\ub3c5\\ub9bd\\uc801\\uc73c\\ub85c \\ubcf4\\uc558\\uc744 \\ub54c \\uc2dc\\uac04\\uc5d0 \\ub530\\ub978 \\ud2b9\\ud5c8 \\uc218 (1M\\uc73c\\ub85c \\ubb36\\uc74c)\"}},                        {\"responsive\": true}                    ).then(function(){\n",
       "                            \n",
       "var gd = document.getElementById('478e31ae-096b-4685-b64f-9cff633d9065');\n",
       "var x = new MutationObserver(function (mutations, observer) {{\n",
       "        var display = window.getComputedStyle(gd).display;\n",
       "        if (!display || display === 'none') {{\n",
       "            console.log([gd, 'removed!']);\n",
       "            Plotly.purge(gd);\n",
       "            observer.disconnect();\n",
       "        }}\n",
       "}});\n",
       "\n",
       "// Listen for the removal of the full notebook cells\n",
       "var notebookContainer = gd.closest('#notebook-container');\n",
       "if (notebookContainer) {{\n",
       "    x.observe(notebookContainer, {childList: true});\n",
       "}}\n",
       "\n",
       "// Listen for the clearing of the current output cell\n",
       "var outputEl = gd.closest('.output');\n",
       "if (outputEl) {{\n",
       "    x.observe(outputEl, {childList: true});\n",
       "}}\n",
       "\n",
       "                        })                };                });            </script>        </div>"
      ]
     },
     "metadata": {},
     "output_type": "display_data"
    }
   ],
   "source": [
    "fig = go.Figure()\n",
    "\n",
    "\n",
    "df = df4_count_1.groupby( pd.Grouper(key = '등록일자2',freq = 'M')).count()[['제목']].copy()\n",
    "\n",
    "\n",
    "fig.add_trace(go.Scatter(x = df.index , y = df['제목'],mode = 'lines+markers', name = '전체_관련_특허_수'))\n",
    "\n",
    "fig.add_trace(go.Scatter(x = df_G06Q_30_2_count_1_groupby.index,y = df_G06Q_30_2_count_1_groupby['제목'] ,name = 'Only_G06Q_30'))\n",
    "fig.add_trace(go.Scatter(x = df_G06Q_30_2_count_1_groupby.index,y = df_G06Q_40_2_count_1_groupby['제목'] ,name = 'Only_G06Q_40'))\n",
    "fig.add_trace(go.Scatter(x = df_G06Q_30_2_count_1_groupby.index,y = df_G06N_20_2_count_1_groupby['제목'] ,name = 'Only_G06N_20'))\n",
    "fig.add_trace(go.Scatter(x = df_G06Q_30_2_count_1_groupby.index,y = df_H04L_65_2_count_1_groupby['제목'] ,name = 'Only_H04L_65'))\n",
    "fig.add_trace(go.Scatter(x = df_G06Q_30_2_count_1_groupby.index,y = df_G06Q_10_2_count_1_groupby['제목'] ,name = 'Only_G06Q_10'))\n",
    "\n",
    "fig.update_layout(title = '각각의 기술을 독립적으로 보았을 때 시간에 따른 특허 수 (1M으로 묶음)')\n",
    "\n",
    "\n",
    "\n",
    "# fig.write_html('Timing_independant.html')\n",
    "\n",
    "fig.show()"
   ]
  },
  {
   "cell_type": "code",
   "execution_count": 29,
   "metadata": {},
   "outputs": [],
   "source": [
    "df4_1 = df4[df4['cosing_simliarity']> df4['cosing_simliarity'].quantile(0.2)].copy()"
   ]
  },
  {
   "cell_type": "code",
   "execution_count": 30,
   "metadata": {},
   "outputs": [],
   "source": [
    "df5 = df4_1[df4_1['등록일자2'] < df4_1['등록일자2'].quantile(0.05)].copy()"
   ]
  },
  {
   "cell_type": "code",
   "execution_count": 31,
   "metadata": {},
   "outputs": [
    {
     "data": {
      "text/plain": [
       "Index(['제목', '출원인', '피인용 횟수', 'IPC', '출원번호(일자)', '최종권리자', '요약', '(51) Int. CL',\n",
       "       '(52) CPC', '(21) 출원번호/일자(국제)', '(71) 출원인', '번역문제출일자', '(11) 등록번호/일자',\n",
       "       '(65) 공개번호/일자', '(11) 공고번호/일자', '(86) 국제출원번호/일자', '(87) 국제공개번호/일자',\n",
       "       '(30) 우선권정보', '법적상태', '심사진행상태', '심판사항', '구분', '원출원번호/일자(국제)', '관련 출원번호',\n",
       "       '기술이전 희망', '심사청구여부/일자', '심사청구항수', '(21) 출원번호/일자', '원출원번호/일자',\n",
       "       'cosing_simliarity', '등록일자', '등록일자2'],\n",
       "      dtype='object')"
      ]
     },
     "execution_count": 31,
     "metadata": {},
     "output_type": "execute_result"
    }
   ],
   "source": [
    "df5.columns"
   ]
  },
  {
   "cell_type": "code",
   "execution_count": 32,
   "metadata": {},
   "outputs": [],
   "source": [
    "df005 = pd.DataFrame(df5['출원인'].value_counts()).head(10).copy()"
   ]
  },
  {
   "cell_type": "code",
   "execution_count": 33,
   "metadata": {},
   "outputs": [],
   "source": [
    "df100 = pd.DataFrame(df4_1['출원인'].value_counts()).head(10).copy()"
   ]
  },
  {
   "cell_type": "code",
   "execution_count": 34,
   "metadata": {},
   "outputs": [
    {
     "data": {
      "text/plain": [
       "array([44, 31, 30, 21, 21, 17, 16, 13, 13, 11], dtype=int64)"
      ]
     },
     "execution_count": 34,
     "metadata": {},
     "output_type": "execute_result"
    }
   ],
   "source": [
    "df005.values.ravel()"
   ]
  },
  {
   "cell_type": "code",
   "execution_count": null,
   "metadata": {},
   "outputs": [],
   "source": []
  },
  {
   "cell_type": "code",
   "execution_count": 35,
   "metadata": {
    "scrolled": false
   },
   "outputs": [
    {
     "data": {
      "application/vnd.plotly.v1+json": {
       "config": {
        "plotlyServerURL": "https://plot.ly"
       },
       "data": [
        {
         "name": "앞단(5%) 상위 TOP 10 기업",
         "offsetgroup": "1",
         "type": "bar",
         "x": [
          " 네이버 주식회사",
          " 쿠팡 주식회사",
          " 삼성전자주식회사",
          " 주식회사 비즈모델라인",
          " 엘지전자 주식회사",
          " 주식회사 케이티",
          " 주식회사 엘지유플러스",
          " 주식회사 카카오",
          " 에스케이플래닛 주식회사",
          " 엔에이치엔 주식회사"
         ],
         "y": [
          44,
          31,
          30,
          21,
          21,
          17,
          16,
          13,
          13,
          11
         ],
         "yaxis": "y"
        },
        {
         "name": "전체(100%) 상위 TOP 10 기업",
         "offsetgroup": "2",
         "type": "bar",
         "x": [
          " 삼성전자주식회사",
          " 쿠팡 주식회사",
          " 한국전자통신연구원",
          " 엘지전자 주식회사",
          " 에스케이플래닛 주식회사",
          " 네이버 주식회사",
          " 주식회사 케이티",
          " 한국과학기술원",
          " 주식회사 엘지유플러스",
          " 에스케이텔레콤 주식회사"
         ],
         "y": [
          522,
          422,
          276,
          218,
          215,
          210,
          179,
          167,
          134,
          113
         ],
         "yaxis": "y2"
        }
       ],
       "layout": {
        "height": 600,
        "template": {
         "data": {
          "bar": [
           {
            "error_x": {
             "color": "#f2f5fa"
            },
            "error_y": {
             "color": "#f2f5fa"
            },
            "marker": {
             "line": {
              "color": "rgb(17,17,17)",
              "width": 0.5
             },
             "pattern": {
              "fillmode": "overlay",
              "size": 10,
              "solidity": 0.2
             }
            },
            "type": "bar"
           }
          ],
          "barpolar": [
           {
            "marker": {
             "line": {
              "color": "rgb(17,17,17)",
              "width": 0.5
             },
             "pattern": {
              "fillmode": "overlay",
              "size": 10,
              "solidity": 0.2
             }
            },
            "type": "barpolar"
           }
          ],
          "carpet": [
           {
            "aaxis": {
             "endlinecolor": "#A2B1C6",
             "gridcolor": "#506784",
             "linecolor": "#506784",
             "minorgridcolor": "#506784",
             "startlinecolor": "#A2B1C6"
            },
            "baxis": {
             "endlinecolor": "#A2B1C6",
             "gridcolor": "#506784",
             "linecolor": "#506784",
             "minorgridcolor": "#506784",
             "startlinecolor": "#A2B1C6"
            },
            "type": "carpet"
           }
          ],
          "choropleth": [
           {
            "colorbar": {
             "outlinewidth": 0,
             "ticks": ""
            },
            "type": "choropleth"
           }
          ],
          "contour": [
           {
            "colorbar": {
             "outlinewidth": 0,
             "ticks": ""
            },
            "colorscale": [
             [
              0,
              "#0d0887"
             ],
             [
              0.1111111111111111,
              "#46039f"
             ],
             [
              0.2222222222222222,
              "#7201a8"
             ],
             [
              0.3333333333333333,
              "#9c179e"
             ],
             [
              0.4444444444444444,
              "#bd3786"
             ],
             [
              0.5555555555555556,
              "#d8576b"
             ],
             [
              0.6666666666666666,
              "#ed7953"
             ],
             [
              0.7777777777777778,
              "#fb9f3a"
             ],
             [
              0.8888888888888888,
              "#fdca26"
             ],
             [
              1,
              "#f0f921"
             ]
            ],
            "type": "contour"
           }
          ],
          "contourcarpet": [
           {
            "colorbar": {
             "outlinewidth": 0,
             "ticks": ""
            },
            "type": "contourcarpet"
           }
          ],
          "heatmap": [
           {
            "colorbar": {
             "outlinewidth": 0,
             "ticks": ""
            },
            "colorscale": [
             [
              0,
              "#0d0887"
             ],
             [
              0.1111111111111111,
              "#46039f"
             ],
             [
              0.2222222222222222,
              "#7201a8"
             ],
             [
              0.3333333333333333,
              "#9c179e"
             ],
             [
              0.4444444444444444,
              "#bd3786"
             ],
             [
              0.5555555555555556,
              "#d8576b"
             ],
             [
              0.6666666666666666,
              "#ed7953"
             ],
             [
              0.7777777777777778,
              "#fb9f3a"
             ],
             [
              0.8888888888888888,
              "#fdca26"
             ],
             [
              1,
              "#f0f921"
             ]
            ],
            "type": "heatmap"
           }
          ],
          "heatmapgl": [
           {
            "colorbar": {
             "outlinewidth": 0,
             "ticks": ""
            },
            "colorscale": [
             [
              0,
              "#0d0887"
             ],
             [
              0.1111111111111111,
              "#46039f"
             ],
             [
              0.2222222222222222,
              "#7201a8"
             ],
             [
              0.3333333333333333,
              "#9c179e"
             ],
             [
              0.4444444444444444,
              "#bd3786"
             ],
             [
              0.5555555555555556,
              "#d8576b"
             ],
             [
              0.6666666666666666,
              "#ed7953"
             ],
             [
              0.7777777777777778,
              "#fb9f3a"
             ],
             [
              0.8888888888888888,
              "#fdca26"
             ],
             [
              1,
              "#f0f921"
             ]
            ],
            "type": "heatmapgl"
           }
          ],
          "histogram": [
           {
            "marker": {
             "pattern": {
              "fillmode": "overlay",
              "size": 10,
              "solidity": 0.2
             }
            },
            "type": "histogram"
           }
          ],
          "histogram2d": [
           {
            "colorbar": {
             "outlinewidth": 0,
             "ticks": ""
            },
            "colorscale": [
             [
              0,
              "#0d0887"
             ],
             [
              0.1111111111111111,
              "#46039f"
             ],
             [
              0.2222222222222222,
              "#7201a8"
             ],
             [
              0.3333333333333333,
              "#9c179e"
             ],
             [
              0.4444444444444444,
              "#bd3786"
             ],
             [
              0.5555555555555556,
              "#d8576b"
             ],
             [
              0.6666666666666666,
              "#ed7953"
             ],
             [
              0.7777777777777778,
              "#fb9f3a"
             ],
             [
              0.8888888888888888,
              "#fdca26"
             ],
             [
              1,
              "#f0f921"
             ]
            ],
            "type": "histogram2d"
           }
          ],
          "histogram2dcontour": [
           {
            "colorbar": {
             "outlinewidth": 0,
             "ticks": ""
            },
            "colorscale": [
             [
              0,
              "#0d0887"
             ],
             [
              0.1111111111111111,
              "#46039f"
             ],
             [
              0.2222222222222222,
              "#7201a8"
             ],
             [
              0.3333333333333333,
              "#9c179e"
             ],
             [
              0.4444444444444444,
              "#bd3786"
             ],
             [
              0.5555555555555556,
              "#d8576b"
             ],
             [
              0.6666666666666666,
              "#ed7953"
             ],
             [
              0.7777777777777778,
              "#fb9f3a"
             ],
             [
              0.8888888888888888,
              "#fdca26"
             ],
             [
              1,
              "#f0f921"
             ]
            ],
            "type": "histogram2dcontour"
           }
          ],
          "mesh3d": [
           {
            "colorbar": {
             "outlinewidth": 0,
             "ticks": ""
            },
            "type": "mesh3d"
           }
          ],
          "parcoords": [
           {
            "line": {
             "colorbar": {
              "outlinewidth": 0,
              "ticks": ""
             }
            },
            "type": "parcoords"
           }
          ],
          "pie": [
           {
            "automargin": true,
            "type": "pie"
           }
          ],
          "scatter": [
           {
            "marker": {
             "line": {
              "color": "#283442"
             }
            },
            "type": "scatter"
           }
          ],
          "scatter3d": [
           {
            "line": {
             "colorbar": {
              "outlinewidth": 0,
              "ticks": ""
             }
            },
            "marker": {
             "colorbar": {
              "outlinewidth": 0,
              "ticks": ""
             }
            },
            "type": "scatter3d"
           }
          ],
          "scattercarpet": [
           {
            "marker": {
             "colorbar": {
              "outlinewidth": 0,
              "ticks": ""
             }
            },
            "type": "scattercarpet"
           }
          ],
          "scattergeo": [
           {
            "marker": {
             "colorbar": {
              "outlinewidth": 0,
              "ticks": ""
             }
            },
            "type": "scattergeo"
           }
          ],
          "scattergl": [
           {
            "marker": {
             "line": {
              "color": "#283442"
             }
            },
            "type": "scattergl"
           }
          ],
          "scattermapbox": [
           {
            "marker": {
             "colorbar": {
              "outlinewidth": 0,
              "ticks": ""
             }
            },
            "type": "scattermapbox"
           }
          ],
          "scatterpolar": [
           {
            "marker": {
             "colorbar": {
              "outlinewidth": 0,
              "ticks": ""
             }
            },
            "type": "scatterpolar"
           }
          ],
          "scatterpolargl": [
           {
            "marker": {
             "colorbar": {
              "outlinewidth": 0,
              "ticks": ""
             }
            },
            "type": "scatterpolargl"
           }
          ],
          "scatterternary": [
           {
            "marker": {
             "colorbar": {
              "outlinewidth": 0,
              "ticks": ""
             }
            },
            "type": "scatterternary"
           }
          ],
          "surface": [
           {
            "colorbar": {
             "outlinewidth": 0,
             "ticks": ""
            },
            "colorscale": [
             [
              0,
              "#0d0887"
             ],
             [
              0.1111111111111111,
              "#46039f"
             ],
             [
              0.2222222222222222,
              "#7201a8"
             ],
             [
              0.3333333333333333,
              "#9c179e"
             ],
             [
              0.4444444444444444,
              "#bd3786"
             ],
             [
              0.5555555555555556,
              "#d8576b"
             ],
             [
              0.6666666666666666,
              "#ed7953"
             ],
             [
              0.7777777777777778,
              "#fb9f3a"
             ],
             [
              0.8888888888888888,
              "#fdca26"
             ],
             [
              1,
              "#f0f921"
             ]
            ],
            "type": "surface"
           }
          ],
          "table": [
           {
            "cells": {
             "fill": {
              "color": "#506784"
             },
             "line": {
              "color": "rgb(17,17,17)"
             }
            },
            "header": {
             "fill": {
              "color": "#2a3f5f"
             },
             "line": {
              "color": "rgb(17,17,17)"
             }
            },
            "type": "table"
           }
          ]
         },
         "layout": {
          "annotationdefaults": {
           "arrowcolor": "#f2f5fa",
           "arrowhead": 0,
           "arrowwidth": 1
          },
          "autotypenumbers": "strict",
          "coloraxis": {
           "colorbar": {
            "outlinewidth": 0,
            "ticks": ""
           }
          },
          "colorscale": {
           "diverging": [
            [
             0,
             "#8e0152"
            ],
            [
             0.1,
             "#c51b7d"
            ],
            [
             0.2,
             "#de77ae"
            ],
            [
             0.3,
             "#f1b6da"
            ],
            [
             0.4,
             "#fde0ef"
            ],
            [
             0.5,
             "#f7f7f7"
            ],
            [
             0.6,
             "#e6f5d0"
            ],
            [
             0.7,
             "#b8e186"
            ],
            [
             0.8,
             "#7fbc41"
            ],
            [
             0.9,
             "#4d9221"
            ],
            [
             1,
             "#276419"
            ]
           ],
           "sequential": [
            [
             0,
             "#0d0887"
            ],
            [
             0.1111111111111111,
             "#46039f"
            ],
            [
             0.2222222222222222,
             "#7201a8"
            ],
            [
             0.3333333333333333,
             "#9c179e"
            ],
            [
             0.4444444444444444,
             "#bd3786"
            ],
            [
             0.5555555555555556,
             "#d8576b"
            ],
            [
             0.6666666666666666,
             "#ed7953"
            ],
            [
             0.7777777777777778,
             "#fb9f3a"
            ],
            [
             0.8888888888888888,
             "#fdca26"
            ],
            [
             1,
             "#f0f921"
            ]
           ],
           "sequentialminus": [
            [
             0,
             "#0d0887"
            ],
            [
             0.1111111111111111,
             "#46039f"
            ],
            [
             0.2222222222222222,
             "#7201a8"
            ],
            [
             0.3333333333333333,
             "#9c179e"
            ],
            [
             0.4444444444444444,
             "#bd3786"
            ],
            [
             0.5555555555555556,
             "#d8576b"
            ],
            [
             0.6666666666666666,
             "#ed7953"
            ],
            [
             0.7777777777777778,
             "#fb9f3a"
            ],
            [
             0.8888888888888888,
             "#fdca26"
            ],
            [
             1,
             "#f0f921"
            ]
           ]
          },
          "colorway": [
           "#636efa",
           "#EF553B",
           "#00cc96",
           "#ab63fa",
           "#FFA15A",
           "#19d3f3",
           "#FF6692",
           "#B6E880",
           "#FF97FF",
           "#FECB52"
          ],
          "font": {
           "color": "#f2f5fa"
          },
          "geo": {
           "bgcolor": "rgb(17,17,17)",
           "lakecolor": "rgb(17,17,17)",
           "landcolor": "rgb(17,17,17)",
           "showlakes": true,
           "showland": true,
           "subunitcolor": "#506784"
          },
          "hoverlabel": {
           "align": "left"
          },
          "hovermode": "closest",
          "mapbox": {
           "style": "dark"
          },
          "paper_bgcolor": "rgb(17,17,17)",
          "plot_bgcolor": "rgb(17,17,17)",
          "polar": {
           "angularaxis": {
            "gridcolor": "#506784",
            "linecolor": "#506784",
            "ticks": ""
           },
           "bgcolor": "rgb(17,17,17)",
           "radialaxis": {
            "gridcolor": "#506784",
            "linecolor": "#506784",
            "ticks": ""
           }
          },
          "scene": {
           "xaxis": {
            "backgroundcolor": "rgb(17,17,17)",
            "gridcolor": "#506784",
            "gridwidth": 2,
            "linecolor": "#506784",
            "showbackground": true,
            "ticks": "",
            "zerolinecolor": "#C8D4E3"
           },
           "yaxis": {
            "backgroundcolor": "rgb(17,17,17)",
            "gridcolor": "#506784",
            "gridwidth": 2,
            "linecolor": "#506784",
            "showbackground": true,
            "ticks": "",
            "zerolinecolor": "#C8D4E3"
           },
           "zaxis": {
            "backgroundcolor": "rgb(17,17,17)",
            "gridcolor": "#506784",
            "gridwidth": 2,
            "linecolor": "#506784",
            "showbackground": true,
            "ticks": "",
            "zerolinecolor": "#C8D4E3"
           }
          },
          "shapedefaults": {
           "line": {
            "color": "#f2f5fa"
           }
          },
          "sliderdefaults": {
           "bgcolor": "#C8D4E3",
           "bordercolor": "rgb(17,17,17)",
           "borderwidth": 1,
           "tickwidth": 0
          },
          "ternary": {
           "aaxis": {
            "gridcolor": "#506784",
            "linecolor": "#506784",
            "ticks": ""
           },
           "baxis": {
            "gridcolor": "#506784",
            "linecolor": "#506784",
            "ticks": ""
           },
           "bgcolor": "rgb(17,17,17)",
           "caxis": {
            "gridcolor": "#506784",
            "linecolor": "#506784",
            "ticks": ""
           }
          },
          "title": {
           "x": 0.05
          },
          "updatemenudefaults": {
           "bgcolor": "#506784",
           "borderwidth": 0
          },
          "xaxis": {
           "automargin": true,
           "gridcolor": "#283442",
           "linecolor": "#506784",
           "ticks": "",
           "title": {
            "standoff": 15
           },
           "zerolinecolor": "#283442",
           "zerolinewidth": 2
          },
          "yaxis": {
           "automargin": true,
           "gridcolor": "#283442",
           "linecolor": "#506784",
           "ticks": "",
           "title": {
            "standoff": 15
           },
           "zerolinecolor": "#283442",
           "zerolinewidth": 2
          }
         }
        },
        "title": {
         "text": "앞단/전체 특허 갯수 TOP 10 기업(Bar Graph)"
        },
        "width": 1200,
        "yaxis": {
         "title": {
          "text": "앞단(5%)"
         }
        },
        "yaxis2": {
         "overlaying": "y",
         "side": "right",
         "title": {
          "text": "전체(100%)"
         }
        }
       }
      },
      "text/html": [
       "<div>                            <div id=\"d07bf45c-b1d8-4eae-82a7-0c6411c3eb27\" class=\"plotly-graph-div\" style=\"height:600px; width:1200px;\"></div>            <script type=\"text/javascript\">                require([\"plotly\"], function(Plotly) {                    window.PLOTLYENV=window.PLOTLYENV || {};                                    if (document.getElementById(\"d07bf45c-b1d8-4eae-82a7-0c6411c3eb27\")) {                    Plotly.newPlot(                        \"d07bf45c-b1d8-4eae-82a7-0c6411c3eb27\",                        [{\"name\":\"\\uc55e\\ub2e8(5%) \\uc0c1\\uc704 TOP 10 \\uae30\\uc5c5\",\"offsetgroup\":\"1\",\"x\":[\" \\ub124\\uc774\\ubc84 \\uc8fc\\uc2dd\\ud68c\\uc0ac\",\" \\ucfe0\\ud321 \\uc8fc\\uc2dd\\ud68c\\uc0ac\",\" \\uc0bc\\uc131\\uc804\\uc790\\uc8fc\\uc2dd\\ud68c\\uc0ac\",\" \\uc8fc\\uc2dd\\ud68c\\uc0ac \\ube44\\uc988\\ubaa8\\ub378\\ub77c\\uc778\",\" \\uc5d8\\uc9c0\\uc804\\uc790 \\uc8fc\\uc2dd\\ud68c\\uc0ac\",\" \\uc8fc\\uc2dd\\ud68c\\uc0ac \\ucf00\\uc774\\ud2f0\",\" \\uc8fc\\uc2dd\\ud68c\\uc0ac \\uc5d8\\uc9c0\\uc720\\ud50c\\ub7ec\\uc2a4\",\" \\uc8fc\\uc2dd\\ud68c\\uc0ac \\uce74\\uce74\\uc624\",\" \\uc5d0\\uc2a4\\ucf00\\uc774\\ud50c\\ub798\\ub2db \\uc8fc\\uc2dd\\ud68c\\uc0ac\",\" \\uc5d4\\uc5d0\\uc774\\uce58\\uc5d4 \\uc8fc\\uc2dd\\ud68c\\uc0ac\"],\"y\":[44,31,30,21,21,17,16,13,13,11],\"yaxis\":\"y\",\"type\":\"bar\"},{\"name\":\"\\uc804\\uccb4(100%) \\uc0c1\\uc704 TOP 10 \\uae30\\uc5c5\",\"offsetgroup\":\"2\",\"x\":[\" \\uc0bc\\uc131\\uc804\\uc790\\uc8fc\\uc2dd\\ud68c\\uc0ac\",\" \\ucfe0\\ud321 \\uc8fc\\uc2dd\\ud68c\\uc0ac\",\" \\ud55c\\uad6d\\uc804\\uc790\\ud1b5\\uc2e0\\uc5f0\\uad6c\\uc6d0\",\" \\uc5d8\\uc9c0\\uc804\\uc790 \\uc8fc\\uc2dd\\ud68c\\uc0ac\",\" \\uc5d0\\uc2a4\\ucf00\\uc774\\ud50c\\ub798\\ub2db \\uc8fc\\uc2dd\\ud68c\\uc0ac\",\" \\ub124\\uc774\\ubc84 \\uc8fc\\uc2dd\\ud68c\\uc0ac\",\" \\uc8fc\\uc2dd\\ud68c\\uc0ac \\ucf00\\uc774\\ud2f0\",\" \\ud55c\\uad6d\\uacfc\\ud559\\uae30\\uc220\\uc6d0\",\" \\uc8fc\\uc2dd\\ud68c\\uc0ac \\uc5d8\\uc9c0\\uc720\\ud50c\\ub7ec\\uc2a4\",\" \\uc5d0\\uc2a4\\ucf00\\uc774\\ud154\\ub808\\ucf64 \\uc8fc\\uc2dd\\ud68c\\uc0ac\"],\"y\":[522,422,276,218,215,210,179,167,134,113],\"yaxis\":\"y2\",\"type\":\"bar\"}],                        {\"yaxis\":{\"title\":{\"text\":\"\\uc55e\\ub2e8(5%)\"}},\"yaxis2\":{\"overlaying\":\"y\",\"side\":\"right\",\"title\":{\"text\":\"\\uc804\\uccb4(100%)\"}},\"template\":{\"data\":{\"barpolar\":[{\"marker\":{\"line\":{\"color\":\"rgb(17,17,17)\",\"width\":0.5},\"pattern\":{\"fillmode\":\"overlay\",\"size\":10,\"solidity\":0.2}},\"type\":\"barpolar\"}],\"bar\":[{\"error_x\":{\"color\":\"#f2f5fa\"},\"error_y\":{\"color\":\"#f2f5fa\"},\"marker\":{\"line\":{\"color\":\"rgb(17,17,17)\",\"width\":0.5},\"pattern\":{\"fillmode\":\"overlay\",\"size\":10,\"solidity\":0.2}},\"type\":\"bar\"}],\"carpet\":[{\"aaxis\":{\"endlinecolor\":\"#A2B1C6\",\"gridcolor\":\"#506784\",\"linecolor\":\"#506784\",\"minorgridcolor\":\"#506784\",\"startlinecolor\":\"#A2B1C6\"},\"baxis\":{\"endlinecolor\":\"#A2B1C6\",\"gridcolor\":\"#506784\",\"linecolor\":\"#506784\",\"minorgridcolor\":\"#506784\",\"startlinecolor\":\"#A2B1C6\"},\"type\":\"carpet\"}],\"choropleth\":[{\"colorbar\":{\"outlinewidth\":0,\"ticks\":\"\"},\"type\":\"choropleth\"}],\"contourcarpet\":[{\"colorbar\":{\"outlinewidth\":0,\"ticks\":\"\"},\"type\":\"contourcarpet\"}],\"contour\":[{\"colorbar\":{\"outlinewidth\":0,\"ticks\":\"\"},\"colorscale\":[[0.0,\"#0d0887\"],[0.1111111111111111,\"#46039f\"],[0.2222222222222222,\"#7201a8\"],[0.3333333333333333,\"#9c179e\"],[0.4444444444444444,\"#bd3786\"],[0.5555555555555556,\"#d8576b\"],[0.6666666666666666,\"#ed7953\"],[0.7777777777777778,\"#fb9f3a\"],[0.8888888888888888,\"#fdca26\"],[1.0,\"#f0f921\"]],\"type\":\"contour\"}],\"heatmapgl\":[{\"colorbar\":{\"outlinewidth\":0,\"ticks\":\"\"},\"colorscale\":[[0.0,\"#0d0887\"],[0.1111111111111111,\"#46039f\"],[0.2222222222222222,\"#7201a8\"],[0.3333333333333333,\"#9c179e\"],[0.4444444444444444,\"#bd3786\"],[0.5555555555555556,\"#d8576b\"],[0.6666666666666666,\"#ed7953\"],[0.7777777777777778,\"#fb9f3a\"],[0.8888888888888888,\"#fdca26\"],[1.0,\"#f0f921\"]],\"type\":\"heatmapgl\"}],\"heatmap\":[{\"colorbar\":{\"outlinewidth\":0,\"ticks\":\"\"},\"colorscale\":[[0.0,\"#0d0887\"],[0.1111111111111111,\"#46039f\"],[0.2222222222222222,\"#7201a8\"],[0.3333333333333333,\"#9c179e\"],[0.4444444444444444,\"#bd3786\"],[0.5555555555555556,\"#d8576b\"],[0.6666666666666666,\"#ed7953\"],[0.7777777777777778,\"#fb9f3a\"],[0.8888888888888888,\"#fdca26\"],[1.0,\"#f0f921\"]],\"type\":\"heatmap\"}],\"histogram2dcontour\":[{\"colorbar\":{\"outlinewidth\":0,\"ticks\":\"\"},\"colorscale\":[[0.0,\"#0d0887\"],[0.1111111111111111,\"#46039f\"],[0.2222222222222222,\"#7201a8\"],[0.3333333333333333,\"#9c179e\"],[0.4444444444444444,\"#bd3786\"],[0.5555555555555556,\"#d8576b\"],[0.6666666666666666,\"#ed7953\"],[0.7777777777777778,\"#fb9f3a\"],[0.8888888888888888,\"#fdca26\"],[1.0,\"#f0f921\"]],\"type\":\"histogram2dcontour\"}],\"histogram2d\":[{\"colorbar\":{\"outlinewidth\":0,\"ticks\":\"\"},\"colorscale\":[[0.0,\"#0d0887\"],[0.1111111111111111,\"#46039f\"],[0.2222222222222222,\"#7201a8\"],[0.3333333333333333,\"#9c179e\"],[0.4444444444444444,\"#bd3786\"],[0.5555555555555556,\"#d8576b\"],[0.6666666666666666,\"#ed7953\"],[0.7777777777777778,\"#fb9f3a\"],[0.8888888888888888,\"#fdca26\"],[1.0,\"#f0f921\"]],\"type\":\"histogram2d\"}],\"histogram\":[{\"marker\":{\"pattern\":{\"fillmode\":\"overlay\",\"size\":10,\"solidity\":0.2}},\"type\":\"histogram\"}],\"mesh3d\":[{\"colorbar\":{\"outlinewidth\":0,\"ticks\":\"\"},\"type\":\"mesh3d\"}],\"parcoords\":[{\"line\":{\"colorbar\":{\"outlinewidth\":0,\"ticks\":\"\"}},\"type\":\"parcoords\"}],\"pie\":[{\"automargin\":true,\"type\":\"pie\"}],\"scatter3d\":[{\"line\":{\"colorbar\":{\"outlinewidth\":0,\"ticks\":\"\"}},\"marker\":{\"colorbar\":{\"outlinewidth\":0,\"ticks\":\"\"}},\"type\":\"scatter3d\"}],\"scattercarpet\":[{\"marker\":{\"colorbar\":{\"outlinewidth\":0,\"ticks\":\"\"}},\"type\":\"scattercarpet\"}],\"scattergeo\":[{\"marker\":{\"colorbar\":{\"outlinewidth\":0,\"ticks\":\"\"}},\"type\":\"scattergeo\"}],\"scattergl\":[{\"marker\":{\"line\":{\"color\":\"#283442\"}},\"type\":\"scattergl\"}],\"scattermapbox\":[{\"marker\":{\"colorbar\":{\"outlinewidth\":0,\"ticks\":\"\"}},\"type\":\"scattermapbox\"}],\"scatterpolargl\":[{\"marker\":{\"colorbar\":{\"outlinewidth\":0,\"ticks\":\"\"}},\"type\":\"scatterpolargl\"}],\"scatterpolar\":[{\"marker\":{\"colorbar\":{\"outlinewidth\":0,\"ticks\":\"\"}},\"type\":\"scatterpolar\"}],\"scatter\":[{\"marker\":{\"line\":{\"color\":\"#283442\"}},\"type\":\"scatter\"}],\"scatterternary\":[{\"marker\":{\"colorbar\":{\"outlinewidth\":0,\"ticks\":\"\"}},\"type\":\"scatterternary\"}],\"surface\":[{\"colorbar\":{\"outlinewidth\":0,\"ticks\":\"\"},\"colorscale\":[[0.0,\"#0d0887\"],[0.1111111111111111,\"#46039f\"],[0.2222222222222222,\"#7201a8\"],[0.3333333333333333,\"#9c179e\"],[0.4444444444444444,\"#bd3786\"],[0.5555555555555556,\"#d8576b\"],[0.6666666666666666,\"#ed7953\"],[0.7777777777777778,\"#fb9f3a\"],[0.8888888888888888,\"#fdca26\"],[1.0,\"#f0f921\"]],\"type\":\"surface\"}],\"table\":[{\"cells\":{\"fill\":{\"color\":\"#506784\"},\"line\":{\"color\":\"rgb(17,17,17)\"}},\"header\":{\"fill\":{\"color\":\"#2a3f5f\"},\"line\":{\"color\":\"rgb(17,17,17)\"}},\"type\":\"table\"}]},\"layout\":{\"annotationdefaults\":{\"arrowcolor\":\"#f2f5fa\",\"arrowhead\":0,\"arrowwidth\":1},\"autotypenumbers\":\"strict\",\"coloraxis\":{\"colorbar\":{\"outlinewidth\":0,\"ticks\":\"\"}},\"colorscale\":{\"diverging\":[[0,\"#8e0152\"],[0.1,\"#c51b7d\"],[0.2,\"#de77ae\"],[0.3,\"#f1b6da\"],[0.4,\"#fde0ef\"],[0.5,\"#f7f7f7\"],[0.6,\"#e6f5d0\"],[0.7,\"#b8e186\"],[0.8,\"#7fbc41\"],[0.9,\"#4d9221\"],[1,\"#276419\"]],\"sequential\":[[0.0,\"#0d0887\"],[0.1111111111111111,\"#46039f\"],[0.2222222222222222,\"#7201a8\"],[0.3333333333333333,\"#9c179e\"],[0.4444444444444444,\"#bd3786\"],[0.5555555555555556,\"#d8576b\"],[0.6666666666666666,\"#ed7953\"],[0.7777777777777778,\"#fb9f3a\"],[0.8888888888888888,\"#fdca26\"],[1.0,\"#f0f921\"]],\"sequentialminus\":[[0.0,\"#0d0887\"],[0.1111111111111111,\"#46039f\"],[0.2222222222222222,\"#7201a8\"],[0.3333333333333333,\"#9c179e\"],[0.4444444444444444,\"#bd3786\"],[0.5555555555555556,\"#d8576b\"],[0.6666666666666666,\"#ed7953\"],[0.7777777777777778,\"#fb9f3a\"],[0.8888888888888888,\"#fdca26\"],[1.0,\"#f0f921\"]]},\"colorway\":[\"#636efa\",\"#EF553B\",\"#00cc96\",\"#ab63fa\",\"#FFA15A\",\"#19d3f3\",\"#FF6692\",\"#B6E880\",\"#FF97FF\",\"#FECB52\"],\"font\":{\"color\":\"#f2f5fa\"},\"geo\":{\"bgcolor\":\"rgb(17,17,17)\",\"lakecolor\":\"rgb(17,17,17)\",\"landcolor\":\"rgb(17,17,17)\",\"showlakes\":true,\"showland\":true,\"subunitcolor\":\"#506784\"},\"hoverlabel\":{\"align\":\"left\"},\"hovermode\":\"closest\",\"mapbox\":{\"style\":\"dark\"},\"paper_bgcolor\":\"rgb(17,17,17)\",\"plot_bgcolor\":\"rgb(17,17,17)\",\"polar\":{\"angularaxis\":{\"gridcolor\":\"#506784\",\"linecolor\":\"#506784\",\"ticks\":\"\"},\"bgcolor\":\"rgb(17,17,17)\",\"radialaxis\":{\"gridcolor\":\"#506784\",\"linecolor\":\"#506784\",\"ticks\":\"\"}},\"scene\":{\"xaxis\":{\"backgroundcolor\":\"rgb(17,17,17)\",\"gridcolor\":\"#506784\",\"gridwidth\":2,\"linecolor\":\"#506784\",\"showbackground\":true,\"ticks\":\"\",\"zerolinecolor\":\"#C8D4E3\"},\"yaxis\":{\"backgroundcolor\":\"rgb(17,17,17)\",\"gridcolor\":\"#506784\",\"gridwidth\":2,\"linecolor\":\"#506784\",\"showbackground\":true,\"ticks\":\"\",\"zerolinecolor\":\"#C8D4E3\"},\"zaxis\":{\"backgroundcolor\":\"rgb(17,17,17)\",\"gridcolor\":\"#506784\",\"gridwidth\":2,\"linecolor\":\"#506784\",\"showbackground\":true,\"ticks\":\"\",\"zerolinecolor\":\"#C8D4E3\"}},\"shapedefaults\":{\"line\":{\"color\":\"#f2f5fa\"}},\"sliderdefaults\":{\"bgcolor\":\"#C8D4E3\",\"bordercolor\":\"rgb(17,17,17)\",\"borderwidth\":1,\"tickwidth\":0},\"ternary\":{\"aaxis\":{\"gridcolor\":\"#506784\",\"linecolor\":\"#506784\",\"ticks\":\"\"},\"baxis\":{\"gridcolor\":\"#506784\",\"linecolor\":\"#506784\",\"ticks\":\"\"},\"bgcolor\":\"rgb(17,17,17)\",\"caxis\":{\"gridcolor\":\"#506784\",\"linecolor\":\"#506784\",\"ticks\":\"\"}},\"title\":{\"x\":0.05},\"updatemenudefaults\":{\"bgcolor\":\"#506784\",\"borderwidth\":0},\"xaxis\":{\"automargin\":true,\"gridcolor\":\"#283442\",\"linecolor\":\"#506784\",\"ticks\":\"\",\"title\":{\"standoff\":15},\"zerolinecolor\":\"#283442\",\"zerolinewidth\":2},\"yaxis\":{\"automargin\":true,\"gridcolor\":\"#283442\",\"linecolor\":\"#506784\",\"ticks\":\"\",\"title\":{\"standoff\":15},\"zerolinecolor\":\"#283442\",\"zerolinewidth\":2}}},\"width\":1200,\"height\":600,\"title\":{\"text\":\"\\uc55e\\ub2e8/\\uc804\\uccb4 \\ud2b9\\ud5c8 \\uac2f\\uc218 TOP 10 \\uae30\\uc5c5(Bar Graph)\"}},                        {\"responsive\": true}                    ).then(function(){\n",
       "                            \n",
       "var gd = document.getElementById('d07bf45c-b1d8-4eae-82a7-0c6411c3eb27');\n",
       "var x = new MutationObserver(function (mutations, observer) {{\n",
       "        var display = window.getComputedStyle(gd).display;\n",
       "        if (!display || display === 'none') {{\n",
       "            console.log([gd, 'removed!']);\n",
       "            Plotly.purge(gd);\n",
       "            observer.disconnect();\n",
       "        }}\n",
       "}});\n",
       "\n",
       "// Listen for the removal of the full notebook cells\n",
       "var notebookContainer = gd.closest('#notebook-container');\n",
       "if (notebookContainer) {{\n",
       "    x.observe(notebookContainer, {childList: true});\n",
       "}}\n",
       "\n",
       "// Listen for the clearing of the current output cell\n",
       "var outputEl = gd.closest('.output');\n",
       "if (outputEl) {{\n",
       "    x.observe(outputEl, {childList: true});\n",
       "}}\n",
       "\n",
       "                        })                };                });            </script>        </div>"
      ]
     },
     "metadata": {},
     "output_type": "display_data"
    }
   ],
   "source": [
    "\n",
    "\n",
    "fig = go.Figure(\n",
    "    data=[\n",
    "        go.Bar( x = df005.index, y = df005.values.ravel() , name = '앞단(5%) 상위 TOP 10 기업',\n",
    "               yaxis='y', offsetgroup=1),\n",
    "        go.Bar( x = df100.index, y = df100.values.ravel() , name = '전체(100%) 상위 TOP 10 기업',\n",
    "               yaxis='y2', offsetgroup=2)\n",
    "    ],\n",
    "    layout={\n",
    "        'yaxis': {'title': '앞단(5%)'},\n",
    "        'yaxis2': {'title': '전체(100%)', 'overlaying': 'y', 'side': 'right'}\n",
    "    }\n",
    ")\n",
    "\n",
    "\n",
    "fig.update_layout(    width=1200,\n",
    "    height=600,\n",
    "                 template = 'plotly_dark',\n",
    "                 title = '앞단/전체 특허 갯수 TOP 10 기업(Bar Graph)')\n",
    "\n",
    "# fig.write_html('Top10patent.html')\n",
    "fig.show()"
   ]
  },
  {
   "cell_type": "code",
   "execution_count": 36,
   "metadata": {},
   "outputs": [
    {
     "data": {
      "text/html": [
       "<div>\n",
       "<style scoped>\n",
       "    .dataframe tbody tr th:only-of-type {\n",
       "        vertical-align: middle;\n",
       "    }\n",
       "\n",
       "    .dataframe tbody tr th {\n",
       "        vertical-align: top;\n",
       "    }\n",
       "\n",
       "    .dataframe thead th {\n",
       "        text-align: right;\n",
       "    }\n",
       "</style>\n",
       "<table border=\"1\" class=\"dataframe\">\n",
       "  <thead>\n",
       "    <tr style=\"text-align: right;\">\n",
       "      <th></th>\n",
       "      <th>제목</th>\n",
       "      <th>출원인</th>\n",
       "      <th>피인용 횟수</th>\n",
       "      <th>IPC</th>\n",
       "      <th>출원번호(일자)</th>\n",
       "      <th>최종권리자</th>\n",
       "      <th>요약</th>\n",
       "      <th>(51) Int. CL</th>\n",
       "      <th>(52) CPC</th>\n",
       "      <th>(21) 출원번호/일자(국제)</th>\n",
       "      <th>...</th>\n",
       "      <th>원출원번호/일자(국제)</th>\n",
       "      <th>관련 출원번호</th>\n",
       "      <th>기술이전 희망</th>\n",
       "      <th>심사청구여부/일자</th>\n",
       "      <th>심사청구항수</th>\n",
       "      <th>(21) 출원번호/일자</th>\n",
       "      <th>원출원번호/일자</th>\n",
       "      <th>cosing_simliarity</th>\n",
       "      <th>등록일자</th>\n",
       "      <th>등록일자2</th>\n",
       "    </tr>\n",
       "  </thead>\n",
       "  <tbody>\n",
       "    <tr>\n",
       "      <th>147</th>\n",
       "      <td>관심 지점에 관련된 정보를 사용자에게 제공하기 위한 방법 및 시스템(METHOD A...</td>\n",
       "      <td>네이버 주식회사</td>\n",
       "      <td>1.0</td>\n",
       "      <td>['G06F 16/387', 'G06F 16/36', 'G06F 16/34', 'G...</td>\n",
       "      <td>1020210011858 (2021.01.27)</td>\n",
       "      <td>네이버 주식회사</td>\n",
       "      <td>관심 지점에 관련된 정보를 사용자에게 제공하기 위한 방법들 및 시스템들에서, 쿼리가...</td>\n",
       "      <td>['G06F16/387(2019.01.01)', 'G06F16/36(2019.01....</td>\n",
       "      <td>['G06F16/387(2013.01)', 'G06F16/36(2013.01)', ...</td>\n",
       "      <td>NaN</td>\n",
       "      <td>...</td>\n",
       "      <td>NaN</td>\n",
       "      <td>['\\xa0']</td>\n",
       "      <td>NaN</td>\n",
       "      <td>Y(2021.01.27)</td>\n",
       "      <td>16.0</td>\n",
       "      <td>1020210011858 (2021.01.27)</td>\n",
       "      <td>NaN</td>\n",
       "      <td>0.824216</td>\n",
       "      <td>2022.11.08</td>\n",
       "      <td>2022-11-08</td>\n",
       "    </tr>\n",
       "    <tr>\n",
       "      <th>810</th>\n",
       "      <td>주문 중개 방법 및 시스템, 주문 중개 시스템을 이용한 주문 접수 방법(ORDER ...</td>\n",
       "      <td>네이버 주식회사</td>\n",
       "      <td>0.0</td>\n",
       "      <td>['G06Q 30/06', 'G06K 7/10', 'G06Q 50/12']</td>\n",
       "      <td>1020200068467 (2020.06.05)</td>\n",
       "      <td>네이버 주식회사</td>\n",
       "      <td>본 발명은 주문 중개 방법 및 시스템 그리고 주문 중개 시스템을 이용한 주문 방법에...</td>\n",
       "      <td>['G06Q30/06(2012.01.01)', 'G06K7/10(2006.01.01...</td>\n",
       "      <td>['G06Q30/0633(2013.01)', 'G06Q30/0641(2013.01)...</td>\n",
       "      <td>NaN</td>\n",
       "      <td>...</td>\n",
       "      <td>NaN</td>\n",
       "      <td>['1020220132208\\xa0']</td>\n",
       "      <td>NaN</td>\n",
       "      <td>Y(2020.06.05)</td>\n",
       "      <td>11.0</td>\n",
       "      <td>1020200068467 (2020.06.05)</td>\n",
       "      <td>NaN</td>\n",
       "      <td>0.824167</td>\n",
       "      <td>2022.10.14</td>\n",
       "      <td>2022-10-14</td>\n",
       "    </tr>\n",
       "    <tr>\n",
       "      <th>1404</th>\n",
       "      <td>범용적인 감정 분석 서비스를 위한 방법 및 장치(METHOD AND APPARATU...</td>\n",
       "      <td>네이버 주식회사</td>\n",
       "      <td>0.0</td>\n",
       "      <td>['G06F 40/30', 'G06N 20/20']</td>\n",
       "      <td>1020200156482 (2020.11.20)</td>\n",
       "      <td>네이버 주식회사</td>\n",
       "      <td>범용적인 감정 분석 서비스를 위한 방법 및 장치가 개시된다. 감정 분석 방법은, 데...</td>\n",
       "      <td>['G06F40/30(2020.01.01)', 'G06N20/20(2019.01.0...</td>\n",
       "      <td>['G06F40/30(2013.01)', 'G06N20/20(2013.01)']</td>\n",
       "      <td>NaN</td>\n",
       "      <td>...</td>\n",
       "      <td>NaN</td>\n",
       "      <td>['\\xa0']</td>\n",
       "      <td>NaN</td>\n",
       "      <td>Y(2020.11.20)</td>\n",
       "      <td>15.0</td>\n",
       "      <td>1020200156482 (2020.11.20)</td>\n",
       "      <td>NaN</td>\n",
       "      <td>0.847037</td>\n",
       "      <td>2022.09.05</td>\n",
       "      <td>2022-09-05</td>\n",
       "    </tr>\n",
       "    <tr>\n",
       "      <th>1426</th>\n",
       "      <td>급상승 검색어에 대한 정보 제공 방법 및 시스템(METHOD AND SYSTEM F...</td>\n",
       "      <td>네이버 주식회사</td>\n",
       "      <td>0.0</td>\n",
       "      <td>['G06F 17/18', 'G06F 16/332', 'G06F 16/335', '...</td>\n",
       "      <td>1020200100175 (2020.08.10)</td>\n",
       "      <td>네이버 주식회사</td>\n",
       "      <td>본 개시는 급상승 검색어에 대한 정보 제공 방법에 관한 것이다. 급상승 검색어에 대...</td>\n",
       "      <td>['G06F17/18(2006.01.01)', 'G06F16/332(2019.01....</td>\n",
       "      <td>['G06F17/18(2013.01)', 'G06F16/3328(2013.01)',...</td>\n",
       "      <td>NaN</td>\n",
       "      <td>...</td>\n",
       "      <td>NaN</td>\n",
       "      <td>['\\xa0']</td>\n",
       "      <td>NaN</td>\n",
       "      <td>Y(2020.08.10)</td>\n",
       "      <td>18.0</td>\n",
       "      <td>1020200100175 (2020.08.10)</td>\n",
       "      <td>NaN</td>\n",
       "      <td>0.830157</td>\n",
       "      <td>2022.09.05</td>\n",
       "      <td>2022-09-05</td>\n",
       "    </tr>\n",
       "    <tr>\n",
       "      <th>1501</th>\n",
       "      <td>위치 기반의 로컬 검색어 제공 방법 및 시스템(METHOD AND SYSTEM FO...</td>\n",
       "      <td>네이버 주식회사</td>\n",
       "      <td>1.0</td>\n",
       "      <td>['G06Q 50/10', 'G06F 16/9032', 'G06F 16/909', ...</td>\n",
       "      <td>1020200111253 (2020.09.01)</td>\n",
       "      <td>네이버 주식회사</td>\n",
       "      <td>본 개시는 위치 기반의 로컬 검색어 제공 방법에 관한 것이다. 위치 기반의 로컬 검...</td>\n",
       "      <td>['G06Q50/10(2012.01.01)', 'G06F16/9032(2019.01...</td>\n",
       "      <td>['G06Q50/10(2013.01)', 'G06F16/90328(2013.01)'...</td>\n",
       "      <td>NaN</td>\n",
       "      <td>...</td>\n",
       "      <td>NaN</td>\n",
       "      <td>['\\xa0']</td>\n",
       "      <td>NaN</td>\n",
       "      <td>Y(2020.09.01)</td>\n",
       "      <td>20.0</td>\n",
       "      <td>1020200111253 (2020.09.01)</td>\n",
       "      <td>NaN</td>\n",
       "      <td>0.857058</td>\n",
       "      <td>2022.05.31</td>\n",
       "      <td>2022-05-31</td>\n",
       "    </tr>\n",
       "    <tr>\n",
       "      <th>...</th>\n",
       "      <td>...</td>\n",
       "      <td>...</td>\n",
       "      <td>...</td>\n",
       "      <td>...</td>\n",
       "      <td>...</td>\n",
       "      <td>...</td>\n",
       "      <td>...</td>\n",
       "      <td>...</td>\n",
       "      <td>...</td>\n",
       "      <td>...</td>\n",
       "      <td>...</td>\n",
       "      <td>...</td>\n",
       "      <td>...</td>\n",
       "      <td>...</td>\n",
       "      <td>...</td>\n",
       "      <td>...</td>\n",
       "      <td>...</td>\n",
       "      <td>...</td>\n",
       "      <td>...</td>\n",
       "      <td>...</td>\n",
       "      <td>...</td>\n",
       "    </tr>\n",
       "    <tr>\n",
       "      <th>24209</th>\n",
       "      <td>키워드 관계 구조 기반의 질의 분석을 이용한 복합키워드 동의어 추출 방법 및 시스템...</td>\n",
       "      <td>네이버 주식회사</td>\n",
       "      <td>0.0</td>\n",
       "      <td>['G06F 16/953', 'G06F 16/901', 'G06F 40/20', '...</td>\n",
       "      <td>1020190058239 (2019.05.17)</td>\n",
       "      <td>네이버 주식회사</td>\n",
       "      <td>키워드 관계 구조 기반의 질의 분석을 이용한 복합키워드 동의어 추출 방법 및 시스템...</td>\n",
       "      <td>['G06F16/953(2019.01.01)', 'G06F16/901(2019.01...</td>\n",
       "      <td>['G06F16/953(2013.01)', 'G06F16/9024(2013.01)'...</td>\n",
       "      <td>NaN</td>\n",
       "      <td>...</td>\n",
       "      <td>NaN</td>\n",
       "      <td>['\\xa0']</td>\n",
       "      <td>NaN</td>\n",
       "      <td>Y(2019.05.17)</td>\n",
       "      <td>18.0</td>\n",
       "      <td>1020190058239 (2019.05.17)</td>\n",
       "      <td>NaN</td>\n",
       "      <td>0.825545</td>\n",
       "      <td>2021.04.08</td>\n",
       "      <td>2021-04-08</td>\n",
       "    </tr>\n",
       "    <tr>\n",
       "      <th>24211</th>\n",
       "      <td>광고 시너지 효과 분석 방법 및 시스템(METHOD AND SYSTEM FOR AN...</td>\n",
       "      <td>네이버 주식회사</td>\n",
       "      <td>0.0</td>\n",
       "      <td>['G06Q 30/02', 'G06Q 10/06']</td>\n",
       "      <td>1020190111710 (2019.09.09)</td>\n",
       "      <td>네이버 주식회사</td>\n",
       "      <td>광고 시너지 효과 분석 방법 및 시스템을 개시한다. 일실시예에 따른 분석 방법은 대...</td>\n",
       "      <td>['G06Q30/02(2012.01.01)', 'G06Q10/06(2012.01.0...</td>\n",
       "      <td>['G06Q30/0242(2013.01)', 'G06Q10/0637(2013.01)']</td>\n",
       "      <td>NaN</td>\n",
       "      <td>...</td>\n",
       "      <td>NaN</td>\n",
       "      <td>['1020210189495\\xa0']</td>\n",
       "      <td>NaN</td>\n",
       "      <td>Y(2019.09.09)</td>\n",
       "      <td>12.0</td>\n",
       "      <td>1020190111710 (2019.09.09)</td>\n",
       "      <td>NaN</td>\n",
       "      <td>0.869078</td>\n",
       "      <td>2021.12.28</td>\n",
       "      <td>2021-12-28</td>\n",
       "    </tr>\n",
       "    <tr>\n",
       "      <th>24212</th>\n",
       "      <td>활동 데이터 분석을 통해 비정상 사용자 그룹을 탐지하는 방법 및 시스템(METHOD...</td>\n",
       "      <td>네이버 주식회사</td>\n",
       "      <td>0.0</td>\n",
       "      <td>['G06Q 20/40', 'G06Q 30/06']</td>\n",
       "      <td>1020180105710 (2018.09.05)</td>\n",
       "      <td>네이버 주식회사</td>\n",
       "      <td>활동 데이터 분석을 통해 비정상 사용자 그룹을 탐지하는 방법 및 시스템이 개시된다....</td>\n",
       "      <td>['G06Q20/40(2012.01.01)', 'G06Q30/06(2012.01.0...</td>\n",
       "      <td>['G06Q20/4016(2013.01)', 'G06Q30/0609(2013.01)']</td>\n",
       "      <td>NaN</td>\n",
       "      <td>...</td>\n",
       "      <td>NaN</td>\n",
       "      <td>['\\xa0']</td>\n",
       "      <td>NaN</td>\n",
       "      <td>Y(2018.09.05)</td>\n",
       "      <td>19.0</td>\n",
       "      <td>1020180105710 (2018.09.05)</td>\n",
       "      <td>NaN</td>\n",
       "      <td>0.805007</td>\n",
       "      <td>2021.01.22</td>\n",
       "      <td>2021-01-22</td>\n",
       "    </tr>\n",
       "    <tr>\n",
       "      <th>24214</th>\n",
       "      <td>관심지점 리스트에 대한 구독과 리뷰 정보에 기초하여 보상을 제공하는 방법 및 시스템...</td>\n",
       "      <td>네이버 주식회사</td>\n",
       "      <td>0.0</td>\n",
       "      <td>['G06Q 30/02', 'H04W 4/02']</td>\n",
       "      <td>1020180096193 (2018.08.17)</td>\n",
       "      <td>네이버 주식회사</td>\n",
       "      <td>관심지점 리스트에 대한 구독과 리뷰 정보에 기초하여 보상을 제공하는 방법 및 시스템...</td>\n",
       "      <td>['G06Q30/02(2012.01.01)', 'H04W4/02(2018.01.01)']</td>\n",
       "      <td>['G06Q30/0207(2013.01)', 'H04W4/02(2018.02)']</td>\n",
       "      <td>NaN</td>\n",
       "      <td>...</td>\n",
       "      <td>NaN</td>\n",
       "      <td>['1020200051718\\xa0']</td>\n",
       "      <td>NaN</td>\n",
       "      <td>Y(2018.08.17)</td>\n",
       "      <td>15.0</td>\n",
       "      <td>1020180096193 (2018.08.17)</td>\n",
       "      <td>NaN</td>\n",
       "      <td>0.817419</td>\n",
       "      <td>2020.12.24</td>\n",
       "      <td>2020-12-24</td>\n",
       "    </tr>\n",
       "    <tr>\n",
       "      <th>24221</th>\n",
       "      <td>대량 알림 발송 방법 및 시스템(METHOD AND SYSTEM FOR SENDIN...</td>\n",
       "      <td>네이버 주식회사</td>\n",
       "      <td>0.0</td>\n",
       "      <td>['H04L 51/00', 'H04L 65/40', 'G06F 16/215', 'G...</td>\n",
       "      <td>1020190128401 (2019.10.16)</td>\n",
       "      <td>주식회사 위버스컴퍼니</td>\n",
       "      <td>대량 알림 발송 방법 및 시스템을 개시한다. 일실시예에 따른 대량 알림 발송 방법은...</td>\n",
       "      <td>['H04L51/00(2022.01.01)', 'H04L65/40(2022.01.0...</td>\n",
       "      <td>['H04L51/224(2013.01)', 'H04L67/55(2013.01)', ...</td>\n",
       "      <td>NaN</td>\n",
       "      <td>...</td>\n",
       "      <td>NaN</td>\n",
       "      <td>['\\xa0']</td>\n",
       "      <td>NaN</td>\n",
       "      <td>Y(2019.10.16)</td>\n",
       "      <td>20.0</td>\n",
       "      <td>1020190128401 (2019.10.16)</td>\n",
       "      <td>NaN</td>\n",
       "      <td>0.853249</td>\n",
       "      <td>2021.01.26</td>\n",
       "      <td>2021-01-26</td>\n",
       "    </tr>\n",
       "  </tbody>\n",
       "</table>\n",
       "<p>210 rows × 32 columns</p>\n",
       "</div>"
      ],
      "text/plain": [
       "                                                      제목        출원인  피인용 횟수  \\\n",
       "147    관심 지점에 관련된 정보를 사용자에게 제공하기 위한 방법 및 시스템(METHOD A...   네이버 주식회사     1.0   \n",
       "810    주문 중개 방법 및 시스템, 주문 중개 시스템을 이용한 주문 접수 방법(ORDER ...   네이버 주식회사     0.0   \n",
       "1404   범용적인 감정 분석 서비스를 위한 방법 및 장치(METHOD AND APPARATU...   네이버 주식회사     0.0   \n",
       "1426   급상승 검색어에 대한 정보 제공 방법 및 시스템(METHOD AND SYSTEM F...   네이버 주식회사     0.0   \n",
       "1501   위치 기반의 로컬 검색어 제공 방법 및 시스템(METHOD AND SYSTEM FO...   네이버 주식회사     1.0   \n",
       "...                                                  ...        ...     ...   \n",
       "24209  키워드 관계 구조 기반의 질의 분석을 이용한 복합키워드 동의어 추출 방법 및 시스템...   네이버 주식회사     0.0   \n",
       "24211  광고 시너지 효과 분석 방법 및 시스템(METHOD AND SYSTEM FOR AN...   네이버 주식회사     0.0   \n",
       "24212  활동 데이터 분석을 통해 비정상 사용자 그룹을 탐지하는 방법 및 시스템(METHOD...   네이버 주식회사     0.0   \n",
       "24214  관심지점 리스트에 대한 구독과 리뷰 정보에 기초하여 보상을 제공하는 방법 및 시스템...   네이버 주식회사     0.0   \n",
       "24221  대량 알림 발송 방법 및 시스템(METHOD AND SYSTEM FOR SENDIN...   네이버 주식회사     0.0   \n",
       "\n",
       "                                                     IPC  \\\n",
       "147    ['G06F 16/387', 'G06F 16/36', 'G06F 16/34', 'G...   \n",
       "810            ['G06Q 30/06', 'G06K 7/10', 'G06Q 50/12']   \n",
       "1404                        ['G06F 40/30', 'G06N 20/20']   \n",
       "1426   ['G06F 17/18', 'G06F 16/332', 'G06F 16/335', '...   \n",
       "1501   ['G06Q 50/10', 'G06F 16/9032', 'G06F 16/909', ...   \n",
       "...                                                  ...   \n",
       "24209  ['G06F 16/953', 'G06F 16/901', 'G06F 40/20', '...   \n",
       "24211                       ['G06Q 30/02', 'G06Q 10/06']   \n",
       "24212                       ['G06Q 20/40', 'G06Q 30/06']   \n",
       "24214                        ['G06Q 30/02', 'H04W 4/02']   \n",
       "24221  ['H04L 51/00', 'H04L 65/40', 'G06F 16/215', 'G...   \n",
       "\n",
       "                         출원번호(일자)         최종권리자  \\\n",
       "147    1020210011858 (2021.01.27)      네이버 주식회사   \n",
       "810    1020200068467 (2020.06.05)      네이버 주식회사   \n",
       "1404   1020200156482 (2020.11.20)      네이버 주식회사   \n",
       "1426   1020200100175 (2020.08.10)      네이버 주식회사   \n",
       "1501   1020200111253 (2020.09.01)      네이버 주식회사   \n",
       "...                           ...           ...   \n",
       "24209  1020190058239 (2019.05.17)      네이버 주식회사   \n",
       "24211  1020190111710 (2019.09.09)      네이버 주식회사   \n",
       "24212  1020180105710 (2018.09.05)      네이버 주식회사   \n",
       "24214  1020180096193 (2018.08.17)      네이버 주식회사   \n",
       "24221  1020190128401 (2019.10.16)   주식회사 위버스컴퍼니   \n",
       "\n",
       "                                                      요약  \\\n",
       "147    관심 지점에 관련된 정보를 사용자에게 제공하기 위한 방법들 및 시스템들에서, 쿼리가...   \n",
       "810    본 발명은 주문 중개 방법 및 시스템 그리고 주문 중개 시스템을 이용한 주문 방법에...   \n",
       "1404   범용적인 감정 분석 서비스를 위한 방법 및 장치가 개시된다. 감정 분석 방법은, 데...   \n",
       "1426   본 개시는 급상승 검색어에 대한 정보 제공 방법에 관한 것이다. 급상승 검색어에 대...   \n",
       "1501   본 개시는 위치 기반의 로컬 검색어 제공 방법에 관한 것이다. 위치 기반의 로컬 검...   \n",
       "...                                                  ...   \n",
       "24209  키워드 관계 구조 기반의 질의 분석을 이용한 복합키워드 동의어 추출 방법 및 시스템...   \n",
       "24211  광고 시너지 효과 분석 방법 및 시스템을 개시한다. 일실시예에 따른 분석 방법은 대...   \n",
       "24212  활동 데이터 분석을 통해 비정상 사용자 그룹을 탐지하는 방법 및 시스템이 개시된다....   \n",
       "24214  관심지점 리스트에 대한 구독과 리뷰 정보에 기초하여 보상을 제공하는 방법 및 시스템...   \n",
       "24221  대량 알림 발송 방법 및 시스템을 개시한다. 일실시예에 따른 대량 알림 발송 방법은...   \n",
       "\n",
       "                                            (51) Int. CL  \\\n",
       "147    ['G06F16/387(2019.01.01)', 'G06F16/36(2019.01....   \n",
       "810    ['G06Q30/06(2012.01.01)', 'G06K7/10(2006.01.01...   \n",
       "1404   ['G06F40/30(2020.01.01)', 'G06N20/20(2019.01.0...   \n",
       "1426   ['G06F17/18(2006.01.01)', 'G06F16/332(2019.01....   \n",
       "1501   ['G06Q50/10(2012.01.01)', 'G06F16/9032(2019.01...   \n",
       "...                                                  ...   \n",
       "24209  ['G06F16/953(2019.01.01)', 'G06F16/901(2019.01...   \n",
       "24211  ['G06Q30/02(2012.01.01)', 'G06Q10/06(2012.01.0...   \n",
       "24212  ['G06Q20/40(2012.01.01)', 'G06Q30/06(2012.01.0...   \n",
       "24214  ['G06Q30/02(2012.01.01)', 'H04W4/02(2018.01.01)']   \n",
       "24221  ['H04L51/00(2022.01.01)', 'H04L65/40(2022.01.0...   \n",
       "\n",
       "                                                (52) CPC  (21) 출원번호/일자(국제)  \\\n",
       "147    ['G06F16/387(2013.01)', 'G06F16/36(2013.01)', ...               NaN   \n",
       "810    ['G06Q30/0633(2013.01)', 'G06Q30/0641(2013.01)...               NaN   \n",
       "1404        ['G06F40/30(2013.01)', 'G06N20/20(2013.01)']               NaN   \n",
       "1426   ['G06F17/18(2013.01)', 'G06F16/3328(2013.01)',...               NaN   \n",
       "1501   ['G06Q50/10(2013.01)', 'G06F16/90328(2013.01)'...               NaN   \n",
       "...                                                  ...               ...   \n",
       "24209  ['G06F16/953(2013.01)', 'G06F16/9024(2013.01)'...               NaN   \n",
       "24211   ['G06Q30/0242(2013.01)', 'G06Q10/0637(2013.01)']               NaN   \n",
       "24212   ['G06Q20/4016(2013.01)', 'G06Q30/0609(2013.01)']               NaN   \n",
       "24214      ['G06Q30/0207(2013.01)', 'H04W4/02(2018.02)']               NaN   \n",
       "24221  ['H04L51/224(2013.01)', 'H04L67/55(2013.01)', ...               NaN   \n",
       "\n",
       "       ... 원출원번호/일자(국제)                관련 출원번호 기술이전 희망      심사청구여부/일자  심사청구항수  \\\n",
       "147    ...          NaN               ['\\xa0']     NaN  Y(2021.01.27)    16.0   \n",
       "810    ...          NaN  ['1020220132208\\xa0']     NaN  Y(2020.06.05)    11.0   \n",
       "1404   ...          NaN               ['\\xa0']     NaN  Y(2020.11.20)    15.0   \n",
       "1426   ...          NaN               ['\\xa0']     NaN  Y(2020.08.10)    18.0   \n",
       "1501   ...          NaN               ['\\xa0']     NaN  Y(2020.09.01)    20.0   \n",
       "...    ...          ...                    ...     ...            ...     ...   \n",
       "24209  ...          NaN               ['\\xa0']     NaN  Y(2019.05.17)    18.0   \n",
       "24211  ...          NaN  ['1020210189495\\xa0']     NaN  Y(2019.09.09)    12.0   \n",
       "24212  ...          NaN               ['\\xa0']     NaN  Y(2018.09.05)    19.0   \n",
       "24214  ...          NaN  ['1020200051718\\xa0']     NaN  Y(2018.08.17)    15.0   \n",
       "24221  ...          NaN               ['\\xa0']     NaN  Y(2019.10.16)    20.0   \n",
       "\n",
       "                     (21) 출원번호/일자 원출원번호/일자 cosing_simliarity        등록일자  \\\n",
       "147    1020210011858 (2021.01.27)      NaN          0.824216  2022.11.08   \n",
       "810    1020200068467 (2020.06.05)      NaN          0.824167  2022.10.14   \n",
       "1404   1020200156482 (2020.11.20)      NaN          0.847037  2022.09.05   \n",
       "1426   1020200100175 (2020.08.10)      NaN          0.830157  2022.09.05   \n",
       "1501   1020200111253 (2020.09.01)      NaN          0.857058  2022.05.31   \n",
       "...                           ...      ...               ...         ...   \n",
       "24209  1020190058239 (2019.05.17)      NaN          0.825545  2021.04.08   \n",
       "24211  1020190111710 (2019.09.09)      NaN          0.869078  2021.12.28   \n",
       "24212  1020180105710 (2018.09.05)      NaN          0.805007  2021.01.22   \n",
       "24214  1020180096193 (2018.08.17)      NaN          0.817419  2020.12.24   \n",
       "24221  1020190128401 (2019.10.16)      NaN          0.853249  2021.01.26   \n",
       "\n",
       "           등록일자2  \n",
       "147   2022-11-08  \n",
       "810   2022-10-14  \n",
       "1404  2022-09-05  \n",
       "1426  2022-09-05  \n",
       "1501  2022-05-31  \n",
       "...          ...  \n",
       "24209 2021-04-08  \n",
       "24211 2021-12-28  \n",
       "24212 2021-01-22  \n",
       "24214 2020-12-24  \n",
       "24221 2021-01-26  \n",
       "\n",
       "[210 rows x 32 columns]"
      ]
     },
     "execution_count": 36,
     "metadata": {},
     "output_type": "execute_result"
    }
   ],
   "source": [
    "df4_1[df4_1['출원인'] == ' 네이버 주식회사']"
   ]
  },
  {
   "cell_type": "code",
   "execution_count": 37,
   "metadata": {},
   "outputs": [],
   "source": [
    "# df5[df5['출원인'] == ' 쿠팡 주식회사'].to_csv('Cupang005.csv',encoding = 'utf-8-sig')"
   ]
  },
  {
   "cell_type": "code",
   "execution_count": 38,
   "metadata": {},
   "outputs": [],
   "source": [
    "# df4_1[df4_1['출원인'] == ' 쿠팡 주식회사'].to_csv('Cupang100.csv',encoding = 'utf-8-sig')"
   ]
  },
  {
   "cell_type": "code",
   "execution_count": 39,
   "metadata": {},
   "outputs": [
    {
     "data": {
      "text/plain": [
       "(1202, 32)"
      ]
     },
     "execution_count": 39,
     "metadata": {},
     "output_type": "execute_result"
    }
   ],
   "source": [
    "df5.shape"
   ]
  },
  {
   "cell_type": "code",
   "execution_count": 40,
   "metadata": {},
   "outputs": [],
   "source": [
    "A = [idx for idx,i in enumerate(df5['요약']) if '기계' in i]\n"
   ]
  },
  {
   "cell_type": "code",
   "execution_count": 44,
   "metadata": {},
   "outputs": [
    {
     "data": {
      "text/html": [
       "<div>\n",
       "<style scoped>\n",
       "    .dataframe tbody tr th:only-of-type {\n",
       "        vertical-align: middle;\n",
       "    }\n",
       "\n",
       "    .dataframe tbody tr th {\n",
       "        vertical-align: top;\n",
       "    }\n",
       "\n",
       "    .dataframe thead th {\n",
       "        text-align: right;\n",
       "    }\n",
       "</style>\n",
       "<table border=\"1\" class=\"dataframe\">\n",
       "  <thead>\n",
       "    <tr style=\"text-align: right;\">\n",
       "      <th></th>\n",
       "      <th>피인용 횟수</th>\n",
       "      <th>(21) 출원번호/일자(국제)</th>\n",
       "      <th>번역문제출일자</th>\n",
       "      <th>(11) 공고번호/일자</th>\n",
       "      <th>(86) 국제출원번호/일자</th>\n",
       "      <th>원출원번호/일자(국제)</th>\n",
       "      <th>심사청구항수</th>\n",
       "      <th>cosing_simliarity</th>\n",
       "    </tr>\n",
       "    <tr>\n",
       "      <th>출원인</th>\n",
       "      <th></th>\n",
       "      <th></th>\n",
       "      <th></th>\n",
       "      <th></th>\n",
       "      <th></th>\n",
       "      <th></th>\n",
       "      <th></th>\n",
       "      <th></th>\n",
       "    </tr>\n",
       "  </thead>\n",
       "  <tbody>\n",
       "    <tr>\n",
       "      <th>(주) 군월드</th>\n",
       "      <td>0.0</td>\n",
       "      <td>0.0</td>\n",
       "      <td>0.0</td>\n",
       "      <td>0.0</td>\n",
       "      <td>0.0</td>\n",
       "      <td>0.0</td>\n",
       "      <td>6.0</td>\n",
       "      <td>0.885197</td>\n",
       "    </tr>\n",
       "    <tr>\n",
       "      <th>(주) 굿맨프리미어파트너스</th>\n",
       "      <td>0.0</td>\n",
       "      <td>0.0</td>\n",
       "      <td>0.0</td>\n",
       "      <td>0.0</td>\n",
       "      <td>0.0</td>\n",
       "      <td>0.0</td>\n",
       "      <td>1.0</td>\n",
       "      <td>0.851495</td>\n",
       "    </tr>\n",
       "    <tr>\n",
       "      <th>(주) 그라비티</th>\n",
       "      <td>0.0</td>\n",
       "      <td>0.0</td>\n",
       "      <td>0.0</td>\n",
       "      <td>0.0</td>\n",
       "      <td>0.0</td>\n",
       "      <td>0.0</td>\n",
       "      <td>18.0</td>\n",
       "      <td>0.814516</td>\n",
       "    </tr>\n",
       "    <tr>\n",
       "      <th>(주) 다봄소프트</th>\n",
       "      <td>0.0</td>\n",
       "      <td>0.0</td>\n",
       "      <td>0.0</td>\n",
       "      <td>0.0</td>\n",
       "      <td>0.0</td>\n",
       "      <td>0.0</td>\n",
       "      <td>4.0</td>\n",
       "      <td>0.798693</td>\n",
       "    </tr>\n",
       "    <tr>\n",
       "      <th>(주) 더아이엠씨</th>\n",
       "      <td>2.0</td>\n",
       "      <td>0.0</td>\n",
       "      <td>0.0</td>\n",
       "      <td>0.0</td>\n",
       "      <td>0.0</td>\n",
       "      <td>0.0</td>\n",
       "      <td>6.0</td>\n",
       "      <td>0.821030</td>\n",
       "    </tr>\n",
       "    <tr>\n",
       "      <th>...</th>\n",
       "      <td>...</td>\n",
       "      <td>...</td>\n",
       "      <td>...</td>\n",
       "      <td>...</td>\n",
       "      <td>...</td>\n",
       "      <td>...</td>\n",
       "      <td>...</td>\n",
       "      <td>...</td>\n",
       "    </tr>\n",
       "    <tr>\n",
       "      <th>홍주화</th>\n",
       "      <td>0.0</td>\n",
       "      <td>0.0</td>\n",
       "      <td>0.0</td>\n",
       "      <td>0.0</td>\n",
       "      <td>0.0</td>\n",
       "      <td>0.0</td>\n",
       "      <td>2.0</td>\n",
       "      <td>0.800992</td>\n",
       "    </tr>\n",
       "    <tr>\n",
       "      <th>황우곤</th>\n",
       "      <td>0.0</td>\n",
       "      <td>0.0</td>\n",
       "      <td>0.0</td>\n",
       "      <td>0.0</td>\n",
       "      <td>0.0</td>\n",
       "      <td>0.0</td>\n",
       "      <td>10.0</td>\n",
       "      <td>0.875764</td>\n",
       "    </tr>\n",
       "    <tr>\n",
       "      <th>황윤홍</th>\n",
       "      <td>8.0</td>\n",
       "      <td>0.0</td>\n",
       "      <td>0.0</td>\n",
       "      <td>0.0</td>\n",
       "      <td>0.0</td>\n",
       "      <td>0.0</td>\n",
       "      <td>1.0</td>\n",
       "      <td>0.914918</td>\n",
       "    </tr>\n",
       "    <tr>\n",
       "      <th>후아웨이 테크놀러지 컴퍼니 리미티드</th>\n",
       "      <td>0.0</td>\n",
       "      <td>0.0</td>\n",
       "      <td>0.0</td>\n",
       "      <td>0.0</td>\n",
       "      <td>0.0</td>\n",
       "      <td>0.0</td>\n",
       "      <td>54.0</td>\n",
       "      <td>2.475437</td>\n",
       "    </tr>\n",
       "    <tr>\n",
       "      <th>후지쯔 가부시끼가이샤</th>\n",
       "      <td>0.0</td>\n",
       "      <td>0.0</td>\n",
       "      <td>0.0</td>\n",
       "      <td>0.0</td>\n",
       "      <td>0.0</td>\n",
       "      <td>0.0</td>\n",
       "      <td>6.0</td>\n",
       "      <td>0.827988</td>\n",
       "    </tr>\n",
       "  </tbody>\n",
       "</table>\n",
       "<p>788 rows × 8 columns</p>\n",
       "</div>"
      ],
      "text/plain": [
       "                      피인용 횟수  (21) 출원번호/일자(국제)  번역문제출일자  (11) 공고번호/일자  \\\n",
       "출원인                                                                     \n",
       " (주) 군월드                 0.0               0.0      0.0           0.0   \n",
       " (주) 굿맨프리미어파트너스          0.0               0.0      0.0           0.0   \n",
       " (주) 그라비티                0.0               0.0      0.0           0.0   \n",
       " (주) 다봄소프트               0.0               0.0      0.0           0.0   \n",
       " (주) 더아이엠씨               2.0               0.0      0.0           0.0   \n",
       "...                      ...               ...      ...           ...   \n",
       " 홍주화                     0.0               0.0      0.0           0.0   \n",
       " 황우곤                     0.0               0.0      0.0           0.0   \n",
       " 황윤홍                     8.0               0.0      0.0           0.0   \n",
       " 후아웨이 테크놀러지 컴퍼니 리미티드     0.0               0.0      0.0           0.0   \n",
       " 후지쯔 가부시끼가이샤             0.0               0.0      0.0           0.0   \n",
       "\n",
       "                      (86) 국제출원번호/일자  원출원번호/일자(국제)  심사청구항수  cosing_simliarity  \n",
       "출원인                                                                            \n",
       " (주) 군월드                         0.0           0.0     6.0           0.885197  \n",
       " (주) 굿맨프리미어파트너스                  0.0           0.0     1.0           0.851495  \n",
       " (주) 그라비티                        0.0           0.0    18.0           0.814516  \n",
       " (주) 다봄소프트                       0.0           0.0     4.0           0.798693  \n",
       " (주) 더아이엠씨                       0.0           0.0     6.0           0.821030  \n",
       "...                              ...           ...     ...                ...  \n",
       " 홍주화                             0.0           0.0     2.0           0.800992  \n",
       " 황우곤                             0.0           0.0    10.0           0.875764  \n",
       " 황윤홍                             0.0           0.0     1.0           0.914918  \n",
       " 후아웨이 테크놀러지 컴퍼니 리미티드             0.0           0.0    54.0           2.475437  \n",
       " 후지쯔 가부시끼가이샤                     0.0           0.0     6.0           0.827988  \n",
       "\n",
       "[788 rows x 8 columns]"
      ]
     },
     "execution_count": 44,
     "metadata": {},
     "output_type": "execute_result"
    }
   ],
   "source": [
    "df5.groupby(['출원인']).sum()"
   ]
  },
  {
   "cell_type": "code",
   "execution_count": 46,
   "metadata": {},
   "outputs": [
    {
     "data": {
      "text/html": [
       "<div>\n",
       "<style scoped>\n",
       "    .dataframe tbody tr th:only-of-type {\n",
       "        vertical-align: middle;\n",
       "    }\n",
       "\n",
       "    .dataframe tbody tr th {\n",
       "        vertical-align: top;\n",
       "    }\n",
       "\n",
       "    .dataframe thead th {\n",
       "        text-align: right;\n",
       "    }\n",
       "</style>\n",
       "<table border=\"1\" class=\"dataframe\">\n",
       "  <thead>\n",
       "    <tr style=\"text-align: right;\">\n",
       "      <th></th>\n",
       "      <th>제목</th>\n",
       "      <th>출원인</th>\n",
       "      <th>피인용 횟수</th>\n",
       "      <th>IPC</th>\n",
       "      <th>출원번호(일자)</th>\n",
       "      <th>최종권리자</th>\n",
       "      <th>요약</th>\n",
       "      <th>(51) Int. CL</th>\n",
       "      <th>(52) CPC</th>\n",
       "      <th>(21) 출원번호/일자(국제)</th>\n",
       "      <th>...</th>\n",
       "      <th>원출원번호/일자(국제)</th>\n",
       "      <th>관련 출원번호</th>\n",
       "      <th>기술이전 희망</th>\n",
       "      <th>심사청구여부/일자</th>\n",
       "      <th>심사청구항수</th>\n",
       "      <th>(21) 출원번호/일자</th>\n",
       "      <th>원출원번호/일자</th>\n",
       "      <th>cosing_simliarity</th>\n",
       "      <th>등록일자</th>\n",
       "      <th>등록일자2</th>\n",
       "    </tr>\n",
       "  </thead>\n",
       "  <tbody>\n",
       "    <tr>\n",
       "      <th>0</th>\n",
       "      <td>모바일 단말 기반의 구조물 균열 검출 방법, 장치 및 시스템(METHOD, DEVI...</td>\n",
       "      <td>주식회사 디와이스코프코리아</td>\n",
       "      <td>0.0</td>\n",
       "      <td>['G01N 21/88', 'G01B 11/02', 'G01B 11/03', 'G0...</td>\n",
       "      <td>1020220045565 (2022.04.13)</td>\n",
       "      <td>주식회사 디와이스코프코리아</td>\n",
       "      <td>본 발명은 모바일 단말 기반의 구조물 균열 검출 방법, 장치 및 시스템에 관한 것이...</td>\n",
       "      <td>['G01N21/88(2006.01.01)', 'G01B11/02(2006.01.0...</td>\n",
       "      <td>['G01N21/8851(2013.01)', 'G01B11/026(2013.01)'...</td>\n",
       "      <td>NaN</td>\n",
       "      <td>...</td>\n",
       "      <td>NaN</td>\n",
       "      <td>['\\xa0']</td>\n",
       "      <td>NaN</td>\n",
       "      <td>Y(2022.04.13)</td>\n",
       "      <td>1.0</td>\n",
       "      <td>1020220045565 (2022.04.13)</td>\n",
       "      <td>NaN</td>\n",
       "      <td>0.838633</td>\n",
       "      <td>2022.11.04</td>\n",
       "      <td>2022-11-04</td>\n",
       "    </tr>\n",
       "    <tr>\n",
       "      <th>1</th>\n",
       "      <td>포인트 전환을 위하여 정보를 처리하는 전자 장치 및 그 방법(ELECTRONIC A...</td>\n",
       "      <td>쿠팡 주식회사</td>\n",
       "      <td>0.0</td>\n",
       "      <td>['G06Q 30/02']</td>\n",
       "      <td>1020210164305 (2021.11.25)</td>\n",
       "      <td>쿠팡 주식회사</td>\n",
       "      <td>본 개시에 따르면, 사용자를 식별하기 위한 사용자 정보를 포함하는 포인트 조회 요청...</td>\n",
       "      <td>['G06Q30/02(2012.01.01)']</td>\n",
       "      <td>['G06Q30/0226(2013.01)', 'G06Q30/0208(2013.01)']</td>\n",
       "      <td>NaN</td>\n",
       "      <td>...</td>\n",
       "      <td>NaN</td>\n",
       "      <td>['1020210034170\\xa0']</td>\n",
       "      <td>NaN</td>\n",
       "      <td>Y(2021.11.25)</td>\n",
       "      <td>21.0</td>\n",
       "      <td>1020210164305 (2021.11.25)</td>\n",
       "      <td>1020210034170 (2021.03.16)</td>\n",
       "      <td>0.838508</td>\n",
       "      <td>2022.11.08</td>\n",
       "      <td>2022-11-08</td>\n",
       "    </tr>\n",
       "    <tr>\n",
       "      <th>2</th>\n",
       "      <td>게놈(유전자) 데이터를 디지털 이미지화하여 디지털 미디어의 저작권 인증을 수행하는 ...</td>\n",
       "      <td>주식회사 클리노믹스</td>\n",
       "      <td>0.0</td>\n",
       "      <td>['G06F 21/44', 'G06F 21/10', 'G06F 21/60', 'G1...</td>\n",
       "      <td>1020220017516 (2022.02.10)</td>\n",
       "      <td>주식회사 클리노믹스</td>\n",
       "      <td>본 발명의 게놈 데이터를 디지털 이미지화하여 디지털 미디어의 저작권 인증을 수행하는...</td>\n",
       "      <td>['G06F21/44(2013.01.01)', 'G06F21/10(2013.01.0...</td>\n",
       "      <td>['G06F21/44(2013.01)', 'G06F21/10(2013.01)', '...</td>\n",
       "      <td>NaN</td>\n",
       "      <td>...</td>\n",
       "      <td>NaN</td>\n",
       "      <td>['\\xa0']</td>\n",
       "      <td>NaN</td>\n",
       "      <td>Y(2022.02.10)</td>\n",
       "      <td>6.0</td>\n",
       "      <td>1020220017516 (2022.02.10)</td>\n",
       "      <td>NaN</td>\n",
       "      <td>0.888553</td>\n",
       "      <td>2022.09.07</td>\n",
       "      <td>2022-09-07</td>\n",
       "    </tr>\n",
       "    <tr>\n",
       "      <th>3</th>\n",
       "      <td>이미지에 대한 음성합성에 기반하여 영상 컨텐츠를 생성하는 방법 및 시스템(METHO...</td>\n",
       "      <td>네이버 주식회사\\n, 라인 가부시키가이샤\\n더보기</td>\n",
       "      <td>0.0</td>\n",
       "      <td>['H04N 21/854', 'H04N 21/43', 'H04N 21/845', '...</td>\n",
       "      <td>1020210034735 (2021.03.17)</td>\n",
       "      <td>네이버 주식회사 , 라인 가부시키가이샤</td>\n",
       "      <td>이미지에 대한 음성합성에 기반하여 영상 컨텐츠를 생성하는 방법 및 시스템을 개시한다...</td>\n",
       "      <td>['H04N21/854(2011.01.01)', 'H04N21/43(2011.01....</td>\n",
       "      <td>['H04N21/854(2013.01)', 'H04N21/4307(2013.01)'...</td>\n",
       "      <td>NaN</td>\n",
       "      <td>...</td>\n",
       "      <td>NaN</td>\n",
       "      <td>['\\xa0']</td>\n",
       "      <td>NaN</td>\n",
       "      <td>Y(2021.03.17)</td>\n",
       "      <td>20.0</td>\n",
       "      <td>1020210034735 (2021.03.17)</td>\n",
       "      <td>NaN</td>\n",
       "      <td>0.818725</td>\n",
       "      <td>2022.11.07</td>\n",
       "      <td>2022-11-07</td>\n",
       "    </tr>\n",
       "    <tr>\n",
       "      <th>4</th>\n",
       "      <td>실시간 미용사 매칭 예약방법(AN BOOKING METHOD OF MATCHING ...</td>\n",
       "      <td>이훈민</td>\n",
       "      <td>0.0</td>\n",
       "      <td>['G06Q 30/08', 'G06Q 30/02', 'G06Q 10/02', 'G0...</td>\n",
       "      <td>1020210120566 (2021.09.09)</td>\n",
       "      <td>이훈민</td>\n",
       "      <td>본 발명은 사용자의 일반검색이나 위치검색 요청에 따라 사용자가 제안한 청약금액에 대...</td>\n",
       "      <td>['G06Q30/08(2012.01.01)', 'G06Q30/02(2012.01.0...</td>\n",
       "      <td>['G06Q30/08(2013.01)', 'G06Q30/0207(2013.01)',...</td>\n",
       "      <td>NaN</td>\n",
       "      <td>...</td>\n",
       "      <td>NaN</td>\n",
       "      <td>['1020190176668\\xa0']</td>\n",
       "      <td>NaN</td>\n",
       "      <td>Y(2021.09.09)</td>\n",
       "      <td>13.0</td>\n",
       "      <td>1020210120566 (2021.09.09)</td>\n",
       "      <td>1020190176668 (2019.12.27)</td>\n",
       "      <td>0.813184</td>\n",
       "      <td>2022.09.19</td>\n",
       "      <td>2022-09-19</td>\n",
       "    </tr>\n",
       "    <tr>\n",
       "      <th>...</th>\n",
       "      <td>...</td>\n",
       "      <td>...</td>\n",
       "      <td>...</td>\n",
       "      <td>...</td>\n",
       "      <td>...</td>\n",
       "      <td>...</td>\n",
       "      <td>...</td>\n",
       "      <td>...</td>\n",
       "      <td>...</td>\n",
       "      <td>...</td>\n",
       "      <td>...</td>\n",
       "      <td>...</td>\n",
       "      <td>...</td>\n",
       "      <td>...</td>\n",
       "      <td>...</td>\n",
       "      <td>...</td>\n",
       "      <td>...</td>\n",
       "      <td>...</td>\n",
       "      <td>...</td>\n",
       "      <td>...</td>\n",
       "      <td>...</td>\n",
       "    </tr>\n",
       "    <tr>\n",
       "      <th>30034</th>\n",
       "      <td>무선랜 네트워크 광고 서비스 제공 방법 및 이를 이용한 무선 단말(METHOD FO...</td>\n",
       "      <td>에스케이텔레콤 주식회사</td>\n",
       "      <td>0.0</td>\n",
       "      <td>['G06Q 30/02', 'H04W 8/24']</td>\n",
       "      <td>1020130093014 (2013.08.06)</td>\n",
       "      <td>에스케이텔레콤 주식회사</td>\n",
       "      <td>무선랜 채널 검색 방법이 제공되며, 적어도 하나의 무선랜 AP로 프로브 요청(Pro...</td>\n",
       "      <td>['G06Q30/02(2012.01.01)', 'H04W8/24(2009.01.01)']</td>\n",
       "      <td>['G06Q30/0277(2013.01)', 'H04W8/245(2013.01)']</td>\n",
       "      <td>NaN</td>\n",
       "      <td>...</td>\n",
       "      <td>NaN</td>\n",
       "      <td>['1020200054006\\xa0']</td>\n",
       "      <td>NaN</td>\n",
       "      <td>Y(2018.07.12)</td>\n",
       "      <td>11.0</td>\n",
       "      <td>1020130093014 (2013.08.06)</td>\n",
       "      <td>NaN</td>\n",
       "      <td>0.878179</td>\n",
       "      <td>2020.06.22</td>\n",
       "      <td>2020-06-22</td>\n",
       "    </tr>\n",
       "    <tr>\n",
       "      <th>30035</th>\n",
       "      <td>광고 제공 시스템 및 그 방법, 그리고 이에 적용되는 장치(ADVERTISEMENT...</td>\n",
       "      <td>에스케이플래닛 주식회사</td>\n",
       "      <td>0.0</td>\n",
       "      <td>['G06Q 30/02', 'G06Q 10/08']</td>\n",
       "      <td>1020130063613 (2013.06.03)</td>\n",
       "      <td>에스케이플래닛 주식회사</td>\n",
       "      <td>본 발명은 광고 제공 시스템 및 그 방법, 그리고 이에 적용되는 장치를 개시한다. ...</td>\n",
       "      <td>['G06Q30/02(2012.01.01)', 'G06Q10/08(2012.01.0...</td>\n",
       "      <td>['G06Q30/0264(2013.01)', 'G06Q10/087(2013.01)']</td>\n",
       "      <td>NaN</td>\n",
       "      <td>...</td>\n",
       "      <td>NaN</td>\n",
       "      <td>['\\xa0']</td>\n",
       "      <td>NaN</td>\n",
       "      <td>Y(2018.06.04)</td>\n",
       "      <td>2.0</td>\n",
       "      <td>1020130063613 (2013.06.03)</td>\n",
       "      <td>NaN</td>\n",
       "      <td>0.726583</td>\n",
       "      <td>2020.03.25</td>\n",
       "      <td>2020-03-25</td>\n",
       "    </tr>\n",
       "    <tr>\n",
       "      <th>30036</th>\n",
       "      <td>터치 인증 기반 가치 적립 방법(Method for Accumulating Valu...</td>\n",
       "      <td>원투씨엠 주식회사</td>\n",
       "      <td>0.0</td>\n",
       "      <td>['G06Q 30/02', 'G06F 3/0488']</td>\n",
       "      <td>1020130085745 (2013.07.20)</td>\n",
       "      <td>원투씨엠 주식회사</td>\n",
       "      <td>본 발명은 터치 인증 기반 가치 적립 방법에 관한 것으로, 지정된 가맹점에 구비된 ...</td>\n",
       "      <td>['G06Q30/02(2012.01.01)', 'G06F3/0488(2022.01....</td>\n",
       "      <td>['G06Q30/0226(2013.01)', 'G06Q30/0238(2013.01)...</td>\n",
       "      <td>NaN</td>\n",
       "      <td>...</td>\n",
       "      <td>NaN</td>\n",
       "      <td>['10201401038421020140103868\\xa0']</td>\n",
       "      <td>NaN</td>\n",
       "      <td>Y(2018.07.20)</td>\n",
       "      <td>8.0</td>\n",
       "      <td>1020130085745 (2013.07.20)</td>\n",
       "      <td>NaN</td>\n",
       "      <td>0.878095</td>\n",
       "      <td>2020.08.06</td>\n",
       "      <td>2020-08-06</td>\n",
       "    </tr>\n",
       "    <tr>\n",
       "      <th>30037</th>\n",
       "      <td>전자토큰 제어 방법 및 장치(METHOD FOR CONTROLLING AN ELEC...</td>\n",
       "      <td>삼성전자주식회사</td>\n",
       "      <td>0.0</td>\n",
       "      <td>['G06Q 10/10', 'H04M 1/725', 'H04W 4/00']</td>\n",
       "      <td>1020130019468 (2013.02.22)</td>\n",
       "      <td>삼성전자주식회사</td>\n",
       "      <td>본 발명에 따른 전자토큰을 제어하는 방법은, 제1전자토큰의 리마인더 타입을 설정하는...</td>\n",
       "      <td>['G06Q10/10(2022.01.01)', 'H04M1/725(2021.01.0...</td>\n",
       "      <td>['G06Q10/109(2013.01)', 'G06Q20/367(2013.01)',...</td>\n",
       "      <td>NaN</td>\n",
       "      <td>...</td>\n",
       "      <td>NaN</td>\n",
       "      <td>['\\xa0']</td>\n",
       "      <td>NaN</td>\n",
       "      <td>Y(2018.02.13)</td>\n",
       "      <td>18.0</td>\n",
       "      <td>1020130019468 (2013.02.22)</td>\n",
       "      <td>NaN</td>\n",
       "      <td>0.807682</td>\n",
       "      <td>2020.05.26</td>\n",
       "      <td>2020-05-26</td>\n",
       "    </tr>\n",
       "    <tr>\n",
       "      <th>30038</th>\n",
       "      <td>클라우드 인프라스트럭처를 활용한 협업 시스템 및 이에 적용되는 이벤트 기반 협업 흐...</td>\n",
       "      <td>고려대학교 산학협력단</td>\n",
       "      <td>0.0</td>\n",
       "      <td>['G06Q 10/10']</td>\n",
       "      <td>1020120134049 (2012.11.23)</td>\n",
       "      <td>고려대학교 산학협력단</td>\n",
       "      <td>본 발명은 클라우드 기술을 활용한 협업 시스템에서 협업 흐름을 간편하게 정의하고 협...</td>\n",
       "      <td>['G06Q10/10(2022.01.01)']</td>\n",
       "      <td>['G06Q10/103(2013.01)', 'G16Y30/06(2013.01)']</td>\n",
       "      <td>NaN</td>\n",
       "      <td>...</td>\n",
       "      <td>NaN</td>\n",
       "      <td>['\\xa0']</td>\n",
       "      <td>NaN</td>\n",
       "      <td>Y(2017.11.23)</td>\n",
       "      <td>7.0</td>\n",
       "      <td>1020120134049 (2012.11.23)</td>\n",
       "      <td>NaN</td>\n",
       "      <td>0.824174</td>\n",
       "      <td>2020.01.02</td>\n",
       "      <td>2020-01-02</td>\n",
       "    </tr>\n",
       "  </tbody>\n",
       "</table>\n",
       "<p>30039 rows × 32 columns</p>\n",
       "</div>"
      ],
      "text/plain": [
       "                                                      제목  \\\n",
       "0      모바일 단말 기반의 구조물 균열 검출 방법, 장치 및 시스템(METHOD, DEVI...   \n",
       "1      포인트 전환을 위하여 정보를 처리하는 전자 장치 및 그 방법(ELECTRONIC A...   \n",
       "2      게놈(유전자) 데이터를 디지털 이미지화하여 디지털 미디어의 저작권 인증을 수행하는 ...   \n",
       "3      이미지에 대한 음성합성에 기반하여 영상 컨텐츠를 생성하는 방법 및 시스템(METHO...   \n",
       "4      실시간 미용사 매칭 예약방법(AN BOOKING METHOD OF MATCHING ...   \n",
       "...                                                  ...   \n",
       "30034  무선랜 네트워크 광고 서비스 제공 방법 및 이를 이용한 무선 단말(METHOD FO...   \n",
       "30035  광고 제공 시스템 및 그 방법, 그리고 이에 적용되는 장치(ADVERTISEMENT...   \n",
       "30036  터치 인증 기반 가치 적립 방법(Method for Accumulating Valu...   \n",
       "30037  전자토큰 제어 방법 및 장치(METHOD FOR CONTROLLING AN ELEC...   \n",
       "30038  클라우드 인프라스트럭처를 활용한 협업 시스템 및 이에 적용되는 이벤트 기반 협업 흐...   \n",
       "\n",
       "                                출원인  피인용 횟수  \\\n",
       "0                    주식회사 디와이스코프코리아     0.0   \n",
       "1                           쿠팡 주식회사     0.0   \n",
       "2                        주식회사 클리노믹스     0.0   \n",
       "3       네이버 주식회사\\n, 라인 가부시키가이샤\\n더보기     0.0   \n",
       "4                               이훈민     0.0   \n",
       "...                             ...     ...   \n",
       "30034                  에스케이텔레콤 주식회사     0.0   \n",
       "30035                  에스케이플래닛 주식회사     0.0   \n",
       "30036                     원투씨엠 주식회사     0.0   \n",
       "30037                      삼성전자주식회사     0.0   \n",
       "30038                   고려대학교 산학협력단     0.0   \n",
       "\n",
       "                                                     IPC  \\\n",
       "0      ['G01N 21/88', 'G01B 11/02', 'G01B 11/03', 'G0...   \n",
       "1                                         ['G06Q 30/02']   \n",
       "2      ['G06F 21/44', 'G06F 21/10', 'G06F 21/60', 'G1...   \n",
       "3      ['H04N 21/854', 'H04N 21/43', 'H04N 21/845', '...   \n",
       "4      ['G06Q 30/08', 'G06Q 30/02', 'G06Q 10/02', 'G0...   \n",
       "...                                                  ...   \n",
       "30034                        ['G06Q 30/02', 'H04W 8/24']   \n",
       "30035                       ['G06Q 30/02', 'G06Q 10/08']   \n",
       "30036                      ['G06Q 30/02', 'G06F 3/0488']   \n",
       "30037          ['G06Q 10/10', 'H04M 1/725', 'H04W 4/00']   \n",
       "30038                                     ['G06Q 10/10']   \n",
       "\n",
       "                         출원번호(일자)                   최종권리자  \\\n",
       "0      1020220045565 (2022.04.13)          주식회사 디와이스코프코리아   \n",
       "1      1020210164305 (2021.11.25)                 쿠팡 주식회사   \n",
       "2      1020220017516 (2022.02.10)              주식회사 클리노믹스   \n",
       "3      1020210034735 (2021.03.17)   네이버 주식회사 , 라인 가부시키가이샤   \n",
       "4      1020210120566 (2021.09.09)                     이훈민   \n",
       "...                           ...                     ...   \n",
       "30034  1020130093014 (2013.08.06)            에스케이텔레콤 주식회사   \n",
       "30035  1020130063613 (2013.06.03)            에스케이플래닛 주식회사   \n",
       "30036  1020130085745 (2013.07.20)               원투씨엠 주식회사   \n",
       "30037  1020130019468 (2013.02.22)                삼성전자주식회사   \n",
       "30038  1020120134049 (2012.11.23)             고려대학교 산학협력단   \n",
       "\n",
       "                                                      요약  \\\n",
       "0      본 발명은 모바일 단말 기반의 구조물 균열 검출 방법, 장치 및 시스템에 관한 것이...   \n",
       "1      본 개시에 따르면, 사용자를 식별하기 위한 사용자 정보를 포함하는 포인트 조회 요청...   \n",
       "2      본 발명의 게놈 데이터를 디지털 이미지화하여 디지털 미디어의 저작권 인증을 수행하는...   \n",
       "3      이미지에 대한 음성합성에 기반하여 영상 컨텐츠를 생성하는 방법 및 시스템을 개시한다...   \n",
       "4      본 발명은 사용자의 일반검색이나 위치검색 요청에 따라 사용자가 제안한 청약금액에 대...   \n",
       "...                                                  ...   \n",
       "30034  무선랜 채널 검색 방법이 제공되며, 적어도 하나의 무선랜 AP로 프로브 요청(Pro...   \n",
       "30035  본 발명은 광고 제공 시스템 및 그 방법, 그리고 이에 적용되는 장치를 개시한다. ...   \n",
       "30036  본 발명은 터치 인증 기반 가치 적립 방법에 관한 것으로, 지정된 가맹점에 구비된 ...   \n",
       "30037  본 발명에 따른 전자토큰을 제어하는 방법은, 제1전자토큰의 리마인더 타입을 설정하는...   \n",
       "30038  본 발명은 클라우드 기술을 활용한 협업 시스템에서 협업 흐름을 간편하게 정의하고 협...   \n",
       "\n",
       "                                            (51) Int. CL  \\\n",
       "0      ['G01N21/88(2006.01.01)', 'G01B11/02(2006.01.0...   \n",
       "1                              ['G06Q30/02(2012.01.01)']   \n",
       "2      ['G06F21/44(2013.01.01)', 'G06F21/10(2013.01.0...   \n",
       "3      ['H04N21/854(2011.01.01)', 'H04N21/43(2011.01....   \n",
       "4      ['G06Q30/08(2012.01.01)', 'G06Q30/02(2012.01.0...   \n",
       "...                                                  ...   \n",
       "30034  ['G06Q30/02(2012.01.01)', 'H04W8/24(2009.01.01)']   \n",
       "30035  ['G06Q30/02(2012.01.01)', 'G06Q10/08(2012.01.0...   \n",
       "30036  ['G06Q30/02(2012.01.01)', 'G06F3/0488(2022.01....   \n",
       "30037  ['G06Q10/10(2022.01.01)', 'H04M1/725(2021.01.0...   \n",
       "30038                          ['G06Q10/10(2022.01.01)']   \n",
       "\n",
       "                                                (52) CPC  (21) 출원번호/일자(국제)  \\\n",
       "0      ['G01N21/8851(2013.01)', 'G01B11/026(2013.01)'...               NaN   \n",
       "1       ['G06Q30/0226(2013.01)', 'G06Q30/0208(2013.01)']               NaN   \n",
       "2      ['G06F21/44(2013.01)', 'G06F21/10(2013.01)', '...               NaN   \n",
       "3      ['H04N21/854(2013.01)', 'H04N21/4307(2013.01)'...               NaN   \n",
       "4      ['G06Q30/08(2013.01)', 'G06Q30/0207(2013.01)',...               NaN   \n",
       "...                                                  ...               ...   \n",
       "30034     ['G06Q30/0277(2013.01)', 'H04W8/245(2013.01)']               NaN   \n",
       "30035    ['G06Q30/0264(2013.01)', 'G06Q10/087(2013.01)']               NaN   \n",
       "30036  ['G06Q30/0226(2013.01)', 'G06Q30/0238(2013.01)...               NaN   \n",
       "30037  ['G06Q10/109(2013.01)', 'G06Q20/367(2013.01)',...               NaN   \n",
       "30038      ['G06Q10/103(2013.01)', 'G16Y30/06(2013.01)']               NaN   \n",
       "\n",
       "       ... 원출원번호/일자(국제)                             관련 출원번호 기술이전 희망  \\\n",
       "0      ...          NaN                            ['\\xa0']     NaN   \n",
       "1      ...          NaN               ['1020210034170\\xa0']     NaN   \n",
       "2      ...          NaN                            ['\\xa0']     NaN   \n",
       "3      ...          NaN                            ['\\xa0']     NaN   \n",
       "4      ...          NaN               ['1020190176668\\xa0']     NaN   \n",
       "...    ...          ...                                 ...     ...   \n",
       "30034  ...          NaN               ['1020200054006\\xa0']     NaN   \n",
       "30035  ...          NaN                            ['\\xa0']     NaN   \n",
       "30036  ...          NaN  ['10201401038421020140103868\\xa0']     NaN   \n",
       "30037  ...          NaN                            ['\\xa0']     NaN   \n",
       "30038  ...          NaN                            ['\\xa0']     NaN   \n",
       "\n",
       "           심사청구여부/일자  심사청구항수                (21) 출원번호/일자  \\\n",
       "0      Y(2022.04.13)     1.0  1020220045565 (2022.04.13)   \n",
       "1      Y(2021.11.25)    21.0  1020210164305 (2021.11.25)   \n",
       "2      Y(2022.02.10)     6.0  1020220017516 (2022.02.10)   \n",
       "3      Y(2021.03.17)    20.0  1020210034735 (2021.03.17)   \n",
       "4      Y(2021.09.09)    13.0  1020210120566 (2021.09.09)   \n",
       "...              ...     ...                         ...   \n",
       "30034  Y(2018.07.12)    11.0  1020130093014 (2013.08.06)   \n",
       "30035  Y(2018.06.04)     2.0  1020130063613 (2013.06.03)   \n",
       "30036  Y(2018.07.20)     8.0  1020130085745 (2013.07.20)   \n",
       "30037  Y(2018.02.13)    18.0  1020130019468 (2013.02.22)   \n",
       "30038  Y(2017.11.23)     7.0  1020120134049 (2012.11.23)   \n",
       "\n",
       "                         원출원번호/일자 cosing_simliarity        등록일자      등록일자2  \n",
       "0                             NaN          0.838633  2022.11.04 2022-11-04  \n",
       "1      1020210034170 (2021.03.16)          0.838508  2022.11.08 2022-11-08  \n",
       "2                             NaN          0.888553  2022.09.07 2022-09-07  \n",
       "3                             NaN          0.818725  2022.11.07 2022-11-07  \n",
       "4      1020190176668 (2019.12.27)          0.813184  2022.09.19 2022-09-19  \n",
       "...                           ...               ...         ...        ...  \n",
       "30034                         NaN          0.878179  2020.06.22 2020-06-22  \n",
       "30035                         NaN          0.726583  2020.03.25 2020-03-25  \n",
       "30036                         NaN          0.878095  2020.08.06 2020-08-06  \n",
       "30037                         NaN          0.807682  2020.05.26 2020-05-26  \n",
       "30038                         NaN          0.824174  2020.01.02 2020-01-02  \n",
       "\n",
       "[30039 rows x 32 columns]"
      ]
     },
     "execution_count": 46,
     "metadata": {},
     "output_type": "execute_result"
    }
   ],
   "source": [
    "df4"
   ]
  },
  {
   "cell_type": "code",
   "execution_count": null,
   "metadata": {},
   "outputs": [],
   "source": []
  }
 ],
 "metadata": {
  "hide_input": false,
  "kernelspec": {
   "display_name": "Python 3",
   "language": "python",
   "name": "python3"
  },
  "language_info": {
   "codemirror_mode": {
    "name": "ipython",
    "version": 3
   },
   "file_extension": ".py",
   "mimetype": "text/x-python",
   "name": "python",
   "nbconvert_exporter": "python",
   "pygments_lexer": "ipython3",
   "version": "3.7.4"
  },
  "toc": {
   "base_numbering": 1,
   "nav_menu": {},
   "number_sections": true,
   "sideBar": true,
   "skip_h1_title": false,
   "title_cell": "Table of Contents",
   "title_sidebar": "Contents",
   "toc_cell": false,
   "toc_position": {},
   "toc_section_display": true,
   "toc_window_display": false
  },
  "varInspector": {
   "cols": {
    "lenName": 16,
    "lenType": 16,
    "lenVar": 40
   },
   "kernels_config": {
    "python": {
     "delete_cmd_postfix": "",
     "delete_cmd_prefix": "del ",
     "library": "var_list.py",
     "varRefreshCmd": "print(var_dic_list())"
    },
    "r": {
     "delete_cmd_postfix": ") ",
     "delete_cmd_prefix": "rm(",
     "library": "var_list.r",
     "varRefreshCmd": "cat(var_dic_list()) "
    }
   },
   "types_to_exclude": [
    "module",
    "function",
    "builtin_function_or_method",
    "instance",
    "_Feature"
   ],
   "window_display": false
  }
 },
 "nbformat": 4,
 "nbformat_minor": 2
}
