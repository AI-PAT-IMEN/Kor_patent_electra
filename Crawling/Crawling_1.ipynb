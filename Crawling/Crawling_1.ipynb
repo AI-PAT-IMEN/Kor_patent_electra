{
 "cells": [
  {
   "cell_type": "code",
   "execution_count": 1,
   "metadata": {},
   "outputs": [],
   "source": [
    "import pandas as pd\n",
    "import requests\n",
    "from bs4 import BeautifulSoup\n",
    "import re\n",
    "import tqdm"
   ]
  },
  {
   "cell_type": "code",
   "execution_count": 2,
   "metadata": {},
   "outputs": [],
   "source": [
    "params = \"\"\"remoconExpression: \n",
    "remoconDocsFound: \n",
    "remoconSelectedArticles: \n",
    "queryText: \n",
    "머신러닝\n",
    "searchInResultCk: \n",
    "undefined\n",
    "next: \n",
    "MainList\n",
    "passwd: \n",
    "userId: \n",
    "config: \n",
    "G1111111111111111111111S111111111000000000\n",
    "sortField: \n",
    "RANK\n",
    "sortState: \n",
    "DESC\n",
    "sortField1: \n",
    "sortState1: \n",
    "sortField2: \n",
    "sortState2: \n",
    "configChange: \n",
    "Y\n",
    "expression: \n",
    "머신러닝\n",
    "historyQuery:\n",
    "머신러닝\n",
    "numPerPage: \n",
    "30\n",
    "numPageLinks: \n",
    "10\n",
    "currentPage: \n",
    "1\n",
    "FROM: \n",
    "BOOKMARK: \n",
    "NWBOOKMARK: \n",
    "REBOOKMARK: \n",
    "natlCD: \n",
    "beforeExpression:\n",
    "prefixExpression: \n",
    "userInput: \n",
    "searchKeyword: \n",
    "searchInTrans: \n",
    "N\n",
    "searchInResult: \n",
    "logFlag: \n",
    "Y\n",
    "searchSaveCnt: \n",
    "0\n",
    "piField: \n",
    "piValue: \n",
    "piSearchYN: \n",
    "N\n",
    "leftGubnChk: \n",
    "leftHangjungChk: \n",
    "SEL_PAT: \n",
    "KPAT\n",
    "merchandiseString: \n",
    "measureString: \n",
    "patternString: \n",
    "collectionValues: \n",
    "selectedLang: \n",
    "lang: \n",
    "strstat: \n",
    "TOP%7CKW\n",
    "highlightKeyword: \n",
    "searchInTransCk: \n",
    "undefined\n",
    "history: \n",
    "true \n",
    "\"\"\"\n",
    "\n",
    "headers = {\n",
    "    'User-Agent': 'Mozilla/5.0 (Windows NT 10.0; Win64; x64) AppleWebKit/537.36 (KHTML, like Gecko) Chrome/106.0.0.0 Safari/537.36'\n",
    "}"
   ]
  },
  {
   "cell_type": "code",
   "execution_count": 3,
   "metadata": {},
   "outputs": [],
   "source": [
    "def make(params_2):\n",
    "  \n",
    "    lst_a = []\n",
    "    lst_b = []\n",
    "    lst_c = []\n",
    "\n",
    "    params_2 = params_2.split('\\n')\n",
    "    for idx,i in enumerate(params_2):    \n",
    "        if idx == 0:\n",
    "            lst_c.append('')\n",
    "\n",
    "        if ':' in i:\n",
    "            lst_a.append(i)\n",
    "\n",
    "            if idx == 0:\n",
    "                lst_b.append('')\n",
    "                continue\n",
    "\n",
    "            if (':' in lst_c[-1]) & (':' in i):\n",
    "                lst_b.append('')\n",
    "\n",
    "        else:\n",
    "\n",
    "            lst_b.append(i)\n",
    "\n",
    "        lst_c.append(i)\n",
    "\n",
    "    params = {}\n",
    "    for i,j in zip(lst_a,lst_b):\n",
    "        params[i.split(':')[0].strip()] = j\n",
    "        \n",
    "    return params\n",
    "        "
   ]
  },
  {
   "cell_type": "code",
   "execution_count": 4,
   "metadata": {},
   "outputs": [],
   "source": [
    "params_2 = make(params)"
   ]
  },
  {
   "cell_type": "code",
   "execution_count": 5,
   "metadata": {},
   "outputs": [
    {
     "data": {
      "text/plain": [
       "'div#divRealContent3'"
      ]
     },
     "execution_count": 5,
     "metadata": {},
     "output_type": "execute_result"
    }
   ],
   "source": [
    "'div#divRealContent'+str(3)"
   ]
  },
  {
   "cell_type": "code",
   "execution_count": 25,
   "metadata": {},
   "outputs": [],
   "source": [
    "num = 1\n",
    "\n",
    "def crawling_final(Want,num):\n",
    "    \n",
    "\n",
    "    df_test_2 = pd.DataFrame()    \n",
    "\n",
    "    params_2['queryText'] = Want\n",
    "    params_2['expression'] = Want\n",
    "    params_2['historyQuery'] = Want\n",
    "    params_2['currentPage'] = num \n",
    "    r = requests.post('http://kpat.kipris.or.kr/kpat/searchLogina.do?next=MainSearch',headers = headers)\n",
    "    cookies_dict = {name : value for name, value in zip(r.cookies.keys(),r.cookies.values() )}\n",
    "\n",
    "    res = requests.post('http://kpat.kipris.or.kr/kpat/resulta.do',headers= headers,\n",
    "                         cookies=cookies_dict, data = params_2)\n",
    "\n",
    "    soup = BeautifulSoup(res.content, 'html.parser')\n",
    "\n",
    "\n",
    "\n",
    "    for num_2 in range(0,30):\n",
    "        if num_2 == 0:\n",
    "            df_final = soup.select('div#divRealContent'+str(num_2))\n",
    "        else:\n",
    "            df_final = soup.select('div#divRealContent'+str(num_2))\n",
    "    \n",
    "\n",
    "        three = [i.text.strip().split(':') for i in df_final[0].select('li.right_width')]\n",
    "        two = [i.text.strip().split(':') for i in df_final[0].select('li.left_width')]       \n",
    "        title = [['제목',soup.select('span.float_left input')[num_2]['title']]]\n",
    "        summary = [['요약',soup.select('div.search_txt')[num_2].text.replace('\\t','').replace('\\n','').replace('\\r','')]]\n",
    "\n",
    "\n",
    "        df_test = pd.DataFrame(title + three + two + summary).set_index(0)\n",
    "        \n",
    "\n",
    "        \n",
    "        lst_test = []\n",
    "        \n",
    "        # IPC 변환\n",
    "        for i in df_test.iloc[3,0].replace('\\n',' ').strip().replace('\\xa0','').split('  '):\n",
    "            if len(i) >= 1:\n",
    "                lst_test.append(i)\n",
    "            else:\n",
    "                pass\n",
    "            \n",
    "        lst_test =  np.array(lst_test).astype('object')\n",
    "        \n",
    "        \n",
    "        \n",
    "        if len(lst_test) == 0:\n",
    "            df_test.iloc[3,0] = ''\n",
    "        else:\n",
    "            try: \n",
    "                df_test.iloc[3,0] = lst_test\n",
    "            except:\n",
    "                df_test.iloc[1,0] = ''.join(a.iloc[1])\n",
    "                df_test = df_test.iloc[:,[0]]\n",
    "            \n",
    "\n",
    "            \n",
    "            \n",
    "        lst_test = []\n",
    "        \n",
    "        \n",
    "        \n",
    "        # 피인용횟수 변환\n",
    "        for i in df_test.iloc[2,0].replace('\\n',' ').strip().replace('\\xa0','').split('  '):\n",
    "            if len(i) >= 1:\n",
    "                lst_test.append(i[0])\n",
    "            else:\n",
    "                lst_test.append(0)\n",
    "                \n",
    "        df_test.iloc[2,0] = lst_test[0]        \n",
    "\n",
    "        df_test = df_test.T\n",
    "        \n",
    "        if num_2 == 0:\n",
    "            df_test_2 = df_test.copy()\n",
    "        else:\n",
    "            df_test_2 = pd.concat([df_test_2, df_test],axis=0)\n",
    "            \n",
    "            \n",
    "    \n",
    "        \n",
    "    \n",
    "    return df_test_2"
   ]
  },
  {
   "cell_type": "code",
   "execution_count": 30,
   "metadata": {},
   "outputs": [],
   "source": [
    "a  =crawling_final('IPC=[H04L + G06N + G06Q]',10)"
   ]
  },
  {
   "cell_type": "code",
   "execution_count": 32,
   "metadata": {
    "scrolled": true
   },
   "outputs": [
    {
     "data": {
      "text/html": [
       "<div>\n",
       "<style scoped>\n",
       "    .dataframe tbody tr th:only-of-type {\n",
       "        vertical-align: middle;\n",
       "    }\n",
       "\n",
       "    .dataframe tbody tr th {\n",
       "        vertical-align: top;\n",
       "    }\n",
       "\n",
       "    .dataframe thead th {\n",
       "        text-align: right;\n",
       "    }\n",
       "</style>\n",
       "<table border=\"1\" class=\"dataframe\">\n",
       "  <thead>\n",
       "    <tr style=\"text-align: right;\">\n",
       "      <th></th>\n",
       "      <th>제목</th>\n",
       "      <th>출원인</th>\n",
       "      <th>피인용 횟수</th>\n",
       "      <th>IPC</th>\n",
       "      <th>출원번호(일자)</th>\n",
       "      <th>최종권리자</th>\n",
       "      <th>요약</th>\n",
       "    </tr>\n",
       "  </thead>\n",
       "  <tbody>\n",
       "    <tr>\n",
       "      <th>1</th>\n",
       "      <td>5G 네트워크들 상에서 미디어 스트리밍 및 서비스들을 실행하기 위해 애플리케이션 제...</td>\n",
       "      <td>텐센트 아메리카 엘엘씨</td>\n",
       "      <td>0</td>\n",
       "      <td>[H04L 67/51, H04L 67/56, H04L 67/60, H04W 4/50]</td>\n",
       "      <td>1020227034694 (2021.10.12)</td>\n",
       "      <td></td>\n",
       "      <td>방법이 제공된다. 방법은 5세대 미디어 스트리밍(5GMS) 애플리케이션 제공자에 의...</td>\n",
       "    </tr>\n",
       "    <tr>\n",
       "      <th>1</th>\n",
       "      <td>인터랙티브 미디어 제공 시스템 및 방법(System for providing the...</td>\n",
       "      <td>한국전자통신연구원</td>\n",
       "      <td>0</td>\n",
       "      <td>[H04N 21/422, H04N 21/854, G06Q 50/00]</td>\n",
       "      <td>1020160061636 (2016.05.19)</td>\n",
       "      <td>한국전자통신연구원</td>\n",
       "      <td>본 발명은 인터랙티브 미디어 제공 시스템 및 방법에 관한 것으로서, 본 발명의 실시...</td>\n",
       "    </tr>\n",
       "    <tr>\n",
       "      <th>1</th>\n",
       "      <td>클라우드 자원 예측 장치 및 방법(APPARATUS AND METHOD FOR PR...</td>\n",
       "      <td>한국전자통신연구원</td>\n",
       "      <td>0</td>\n",
       "      <td>[G06F 9/50, G06F 9/455, G06N 3/08, G06N 20/00]</td>\n",
       "      <td>1020200182281 (2020.12.23)</td>\n",
       "      <td></td>\n",
       "      <td>클라우드 자원 예측 장치 및 방법이 개시된다. 본 발명의 일실시예에 따른 클라우드 ...</td>\n",
       "    </tr>\n",
       "    <tr>\n",
       "      <th>1</th>\n",
       "      <td>위상 양자 컴퓨터를 위한 헤테로접합의 사전 검사 및 조정(PRE-SCREENING ...</td>\n",
       "      <td>마이크로소프트 테크놀로지 라이센싱, 엘엘씨</td>\n",
       "      <td>0</td>\n",
       "      <td>[G06N 10/40, G06N 10/20, G06F 9/30, G06F 15/82...</td>\n",
       "      <td>1020227034304 (2021.01.20)</td>\n",
       "      <td></td>\n",
       "      <td>위상 양자 컴퓨터의 큐비트 레지스터에 사용하기 위한 반도체-초전도체 헤테로접합을 평...</td>\n",
       "    </tr>\n",
       "    <tr>\n",
       "      <th>1</th>\n",
       "      <td>무선 통신을 이용한 뇌파/심박도 기반의 콘텐츠 추천 시스템 및 콘텐츠 추천 방법(C...</td>\n",
       "      <td>주식회사 소소</td>\n",
       "      <td>3</td>\n",
       "      <td>[G06F 3/01, G06Q 50/10]</td>\n",
       "      <td>1020150059735 (2015.04.28)</td>\n",
       "      <td>주식회사 소소</td>\n",
       "      <td>무선 통신을 이용한 뇌파/심박도 기반의 콘텐츠 추천 시스템 및 콘텐츠 추천 방법에 ...</td>\n",
       "    </tr>\n",
       "    <tr>\n",
       "      <th>1</th>\n",
       "      <td>자기 스트라이프 데이터 전송 장치 및 방법(APPARATUS AND METHOD F...</td>\n",
       "      <td>삼성전자주식회사</td>\n",
       "      <td>0</td>\n",
       "      <td>[G06K 7/08, G06Q 20/20, H04B 5/00, G07G 1/00, ...</td>\n",
       "      <td>1020160057176 (2016.05.10)</td>\n",
       "      <td></td>\n",
       "      <td>본 발명은 데이터를 송신하기 위한 장치에 관한 것으로, 특히 자기 스트라이프(Mag...</td>\n",
       "    </tr>\n",
       "    <tr>\n",
       "      <th>1</th>\n",
       "      <td>크라우드 소싱을 이용한 선박 자동 식별 정보 검증 장치 및 방법(APPARATUS ...</td>\n",
       "      <td>한국전자통신연구원</td>\n",
       "      <td>1</td>\n",
       "      <td>[H04L 9/40, H04L 12/26]</td>\n",
       "      <td>1020150050095 (2015.04.09)</td>\n",
       "      <td>한국전자통신연구원</td>\n",
       "      <td>크라우드 소싱 기법을 이용한 선박 자동 식별 정보 검증 장치 및 방법이 개시된다. ...</td>\n",
       "    </tr>\n",
       "    <tr>\n",
       "      <th>1</th>\n",
       "      <td>색온도 가변형 스마트 엘이디 가로등 시스템(Smart LED streetlight ...</td>\n",
       "      <td>케이디지전자 주식회사\\n, 금오공과대학교 산학협력단\\n더보기</td>\n",
       "      <td>3</td>\n",
       "      <td>[H05B 44/00, H05B 45/00, H04L 29/08, F21S 8/08...</td>\n",
       "      <td>1020160055286 (2016.05.04)</td>\n",
       "      <td>케이디지전자 주식회사 , 금오공과대학교 산학협력단</td>\n",
       "      <td>색온도 가변형 스마트 엘이디 가로등 시스템은, 외부로부터의 기후정보를 토대로 가시거...</td>\n",
       "    </tr>\n",
       "    <tr>\n",
       "      <th>1</th>\n",
       "      <td>금융투자 서비스 제공 시스템, 이를 위한 서버 및 단말기(System for pro...</td>\n",
       "      <td>주식회사 카카오페이증권</td>\n",
       "      <td>0</td>\n",
       "      <td>[G06Q 40/06, G06Q 40/02, G06Q 40/04, G06F 3/04...</td>\n",
       "      <td>1020200173611 (2020.12.11)</td>\n",
       "      <td></td>\n",
       "      <td>본 기술은 금융투자 서비스 제공 시스템, 이를 위한 서버 및 단말기에 관한 것이다....</td>\n",
       "    </tr>\n",
       "    <tr>\n",
       "      <th>1</th>\n",
       "      <td>무선 통신 시스템에서 공간 파라미터 기반 신호 송수신 방법 및 장치(METHOD A...</td>\n",
       "      <td>엘지전자 주식회사</td>\n",
       "      <td>0</td>\n",
       "      <td>[H04W 72/04, H04W 8/22, H04B 7/06, H04B 7/08, ...</td>\n",
       "      <td>1020227024474 (2021.03.05)</td>\n",
       "      <td></td>\n",
       "      <td>무선 통신 시스템에서 공간 파라미터에 기초하여 신호를 송수신하는 방법 및 장치가 개...</td>\n",
       "    </tr>\n",
       "    <tr>\n",
       "      <th>1</th>\n",
       "      <td>범주형 회귀 분석을 이용한 건설현장의 위험작업구역의 접근 위험도 예측 시스템 및 그...</td>\n",
       "      <td>인하대학교 산학협력단</td>\n",
       "      <td>0</td>\n",
       "      <td>[G06Q 50/08, G06F 17/18, G06Q 10/06]</td>\n",
       "      <td>1020200168551 (2020.12.04)</td>\n",
       "      <td></td>\n",
       "      <td>본 발명은 범주형 회귀 분석을 이용한 건설현장의 위험작업구역의 접근 위험도 예측 시...</td>\n",
       "    </tr>\n",
       "    <tr>\n",
       "      <th>1</th>\n",
       "      <td>산업용 영상파일의 생성 관리 시스템 및 방법(Business-use image ma...</td>\n",
       "      <td>와이즈다임 (주)</td>\n",
       "      <td>0</td>\n",
       "      <td>[G06Q 50/10]</td>\n",
       "      <td>1020150023695 (2015.02.16)</td>\n",
       "      <td>와이즈다임 (주)</td>\n",
       "      <td>본 발명은 산업용 영상파일을 슬림화하며, 보호하고, 영상에 나타난 특이 사항 정보가...</td>\n",
       "    </tr>\n",
       "    <tr>\n",
       "      <th>1</th>\n",
       "      <td>시공성을 고려한 자재선정 시스템(MATERIAL SELECTION SYSTEM CO...</td>\n",
       "      <td>경북대학교 산학협력단</td>\n",
       "      <td>0</td>\n",
       "      <td>[G06Q 50/08, G06Q 30/06, G06Q 30/00, G06Q 30/0...</td>\n",
       "      <td>1020200164601 (2020.11.30)</td>\n",
       "      <td>경북대학교 산학협력단</td>\n",
       "      <td>일 실시예에 따른 녹색건축인증 건축 모델을 위한 시공성을 고려한 자재선정 시스템은 ...</td>\n",
       "    </tr>\n",
       "    <tr>\n",
       "      <th>1</th>\n",
       "      <td>노캐디 골프장 관제 시스템(SYSTEM FOR CONTROLLING GOLF COU...</td>\n",
       "      <td>주식회사 센서웨이</td>\n",
       "      <td>1</td>\n",
       "      <td>[A63B 24/00, A63B 71/06, H04L 41/00, A63B 69/3...</td>\n",
       "      <td>1020160026456 (2016.03.04)</td>\n",
       "      <td>주식회사 센서웨이</td>\n",
       "      <td>노캐디 골프장 관제 시스템이 개시된다. 본 발명의 일실시예에 따른 노캐디 골프장 관...</td>\n",
       "    </tr>\n",
       "    <tr>\n",
       "      <th>1</th>\n",
       "      <td>딥 러닝을 위한 마스터 변환 아키텍처(MASTER TRANSFORM ARCHITEC...</td>\n",
       "      <td>엔비디아 코포레이션</td>\n",
       "      <td>0</td>\n",
       "      <td>[G06F 9/50, G06F 9/38, G06F 12/0813, G06F 12/0...</td>\n",
       "      <td>1020227016254 (2020.12.15)</td>\n",
       "      <td></td>\n",
       "      <td>신경망들을 훈련하기 위한 입력 데이터를 변환하기 위한 장치들, 시스템들, 및 기법들...</td>\n",
       "    </tr>\n",
       "    <tr>\n",
       "      <th>1</th>\n",
       "      <td>수신자의 언어, 국제화 및 현지화 선호들에 기초하여 아웃고잉 메시지들을 발생시키는 ...</td>\n",
       "      <td>구글 엘엘씨</td>\n",
       "      <td>0</td>\n",
       "      <td>[H04L 51/00, G06F 40/40]</td>\n",
       "      <td>1020147022595 (2013.01.14)</td>\n",
       "      <td>구글 엘엘씨</td>\n",
       "      <td>본 발명의 여러 실시예들에 따라, 아웃고잉 메시지들을 발생시키기 위한 기술들이 개시...</td>\n",
       "    </tr>\n",
       "    <tr>\n",
       "      <th>1</th>\n",
       "      <td>다중 스케일 뇌 네트워크 기능 모델링을 가능하게 하기 위한 공동 동적 인과 모델링 ...</td>\n",
       "      <td>이진형\\n, 리우 친 , 무틀루 오누르 세즈미 , 더 보드 오브 트러스티스 오브 ...</td>\n",
       "      <td>0</td>\n",
       "      <td>[A61B 5/00, A61B 5/055, A61B 5/374, G06N 20/00...</td>\n",
       "      <td>1020227013844 (2020.09.30)</td>\n",
       "      <td></td>\n",
       "      <td>뇌 기능의 조합된 동적 인과 모델링 및 생물 물리학 모델링을 위한, 컴퓨터 저장 매...</td>\n",
       "    </tr>\n",
       "    <tr>\n",
       "      <th>1</th>\n",
       "      <td>견적 시스템, 견적 방법, 및 견적 프로그램을 기록한 기록 매체(ESTIMATION...</td>\n",
       "      <td>미스미 코포레이숀</td>\n",
       "      <td>0</td>\n",
       "      <td>[G06Q 50/04, G06Q 30/06, G06Q 30/02, G06F 30/10]</td>\n",
       "      <td>1020227004844 (2021.02.10)</td>\n",
       "      <td>미스미 코포레이숀</td>\n",
       "      <td>복수의 요소로 구성되는 물품의 형상 데이터를 클라이언트 단말로부터 받아들여 당해 물...</td>\n",
       "    </tr>\n",
       "    <tr>\n",
       "      <th>1</th>\n",
       "      <td>스파이킹 뉴럴 네트워크(SNN) 하드웨어에서 초저전력 소비를 위한 예측 방법, 이를...</td>\n",
       "      <td>경북대학교 산학협력단</td>\n",
       "      <td>0</td>\n",
       "      <td>[G06N 3/063, G06N 3/04]</td>\n",
       "      <td>1020200137811 (2020.10.22)</td>\n",
       "      <td></td>\n",
       "      <td>스파이킹 뉴럴 네트워크(SNN) 하드웨어에서 초저전력 소비를 위한 예측 방법은, 매...</td>\n",
       "    </tr>\n",
       "    <tr>\n",
       "      <th>1</th>\n",
       "      <td>보험상품 판매방법(A SALES PROCESS OF VARIABLE INSURANCE)</td>\n",
       "      <td>에프앤 주식회사</td>\n",
       "      <td>0</td>\n",
       "      <td>[G06Q 40/08]</td>\n",
       "      <td>1020140183015 (2014.12.18)</td>\n",
       "      <td></td>\n",
       "      <td>보험상품 판매방법이 개시된다. 보험상품 판매방법은 고객의 이름, 나이, 주소, 소속...</td>\n",
       "    </tr>\n",
       "    <tr>\n",
       "      <th>1</th>\n",
       "      <td>경제적 운전을 위한 연료전지 시스템 및 그 운전방법(FUEL CELL SYSTEM ...</td>\n",
       "      <td>주식회사 코텍에너지</td>\n",
       "      <td>0</td>\n",
       "      <td>[H01M 8/04858, H01M 8/04007, H01M 8/0432, H01M...</td>\n",
       "      <td>1020220117214 (2022.09.16)</td>\n",
       "      <td>주식회사 코텍에너지</td>\n",
       "      <td>본 발명은 경제성 운전을 위한 연료전지 시스템 및 그 운전방법에 관한 것으로서, 보...</td>\n",
       "    </tr>\n",
       "    <tr>\n",
       "      <th>1</th>\n",
       "      <td>3차원 의류 객체 생성 시스템 및 그 동작 방법(3-DIMENSION CLOTHIN...</td>\n",
       "      <td>주식회사 엘지유플러스</td>\n",
       "      <td>0</td>\n",
       "      <td>[G06T 19/20, G06T 11/60, G06T 17/00, G06Q 30/0...</td>\n",
       "      <td>1020200131781 (2020.10.13)</td>\n",
       "      <td></td>\n",
       "      <td>3차원 의류 객체 생성 시스템이 개시된다. 3차원 의류 객체 생성 시스템은, 입력 ...</td>\n",
       "    </tr>\n",
       "    <tr>\n",
       "      <th>1</th>\n",
       "      <td>스타일링 장치 및 이의 구동 방법(Styling device and the driv...</td>\n",
       "      <td>조수경\\n, 조규혁\\n더보기</td>\n",
       "      <td>0</td>\n",
       "      <td>[G06Q 50/10, G06Q 30/06, G06Q 50/00, G06T 13/4...</td>\n",
       "      <td>1020200127131 (2020.09.29)</td>\n",
       "      <td>조수경 , 조규혁</td>\n",
       "      <td>본 발명은 디스플레이 화면에 표출되는 자신의 더미 또는 모습에 다양한 의복, 화장법...</td>\n",
       "    </tr>\n",
       "    <tr>\n",
       "      <th>1</th>\n",
       "      <td>뉴럴 네트워크를 이용하여 제1 단말과 관련된 광고 기업 리스트를 제공하는 방법 및 ...</td>\n",
       "      <td>주식회사 조이마케팅</td>\n",
       "      <td>0</td>\n",
       "      <td>[G06Q 30/02, G06N 20/00, G06F 16/951, G06F 16/...</td>\n",
       "      <td>1020220074714 (2022.06.20)</td>\n",
       "      <td>주식회사 조이마케팅</td>\n",
       "      <td>실시예들은 서버가 뉴럴 네트워크(neural network)를 이용하여 사용자와 관...</td>\n",
       "    </tr>\n",
       "    <tr>\n",
       "      <th>1</th>\n",
       "      <td>초개인화 자산 배분 전략 시스템(SYSTEM OF PROVIDING ASST MAN...</td>\n",
       "      <td>주식회사 바인투자자문</td>\n",
       "      <td>0</td>\n",
       "      <td>[G06Q 40/06, G06Q 40/00, G06Q 50/30, A61B 5/00]</td>\n",
       "      <td>1020220074394 (2022.06.17)</td>\n",
       "      <td>주식회사 바인투자자문</td>\n",
       "      <td>고객 단말로부터 자산관리 기초정보를 수신하고, 상기 자산관리 기초정보를 이용하여 자...</td>\n",
       "    </tr>\n",
       "    <tr>\n",
       "      <th>1</th>\n",
       "      <td>주차 단속 정보 제공 방법 및 디바이스(A METHOD AND DEVICE FOR ...</td>\n",
       "      <td>이경민</td>\n",
       "      <td>0</td>\n",
       "      <td>[G06Q 50/26, G06Q 50/30, G08G 1/017, G06F 40/2...</td>\n",
       "      <td>1020200124591 (2020.09.25)</td>\n",
       "      <td>이경민</td>\n",
       "      <td>일 실시 예에 따르면, 주차 단속 정보 제공 방법에 있어서, 복수의 회원 계정에 대...</td>\n",
       "    </tr>\n",
       "    <tr>\n",
       "      <th>1</th>\n",
       "      <td>인공지능 기반 객체 추적 장치 및 방법(APPARATUS AND METHOD FOR...</td>\n",
       "      <td>(주)이앤제너텍</td>\n",
       "      <td>0</td>\n",
       "      <td>[G06T 7/292, G06T 7/11, G06N 3/08, G06V 40/10,...</td>\n",
       "      <td>1020220066214 (2022.05.30)</td>\n",
       "      <td>(주)이앤제너텍</td>\n",
       "      <td>본 발명은 인공지능 기반 객체 추적 장치 및 방법에 관한 것으로, 일 실시예에 따르...</td>\n",
       "    </tr>\n",
       "    <tr>\n",
       "      <th>1</th>\n",
       "      <td>방송 신호 송신 장치, 방송 신호 수신 장치, 방송 신호 송신 방법 및 방송 신호 ...</td>\n",
       "      <td>엘지전자 주식회사</td>\n",
       "      <td>1</td>\n",
       "      <td>[H04L 1/00, H04L 27/26]</td>\n",
       "      <td>1020157033486 (2014.06.17)</td>\n",
       "      <td>엘지전자 주식회사</td>\n",
       "      <td>방송 신호 송신 방법 및 장치가 제공된다. 방송 신호 송신 방법은 코드 레이트에 따...</td>\n",
       "    </tr>\n",
       "    <tr>\n",
       "      <th>1</th>\n",
       "      <td>의지 보조기의 이용자와 제공자를 매칭하는 방법 및 디바이스(Method and de...</td>\n",
       "      <td>고창용</td>\n",
       "      <td>0</td>\n",
       "      <td>[G06Q 30/06, G06Q 30/08, G06Q 30/02]</td>\n",
       "      <td>1020200124511 (2020.09.25)</td>\n",
       "      <td></td>\n",
       "      <td>의지 보조기의 이용자와 제공자를 매칭하는 방법에 있어서 상기 의지 보조기의 이용 부...</td>\n",
       "    </tr>\n",
       "    <tr>\n",
       "      <th>1</th>\n",
       "      <td>인공지능 및 GPS를 이용한 자동 위험표시장치(AUTOMATIC HAZARD IND...</td>\n",
       "      <td>코우테크 주식회사</td>\n",
       "      <td>0</td>\n",
       "      <td>[B60Q 1/52, B60Q 9/00, B60Q 1/00, G01C 21/34, ...</td>\n",
       "      <td>1020200123881 (2020.09.24)</td>\n",
       "      <td></td>\n",
       "      <td>본 발명에 따른 자동 위험표시장치는 차량의 위치 및 속도 데이터를 획득하는 GPS ...</td>\n",
       "    </tr>\n",
       "  </tbody>\n",
       "</table>\n",
       "</div>"
      ],
      "text/plain": [
       "0                                                 제목  \\\n",
       "1  5G 네트워크들 상에서 미디어 스트리밍 및 서비스들을 실행하기 위해 애플리케이션 제...   \n",
       "1  인터랙티브 미디어 제공 시스템 및 방법(System for providing the...   \n",
       "1  클라우드 자원 예측 장치 및 방법(APPARATUS AND METHOD FOR PR...   \n",
       "1  위상 양자 컴퓨터를 위한 헤테로접합의 사전 검사 및 조정(PRE-SCREENING ...   \n",
       "1  무선 통신을 이용한 뇌파/심박도 기반의 콘텐츠 추천 시스템 및 콘텐츠 추천 방법(C...   \n",
       "1  자기 스트라이프 데이터 전송 장치 및 방법(APPARATUS AND METHOD F...   \n",
       "1  크라우드 소싱을 이용한 선박 자동 식별 정보 검증 장치 및 방법(APPARATUS ...   \n",
       "1  색온도 가변형 스마트 엘이디 가로등 시스템(Smart LED streetlight ...   \n",
       "1  금융투자 서비스 제공 시스템, 이를 위한 서버 및 단말기(System for pro...   \n",
       "1  무선 통신 시스템에서 공간 파라미터 기반 신호 송수신 방법 및 장치(METHOD A...   \n",
       "1  범주형 회귀 분석을 이용한 건설현장의 위험작업구역의 접근 위험도 예측 시스템 및 그...   \n",
       "1  산업용 영상파일의 생성 관리 시스템 및 방법(Business-use image ma...   \n",
       "1  시공성을 고려한 자재선정 시스템(MATERIAL SELECTION SYSTEM CO...   \n",
       "1  노캐디 골프장 관제 시스템(SYSTEM FOR CONTROLLING GOLF COU...   \n",
       "1  딥 러닝을 위한 마스터 변환 아키텍처(MASTER TRANSFORM ARCHITEC...   \n",
       "1  수신자의 언어, 국제화 및 현지화 선호들에 기초하여 아웃고잉 메시지들을 발생시키는 ...   \n",
       "1  다중 스케일 뇌 네트워크 기능 모델링을 가능하게 하기 위한 공동 동적 인과 모델링 ...   \n",
       "1  견적 시스템, 견적 방법, 및 견적 프로그램을 기록한 기록 매체(ESTIMATION...   \n",
       "1  스파이킹 뉴럴 네트워크(SNN) 하드웨어에서 초저전력 소비를 위한 예측 방법, 이를...   \n",
       "1   보험상품 판매방법(A SALES PROCESS OF VARIABLE INSURANCE)   \n",
       "1  경제적 운전을 위한 연료전지 시스템 및 그 운전방법(FUEL CELL SYSTEM ...   \n",
       "1  3차원 의류 객체 생성 시스템 및 그 동작 방법(3-DIMENSION CLOTHIN...   \n",
       "1  스타일링 장치 및 이의 구동 방법(Styling device and the driv...   \n",
       "1  뉴럴 네트워크를 이용하여 제1 단말과 관련된 광고 기업 리스트를 제공하는 방법 및 ...   \n",
       "1  초개인화 자산 배분 전략 시스템(SYSTEM OF PROVIDING ASST MAN...   \n",
       "1  주차 단속 정보 제공 방법 및 디바이스(A METHOD AND DEVICE FOR ...   \n",
       "1  인공지능 기반 객체 추적 장치 및 방법(APPARATUS AND METHOD FOR...   \n",
       "1  방송 신호 송신 장치, 방송 신호 수신 장치, 방송 신호 송신 방법 및 방송 신호 ...   \n",
       "1  의지 보조기의 이용자와 제공자를 매칭하는 방법 및 디바이스(Method and de...   \n",
       "1  인공지능 및 GPS를 이용한 자동 위험표시장치(AUTOMATIC HAZARD IND...   \n",
       "\n",
       "0                                               출원인  피인용 횟수   \\\n",
       "1                                       텐센트 아메리카 엘엘씨       0   \n",
       "1                                          한국전자통신연구원       0   \n",
       "1                                          한국전자통신연구원       0   \n",
       "1                            마이크로소프트 테크놀로지 라이센싱, 엘엘씨       0   \n",
       "1                                            주식회사 소소       3   \n",
       "1                                           삼성전자주식회사       0   \n",
       "1                                          한국전자통신연구원       1   \n",
       "1                  케이디지전자 주식회사\\n, 금오공과대학교 산학협력단\\n더보기       3   \n",
       "1                                       주식회사 카카오페이증권       0   \n",
       "1                                          엘지전자 주식회사       0   \n",
       "1                                        인하대학교 산학협력단       0   \n",
       "1                                          와이즈다임 (주)       0   \n",
       "1                                        경북대학교 산학협력단       0   \n",
       "1                                          주식회사 센서웨이       1   \n",
       "1                                         엔비디아 코포레이션       0   \n",
       "1                                             구글 엘엘씨       0   \n",
       "1   이진형\\n, 리우 친 , 무틀루 오누르 세즈미 , 더 보드 오브 트러스티스 오브 ...       0   \n",
       "1                                          미스미 코포레이숀       0   \n",
       "1                                        경북대학교 산학협력단       0   \n",
       "1                                           에프앤 주식회사       0   \n",
       "1                                         주식회사 코텍에너지       0   \n",
       "1                                        주식회사 엘지유플러스       0   \n",
       "1                                    조수경\\n, 조규혁\\n더보기       0   \n",
       "1                                         주식회사 조이마케팅       0   \n",
       "1                                        주식회사 바인투자자문       0   \n",
       "1                                                이경민       0   \n",
       "1                                           (주)이앤제너텍       0   \n",
       "1                                          엘지전자 주식회사       1   \n",
       "1                                                고창용       0   \n",
       "1                                          코우테크 주식회사       0   \n",
       "\n",
       "0                                               IPC   \\\n",
       "1    [H04L 67/51, H04L 67/56, H04L 67/60, H04W 4/50]   \n",
       "1             [H04N 21/422, H04N 21/854, G06Q 50/00]   \n",
       "1     [G06F 9/50, G06F 9/455, G06N 3/08, G06N 20/00]   \n",
       "1  [G06N 10/40, G06N 10/20, G06F 9/30, G06F 15/82...   \n",
       "1                            [G06F 3/01, G06Q 50/10]   \n",
       "1  [G06K 7/08, G06Q 20/20, H04B 5/00, G07G 1/00, ...   \n",
       "1                            [H04L 9/40, H04L 12/26]   \n",
       "1  [H05B 44/00, H05B 45/00, H04L 29/08, F21S 8/08...   \n",
       "1  [G06Q 40/06, G06Q 40/02, G06Q 40/04, G06F 3/04...   \n",
       "1  [H04W 72/04, H04W 8/22, H04B 7/06, H04B 7/08, ...   \n",
       "1               [G06Q 50/08, G06F 17/18, G06Q 10/06]   \n",
       "1                                       [G06Q 50/10]   \n",
       "1  [G06Q 50/08, G06Q 30/06, G06Q 30/00, G06Q 30/0...   \n",
       "1  [A63B 24/00, A63B 71/06, H04L 41/00, A63B 69/3...   \n",
       "1  [G06F 9/50, G06F 9/38, G06F 12/0813, G06F 12/0...   \n",
       "1                           [H04L 51/00, G06F 40/40]   \n",
       "1  [A61B 5/00, A61B 5/055, A61B 5/374, G06N 20/00...   \n",
       "1   [G06Q 50/04, G06Q 30/06, G06Q 30/02, G06F 30/10]   \n",
       "1                            [G06N 3/063, G06N 3/04]   \n",
       "1                                       [G06Q 40/08]   \n",
       "1  [H01M 8/04858, H01M 8/04007, H01M 8/0432, H01M...   \n",
       "1  [G06T 19/20, G06T 11/60, G06T 17/00, G06Q 30/0...   \n",
       "1  [G06Q 50/10, G06Q 30/06, G06Q 50/00, G06T 13/4...   \n",
       "1  [G06Q 30/02, G06N 20/00, G06F 16/951, G06F 16/...   \n",
       "1    [G06Q 40/06, G06Q 40/00, G06Q 50/30, A61B 5/00]   \n",
       "1  [G06Q 50/26, G06Q 50/30, G08G 1/017, G06F 40/2...   \n",
       "1  [G06T 7/292, G06T 7/11, G06N 3/08, G06V 40/10,...   \n",
       "1                            [H04L 1/00, H04L 27/26]   \n",
       "1               [G06Q 30/06, G06Q 30/08, G06Q 30/02]   \n",
       "1  [B60Q 1/52, B60Q 9/00, B60Q 1/00, G01C 21/34, ...   \n",
       "\n",
       "0                    출원번호(일자)                         최종권리자   \\\n",
       "1   1020227034694 (2021.10.12)                                 \n",
       "1   1020160061636 (2016.05.19)                     한국전자통신연구원   \n",
       "1   1020200182281 (2020.12.23)                                 \n",
       "1   1020227034304 (2021.01.20)                                 \n",
       "1   1020150059735 (2015.04.28)                       주식회사 소소   \n",
       "1   1020160057176 (2016.05.10)                                 \n",
       "1   1020150050095 (2015.04.09)                     한국전자통신연구원   \n",
       "1   1020160055286 (2016.05.04)   케이디지전자 주식회사 , 금오공과대학교 산학협력단   \n",
       "1   1020200173611 (2020.12.11)                                 \n",
       "1   1020227024474 (2021.03.05)                                 \n",
       "1   1020200168551 (2020.12.04)                                 \n",
       "1   1020150023695 (2015.02.16)                     와이즈다임 (주)   \n",
       "1   1020200164601 (2020.11.30)                   경북대학교 산학협력단   \n",
       "1   1020160026456 (2016.03.04)                     주식회사 센서웨이   \n",
       "1   1020227016254 (2020.12.15)                                 \n",
       "1   1020147022595 (2013.01.14)                        구글 엘엘씨   \n",
       "1   1020227013844 (2020.09.30)                                 \n",
       "1   1020227004844 (2021.02.10)                     미스미 코포레이숀   \n",
       "1   1020200137811 (2020.10.22)                                 \n",
       "1   1020140183015 (2014.12.18)                                 \n",
       "1   1020220117214 (2022.09.16)                    주식회사 코텍에너지   \n",
       "1   1020200131781 (2020.10.13)                                 \n",
       "1   1020200127131 (2020.09.29)                     조수경 , 조규혁   \n",
       "1   1020220074714 (2022.06.20)                    주식회사 조이마케팅   \n",
       "1   1020220074394 (2022.06.17)                   주식회사 바인투자자문   \n",
       "1   1020200124591 (2020.09.25)                           이경민   \n",
       "1   1020220066214 (2022.05.30)                      (주)이앤제너텍   \n",
       "1   1020157033486 (2014.06.17)                     엘지전자 주식회사   \n",
       "1   1020200124511 (2020.09.25)                                 \n",
       "1   1020200123881 (2020.09.24)                                 \n",
       "\n",
       "0                                                 요약  \n",
       "1  방법이 제공된다. 방법은 5세대 미디어 스트리밍(5GMS) 애플리케이션 제공자에 의...  \n",
       "1  본 발명은 인터랙티브 미디어 제공 시스템 및 방법에 관한 것으로서, 본 발명의 실시...  \n",
       "1  클라우드 자원 예측 장치 및 방법이 개시된다. 본 발명의 일실시예에 따른 클라우드 ...  \n",
       "1  위상 양자 컴퓨터의 큐비트 레지스터에 사용하기 위한 반도체-초전도체 헤테로접합을 평...  \n",
       "1  무선 통신을 이용한 뇌파/심박도 기반의 콘텐츠 추천 시스템 및 콘텐츠 추천 방법에 ...  \n",
       "1  본 발명은 데이터를 송신하기 위한 장치에 관한 것으로, 특히 자기 스트라이프(Mag...  \n",
       "1  크라우드 소싱 기법을 이용한 선박 자동 식별 정보 검증 장치 및 방법이 개시된다. ...  \n",
       "1  색온도 가변형 스마트 엘이디 가로등 시스템은, 외부로부터의 기후정보를 토대로 가시거...  \n",
       "1  본 기술은 금융투자 서비스 제공 시스템, 이를 위한 서버 및 단말기에 관한 것이다....  \n",
       "1  무선 통신 시스템에서 공간 파라미터에 기초하여 신호를 송수신하는 방법 및 장치가 개...  \n",
       "1  본 발명은 범주형 회귀 분석을 이용한 건설현장의 위험작업구역의 접근 위험도 예측 시...  \n",
       "1  본 발명은 산업용 영상파일을 슬림화하며, 보호하고, 영상에 나타난 특이 사항 정보가...  \n",
       "1  일 실시예에 따른 녹색건축인증 건축 모델을 위한 시공성을 고려한 자재선정 시스템은 ...  \n",
       "1  노캐디 골프장 관제 시스템이 개시된다. 본 발명의 일실시예에 따른 노캐디 골프장 관...  \n",
       "1  신경망들을 훈련하기 위한 입력 데이터를 변환하기 위한 장치들, 시스템들, 및 기법들...  \n",
       "1  본 발명의 여러 실시예들에 따라, 아웃고잉 메시지들을 발생시키기 위한 기술들이 개시...  \n",
       "1  뇌 기능의 조합된 동적 인과 모델링 및 생물 물리학 모델링을 위한, 컴퓨터 저장 매...  \n",
       "1  복수의 요소로 구성되는 물품의 형상 데이터를 클라이언트 단말로부터 받아들여 당해 물...  \n",
       "1  스파이킹 뉴럴 네트워크(SNN) 하드웨어에서 초저전력 소비를 위한 예측 방법은, 매...  \n",
       "1  보험상품 판매방법이 개시된다. 보험상품 판매방법은 고객의 이름, 나이, 주소, 소속...  \n",
       "1  본 발명은 경제성 운전을 위한 연료전지 시스템 및 그 운전방법에 관한 것으로서, 보...  \n",
       "1  3차원 의류 객체 생성 시스템이 개시된다. 3차원 의류 객체 생성 시스템은, 입력 ...  \n",
       "1  본 발명은 디스플레이 화면에 표출되는 자신의 더미 또는 모습에 다양한 의복, 화장법...  \n",
       "1  실시예들은 서버가 뉴럴 네트워크(neural network)를 이용하여 사용자와 관...  \n",
       "1  고객 단말로부터 자산관리 기초정보를 수신하고, 상기 자산관리 기초정보를 이용하여 자...  \n",
       "1  일 실시 예에 따르면, 주차 단속 정보 제공 방법에 있어서, 복수의 회원 계정에 대...  \n",
       "1  본 발명은 인공지능 기반 객체 추적 장치 및 방법에 관한 것으로, 일 실시예에 따르...  \n",
       "1  방송 신호 송신 방법 및 장치가 제공된다. 방송 신호 송신 방법은 코드 레이트에 따...  \n",
       "1  의지 보조기의 이용자와 제공자를 매칭하는 방법에 있어서 상기 의지 보조기의 이용 부...  \n",
       "1  본 발명에 따른 자동 위험표시장치는 차량의 위치 및 속도 데이터를 획득하는 GPS ...  "
      ]
     },
     "execution_count": 32,
     "metadata": {},
     "output_type": "execute_result"
    }
   ],
   "source": [
    "a"
   ]
  },
  {
   "cell_type": "code",
   "execution_count": 33,
   "metadata": {
    "scrolled": true
   },
   "outputs": [
    {
     "name": "stderr",
     "output_type": "stream",
     "text": [
      "  3%|██▌                                                                         | 349/10270 [15:09<5:17:34,  1.92s/it]"
     ]
    },
    {
     "name": "stdout",
     "output_type": "stream",
     "text": [
      "349\n"
     ]
    },
    {
     "name": "stderr",
     "output_type": "stream",
     "text": [
      "  4%|██▊                                                                         | 378/10270 [16:11<5:27:56,  1.99s/it]"
     ]
    },
    {
     "name": "stdout",
     "output_type": "stream",
     "text": [
      "378\n"
     ]
    },
    {
     "name": "stderr",
     "output_type": "stream",
     "text": [
      "  4%|███                                                                         | 406/10270 [17:11<5:53:39,  2.15s/it]"
     ]
    },
    {
     "name": "stdout",
     "output_type": "stream",
     "text": [
      "406\n"
     ]
    },
    {
     "name": "stderr",
     "output_type": "stream",
     "text": [
      "  4%|███▎                                                                        | 452/10270 [18:51<5:46:42,  2.12s/it]"
     ]
    },
    {
     "name": "stdout",
     "output_type": "stream",
     "text": [
      "452\n"
     ]
    },
    {
     "name": "stderr",
     "output_type": "stream",
     "text": [
      "  5%|███▍                                                                        | 465/10270 [19:19<5:56:12,  2.18s/it]"
     ]
    },
    {
     "name": "stdout",
     "output_type": "stream",
     "text": [
      "465\n"
     ]
    },
    {
     "name": "stderr",
     "output_type": "stream",
     "text": [
      "  5%|███▌                                                                        | 479/10270 [19:50<5:31:11,  2.03s/it]"
     ]
    },
    {
     "name": "stdout",
     "output_type": "stream",
     "text": [
      "479\n"
     ]
    },
    {
     "name": "stderr",
     "output_type": "stream",
     "text": [
      "  6%|████▏                                                                       | 574/10270 [23:15<5:44:37,  2.13s/it]"
     ]
    },
    {
     "name": "stdout",
     "output_type": "stream",
     "text": [
      "574\n"
     ]
    },
    {
     "name": "stderr",
     "output_type": "stream",
     "text": [
      "  8%|█████▋                                                                      | 771/10270 [31:13<5:04:24,  1.92s/it]"
     ]
    },
    {
     "name": "stdout",
     "output_type": "stream",
     "text": [
      "771\n"
     ]
    },
    {
     "name": "stderr",
     "output_type": "stream",
     "text": [
      "  8%|██████                                                                      | 826/10270 [33:15<5:30:05,  2.10s/it]"
     ]
    },
    {
     "name": "stdout",
     "output_type": "stream",
     "text": [
      "826\n"
     ]
    },
    {
     "name": "stderr",
     "output_type": "stream",
     "text": [
      "  9%|██████▍                                                                     | 878/10270 [35:07<5:00:57,  1.92s/it]"
     ]
    },
    {
     "name": "stdout",
     "output_type": "stream",
     "text": [
      "878\n"
     ]
    },
    {
     "name": "stderr",
     "output_type": "stream",
     "text": [
      "  9%|██████▌                                                                     | 894/10270 [36:03<9:18:42,  3.58s/it]"
     ]
    },
    {
     "name": "stdout",
     "output_type": "stream",
     "text": [
      "894\n"
     ]
    },
    {
     "name": "stderr",
     "output_type": "stream",
     "text": [
      "  9%|███████                                                                     | 962/10270 [38:34<5:34:37,  2.16s/it]"
     ]
    },
    {
     "name": "stdout",
     "output_type": "stream",
     "text": [
      "962\n"
     ]
    },
    {
     "name": "stderr",
     "output_type": "stream",
     "text": [
      " 11%|████████                                                                   | 1104/10270 [43:50<5:14:04,  2.06s/it]"
     ]
    },
    {
     "name": "stdout",
     "output_type": "stream",
     "text": [
      "1104\n"
     ]
    },
    {
     "name": "stderr",
     "output_type": "stream",
     "text": [
      " 12%|████████▉                                                                  | 1222/10270 [48:10<4:57:30,  1.97s/it]"
     ]
    },
    {
     "name": "stdout",
     "output_type": "stream",
     "text": [
      "1222\n"
     ]
    },
    {
     "name": "stderr",
     "output_type": "stream",
     "text": [
      " 12%|████████▉                                                                  | 1229/10270 [48:25<5:21:42,  2.13s/it]"
     ]
    },
    {
     "name": "stdout",
     "output_type": "stream",
     "text": [
      "1229\n"
     ]
    },
    {
     "name": "stderr",
     "output_type": "stream",
     "text": [
      " 13%|█████████▉                                                                 | 1365/10270 [53:27<4:49:36,  1.95s/it]"
     ]
    },
    {
     "name": "stdout",
     "output_type": "stream",
     "text": [
      "1365\n"
     ]
    },
    {
     "name": "stderr",
     "output_type": "stream",
     "text": [
      " 14%|██████████▍                                                                | 1434/10270 [56:23<5:09:20,  2.10s/it]"
     ]
    },
    {
     "name": "stdout",
     "output_type": "stream",
     "text": [
      "1434\n"
     ]
    },
    {
     "name": "stderr",
     "output_type": "stream",
     "text": [
      " 15%|██████████▉                                                                | 1491/10270 [58:32<5:24:48,  2.22s/it]"
     ]
    },
    {
     "name": "stdout",
     "output_type": "stream",
     "text": [
      "1491\n"
     ]
    },
    {
     "name": "stderr",
     "output_type": "stream",
     "text": [
      " 16%|███████████▉                                                             | 1678/10270 [1:05:31<5:05:22,  2.13s/it]"
     ]
    },
    {
     "name": "stdout",
     "output_type": "stream",
     "text": [
      "1678\n"
     ]
    },
    {
     "name": "stderr",
     "output_type": "stream",
     "text": [
      " 16%|███████████▉                                                             | 1682/10270 [1:05:40<5:12:00,  2.18s/it]"
     ]
    },
    {
     "name": "stdout",
     "output_type": "stream",
     "text": [
      "1682\n"
     ]
    },
    {
     "name": "stderr",
     "output_type": "stream",
     "text": [
      " 17%|████████████▏                                                            | 1708/10270 [1:06:38<5:19:04,  2.24s/it]"
     ]
    },
    {
     "name": "stdout",
     "output_type": "stream",
     "text": [
      "1708\n"
     ]
    },
    {
     "name": "stderr",
     "output_type": "stream",
     "text": [
      " 18%|█████████████                                                            | 1833/10270 [1:11:17<4:47:09,  2.04s/it]"
     ]
    },
    {
     "name": "stdout",
     "output_type": "stream",
     "text": [
      "1833\n"
     ]
    },
    {
     "name": "stderr",
     "output_type": "stream",
     "text": [
      " 22%|███████████████▋                                                         | 2215/10270 [1:26:45<5:00:26,  2.24s/it]"
     ]
    },
    {
     "name": "stdout",
     "output_type": "stream",
     "text": [
      "2215\n"
     ]
    },
    {
     "name": "stderr",
     "output_type": "stream",
     "text": [
      " 22%|████████████████▏                                                        | 2271/10270 [1:28:50<4:50:37,  2.18s/it]"
     ]
    },
    {
     "name": "stdout",
     "output_type": "stream",
     "text": [
      "2271\n"
     ]
    },
    {
     "name": "stderr",
     "output_type": "stream",
     "text": [
      " 23%|████████████████▋                                                        | 2351/10270 [1:31:49<4:50:43,  2.20s/it]"
     ]
    },
    {
     "name": "stdout",
     "output_type": "stream",
     "text": [
      "2351\n"
     ]
    },
    {
     "name": "stderr",
     "output_type": "stream",
     "text": [
      " 23%|█████████████████▏                                                       | 2410/10270 [1:34:01<4:37:17,  2.12s/it]"
     ]
    },
    {
     "name": "stdout",
     "output_type": "stream",
     "text": [
      "2410\n"
     ]
    },
    {
     "name": "stderr",
     "output_type": "stream",
     "text": [
      " 24%|█████████████████▎                                                       | 2431/10270 [1:34:48<4:31:06,  2.08s/it]"
     ]
    },
    {
     "name": "stdout",
     "output_type": "stream",
     "text": [
      "2431\n"
     ]
    },
    {
     "name": "stderr",
     "output_type": "stream",
     "text": [
      " 24%|█████████████████▍                                                       | 2449/10270 [1:35:27<4:47:18,  2.20s/it]"
     ]
    },
    {
     "name": "stdout",
     "output_type": "stream",
     "text": [
      "2449\n"
     ]
    },
    {
     "name": "stderr",
     "output_type": "stream",
     "text": [
      " 24%|█████████████████▍                                                       | 2459/10270 [1:35:48<4:21:32,  2.01s/it]"
     ]
    },
    {
     "name": "stdout",
     "output_type": "stream",
     "text": [
      "2459\n"
     ]
    },
    {
     "name": "stderr",
     "output_type": "stream",
     "text": [
      " 24%|█████████████████▌                                                       | 2475/10270 [1:36:23<4:34:08,  2.11s/it]"
     ]
    },
    {
     "name": "stdout",
     "output_type": "stream",
     "text": [
      "2475\n"
     ]
    },
    {
     "name": "stderr",
     "output_type": "stream",
     "text": [
      " 24%|█████████████████▋                                                       | 2491/10270 [1:36:58<4:40:21,  2.16s/it]"
     ]
    },
    {
     "name": "stdout",
     "output_type": "stream",
     "text": [
      "2491\n"
     ]
    },
    {
     "name": "stderr",
     "output_type": "stream",
     "text": [
      " 24%|█████████████████▋                                                       | 2495/10270 [1:37:07<4:34:59,  2.12s/it]"
     ]
    },
    {
     "name": "stdout",
     "output_type": "stream",
     "text": [
      "2495\n"
     ]
    },
    {
     "name": "stderr",
     "output_type": "stream",
     "text": [
      " 25%|█████████████████▉                                                       | 2522/10270 [1:38:06<4:37:07,  2.15s/it]"
     ]
    },
    {
     "name": "stdout",
     "output_type": "stream",
     "text": [
      "2522\n"
     ]
    },
    {
     "name": "stderr",
     "output_type": "stream",
     "text": [
      " 25%|██████████████████                                                       | 2547/10270 [1:39:02<4:36:00,  2.14s/it]"
     ]
    },
    {
     "name": "stdout",
     "output_type": "stream",
     "text": [
      "2547\n"
     ]
    },
    {
     "name": "stderr",
     "output_type": "stream",
     "text": [
      " 25%|██████████████████▍                                                      | 2601/10270 [1:41:01<4:24:31,  2.07s/it]"
     ]
    },
    {
     "name": "stdout",
     "output_type": "stream",
     "text": [
      "2601\n"
     ]
    },
    {
     "name": "stderr",
     "output_type": "stream",
     "text": [
      " 26%|███████████████████▎                                                     | 2712/10270 [1:45:08<4:25:50,  2.11s/it]"
     ]
    },
    {
     "name": "stdout",
     "output_type": "stream",
     "text": [
      "2712\n"
     ]
    },
    {
     "name": "stderr",
     "output_type": "stream",
     "text": [
      " 27%|███████████████████▉                                                     | 2811/10270 [1:48:49<4:11:47,  2.03s/it]"
     ]
    },
    {
     "name": "stdout",
     "output_type": "stream",
     "text": [
      "2811\n"
     ]
    },
    {
     "name": "stderr",
     "output_type": "stream",
     "text": [
      " 28%|████████████████████▌                                                    | 2892/10270 [1:51:49<4:29:21,  2.19s/it]"
     ]
    },
    {
     "name": "stdout",
     "output_type": "stream",
     "text": [
      "2892\n"
     ]
    },
    {
     "name": "stderr",
     "output_type": "stream",
     "text": [
      " 30%|█████████████████████▋                                                   | 3045/10270 [1:57:36<4:27:00,  2.22s/it]"
     ]
    },
    {
     "name": "stdout",
     "output_type": "stream",
     "text": [
      "3045\n"
     ]
    },
    {
     "name": "stderr",
     "output_type": "stream",
     "text": [
      " 31%|██████████████████████▎                                                  | 3138/10270 [2:01:08<4:10:41,  2.11s/it]"
     ]
    },
    {
     "name": "stdout",
     "output_type": "stream",
     "text": [
      "3138\n"
     ]
    },
    {
     "name": "stderr",
     "output_type": "stream",
     "text": [
      " 32%|███████████████████████▏                                                 | 3261/10270 [2:05:54<4:30:46,  2.32s/it]"
     ]
    },
    {
     "name": "stdout",
     "output_type": "stream",
     "text": [
      "3261\n"
     ]
    },
    {
     "name": "stderr",
     "output_type": "stream",
     "text": [
      " 32%|███████████████████████▎                                                 | 3280/10270 [2:06:39<4:30:00,  2.32s/it]"
     ]
    },
    {
     "name": "stdout",
     "output_type": "stream",
     "text": [
      "3280\n"
     ]
    },
    {
     "name": "stderr",
     "output_type": "stream",
     "text": [
      " 32%|███████████████████████▍                                                 | 3296/10270 [2:07:16<4:27:13,  2.30s/it]"
     ]
    },
    {
     "name": "stdout",
     "output_type": "stream",
     "text": [
      "3296\n"
     ]
    },
    {
     "name": "stderr",
     "output_type": "stream",
     "text": [
      " 33%|███████████████████████▉                                                 | 3365/10270 [2:09:59<4:19:11,  2.25s/it]"
     ]
    },
    {
     "name": "stdout",
     "output_type": "stream",
     "text": [
      "3365\n"
     ]
    },
    {
     "name": "stderr",
     "output_type": "stream",
     "text": [
      " 33%|████████████████████████▏                                                | 3397/10270 [2:11:16<4:42:25,  2.47s/it]"
     ]
    },
    {
     "name": "stdout",
     "output_type": "stream",
     "text": [
      "3397\n"
     ]
    },
    {
     "name": "stderr",
     "output_type": "stream",
     "text": [
      " 33%|████████████████████████▏                                                | 3402/10270 [2:11:27<4:08:42,  2.17s/it]"
     ]
    },
    {
     "name": "stdout",
     "output_type": "stream",
     "text": [
      "3402\n"
     ]
    },
    {
     "name": "stderr",
     "output_type": "stream",
     "text": [
      " 37%|██████████████████████████▉                                              | 3783/10270 [2:26:26<3:43:22,  2.07s/it]"
     ]
    },
    {
     "name": "stdout",
     "output_type": "stream",
     "text": [
      "3783\n"
     ]
    },
    {
     "name": "stderr",
     "output_type": "stream",
     "text": [
      " 43%|███████████████████████████████▍                                         | 4425/10270 [2:50:35<3:26:07,  2.12s/it]"
     ]
    },
    {
     "name": "stdout",
     "output_type": "stream",
     "text": [
      "4425\n"
     ]
    },
    {
     "name": "stderr",
     "output_type": "stream",
     "text": [
      " 44%|███████████████████████████████▉                                         | 4499/10270 [2:53:20<3:29:16,  2.18s/it]"
     ]
    },
    {
     "name": "stdout",
     "output_type": "stream",
     "text": [
      "4499\n"
     ]
    },
    {
     "name": "stderr",
     "output_type": "stream",
     "text": [
      " 53%|██████████████████████████████████████▌                                  | 5418/10270 [3:27:47<2:57:12,  2.19s/it]"
     ]
    },
    {
     "name": "stdout",
     "output_type": "stream",
     "text": [
      "5418\n"
     ]
    },
    {
     "name": "stderr",
     "output_type": "stream",
     "text": [
      " 53%|██████████████████████████████████████▌                                  | 5421/10270 [3:27:54<3:00:36,  2.23s/it]"
     ]
    },
    {
     "name": "stdout",
     "output_type": "stream",
     "text": [
      "5421\n"
     ]
    },
    {
     "name": "stderr",
     "output_type": "stream",
     "text": [
      " 53%|██████████████████████████████████████▌                                  | 5431/10270 [3:28:17<2:56:11,  2.18s/it]"
     ]
    },
    {
     "name": "stdout",
     "output_type": "stream",
     "text": [
      "5431\n"
     ]
    },
    {
     "name": "stderr",
     "output_type": "stream",
     "text": [
      " 53%|██████████████████████████████████████▋                                  | 5446/10270 [3:28:51<3:03:00,  2.28s/it]"
     ]
    },
    {
     "name": "stdout",
     "output_type": "stream",
     "text": [
      "5446\n"
     ]
    },
    {
     "name": "stderr",
     "output_type": "stream",
     "text": [
      " 53%|██████████████████████████████████████▉                                  | 5483/10270 [3:30:17<2:54:54,  2.19s/it]"
     ]
    },
    {
     "name": "stdout",
     "output_type": "stream",
     "text": [
      "5483\n"
     ]
    },
    {
     "name": "stderr",
     "output_type": "stream",
     "text": [
      " 55%|███████████████████████████████████████▉                                 | 5614/10270 [3:35:44<2:59:03,  2.31s/it]"
     ]
    },
    {
     "name": "stdout",
     "output_type": "stream",
     "text": [
      "5614\n"
     ]
    },
    {
     "name": "stderr",
     "output_type": "stream",
     "text": [
      "\r",
      " 55%|███████████████████████████████████████▉                                 | 5615/10270 [3:35:46<2:43:44,  2.11s/it]"
     ]
    },
    {
     "name": "stdout",
     "output_type": "stream",
     "text": [
      "5615\n"
     ]
    },
    {
     "name": "stderr",
     "output_type": "stream",
     "text": [
      "\r",
      " 55%|███████████████████████████████████████▉                                 | 5616/10270 [3:35:48<2:40:56,  2.07s/it]"
     ]
    },
    {
     "name": "stdout",
     "output_type": "stream",
     "text": [
      "5616\n"
     ]
    },
    {
     "name": "stderr",
     "output_type": "stream",
     "text": [
      "\r",
      " 55%|███████████████████████████████████████▉                                 | 5617/10270 [3:35:50<2:39:45,  2.06s/it]"
     ]
    },
    {
     "name": "stdout",
     "output_type": "stream",
     "text": [
      "5617\n"
     ]
    },
    {
     "name": "stderr",
     "output_type": "stream",
     "text": [
      "\r",
      " 55%|███████████████████████████████████████▉                                 | 5618/10270 [3:35:52<2:31:08,  1.95s/it]"
     ]
    },
    {
     "name": "stdout",
     "output_type": "stream",
     "text": [
      "5618\n"
     ]
    },
    {
     "name": "stderr",
     "output_type": "stream",
     "text": [
      "\r",
      " 55%|███████████████████████████████████████▉                                 | 5619/10270 [3:35:53<2:18:12,  1.78s/it]"
     ]
    },
    {
     "name": "stdout",
     "output_type": "stream",
     "text": [
      "5619\n"
     ]
    },
    {
     "name": "stderr",
     "output_type": "stream",
     "text": [
      "\r",
      " 55%|███████████████████████████████████████▉                                 | 5620/10270 [3:35:55<2:23:22,  1.85s/it]"
     ]
    },
    {
     "name": "stdout",
     "output_type": "stream",
     "text": [
      "5620\n"
     ]
    },
    {
     "name": "stderr",
     "output_type": "stream",
     "text": [
      "\r",
      " 55%|███████████████████████████████████████▉                                 | 5621/10270 [3:35:57<2:32:15,  1.97s/it]"
     ]
    },
    {
     "name": "stdout",
     "output_type": "stream",
     "text": [
      "5621\n"
     ]
    },
    {
     "name": "stderr",
     "output_type": "stream",
     "text": [
      "\r",
      " 55%|███████████████████████████████████████▉                                 | 5622/10270 [3:35:59<2:20:39,  1.82s/it]"
     ]
    },
    {
     "name": "stdout",
     "output_type": "stream",
     "text": [
      "5622\n"
     ]
    },
    {
     "name": "stderr",
     "output_type": "stream",
     "text": [
      " 56%|████████████████████████████████████████▌                                | 5707/10270 [3:39:12<2:42:02,  2.13s/it]"
     ]
    },
    {
     "name": "stdout",
     "output_type": "stream",
     "text": [
      "5707\n"
     ]
    },
    {
     "name": "stderr",
     "output_type": "stream",
     "text": [
      " 57%|█████████████████████████████████████████▍                               | 5828/10270 [3:43:50<2:44:14,  2.22s/it]"
     ]
    },
    {
     "name": "stdout",
     "output_type": "stream",
     "text": [
      "5828\n"
     ]
    },
    {
     "name": "stderr",
     "output_type": "stream",
     "text": [
      " 59%|███████████████████████████████████████████                              | 6054/10270 [3:52:20<2:22:57,  2.03s/it]"
     ]
    },
    {
     "name": "stdout",
     "output_type": "stream",
     "text": [
      "6054\n"
     ]
    },
    {
     "name": "stderr",
     "output_type": "stream",
     "text": [
      " 61%|████████████████████████████████████████████▍                            | 6248/10270 [3:59:48<2:15:06,  2.02s/it]"
     ]
    },
    {
     "name": "stdout",
     "output_type": "stream",
     "text": [
      "6248\n"
     ]
    },
    {
     "name": "stderr",
     "output_type": "stream",
     "text": [
      " 63%|██████████████████████████████████████████████▏                          | 6491/10270 [4:09:16<2:12:14,  2.10s/it]"
     ]
    },
    {
     "name": "stdout",
     "output_type": "stream",
     "text": [
      "6491\n"
     ]
    },
    {
     "name": "stderr",
     "output_type": "stream",
     "text": [
      " 64%|██████████████████████████████████████████████▊                          | 6581/10270 [4:12:41<2:12:15,  2.15s/it]"
     ]
    },
    {
     "name": "stdout",
     "output_type": "stream",
     "text": [
      "6581\n"
     ]
    },
    {
     "name": "stderr",
     "output_type": "stream",
     "text": [
      " 66%|████████████████████████████████████████████████                         | 6759/10270 [4:19:33<2:00:51,  2.07s/it]"
     ]
    },
    {
     "name": "stdout",
     "output_type": "stream",
     "text": [
      "6759\n"
     ]
    },
    {
     "name": "stderr",
     "output_type": "stream",
     "text": [
      " 69%|██████████████████████████████████████████████████                       | 7042/10270 [4:30:33<2:02:03,  2.27s/it]"
     ]
    },
    {
     "name": "stdout",
     "output_type": "stream",
     "text": [
      "7042\n"
     ]
    },
    {
     "name": "stderr",
     "output_type": "stream",
     "text": [
      " 70%|███████████████████████████████████████████████████▎                     | 7227/10270 [4:37:43<1:47:46,  2.13s/it]"
     ]
    },
    {
     "name": "stdout",
     "output_type": "stream",
     "text": [
      "7227\n"
     ]
    },
    {
     "name": "stderr",
     "output_type": "stream",
     "text": [
      " 72%|████████████████████████████████████████████████████▌                    | 7400/10270 [4:44:29<1:46:45,  2.23s/it]"
     ]
    },
    {
     "name": "stdout",
     "output_type": "stream",
     "text": [
      "7400\n"
     ]
    },
    {
     "name": "stderr",
     "output_type": "stream",
     "text": [
      " 73%|████████████████████████████████████████████████████▉                    | 7448/10270 [4:46:19<1:43:49,  2.21s/it]"
     ]
    },
    {
     "name": "stdout",
     "output_type": "stream",
     "text": [
      "7448\n"
     ]
    },
    {
     "name": "stderr",
     "output_type": "stream",
     "text": [
      " 73%|████████████████████████████████████████████████████▉                    | 7454/10270 [4:46:33<1:50:55,  2.36s/it]"
     ]
    },
    {
     "name": "stdout",
     "output_type": "stream",
     "text": [
      "7454\n"
     ]
    },
    {
     "name": "stderr",
     "output_type": "stream",
     "text": [
      " 74%|█████████████████████████████████████████████████████▊                   | 7568/10270 [4:50:59<1:38:01,  2.18s/it]"
     ]
    },
    {
     "name": "stdout",
     "output_type": "stream",
     "text": [
      "7568\n"
     ]
    },
    {
     "name": "stderr",
     "output_type": "stream",
     "text": [
      " 78%|████████████████████████████████████████████████████████▋                | 7972/10270 [5:07:05<1:32:06,  2.40s/it]"
     ]
    },
    {
     "name": "stdout",
     "output_type": "stream",
     "text": [
      "7972\n"
     ]
    },
    {
     "name": "stderr",
     "output_type": "stream",
     "text": [
      " 78%|█████████████████████████████████████████████████████████▎               | 8061/10270 [5:10:38<1:18:01,  2.12s/it]"
     ]
    },
    {
     "name": "stdout",
     "output_type": "stream",
     "text": [
      "8061\n"
     ]
    },
    {
     "name": "stderr",
     "output_type": "stream",
     "text": [
      " 79%|█████████████████████████████████████████████████████████▉               | 8143/10270 [5:13:55<1:21:00,  2.29s/it]"
     ]
    },
    {
     "name": "stdout",
     "output_type": "stream",
     "text": [
      "8143\n"
     ]
    },
    {
     "name": "stderr",
     "output_type": "stream",
     "text": [
      " 79%|█████████████████████████████████████████████████████████▉               | 8146/10270 [5:14:01<1:16:04,  2.15s/it]"
     ]
    },
    {
     "name": "stdout",
     "output_type": "stream",
     "text": [
      "8146\n"
     ]
    },
    {
     "name": "stderr",
     "output_type": "stream",
     "text": [
      " 80%|██████████████████████████████████████████████████████████▏              | 8192/10270 [5:15:49<1:13:15,  2.12s/it]"
     ]
    },
    {
     "name": "stdout",
     "output_type": "stream",
     "text": [
      "8192\n"
     ]
    },
    {
     "name": "stderr",
     "output_type": "stream",
     "text": [
      " 80%|██████████████████████████████████████████████████████████▎              | 8211/10270 [5:16:35<1:20:57,  2.36s/it]"
     ]
    },
    {
     "name": "stdout",
     "output_type": "stream",
     "text": [
      "8211\n"
     ]
    },
    {
     "name": "stderr",
     "output_type": "stream",
     "text": [
      " 80%|██████████████████████████████████████████████████████████▍              | 8225/10270 [5:17:09<1:24:06,  2.47s/it]"
     ]
    },
    {
     "name": "stdout",
     "output_type": "stream",
     "text": [
      "8225\n"
     ]
    },
    {
     "name": "stderr",
     "output_type": "stream",
     "text": [
      " 82%|███████████████████████████████████████████████████████████▊             | 8406/10270 [5:24:26<1:16:46,  2.47s/it]"
     ]
    },
    {
     "name": "stdout",
     "output_type": "stream",
     "text": [
      "8406\n"
     ]
    },
    {
     "name": "stderr",
     "output_type": "stream",
     "text": [
      " 82%|███████████████████████████████████████████████████████████▉             | 8432/10270 [5:25:27<1:05:59,  2.15s/it]"
     ]
    },
    {
     "name": "stdout",
     "output_type": "stream",
     "text": [
      "8432\n"
     ]
    },
    {
     "name": "stderr",
     "output_type": "stream",
     "text": [
      " 83%|████████████████████████████████████████████████████████████▋            | 8546/10270 [5:30:05<1:03:40,  2.22s/it]"
     ]
    },
    {
     "name": "stdout",
     "output_type": "stream",
     "text": [
      "8546\n"
     ]
    },
    {
     "name": "stderr",
     "output_type": "stream",
     "text": [
      " 85%|████████████████████████████████████████████████████████████████           | 8772/10270 [5:39:15<59:01,  2.36s/it]"
     ]
    },
    {
     "name": "stdout",
     "output_type": "stream",
     "text": [
      "8772\n"
     ]
    },
    {
     "name": "stderr",
     "output_type": "stream",
     "text": [
      " 86%|████████████████████████████████████████████████████████████████▊          | 8871/10270 [5:43:30<58:37,  2.51s/it]"
     ]
    },
    {
     "name": "stdout",
     "output_type": "stream",
     "text": [
      "8871\n"
     ]
    },
    {
     "name": "stderr",
     "output_type": "stream",
     "text": [
      " 88%|█████████████████████████████████████████████████████████████████▋         | 8990/10270 [5:48:29<50:19,  2.36s/it]"
     ]
    },
    {
     "name": "stdout",
     "output_type": "stream",
     "text": [
      "8990\n"
     ]
    },
    {
     "name": "stderr",
     "output_type": "stream",
     "text": [
      " 90%|███████████████████████████████████████████████████████████████████▏       | 9205/10270 [5:57:31<39:34,  2.23s/it]"
     ]
    },
    {
     "name": "stdout",
     "output_type": "stream",
     "text": [
      "9205\n"
     ]
    },
    {
     "name": "stderr",
     "output_type": "stream",
     "text": [
      " 90%|███████████████████████████████████████████████████████████████████▌       | 9244/10270 [5:59:05<41:53,  2.45s/it]"
     ]
    },
    {
     "name": "stdout",
     "output_type": "stream",
     "text": [
      "9244\n"
     ]
    },
    {
     "name": "stderr",
     "output_type": "stream",
     "text": [
      " 90%|███████████████████████████████████████████████████████████████████▋       | 9262/10270 [5:59:49<39:34,  2.36s/it]"
     ]
    },
    {
     "name": "stdout",
     "output_type": "stream",
     "text": [
      "9262\n"
     ]
    },
    {
     "name": "stderr",
     "output_type": "stream",
     "text": [
      " 92%|████████████████████████████████████████████████████████████████████▊      | 9423/10270 [6:06:16<33:54,  2.40s/it]"
     ]
    },
    {
     "name": "stdout",
     "output_type": "stream",
     "text": [
      "9423\n"
     ]
    },
    {
     "name": "stderr",
     "output_type": "stream",
     "text": [
      " 96%|███████████████████████████████████████████████████████████████████████▊   | 9833/10270 [6:22:35<16:30,  2.27s/it]"
     ]
    },
    {
     "name": "stdout",
     "output_type": "stream",
     "text": [
      "9833\n"
     ]
    },
    {
     "name": "stderr",
     "output_type": "stream",
     "text": [
      " 99%|████████████████████████████████████████████████████████████████████████▉ | 10118/10270 [6:33:46<05:46,  2.28s/it]"
     ]
    },
    {
     "name": "stdout",
     "output_type": "stream",
     "text": [
      "10118\n"
     ]
    },
    {
     "name": "stderr",
     "output_type": "stream",
     "text": [
      "100%|█████████████████████████████████████████████████████████████████████████▋| 10231/10270 [6:38:06<01:26,  2.22s/it]"
     ]
    },
    {
     "name": "stdout",
     "output_type": "stream",
     "text": [
      "10231\n"
     ]
    },
    {
     "name": "stderr",
     "output_type": "stream",
     "text": [
      "100%|██████████████████████████████████████████████████████████████████████████| 10270/10270 [6:39:29<00:00,  2.33s/it]\n"
     ]
    }
   ],
   "source": [
    "for num in tqdm.tqdm(range(1,10271)):\n",
    "    try:\n",
    "        if num == 1:\n",
    "            df1 = crawling_final('IPC=[H04L + G06N + G06Q]',num)\n",
    "        else:\n",
    "            df1 = pd.concat([df1, crawling_final('IPC=[H04L + G06N + G06Q]',num)])\n",
    "            \n",
    "    except:\n",
    "        print(num)\n",
    "        continue\n",
    "        \n",
    "df2 = df1.copy()\n",
    "\n",
    "df2 = df2.reset_index(drop = True).copy()"
   ]
  },
  {
   "cell_type": "code",
   "execution_count": 35,
   "metadata": {},
   "outputs": [],
   "source": [
    "# df2.to_csv('Total_Patent.csv',encoding = 'utf-8-sig')"
   ]
  },
  {
   "cell_type": "code",
   "execution_count": 129,
   "metadata": {},
   "outputs": [
    {
     "data": {
      "text/html": [
       "<div>\n",
       "<style scoped>\n",
       "    .dataframe tbody tr th:only-of-type {\n",
       "        vertical-align: middle;\n",
       "    }\n",
       "\n",
       "    .dataframe tbody tr th {\n",
       "        vertical-align: top;\n",
       "    }\n",
       "\n",
       "    .dataframe thead th {\n",
       "        text-align: right;\n",
       "    }\n",
       "</style>\n",
       "<table border=\"1\" class=\"dataframe\">\n",
       "  <thead>\n",
       "    <tr style=\"text-align: right;\">\n",
       "      <th></th>\n",
       "      <th>제목</th>\n",
       "      <th>출원인</th>\n",
       "      <th>피인용 횟수</th>\n",
       "      <th>IPC</th>\n",
       "      <th>출원번호(일자)</th>\n",
       "      <th>최종권리자</th>\n",
       "      <th>요약</th>\n",
       "    </tr>\n",
       "  </thead>\n",
       "  <tbody>\n",
       "    <tr>\n",
       "      <th>0</th>\n",
       "      <td>거래 주소를 생성하기 위해 N개의 키 중 M개를 사용하는 다중 승인 시스템(MULT...</td>\n",
       "      <td>티제로 아이피, 엘엘씨</td>\n",
       "      <td>0</td>\n",
       "      <td>[G06Q 20/38, H04L 9/14, H04L 9/08, H04L 9/06]</td>\n",
       "      <td>1020207023678 (2019.01.17)</td>\n",
       "      <td></td>\n",
       "      <td>적어도 하나의 프로세서 및 적어도 하나의 프로세서에 통신 가능하게 결합되는 적어도 ...</td>\n",
       "    </tr>\n",
       "    <tr>\n",
       "      <th>1</th>\n",
       "      <td>비접촉식 카드의 암호화 인증을 위한 시스템 및 방법(SYSTEMS AND METHO...</td>\n",
       "      <td>캐피탈 원 서비시즈, 엘엘씨</td>\n",
       "      <td>0</td>\n",
       "      <td>[H04L 9/32, H04L 9/08, H04L 9/14, G06Q 20/20, ...</td>\n",
       "      <td>1020217008095 (2019.10.01)</td>\n",
       "      <td></td>\n",
       "      <td>전송 및 수신 디바이스 간의 데이터 전송을 위한 시스템 및 방법의 예시적인 실시형태...</td>\n",
       "    </tr>\n",
       "    <tr>\n",
       "      <th>2</th>\n",
       "      <td>분산 원장 네트워크에서 콘텐츠의 안전한 피어 투 피어 전송을 위한 시스템 및 방법(...</td>\n",
       "      <td>프리버스 에스.엘.</td>\n",
       "      <td>0</td>\n",
       "      <td>[H04L 67/63, G06Q 20/22, G06Q 20/06, G06Q 20/0...</td>\n",
       "      <td>1020227028088 (2020.01.16)</td>\n",
       "      <td></td>\n",
       "      <td>본 발명의 다른 측면은 DLT 네트워크에 안전하고 신뢰할 수 있으며 효율적인 방식으...</td>\n",
       "    </tr>\n",
       "    <tr>\n",
       "      <th>3</th>\n",
       "      <td>자동화된 장치 권한 설정 및 활성화(AUTOMATED DEVICE PROVISION...</td>\n",
       "      <td>헤드워터 리서치 엘엘씨</td>\n",
       "      <td>0</td>\n",
       "      <td>[H04L 9/32, H04L 9/40, G06Q 30/06, G06F 21/33]</td>\n",
       "      <td>1020117019884 (2010.01.18)</td>\n",
       "      <td>헤드워터 리서치 엘엘씨</td>\n",
       "      <td>서비스 정책 통신 시스템 및 방법을 위한 다양한 실시예가 개시된다. 일부 실시예에서...</td>\n",
       "    </tr>\n",
       "    <tr>\n",
       "      <th>4</th>\n",
       "      <td>블록체인을 기반으로 하는 공인인증서 발급시스템(Certificate issuance...</td>\n",
       "      <td>주식회사 코인플러그</td>\n",
       "      <td>4</td>\n",
       "      <td>[G06Q 20/38, G06Q 20/40, G06Q 40/02, G06Q 20/3...</td>\n",
       "      <td>1020150109320 (2015.08.03)</td>\n",
       "      <td>주식회사 코인플러그</td>\n",
       "      <td>본 발명은 공인인증서용 공개키 및 공인인증서용 개인키의 생성을 사용자가 운영하는 사...</td>\n",
       "    </tr>\n",
       "    <tr>\n",
       "      <th>...</th>\n",
       "      <td>...</td>\n",
       "      <td>...</td>\n",
       "      <td>...</td>\n",
       "      <td>...</td>\n",
       "      <td>...</td>\n",
       "      <td>...</td>\n",
       "      <td>...</td>\n",
       "    </tr>\n",
       "    <tr>\n",
       "      <th>305220</th>\n",
       "      <td>진폭및각도변조된방송신호들을복조하기위한회로</td>\n",
       "      <td>마그나폭스콘슈머일렉트로닉스캄파니</td>\n",
       "      <td>0</td>\n",
       "      <td>[H04H 40/18, H03D 5/00, H04L 27/34, H04L 27/00]</td>\n",
       "      <td>1019810002084 (1981.06.10)</td>\n",
       "      <td></td>\n",
       "      <td></td>\n",
       "    </tr>\n",
       "    <tr>\n",
       "      <th>305221</th>\n",
       "      <td>2진데이타비트블럭열을2진채널비트블럭열로코딩시키는방법(METHOD OF CODING ...</td>\n",
       "      <td>코닌클리케 필립스 엔.브이.</td>\n",
       "      <td>0</td>\n",
       "      <td>[H04L 25/49, G11B 20/14]</td>\n",
       "      <td>1019810002526 (1981.07.11)</td>\n",
       "      <td>코닌클리케 필립스 일렉트로닉스 엔.브이</td>\n",
       "      <td></td>\n",
       "    </tr>\n",
       "    <tr>\n",
       "      <th>305222</th>\n",
       "      <td>데이터통신씨스템</td>\n",
       "      <td>씨비에스 코퍼레이션</td>\n",
       "      <td>0</td>\n",
       "      <td>[H04L 25/26, H04L 12/403]</td>\n",
       "      <td>1019810002440 (1981.07.06)</td>\n",
       "      <td></td>\n",
       "      <td></td>\n",
       "    </tr>\n",
       "    <tr>\n",
       "      <th>305223</th>\n",
       "      <td>데이터전송시스템(DATA TRANSMISSION SYSTEM)</td>\n",
       "      <td>래칼콤석리밋티드</td>\n",
       "      <td>0</td>\n",
       "      <td>[H04L 7/00, H04L 7/04]</td>\n",
       "      <td>1019810000127 (1981.01.19)</td>\n",
       "      <td>래칼-콤석리밋티드</td>\n",
       "      <td></td>\n",
       "    </tr>\n",
       "    <tr>\n",
       "      <th>305224</th>\n",
       "      <td>시차재현데이터모템</td>\n",
       "      <td>플레세이오우버시이스리미티드</td>\n",
       "      <td>0</td>\n",
       "      <td>[H04L 7/027, H04L 27/38]</td>\n",
       "      <td>1019800003604 (1980.09.13)</td>\n",
       "      <td></td>\n",
       "      <td></td>\n",
       "    </tr>\n",
       "  </tbody>\n",
       "</table>\n",
       "<p>305225 rows × 7 columns</p>\n",
       "</div>"
      ],
      "text/plain": [
       "0                                                      제목                출원인   \\\n",
       "0       거래 주소를 생성하기 위해 N개의 키 중 M개를 사용하는 다중 승인 시스템(MULT...        티제로 아이피, 엘엘씨   \n",
       "1       비접촉식 카드의 암호화 인증을 위한 시스템 및 방법(SYSTEMS AND METHO...     캐피탈 원 서비시즈, 엘엘씨   \n",
       "2       분산 원장 네트워크에서 콘텐츠의 안전한 피어 투 피어 전송을 위한 시스템 및 방법(...          프리버스 에스.엘.   \n",
       "3       자동화된 장치 권한 설정 및 활성화(AUTOMATED DEVICE PROVISION...        헤드워터 리서치 엘엘씨   \n",
       "4       블록체인을 기반으로 하는 공인인증서 발급시스템(Certificate issuance...          주식회사 코인플러그   \n",
       "...                                                   ...                 ...   \n",
       "305220                             진폭및각도변조된방송신호들을복조하기위한회로   마그나폭스콘슈머일렉트로닉스캄파니   \n",
       "305221  2진데이타비트블럭열을2진채널비트블럭열로코딩시키는방법(METHOD OF CODING ...     코닌클리케 필립스 엔.브이.   \n",
       "305222                                           데이터통신씨스템          씨비에스 코퍼레이션   \n",
       "305223                 데이터전송시스템(DATA TRANSMISSION SYSTEM)            래칼콤석리밋티드   \n",
       "305224                                          시차재현데이터모템      플레세이오우버시이스리미티드   \n",
       "\n",
       "0      피인용 횟수                                                IPC   \\\n",
       "0            0      [G06Q 20/38, H04L 9/14, H04L 9/08, H04L 9/06]   \n",
       "1            0  [H04L 9/32, H04L 9/08, H04L 9/14, G06Q 20/20, ...   \n",
       "2            0  [H04L 67/63, G06Q 20/22, G06Q 20/06, G06Q 20/0...   \n",
       "3            0     [H04L 9/32, H04L 9/40, G06Q 30/06, G06F 21/33]   \n",
       "4            4  [G06Q 20/38, G06Q 20/40, G06Q 40/02, G06Q 20/3...   \n",
       "...        ...                                                ...   \n",
       "305220       0    [H04H 40/18, H03D 5/00, H04L 27/34, H04L 27/00]   \n",
       "305221       0                           [H04L 25/49, G11B 20/14]   \n",
       "305222       0                          [H04L 25/26, H04L 12/403]   \n",
       "305223       0                             [H04L 7/00, H04L 7/04]   \n",
       "305224       0                           [H04L 7/027, H04L 27/38]   \n",
       "\n",
       "0                         출원번호(일자)                   최종권리자   \\\n",
       "0        1020207023678 (2019.01.17)                           \n",
       "1        1020217008095 (2019.10.01)                           \n",
       "2        1020227028088 (2020.01.16)                           \n",
       "3        1020117019884 (2010.01.18)            헤드워터 리서치 엘엘씨   \n",
       "4        1020150109320 (2015.08.03)              주식회사 코인플러그   \n",
       "...                             ...                     ...   \n",
       "305220   1019810002084 (1981.06.10)                           \n",
       "305221   1019810002526 (1981.07.11)   코닌클리케 필립스 일렉트로닉스 엔.브이   \n",
       "305222   1019810002440 (1981.07.06)                           \n",
       "305223   1019810000127 (1981.01.19)               래칼-콤석리밋티드   \n",
       "305224   1019800003604 (1980.09.13)                           \n",
       "\n",
       "0                                                      요약  \n",
       "0       적어도 하나의 프로세서 및 적어도 하나의 프로세서에 통신 가능하게 결합되는 적어도 ...  \n",
       "1       전송 및 수신 디바이스 간의 데이터 전송을 위한 시스템 및 방법의 예시적인 실시형태...  \n",
       "2       본 발명의 다른 측면은 DLT 네트워크에 안전하고 신뢰할 수 있으며 효율적인 방식으...  \n",
       "3       서비스 정책 통신 시스템 및 방법을 위한 다양한 실시예가 개시된다. 일부 실시예에서...  \n",
       "4       본 발명은 공인인증서용 공개키 및 공인인증서용 개인키의 생성을 사용자가 운영하는 사...  \n",
       "...                                                   ...  \n",
       "305220                                                     \n",
       "305221                                                     \n",
       "305222                                                     \n",
       "305223                                                     \n",
       "305224                                                     \n",
       "\n",
       "[305225 rows x 7 columns]"
      ]
     },
     "execution_count": 129,
     "metadata": {},
     "output_type": "execute_result"
    }
   ],
   "source": [
    "df2"
   ]
  },
  {
   "cell_type": "code",
   "execution_count": 39,
   "metadata": {},
   "outputs": [],
   "source": [
    "df_missing = pd.read_csv('Missing.csv',header = None)"
   ]
  },
  {
   "cell_type": "code",
   "execution_count": 79,
   "metadata": {},
   "outputs": [],
   "source": [
    "Missing = df_missing.iloc[[i for i in range(193) if i%2 == 1]]"
   ]
  },
  {
   "cell_type": "code",
   "execution_count": 80,
   "metadata": {},
   "outputs": [
    {
     "data": {
      "text/plain": [
       "array(['349', '378', '406', '452', '465', '479', '574', '771', '826',\n",
       "       '878', '894', '962', '1104', '1222', '1229', '1365', '1434',\n",
       "       '1491', '1678', '1682', '1708', '1833', '2215', '2271', '2351',\n",
       "       '2410', '2431', '2449', '2459', '2475', '2491', '2495', '2522',\n",
       "       '2547', '2601', '2712', '2811', '2892', '3045', '3138', '3261',\n",
       "       '3280', '3296', '3365', '3397', '3402', '3783', '4425', '4499',\n",
       "       '5418', '5421', '5431', '5446', '5483', '5614', '5615', '5616',\n",
       "       '5617', '5618', '5619', '5620', '5621', '5622', '5707', '5828',\n",
       "       '6054', '6248', '6491', '6581', '6759', '7042', '7227', '7400',\n",
       "       '7448', '7454', '7568', '7972', '8061', '8143', '8146', '8192',\n",
       "       '8211', '8225', '8406', '8432', '8546', '8772', '8871', '8990',\n",
       "       '9205', '9244', '9262', '9423', '9833', '10118', '10231'],\n",
       "      dtype=object)"
      ]
     },
     "execution_count": 80,
     "metadata": {},
     "output_type": "execute_result"
    }
   ],
   "source": [
    "Missing[0].values"
   ]
  },
  {
   "cell_type": "code",
   "execution_count": 113,
   "metadata": {},
   "outputs": [],
   "source": [
    "num = 1\n",
    "\n",
    "def crawling_final_missing(Want,num):\n",
    "    \n",
    "\n",
    "    df_test_2 = pd.DataFrame()    \n",
    "\n",
    "    params_2['queryText'] = Want\n",
    "    params_2['expression'] = Want\n",
    "    params_2['historyQuery'] = Want\n",
    "    params_2['currentPage'] = num \n",
    "    r = requests.post('http://kpat.kipris.or.kr/kpat/searchLogina.do?next=MainSearch',headers = headers)\n",
    "    cookies_dict = {name : value for name, value in zip(r.cookies.keys(),r.cookies.values() )}\n",
    "\n",
    "    res = requests.post('http://kpat.kipris.or.kr/kpat/resulta.do',headers= headers,\n",
    "                         cookies=cookies_dict, data = params_2)\n",
    "\n",
    "    soup = BeautifulSoup(res.content, 'html.parser')\n",
    "\n",
    "\n",
    "\n",
    "    for num_2 in range(0,30):\n",
    "        if num_2 == 0:\n",
    "            df_final = soup.select('div#divRealContent'+str(num_2))\n",
    "        else:\n",
    "            df_final = soup.select('div#divRealContent'+str(num_2))\n",
    "    \n",
    "\n",
    "        three = [i.text.strip().split(':') for i in df_final[0].select('li.right_width')]\n",
    "        two = [i.text.strip().split(':') for i in df_final[0].select('li.left_width')]       \n",
    "        title = [['제목',soup.select('span.float_left input')[num_2]['title']]]\n",
    "        summary = [['요약',soup.select('div.search_txt')[num_2].text.replace('\\t','').replace('\\n','').replace('\\r','')]]\n",
    "\n",
    "\n",
    "        df_test = pd.DataFrame(title + three + two + summary).set_index(0)\n",
    "        \n",
    "\n",
    "        \n",
    "        lst_test = []\n",
    "        \n",
    "        # IPC 변환\n",
    "        for i in df_test.iloc[3,0].replace('\\n',' ').strip().replace('\\xa0','').split('  '):\n",
    "            if len(i) >= 1:\n",
    "                lst_test.append(i)\n",
    "            else:\n",
    "                pass\n",
    "            \n",
    "        lst_test =  np.array(lst_test).astype('object')\n",
    "        \n",
    "\n",
    "        if len(lst_test) == 0:\n",
    "            df_test.iloc[3,0] = ''\n",
    "        else:\n",
    "            \n",
    "            try: \n",
    "                if type(lst_test) ==int:\n",
    "                    pass\n",
    "                else:\n",
    "                    df_test.iloc[3,0] = ' '.join(map(str, lst_test))\n",
    "            except:\n",
    "                df_test.iloc[1,0] = ''.join(a.iloc[1])\n",
    "                df_test = df_test.iloc[:,[0]]\n",
    "            \n",
    "\n",
    "            \n",
    "            \n",
    "        lst_test = []\n",
    "        \n",
    "        \n",
    "        \n",
    "        # 피인용횟수 변환\n",
    "        for i in df_test.iloc[2,0].replace('\\n',' ').strip().replace('\\xa0','').split('  '):\n",
    "            if len(i) >= 1:\n",
    "                lst_test.append(i[0])\n",
    "            else:\n",
    "                lst_test.append(0)\n",
    "                \n",
    "        df_test.iloc[2,0] = lst_test[0]        \n",
    "\n",
    "        df_test = df_test.T\n",
    "        \n",
    "        if num_2 == 0:\n",
    "            df_test_2 = df_test.copy()\n",
    "        else:\n",
    "            df_test_2 = pd.concat([df_test_2, df_test],axis=0)\n",
    "            \n",
    "            \n",
    "    \n",
    "        \n",
    "    \n",
    "    return df_test_2"
   ]
  },
  {
   "cell_type": "code",
   "execution_count": 102,
   "metadata": {},
   "outputs": [],
   "source": [
    "Missing_value = [int(i) for i in Missing[0].values]"
   ]
  },
  {
   "cell_type": "code",
   "execution_count": 105,
   "metadata": {},
   "outputs": [
    {
     "data": {
      "text/plain": [
       "349"
      ]
     },
     "execution_count": 105,
     "metadata": {},
     "output_type": "execute_result"
    }
   ],
   "source": [
    "Missing_value[0]"
   ]
  },
  {
   "cell_type": "code",
   "execution_count": 122,
   "metadata": {},
   "outputs": [
    {
     "data": {
      "text/plain": [
       "378"
      ]
     },
     "execution_count": 122,
     "metadata": {},
     "output_type": "execute_result"
    }
   ],
   "source": [
    "Missing_value[]"
   ]
  },
  {
   "cell_type": "code",
   "execution_count": 125,
   "metadata": {
    "scrolled": true
   },
   "outputs": [
    {
     "name": "stderr",
     "output_type": "stream",
     "text": [
      "100%|██████████████████████████████████████████████████████████████████████████████████| 96/96 [03:48<00:00,  2.38s/it]\n"
     ]
    }
   ],
   "source": [
    "\n",
    "\n",
    "\n",
    "for num in tqdm.tqdm(Missing_value):\n",
    "    try:\n",
    "        if num == 349:\n",
    "            df_missing= crawling_final_missing('IPC=[H04L + G06N + G06Q]',num)\n",
    "        else:\n",
    "            df_missing = pd.concat([df_missing, crawling_final_missing('IPC=[H04L + G06N + G06Q]',num)])\n",
    "            \n",
    "    except:\n",
    "        print(num)\n",
    "        continue\n",
    "\n",
    "        \n",
    "df_missing_2 = df_missing.copy()\n",
    "df_missing_2 = df_missing_2.reset_index(drop = True).copy()"
   ]
  },
  {
   "cell_type": "code",
   "execution_count": 127,
   "metadata": {},
   "outputs": [
    {
     "data": {
      "text/html": [
       "<div>\n",
       "<style scoped>\n",
       "    .dataframe tbody tr th:only-of-type {\n",
       "        vertical-align: middle;\n",
       "    }\n",
       "\n",
       "    .dataframe tbody tr th {\n",
       "        vertical-align: top;\n",
       "    }\n",
       "\n",
       "    .dataframe thead th {\n",
       "        text-align: right;\n",
       "    }\n",
       "</style>\n",
       "<table border=\"1\" class=\"dataframe\">\n",
       "  <thead>\n",
       "    <tr style=\"text-align: right;\">\n",
       "      <th></th>\n",
       "      <th>제목</th>\n",
       "      <th>출원인</th>\n",
       "      <th>피인용 횟수</th>\n",
       "      <th>IPC</th>\n",
       "      <th>출원번호(일자)</th>\n",
       "      <th>최종권리자</th>\n",
       "      <th>요약</th>\n",
       "    </tr>\n",
       "  </thead>\n",
       "  <tbody>\n",
       "    <tr>\n",
       "      <th>0</th>\n",
       "      <td>다이어트 시스템(Diet system)</td>\n",
       "      <td>박준흥\\n, 이윤성\\n더보기</td>\n",
       "      <td>0</td>\n",
       "      <td>G06Q 50/22 H04L 51/00 G06T 13/40 G06N 3/00 G06...</td>\n",
       "      <td>1020210086789 (2021.07.02)</td>\n",
       "      <td>박준흥 , 이윤성</td>\n",
       "      <td>본 발명은, 설문내역을 불러오고, 각 항목별 응답을 입력받아 관리서버로 전송하는 단...</td>\n",
       "    </tr>\n",
       "    <tr>\n",
       "      <th>1</th>\n",
       "      <td>차량 공유를 위한 이동통신 단말의 디지털 키를 관리하는 방법 및 이를 이용한 키 서...</td>\n",
       "      <td>현대오토에버 주식회사</td>\n",
       "      <td>2</td>\n",
       "      <td>G06Q 50/30 G07C 9/00 H04L 65/40 H04L 9/40</td>\n",
       "      <td>1020200064566 (2020.05.28)</td>\n",
       "      <td>현대오토에버 주식회사</td>\n",
       "      <td>본 발명은 차량 공유를 위한 이동통신 단말의 디지털 키(Digital Key)를 관...</td>\n",
       "    </tr>\n",
       "    <tr>\n",
       "      <th>2</th>\n",
       "      <td>허가 기반 리소스 및 서비스 발견(PERMISSION BASED RESOURCE A...</td>\n",
       "      <td>콘비다 와이어리스, 엘엘씨</td>\n",
       "      <td>0</td>\n",
       "      <td>H04L 9/40 H04L 65/40 H04W 12/08 H04W 4/70</td>\n",
       "      <td>1020217033913 (2015.11.13)</td>\n",
       "      <td></td>\n",
       "      <td>현재의 발견 메커니즘들은 예로서 주어진 등록자와 연계된 허가들에 관한 능력들 같은 ...</td>\n",
       "    </tr>\n",
       "    <tr>\n",
       "      <th>3</th>\n",
       "      <td>메모리 시스템에 구현된 메시지 전달 인터페이스를 통한 메모리 액세스 통신(MEMOR...</td>\n",
       "      <td>마이크론 테크놀로지, 인크.</td>\n",
       "      <td>0</td>\n",
       "      <td>G06F 13/16 G06N 3/02</td>\n",
       "      <td>1020207025351 (2019.01.18)</td>\n",
       "      <td></td>\n",
       "      <td>메모리 시스템으로서, 복수의 메모리 컴포넌트들 및 메모리 컴포넌트들에 데이터를 저장...</td>\n",
       "    </tr>\n",
       "    <tr>\n",
       "      <th>4</th>\n",
       "      <td>안료 관리 시스템(PIGMENTS MANAGEMENT SYSTEM)</td>\n",
       "      <td>오키드인더스트리 주식회사</td>\n",
       "      <td>0</td>\n",
       "      <td>G06Q 10/08 G06Q 10/06 B65G 1/02 G06K 7/10 G08B...</td>\n",
       "      <td>1020210085379 (2021.06.30)</td>\n",
       "      <td>오키드인더스트리 주식회사</td>\n",
       "      <td>창고 프레임부 및 판넬부에 의해 밀폐되는 내부 공간을 형성하여 안료 포장 박스의 보...</td>\n",
       "    </tr>\n",
       "    <tr>\n",
       "      <th>...</th>\n",
       "      <td>...</td>\n",
       "      <td>...</td>\n",
       "      <td>...</td>\n",
       "      <td>...</td>\n",
       "      <td>...</td>\n",
       "      <td>...</td>\n",
       "      <td>...</td>\n",
       "    </tr>\n",
       "    <tr>\n",
       "      <th>3002</th>\n",
       "      <td>브리지의어드레스매칭판별장치</td>\n",
       "      <td>삼성전자주식회사</td>\n",
       "      <td>0</td>\n",
       "      <td>H04L 12/743</td>\n",
       "      <td>1019920002967 (1992.02.26)</td>\n",
       "      <td></td>\n",
       "      <td>제1네트워크에서 전송되는 데이타 패킷에 포함된 목적지 어드레스를 추출하는 제1제어장...</td>\n",
       "    </tr>\n",
       "    <tr>\n",
       "      <th>3003</th>\n",
       "      <td>최대가능성시퀀스메트릭계산기(MAXIMUM LIKELIHOOD SEQUENCE MET...</td>\n",
       "      <td>실리콘 시스템즈, 인크. (대표자</td>\n",
       "      <td>1</td>\n",
       "      <td>H04L 25/03 H03M 13/41 G11B 20/18</td>\n",
       "      <td>1019920003979 (1992.03.11)</td>\n",
       "      <td>실리콘 시스템즈, 인크. (대표자</td>\n",
       "      <td>최대 가능성 시퀀스 계산기(maximum likelihood sequence met...</td>\n",
       "    </tr>\n",
       "    <tr>\n",
       "      <th>3004</th>\n",
       "      <td>None</td>\n",
       "      <td>윌리엄 이. 벤더쉬)</td>\n",
       "      <td>None</td>\n",
       "      <td>None</td>\n",
       "      <td>None</td>\n",
       "      <td>윌리엄 이. 벤더쉬)</td>\n",
       "      <td>None</td>\n",
       "    </tr>\n",
       "    <tr>\n",
       "      <th>3005</th>\n",
       "      <td>자동차량추적장치의데이타클럭복조회로(DATA CLOCK DEMODULATING CIR...</td>\n",
       "      <td>삼성전자주식회사</td>\n",
       "      <td>0</td>\n",
       "      <td>H04L 7/027 H04L 7/00</td>\n",
       "      <td>1019920003380 (1992.02.29)</td>\n",
       "      <td>삼성전자주식회사</td>\n",
       "      <td>이 발명에 의한 자동차량 추적장치에 사용되는 데이타 클럭 복조회로는 데이타를 수신하...</td>\n",
       "    </tr>\n",
       "    <tr>\n",
       "      <th>3006</th>\n",
       "      <td>광스위치및그스위칭모듈</td>\n",
       "      <td>알카텔 엔. 브이.</td>\n",
       "      <td>0</td>\n",
       "      <td>H04Q 11/00 H04L 12/933 H04L 12/54 H04L 12/70</td>\n",
       "      <td>1019920004245 (1992.03.14)</td>\n",
       "      <td>알카텔엔.브이.</td>\n",
       "      <td>가능한 많은 동등 동작 채널로서 메모리 위치조건 특히, ATM으로 감소시키는 것은 ...</td>\n",
       "    </tr>\n",
       "  </tbody>\n",
       "</table>\n",
       "<p>3007 rows × 7 columns</p>\n",
       "</div>"
      ],
      "text/plain": [
       "0                                                    제목                  출원인   \\\n",
       "0                                 다이어트 시스템(Diet system)       박준흥\\n, 이윤성\\n더보기   \n",
       "1     차량 공유를 위한 이동통신 단말의 디지털 키를 관리하는 방법 및 이를 이용한 키 서...           현대오토에버 주식회사   \n",
       "2     허가 기반 리소스 및 서비스 발견(PERMISSION BASED RESOURCE A...        콘비다 와이어리스, 엘엘씨   \n",
       "3     메모리 시스템에 구현된 메시지 전달 인터페이스를 통한 메모리 액세스 통신(MEMOR...       마이크론 테크놀로지, 인크.   \n",
       "4                 안료 관리 시스템(PIGMENTS MANAGEMENT SYSTEM)         오키드인더스트리 주식회사   \n",
       "...                                                 ...                   ...   \n",
       "3002                                     브리지의어드레스매칭판별장치              삼성전자주식회사   \n",
       "3003  최대가능성시퀀스메트릭계산기(MAXIMUM LIKELIHOOD SEQUENCE MET...   실리콘 시스템즈, 인크. (대표자    \n",
       "3004                                               None           윌리엄 이. 벤더쉬)   \n",
       "3005  자동차량추적장치의데이타클럭복조회로(DATA CLOCK DEMODULATING CIR...              삼성전자주식회사   \n",
       "3006                                        광스위치및그스위칭모듈            알카텔 엔. 브이.   \n",
       "\n",
       "0    피인용 횟수                                                IPC   \\\n",
       "0          0  G06Q 50/22 H04L 51/00 G06T 13/40 G06N 3/00 G06...   \n",
       "1          2          G06Q 50/30 G07C 9/00 H04L 65/40 H04L 9/40   \n",
       "2          0          H04L 9/40 H04L 65/40 H04W 12/08 H04W 4/70   \n",
       "3          0                               G06F 13/16 G06N 3/02   \n",
       "4          0  G06Q 10/08 G06Q 10/06 B65G 1/02 G06K 7/10 G08B...   \n",
       "...      ...                                                ...   \n",
       "3002       0                                        H04L 12/743   \n",
       "3003       1                   H04L 25/03 H03M 13/41 G11B 20/18   \n",
       "3004    None                                               None   \n",
       "3005       0                               H04L 7/027 H04L 7/00   \n",
       "3006       0       H04Q 11/00 H04L 12/933 H04L 12/54 H04L 12/70   \n",
       "\n",
       "0                       출원번호(일자)                 최종권리자   \\\n",
       "0      1020210086789 (2021.07.02)             박준흥 , 이윤성   \n",
       "1      1020200064566 (2020.05.28)           현대오토에버 주식회사   \n",
       "2      1020217033913 (2015.11.13)                         \n",
       "3      1020207025351 (2019.01.18)                         \n",
       "4      1020210085379 (2021.06.30)         오키드인더스트리 주식회사   \n",
       "...                           ...                   ...   \n",
       "3002   1019920002967 (1992.02.26)                         \n",
       "3003   1019920003979 (1992.03.11)   실리콘 시스템즈, 인크. (대표자    \n",
       "3004                         None           윌리엄 이. 벤더쉬)   \n",
       "3005   1019920003380 (1992.02.29)              삼성전자주식회사   \n",
       "3006   1019920004245 (1992.03.14)              알카텔엔.브이.   \n",
       "\n",
       "0                                                    요약  \n",
       "0     본 발명은, 설문내역을 불러오고, 각 항목별 응답을 입력받아 관리서버로 전송하는 단...  \n",
       "1     본 발명은 차량 공유를 위한 이동통신 단말의 디지털 키(Digital Key)를 관...  \n",
       "2     현재의 발견 메커니즘들은 예로서 주어진 등록자와 연계된 허가들에 관한 능력들 같은 ...  \n",
       "3     메모리 시스템으로서, 복수의 메모리 컴포넌트들 및 메모리 컴포넌트들에 데이터를 저장...  \n",
       "4     창고 프레임부 및 판넬부에 의해 밀폐되는 내부 공간을 형성하여 안료 포장 박스의 보...  \n",
       "...                                                 ...  \n",
       "3002  제1네트워크에서 전송되는 데이타 패킷에 포함된 목적지 어드레스를 추출하는 제1제어장...  \n",
       "3003  최대 가능성 시퀀스 계산기(maximum likelihood sequence met...  \n",
       "3004                                               None  \n",
       "3005  이 발명에 의한 자동차량 추적장치에 사용되는 데이타 클럭 복조회로는 데이타를 수신하...  \n",
       "3006  가능한 많은 동등 동작 채널로서 메모리 위치조건 특히, ATM으로 감소시키는 것은 ...  \n",
       "\n",
       "[3007 rows x 7 columns]"
      ]
     },
     "execution_count": 127,
     "metadata": {},
     "output_type": "execute_result"
    }
   ],
   "source": [
    "df_missing_2"
   ]
  },
  {
   "cell_type": "code",
   "execution_count": 128,
   "metadata": {
    "scrolled": true
   },
   "outputs": [],
   "source": [
    "# df_missing_2.to_csv('Total_Patent_missing.csv',encoding = 'utf-8-sig')"
   ]
  },
  {
   "cell_type": "code",
   "execution_count": 19,
   "metadata": {},
   "outputs": [
    {
     "data": {
      "text/plain": [
       "(8527, 7)"
      ]
     },
     "execution_count": 19,
     "metadata": {},
     "output_type": "execute_result"
    }
   ],
   "source": [
    "df2.shape"
   ]
  },
  {
   "cell_type": "code",
   "execution_count": 20,
   "metadata": {
    "scrolled": false
   },
   "outputs": [
    {
     "data": {
      "text/html": [
       "<div>\n",
       "<style scoped>\n",
       "    .dataframe tbody tr th:only-of-type {\n",
       "        vertical-align: middle;\n",
       "    }\n",
       "\n",
       "    .dataframe tbody tr th {\n",
       "        vertical-align: top;\n",
       "    }\n",
       "\n",
       "    .dataframe thead th {\n",
       "        text-align: right;\n",
       "    }\n",
       "</style>\n",
       "<table border=\"1\" class=\"dataframe\">\n",
       "  <thead>\n",
       "    <tr style=\"text-align: right;\">\n",
       "      <th></th>\n",
       "      <th>제목</th>\n",
       "      <th>출원인</th>\n",
       "      <th>피인용 횟수</th>\n",
       "      <th>IPC</th>\n",
       "      <th>출원번호(일자)</th>\n",
       "      <th>최종권리자</th>\n",
       "      <th>요약</th>\n",
       "    </tr>\n",
       "  </thead>\n",
       "  <tbody>\n",
       "    <tr>\n",
       "      <th>0</th>\n",
       "      <td>상온유통이 가능한 된장소스 및 그 제조방법(SHELF-STABLE FERMENTED...</td>\n",
       "      <td>씨제이제일제당 (주)</td>\n",
       "      <td>7</td>\n",
       "      <td>[A23L 23/00, A23L 11/50]</td>\n",
       "      <td>1020120129735 (2012.11.15)</td>\n",
       "      <td>씨제이제일제당 (주)</td>\n",
       "      <td>본 발명은 한국 전통 조미료인 된장을 이용한 된장소스 및 그 제조방법에 관한 것이며...</td>\n",
       "    </tr>\n",
       "    <tr>\n",
       "      <th>1</th>\n",
       "      <td>블록체인 기반의 B2B 쿠폰 마케팅 시스템을 이용한 B2C 온라인 휴대폰 유통 시스...</td>\n",
       "      <td>주식회사 아이정보통신</td>\n",
       "      <td>0</td>\n",
       "      <td>[G06Q 30/06, G06Q 30/02, H04L 9/00, H04L 67/10...</td>\n",
       "      <td>1020220077989 (2022.06.27)</td>\n",
       "      <td>주식회사 아이정보통신</td>\n",
       "      <td>본 발명은 블록체인 기술을 이용하여 쿠폰 발행 및 지급 내역의 위변조를 방지하고, ...</td>\n",
       "    </tr>\n",
       "    <tr>\n",
       "      <th>2</th>\n",
       "      <td>식품 유통 통합관리솔루션 제공 시스템(Food Distribution Integra...</td>\n",
       "      <td>주식회사 케이에프</td>\n",
       "      <td>0</td>\n",
       "      <td>[G06Q 10/06, G06Q 10/10, G06Q 50/32, G06Q 50/18]</td>\n",
       "      <td>1020200118966 (2020.09.16)</td>\n",
       "      <td>주식회사 케이에프</td>\n",
       "      <td>본 발명은 식품 유통 통합관리솔루션 제공 시스템에 관한 것으로, 그 구성은 식품회사...</td>\n",
       "    </tr>\n",
       "    <tr>\n",
       "      <th>3</th>\n",
       "      <td>알림정보를 제공하는 유통기한 관리시스템(expiration date manageme...</td>\n",
       "      <td>주식회사 니즈</td>\n",
       "      <td>0</td>\n",
       "      <td>[G06Q 10/08, G06Q 10/10, G08B 21/18, G06K 19/0...</td>\n",
       "      <td>1020220044712 (2022.04.11)</td>\n",
       "      <td>주식회사 니즈</td>\n",
       "      <td>본 발명은 알림정보를 제공하는 유통기한 관리시스템에 관한 것이다.</td>\n",
       "    </tr>\n",
       "    <tr>\n",
       "      <th>4</th>\n",
       "      <td>축산물 유통관리 방법(Livestock product distribution man...</td>\n",
       "      <td>정성용</td>\n",
       "      <td>0</td>\n",
       "      <td>[G06Q 30/06, G06Q 50/02, G06Q 30/02]</td>\n",
       "      <td>1020210056482 (2021.04.30)</td>\n",
       "      <td></td>\n",
       "      <td>본 발명은 축산물 유통관리 방법에 관한 것이다. 축산물 유통관리 방법은 소정의 축산...</td>\n",
       "    </tr>\n",
       "    <tr>\n",
       "      <th>...</th>\n",
       "      <td>...</td>\n",
       "      <td>...</td>\n",
       "      <td>...</td>\n",
       "      <td>...</td>\n",
       "      <td>...</td>\n",
       "      <td>...</td>\n",
       "      <td>...</td>\n",
       "    </tr>\n",
       "    <tr>\n",
       "      <th>8522</th>\n",
       "      <td>항균탈지면(Antimicrobial Gauze)</td>\n",
       "      <td>김택영</td>\n",
       "      <td>1</td>\n",
       "      <td>[A61F 13/02, A61F 13/00, A61L 15/18, A61L 15/4...</td>\n",
       "      <td>2020060021923 (2006.08.16)</td>\n",
       "      <td>김택영</td>\n",
       "      <td>본 고안은 의료용 거즈(Gauze)로 사용하기 위한 항균탈지면과 그 제조방법에 관한...</td>\n",
       "    </tr>\n",
       "    <tr>\n",
       "      <th>8523</th>\n",
       "      <td>열선을 이용한 랩 컷팅 장치(Wrap cutting device)</td>\n",
       "      <td>유수준</td>\n",
       "      <td>1</td>\n",
       "      <td>[B65H 35/04, B65H 16/00]</td>\n",
       "      <td>2020060021560 (2006.08.11)</td>\n",
       "      <td>유수준</td>\n",
       "      <td>본 고안은 열선을 이용한 포장용 랩 컷팅 장치에 관한 것이다. 이를 위해 본 고안은...</td>\n",
       "    </tr>\n",
       "    <tr>\n",
       "      <th>8524</th>\n",
       "      <td>청바지(blue pants)</td>\n",
       "      <td>문호열</td>\n",
       "      <td>1</td>\n",
       "      <td>[A41D 27/08, A41D 1/06]</td>\n",
       "      <td>2020060021483 (2006.08.10)</td>\n",
       "      <td>문호열</td>\n",
       "      <td>본 고안은 청바지에 관한 것이다. 본 고안은 앞판과 뒷판으로 이루어지고, 앞판과 뒷...</td>\n",
       "    </tr>\n",
       "    <tr>\n",
       "      <th>8525</th>\n",
       "      <td>보조가스포켓을 가진 팽창가능한 가스백(INFLATABLE GAS BAG HAVING...</td>\n",
       "      <td>리드팩 인더스트리얼\\n, 라이 흥 핀\\n더보기</td>\n",
       "      <td>0</td>\n",
       "      <td>[B65D 81/03, B65D 81/02]</td>\n",
       "      <td>2020060020810 (2006.08.03)</td>\n",
       "      <td>리드팩 인더스트리얼 , 라이 흥 핀</td>\n",
       "      <td>본 고안은 보조가스포켓이 달린 팽창가능한 가스백인데 이는 복수개의 가스포켓유닛로 구...</td>\n",
       "    </tr>\n",
       "    <tr>\n",
       "      <th>8526</th>\n",
       "      <td>장용 고추가루 분쇄장치(Shatter device for pepper)</td>\n",
       "      <td>황용구</td>\n",
       "      <td>2</td>\n",
       "      <td>[B02C 4/06, B02C 4/28, B02C 4/42, A61K 36/81, ...</td>\n",
       "      <td>1020040024516 (2004.04.09)</td>\n",
       "      <td>황용구</td>\n",
       "      <td>본 발명은 분쇄로울러를 2단으로 설치하여 보다 적은 횟수로 순환하여 장용 고추가루를...</td>\n",
       "    </tr>\n",
       "  </tbody>\n",
       "</table>\n",
       "<p>8527 rows × 7 columns</p>\n",
       "</div>"
      ],
      "text/plain": [
       "0                                                    제목  \\\n",
       "0     상온유통이 가능한 된장소스 및 그 제조방법(SHELF-STABLE FERMENTED...   \n",
       "1     블록체인 기반의 B2B 쿠폰 마케팅 시스템을 이용한 B2C 온라인 휴대폰 유통 시스...   \n",
       "2     식품 유통 통합관리솔루션 제공 시스템(Food Distribution Integra...   \n",
       "3     알림정보를 제공하는 유통기한 관리시스템(expiration date manageme...   \n",
       "4     축산물 유통관리 방법(Livestock product distribution man...   \n",
       "...                                                 ...   \n",
       "8522                         항균탈지면(Antimicrobial Gauze)   \n",
       "8523               열선을 이용한 랩 컷팅 장치(Wrap cutting device)   \n",
       "8524                                    청바지(blue pants)   \n",
       "8525  보조가스포켓을 가진 팽창가능한 가스백(INFLATABLE GAS BAG HAVING...   \n",
       "8526            장용 고추가루 분쇄장치(Shatter device for pepper)   \n",
       "\n",
       "0                           출원인  피인용 횟수   \\\n",
       "0                    씨제이제일제당 (주)       7   \n",
       "1                    주식회사 아이정보통신       0   \n",
       "2                      주식회사 케이에프       0   \n",
       "3                        주식회사 니즈       0   \n",
       "4                            정성용       0   \n",
       "...                          ...     ...   \n",
       "8522                         김택영       1   \n",
       "8523                         유수준       1   \n",
       "8524                         문호열       1   \n",
       "8525   리드팩 인더스트리얼\\n, 라이 흥 핀\\n더보기       0   \n",
       "8526                         황용구       2   \n",
       "\n",
       "0                                                  IPC   \\\n",
       "0                              [A23L 23/00, A23L 11/50]   \n",
       "1     [G06Q 30/06, G06Q 30/02, H04L 9/00, H04L 67/10...   \n",
       "2      [G06Q 10/06, G06Q 10/10, G06Q 50/32, G06Q 50/18]   \n",
       "3     [G06Q 10/08, G06Q 10/10, G08B 21/18, G06K 19/0...   \n",
       "4                  [G06Q 30/06, G06Q 50/02, G06Q 30/02]   \n",
       "...                                                 ...   \n",
       "8522  [A61F 13/02, A61F 13/00, A61L 15/18, A61L 15/4...   \n",
       "8523                           [B65H 35/04, B65H 16/00]   \n",
       "8524                            [A41D 27/08, A41D 1/06]   \n",
       "8525                           [B65D 81/03, B65D 81/02]   \n",
       "8526  [B02C 4/06, B02C 4/28, B02C 4/42, A61K 36/81, ...   \n",
       "\n",
       "0                       출원번호(일자)                 최종권리자   \\\n",
       "0      1020120129735 (2012.11.15)           씨제이제일제당 (주)   \n",
       "1      1020220077989 (2022.06.27)           주식회사 아이정보통신   \n",
       "2      1020200118966 (2020.09.16)             주식회사 케이에프   \n",
       "3      1020220044712 (2022.04.11)               주식회사 니즈   \n",
       "4      1020210056482 (2021.04.30)                         \n",
       "...                           ...                   ...   \n",
       "8522   2020060021923 (2006.08.16)                   김택영   \n",
       "8523   2020060021560 (2006.08.11)                   유수준   \n",
       "8524   2020060021483 (2006.08.10)                   문호열   \n",
       "8525   2020060020810 (2006.08.03)   리드팩 인더스트리얼 , 라이 흥 핀   \n",
       "8526   1020040024516 (2004.04.09)                   황용구   \n",
       "\n",
       "0                                                    요약  \n",
       "0     본 발명은 한국 전통 조미료인 된장을 이용한 된장소스 및 그 제조방법에 관한 것이며...  \n",
       "1     본 발명은 블록체인 기술을 이용하여 쿠폰 발행 및 지급 내역의 위변조를 방지하고, ...  \n",
       "2     본 발명은 식품 유통 통합관리솔루션 제공 시스템에 관한 것으로, 그 구성은 식품회사...  \n",
       "3                  본 발명은 알림정보를 제공하는 유통기한 관리시스템에 관한 것이다.  \n",
       "4     본 발명은 축산물 유통관리 방법에 관한 것이다. 축산물 유통관리 방법은 소정의 축산...  \n",
       "...                                                 ...  \n",
       "8522  본 고안은 의료용 거즈(Gauze)로 사용하기 위한 항균탈지면과 그 제조방법에 관한...  \n",
       "8523  본 고안은 열선을 이용한 포장용 랩 컷팅 장치에 관한 것이다. 이를 위해 본 고안은...  \n",
       "8524  본 고안은 청바지에 관한 것이다. 본 고안은 앞판과 뒷판으로 이루어지고, 앞판과 뒷...  \n",
       "8525  본 고안은 보조가스포켓이 달린 팽창가능한 가스백인데 이는 복수개의 가스포켓유닛로 구...  \n",
       "8526  본 발명은 분쇄로울러를 2단으로 설치하여 보다 적은 횟수로 순환하여 장용 고추가루를...  \n",
       "\n",
       "[8527 rows x 7 columns]"
      ]
     },
     "execution_count": 20,
     "metadata": {},
     "output_type": "execute_result"
    }
   ],
   "source": [
    "df2.drop_duplicates('출원번호(일자) ')"
   ]
  },
  {
   "cell_type": "code",
   "execution_count": 21,
   "metadata": {},
   "outputs": [],
   "source": [
    "# df2.to_csv('유통.csv',encoding = 'utf-8-sig')"
   ]
  },
  {
   "cell_type": "code",
   "execution_count": null,
   "metadata": {},
   "outputs": [],
   "source": []
  },
  {
   "cell_type": "code",
   "execution_count": null,
   "metadata": {},
   "outputs": [],
   "source": []
  },
  {
   "cell_type": "code",
   "execution_count": null,
   "metadata": {},
   "outputs": [],
   "source": []
  },
  {
   "cell_type": "code",
   "execution_count": null,
   "metadata": {},
   "outputs": [],
   "source": []
  }
 ],
 "metadata": {
  "hide_input": false,
  "kernelspec": {
   "display_name": "Python 3",
   "language": "python",
   "name": "python3"
  },
  "language_info": {
   "codemirror_mode": {
    "name": "ipython",
    "version": 3
   },
   "file_extension": ".py",
   "mimetype": "text/x-python",
   "name": "python",
   "nbconvert_exporter": "python",
   "pygments_lexer": "ipython3",
   "version": "3.7.4"
  },
  "toc": {
   "base_numbering": 1,
   "nav_menu": {},
   "number_sections": true,
   "sideBar": true,
   "skip_h1_title": false,
   "title_cell": "Table of Contents",
   "title_sidebar": "Contents",
   "toc_cell": false,
   "toc_position": {},
   "toc_section_display": true,
   "toc_window_display": false
  },
  "varInspector": {
   "cols": {
    "lenName": 16,
    "lenType": 16,
    "lenVar": 40
   },
   "kernels_config": {
    "python": {
     "delete_cmd_postfix": "",
     "delete_cmd_prefix": "del ",
     "library": "var_list.py",
     "varRefreshCmd": "print(var_dic_list())"
    },
    "r": {
     "delete_cmd_postfix": ") ",
     "delete_cmd_prefix": "rm(",
     "library": "var_list.r",
     "varRefreshCmd": "cat(var_dic_list()) "
    }
   },
   "types_to_exclude": [
    "module",
    "function",
    "builtin_function_or_method",
    "instance",
    "_Feature"
   ],
   "window_display": false
  }
 },
 "nbformat": 4,
 "nbformat_minor": 2
}
