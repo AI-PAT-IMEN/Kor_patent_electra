{
 "cells": [
  {
   "cell_type": "code",
   "execution_count": 4,
   "metadata": {},
   "outputs": [],
   "source": [
    "from sentence_transformers import SentenceTransformer, util\n",
    "import numpy as np\n",
    "import random\n",
    "import pandas as pd\n",
    "import torch#pytorch\n",
    "from transformers import AutoTokenizer, AutoModel#for embeddings\n",
    "from sklearn.metrics.pairwise import cosine_similarity#for similarity\n",
    "from tensorflow.keras.preprocessing.sequence import pad_sequences\n",
    "from transformers import AutoTokenizer, AutoModelForPreTraining\n",
    "from tqdm import tqdm\n",
    "\n",
    "\n",
    "tokenizer = AutoTokenizer.from_pretrained(\"Pray123/first\", use_auth_token=True)\n",
    "\n",
    "model = AutoModelForPreTraining.from_pretrained(\"Pray123/first\", use_auth_token=True)"
   ]
  },
  {
   "cell_type": "code",
   "execution_count": 5,
   "metadata": {},
   "outputs": [],
   "source": [
    "direct_path = 'C:/Users/USER/Documents/Jupyter Notebook/AI_IMEN/'\n",
    "\n",
    "df = pd.read_csv(direct_path + 'Total_patent_final.csv',encoding = 'utf-8-sig')"
   ]
  },
  {
   "cell_type": "code",
   "execution_count": 6,
   "metadata": {},
   "outputs": [],
   "source": [
    "import re\n",
    "import emoji\n",
    "from soynlp.normalizer import repeat_normalize\n",
    "\n",
    "pattern = re.compile(f'[^ .,?!/@$%~％·∼()\\x00-\\x7Fㄱ-ㅣ가-힣]+')\n",
    "url_pattern = re.compile(\n",
    "    r'https?:\\/\\/(www\\.)?[-a-zA-Z0-9@:%._\\+~#=]{1,256}\\.[a-zA-Z0-9()]{1,6}\\b([-a-zA-Z0-9()@:%_\\+.~#?&//=]*)')\n",
    "\n",
    "\n",
    "pattern = re.compile(f'[^ .,?!/@$%~％·∼()\\x00-\\x7Fㄱ-ㅣ가-힣]+')\n",
    "url_pattern = re.compile(\n",
    "    r'https?:\\/\\/(www\\.)?[-a-zA-Z0-9@:%._\\+~#=]{1,256}\\.[a-zA-Z0-9()]{1,6}\\b([-a-zA-Z0-9()@:%_\\+.~#?&//=]*)')\n",
    "\n",
    "def clean(x): \n",
    "    x = pattern.sub(' ', x)\n",
    "    x = url_pattern.sub('', x)\n",
    "    x = x.strip()\n",
    "    x = repeat_normalize(x, num_repeats=2)\n",
    "    return x"
   ]
  },
  {
   "cell_type": "code",
   "execution_count": 7,
   "metadata": {},
   "outputs": [],
   "source": [
    "stopwords = pd.read_csv('stopwords.csv',encoding = 'cp949',header= None)\n"
   ]
  },
  {
   "cell_type": "code",
   "execution_count": 8,
   "metadata": {},
   "outputs": [],
   "source": [
    "\n",
    "def get_embeddings(text,token_length = 512 ):\n",
    "    pattern = r'\\([^)]*\\)'\n",
    "    text_2 =  re.sub(pattern=pattern, repl='', string= text).replace('\\n','')\n",
    "\n",
    "\n",
    "    lst_all = []\n",
    "    for j in [i if len(i) != 0 else  '' for i in tokenizer.tokenize(text_2)]:\n",
    "        if (len(j) == 0) | ('#' in j) | ('상기' in j) | ('[' in j) | (j in stopwords[0].values) | (',' in j):\n",
    "            pass\n",
    "        else:\n",
    "            lst_all.append(j)\n",
    "            \n",
    "    lst_all = [clean(i) for i in lst_all]\n",
    "\n",
    "    text_3 = ' '.join(lst_all)\n",
    "\n",
    "    tokens=tokenizer(text_3 ,max_length=token_length,padding='max_length',truncation=True)\n",
    "\n",
    "    output=model(torch.tensor(tokens['input_ids']).unsqueeze(0),\n",
    "               attention_mask=torch.tensor(tokens['attention_mask']).unsqueeze(0))['logits']\n",
    "    return output.detach().numpy()\n",
    "\n",
    "\n",
    "\n",
    "def get_embeddings_mecab(text,token_length = 512):\n",
    "    pattern = r'\\([^)]*\\)'\n",
    "    text_2 =  re.sub(pattern=pattern, repl='', string= text).replace('\\n','')\n",
    "\n",
    "\n",
    "    lst_all = []\n",
    "    for j in [i if len(i) != 0 else  '' for i in tokenizer.tokenize(text_2)]:\n",
    "        if (len(j) == 0) | ('#' in j) | ('상기' in j) | ('[' in j) | (j in stopwords[0].values) | (',' in j):\n",
    "            pass\n",
    "        else:\n",
    "            lst_all.append(j)\n",
    "\n",
    "    text_3 = ' '.join(lst_all)\n",
    "    \n",
    "    a = tokenizer_mecab.encode(text_3,max_len = token_length)\n",
    "    tokens = {'input_ids' : a[0] , 'attention_mask' : [1 if i !=0 else 0 for i in a[0]]}\n",
    "\n",
    "    output=model(torch.tensor(tokens['input_ids']).unsqueeze(0),\n",
    "               attention_mask=torch.tensor(tokens['attention_mask']).unsqueeze(0))['logits']\n",
    "    return output.detach().numpy()\n",
    "\n",
    "\n",
    "\n",
    "def calculate_similarity_row(row):\n",
    "    text0 =  df_2.iloc[15137]['요약'] # 기준이 되는 text를 넣으면 된다.!!!!\n",
    "    token_length=512\n",
    "    text2 = row['요약']\n",
    "    \n",
    "    out1=get_embeddings(text0,token_length=token_length)#create embeddings of text\n",
    "    out2=get_embeddings(text2,token_length=token_length)#create embeddings of text\n",
    "\n",
    "    sim1= cosine_similarity(out1,out2)[0][0]\n",
    "\n",
    "#     print(\"input한 문장의 관계는 다음과 같습니다 Cosin 1 : {}\".format(sim1))\n",
    "    \n",
    "    return sim1\n",
    "\n",
    "def calculate_similarity_mecab_row(row):\n",
    "    text0 =  df_2.iloc[15137]['요약'] # 기준이 되는 text를 넣으면 된다.!!!!\n",
    "    token_length=512\n",
    "    text2 = row['요약']\n",
    "    \n",
    "    out1=get_embeddings_mecab(text0,token_length=token_length)#create embeddings of text\n",
    "    out2=get_embeddings_mecab(text2,token_length=token_length)#create embeddings of text\n",
    "\n",
    "    sim1= cosine_similarity(out1,out2)[0][0]\n",
    "\n",
    "#     print(\"input한 문장의 관계는 다음과 같습니다 Cosin 1 : {}\".format(sim1))\n",
    "    \n",
    "    return sim1"
   ]
  },
  {
   "cell_type": "code",
   "execution_count": 9,
   "metadata": {},
   "outputs": [],
   "source": [
    "df_2 = df.copy()"
   ]
  },
  {
   "cell_type": "code",
   "execution_count": 10,
   "metadata": {},
   "outputs": [],
   "source": [
    "lst_IPC = []\n",
    "for i in df['(52) CPC ']:\n",
    "    lst_small = []\n",
    "    for j in i.replace(\"'\",'').replace('[','').split(','):\n",
    "        lst_small.append(j.strip()[:4])\n",
    "    lst_IPC.append(lst_small)"
   ]
  },
  {
   "cell_type": "code",
   "execution_count": 11,
   "metadata": {},
   "outputs": [],
   "source": [
    "lst_IPC_2 = []\n",
    "for idx,i in enumerate(lst_IPC):\n",
    "    w = i\n",
    "    if ('G06Q' in w) & ('G06N' in w) & ('H04L' in w):\n",
    "        lst_IPC_2.append(idx)"
   ]
  },
  {
   "cell_type": "code",
   "execution_count": 12,
   "metadata": {},
   "outputs": [
    {
     "name": "stdout",
     "output_type": "stream",
     "text": [
      "55\n"
     ]
    }
   ],
   "source": [
    "for idx,i in enumerate(df_2.iloc[lst_IPC_2]['제목']):\n",
    "    if '프랜차이즈' in  i:\n",
    "        print(idx)"
   ]
  },
  {
   "cell_type": "code",
   "execution_count": 13,
   "metadata": {},
   "outputs": [],
   "source": [
    "tqdm.pandas()"
   ]
  },
  {
   "cell_type": "code",
   "execution_count": 14,
   "metadata": {},
   "outputs": [
    {
     "data": {
      "text/plain": [
       "False"
      ]
     },
     "execution_count": 14,
     "metadata": {},
     "output_type": "execute_result"
    }
   ],
   "source": [
    "import torch\n",
    "\n",
    "torch.cuda.is_available()\n",
    "# device = torch.device('cuda:0' if USE_CUDA else 'cpu')\n"
   ]
  },
  {
   "cell_type": "code",
   "execution_count": 15,
   "metadata": {},
   "outputs": [
    {
     "data": {
      "text/plain": [
       "(111515, 30)"
      ]
     },
     "execution_count": 15,
     "metadata": {},
     "output_type": "execute_result"
    }
   ],
   "source": [
    "df.shape"
   ]
  },
  {
   "cell_type": "code",
   "execution_count": 16,
   "metadata": {},
   "outputs": [],
   "source": [
    "a =  df['출원번호(일자)'].str.split('(')"
   ]
  },
  {
   "cell_type": "code",
   "execution_count": 17,
   "metadata": {},
   "outputs": [],
   "source": [
    "b = pd.Series([i[1].replace(')','') for i in df['출원번호(일자)'].str.split('(')])"
   ]
  },
  {
   "cell_type": "code",
   "execution_count": 61,
   "metadata": {},
   "outputs": [],
   "source": [
    "time_idx_2 = b[(pd.to_datetime(b) > pd.to_datetime('2020-01-01')) & (pd.to_datetime(b) < pd.to_datetime('2021-01-01'))].index\n"
   ]
  },
  {
   "cell_type": "code",
   "execution_count": 23,
   "metadata": {},
   "outputs": [],
   "source": [
    "time_idx = b[pd.to_datetime(b) > pd.to_datetime('2021-01-01')].index"
   ]
  },
  {
   "cell_type": "code",
   "execution_count": 62,
   "metadata": {},
   "outputs": [
    {
     "data": {
      "text/plain": [
       "Int64Index([   25,    34,    35,    36,    38,    41,    42,    43,    44,\n",
       "               45,\n",
       "            ...\n",
       "            88216, 88224, 88254, 88263, 88267, 88294, 88390, 88401, 88405,\n",
       "            88424],\n",
       "           dtype='int64', length=12725)"
      ]
     },
     "execution_count": 62,
     "metadata": {},
     "output_type": "execute_result"
    }
   ],
   "source": [
    "time_idx_2"
   ]
  },
  {
   "cell_type": "code",
   "execution_count": 63,
   "metadata": {},
   "outputs": [
    {
     "name": "stderr",
     "output_type": "stream",
     "text": [
      " 82%|██████████████████████████████████████████████████████████▊             | 10401/12725 [7:34:28<1:53:33,  2.93s/it]"
     ]
    },
    {
     "ename": "KeyboardInterrupt",
     "evalue": "",
     "output_type": "error",
     "traceback": [
      "\u001b[1;31m---------------------------------------------------------------------------\u001b[0m",
      "\u001b[1;31mKeyboardInterrupt\u001b[0m                         Traceback (most recent call last)",
      "\u001b[1;32mD:\\anaconda\\lib\\site-packages\\tqdm\\std.py\u001b[0m in \u001b[0;36minner\u001b[1;34m(df, func, *args, **kwargs)\u001b[0m\n\u001b[0;32m    813\u001b[0m                 \u001b[1;32mtry\u001b[0m\u001b[1;33m:\u001b[0m\u001b[1;33m\u001b[0m\u001b[1;33m\u001b[0m\u001b[0m\n\u001b[1;32m--> 814\u001b[1;33m                     \u001b[1;32mreturn\u001b[0m \u001b[0mgetattr\u001b[0m\u001b[1;33m(\u001b[0m\u001b[0mdf\u001b[0m\u001b[1;33m,\u001b[0m \u001b[0mdf_function\u001b[0m\u001b[1;33m)\u001b[0m\u001b[1;33m(\u001b[0m\u001b[0mwrapper\u001b[0m\u001b[1;33m,\u001b[0m \u001b[1;33m**\u001b[0m\u001b[0mkwargs\u001b[0m\u001b[1;33m)\u001b[0m\u001b[1;33m\u001b[0m\u001b[1;33m\u001b[0m\u001b[0m\n\u001b[0m\u001b[0;32m    815\u001b[0m                 \u001b[1;32mfinally\u001b[0m\u001b[1;33m:\u001b[0m\u001b[1;33m\u001b[0m\u001b[1;33m\u001b[0m\u001b[0m\n",
      "\u001b[1;32mD:\\anaconda\\lib\\site-packages\\pandas\\core\\frame.py\u001b[0m in \u001b[0;36mapply\u001b[1;34m(self, func, axis, raw, result_type, args, **kwargs)\u001b[0m\n\u001b[0;32m   8739\u001b[0m         )\n\u001b[1;32m-> 8740\u001b[1;33m         \u001b[1;32mreturn\u001b[0m \u001b[0mop\u001b[0m\u001b[1;33m.\u001b[0m\u001b[0mapply\u001b[0m\u001b[1;33m(\u001b[0m\u001b[1;33m)\u001b[0m\u001b[1;33m\u001b[0m\u001b[1;33m\u001b[0m\u001b[0m\n\u001b[0m\u001b[0;32m   8741\u001b[0m \u001b[1;33m\u001b[0m\u001b[0m\n",
      "\u001b[1;32mD:\\anaconda\\lib\\site-packages\\pandas\\core\\apply.py\u001b[0m in \u001b[0;36mapply\u001b[1;34m(self)\u001b[0m\n\u001b[0;32m    687\u001b[0m \u001b[1;33m\u001b[0m\u001b[0m\n\u001b[1;32m--> 688\u001b[1;33m         \u001b[1;32mreturn\u001b[0m \u001b[0mself\u001b[0m\u001b[1;33m.\u001b[0m\u001b[0mapply_standard\u001b[0m\u001b[1;33m(\u001b[0m\u001b[1;33m)\u001b[0m\u001b[1;33m\u001b[0m\u001b[1;33m\u001b[0m\u001b[0m\n\u001b[0m\u001b[0;32m    689\u001b[0m \u001b[1;33m\u001b[0m\u001b[0m\n",
      "\u001b[1;32mD:\\anaconda\\lib\\site-packages\\pandas\\core\\apply.py\u001b[0m in \u001b[0;36mapply_standard\u001b[1;34m(self)\u001b[0m\n\u001b[0;32m    811\u001b[0m     \u001b[1;32mdef\u001b[0m \u001b[0mapply_standard\u001b[0m\u001b[1;33m(\u001b[0m\u001b[0mself\u001b[0m\u001b[1;33m)\u001b[0m\u001b[1;33m:\u001b[0m\u001b[1;33m\u001b[0m\u001b[1;33m\u001b[0m\u001b[0m\n\u001b[1;32m--> 812\u001b[1;33m         \u001b[0mresults\u001b[0m\u001b[1;33m,\u001b[0m \u001b[0mres_index\u001b[0m \u001b[1;33m=\u001b[0m \u001b[0mself\u001b[0m\u001b[1;33m.\u001b[0m\u001b[0mapply_series_generator\u001b[0m\u001b[1;33m(\u001b[0m\u001b[1;33m)\u001b[0m\u001b[1;33m\u001b[0m\u001b[1;33m\u001b[0m\u001b[0m\n\u001b[0m\u001b[0;32m    813\u001b[0m \u001b[1;33m\u001b[0m\u001b[0m\n",
      "\u001b[1;32mD:\\anaconda\\lib\\site-packages\\pandas\\core\\apply.py\u001b[0m in \u001b[0;36mapply_series_generator\u001b[1;34m(self)\u001b[0m\n\u001b[0;32m    827\u001b[0m                 \u001b[1;31m# ignore SettingWithCopy here in case the user mutates\u001b[0m\u001b[1;33m\u001b[0m\u001b[1;33m\u001b[0m\u001b[1;33m\u001b[0m\u001b[0m\n\u001b[1;32m--> 828\u001b[1;33m                 \u001b[0mresults\u001b[0m\u001b[1;33m[\u001b[0m\u001b[0mi\u001b[0m\u001b[1;33m]\u001b[0m \u001b[1;33m=\u001b[0m \u001b[0mself\u001b[0m\u001b[1;33m.\u001b[0m\u001b[0mf\u001b[0m\u001b[1;33m(\u001b[0m\u001b[0mv\u001b[0m\u001b[1;33m)\u001b[0m\u001b[1;33m\u001b[0m\u001b[1;33m\u001b[0m\u001b[0m\n\u001b[0m\u001b[0;32m    829\u001b[0m                 \u001b[1;32mif\u001b[0m \u001b[0misinstance\u001b[0m\u001b[1;33m(\u001b[0m\u001b[0mresults\u001b[0m\u001b[1;33m[\u001b[0m\u001b[0mi\u001b[0m\u001b[1;33m]\u001b[0m\u001b[1;33m,\u001b[0m \u001b[0mABCSeries\u001b[0m\u001b[1;33m)\u001b[0m\u001b[1;33m:\u001b[0m\u001b[1;33m\u001b[0m\u001b[1;33m\u001b[0m\u001b[0m\n",
      "\u001b[1;32mD:\\anaconda\\lib\\site-packages\\tqdm\\std.py\u001b[0m in \u001b[0;36mwrapper\u001b[1;34m(*args, **kwargs)\u001b[0m\n\u001b[0;32m    808\u001b[0m                     \u001b[0mt\u001b[0m\u001b[1;33m.\u001b[0m\u001b[0mupdate\u001b[0m\u001b[1;33m(\u001b[0m\u001b[0mn\u001b[0m\u001b[1;33m=\u001b[0m\u001b[1;36m1\u001b[0m \u001b[1;32mif\u001b[0m \u001b[1;32mnot\u001b[0m \u001b[0mt\u001b[0m\u001b[1;33m.\u001b[0m\u001b[0mtotal\u001b[0m \u001b[1;32mor\u001b[0m \u001b[0mt\u001b[0m\u001b[1;33m.\u001b[0m\u001b[0mn\u001b[0m \u001b[1;33m<\u001b[0m \u001b[0mt\u001b[0m\u001b[1;33m.\u001b[0m\u001b[0mtotal\u001b[0m \u001b[1;32melse\u001b[0m \u001b[1;36m0\u001b[0m\u001b[1;33m)\u001b[0m\u001b[1;33m\u001b[0m\u001b[1;33m\u001b[0m\u001b[0m\n\u001b[1;32m--> 809\u001b[1;33m                     \u001b[1;32mreturn\u001b[0m \u001b[0mfunc\u001b[0m\u001b[1;33m(\u001b[0m\u001b[1;33m*\u001b[0m\u001b[0margs\u001b[0m\u001b[1;33m,\u001b[0m \u001b[1;33m**\u001b[0m\u001b[0mkwargs\u001b[0m\u001b[1;33m)\u001b[0m\u001b[1;33m\u001b[0m\u001b[1;33m\u001b[0m\u001b[0m\n\u001b[0m\u001b[0;32m    810\u001b[0m \u001b[1;33m\u001b[0m\u001b[0m\n",
      "\u001b[1;32m<ipython-input-8-16bb2aeb2f4f>\u001b[0m in \u001b[0;36mcalculate_similarity_row\u001b[1;34m(row)\u001b[0m\n\u001b[0;32m     53\u001b[0m     \u001b[0mout1\u001b[0m\u001b[1;33m=\u001b[0m\u001b[0mget_embeddings\u001b[0m\u001b[1;33m(\u001b[0m\u001b[0mtext0\u001b[0m\u001b[1;33m,\u001b[0m\u001b[0mtoken_length\u001b[0m\u001b[1;33m=\u001b[0m\u001b[0mtoken_length\u001b[0m\u001b[1;33m)\u001b[0m\u001b[1;31m#create embeddings of text\u001b[0m\u001b[1;33m\u001b[0m\u001b[1;33m\u001b[0m\u001b[0m\n\u001b[1;32m---> 54\u001b[1;33m     \u001b[0mout2\u001b[0m\u001b[1;33m=\u001b[0m\u001b[0mget_embeddings\u001b[0m\u001b[1;33m(\u001b[0m\u001b[0mtext2\u001b[0m\u001b[1;33m,\u001b[0m\u001b[0mtoken_length\u001b[0m\u001b[1;33m=\u001b[0m\u001b[0mtoken_length\u001b[0m\u001b[1;33m)\u001b[0m\u001b[1;31m#create embeddings of text\u001b[0m\u001b[1;33m\u001b[0m\u001b[1;33m\u001b[0m\u001b[0m\n\u001b[0m\u001b[0;32m     55\u001b[0m \u001b[1;33m\u001b[0m\u001b[0m\n",
      "\u001b[1;32m<ipython-input-8-16bb2aeb2f4f>\u001b[0m in \u001b[0;36mget_embeddings\u001b[1;34m(text, token_length)\u001b[0m\n\u001b[0;32m     19\u001b[0m     output=model(torch.tensor(tokens['input_ids']).unsqueeze(0),\n\u001b[1;32m---> 20\u001b[1;33m                attention_mask=torch.tensor(tokens['attention_mask']).unsqueeze(0))['logits']\n\u001b[0m\u001b[0;32m     21\u001b[0m     \u001b[1;32mreturn\u001b[0m \u001b[0moutput\u001b[0m\u001b[1;33m.\u001b[0m\u001b[0mdetach\u001b[0m\u001b[1;33m(\u001b[0m\u001b[1;33m)\u001b[0m\u001b[1;33m.\u001b[0m\u001b[0mnumpy\u001b[0m\u001b[1;33m(\u001b[0m\u001b[1;33m)\u001b[0m\u001b[1;33m\u001b[0m\u001b[1;33m\u001b[0m\u001b[0m\n",
      "\u001b[1;32mD:\\anaconda\\lib\\site-packages\\torch\\nn\\modules\\module.py\u001b[0m in \u001b[0;36m_call_impl\u001b[1;34m(self, *input, **kwargs)\u001b[0m\n\u001b[0;32m   1129\u001b[0m                 or _global_forward_hooks or _global_forward_pre_hooks):\n\u001b[1;32m-> 1130\u001b[1;33m             \u001b[1;32mreturn\u001b[0m \u001b[0mforward_call\u001b[0m\u001b[1;33m(\u001b[0m\u001b[1;33m*\u001b[0m\u001b[0minput\u001b[0m\u001b[1;33m,\u001b[0m \u001b[1;33m**\u001b[0m\u001b[0mkwargs\u001b[0m\u001b[1;33m)\u001b[0m\u001b[1;33m\u001b[0m\u001b[1;33m\u001b[0m\u001b[0m\n\u001b[0m\u001b[0;32m   1131\u001b[0m         \u001b[1;31m# Do not call functions when jit is used\u001b[0m\u001b[1;33m\u001b[0m\u001b[1;33m\u001b[0m\u001b[1;33m\u001b[0m\u001b[0m\n",
      "\u001b[1;32mD:\\anaconda\\lib\\site-packages\\transformers\\models\\electra\\modeling_electra.py\u001b[0m in \u001b[0;36mforward\u001b[1;34m(self, input_ids, attention_mask, token_type_ids, position_ids, head_mask, inputs_embeds, labels, output_attentions, output_hidden_states, return_dict)\u001b[0m\n\u001b[0;32m   1128\u001b[0m             \u001b[0moutput_hidden_states\u001b[0m\u001b[1;33m=\u001b[0m\u001b[0moutput_hidden_states\u001b[0m\u001b[1;33m,\u001b[0m\u001b[1;33m\u001b[0m\u001b[1;33m\u001b[0m\u001b[0m\n\u001b[1;32m-> 1129\u001b[1;33m             \u001b[0mreturn_dict\u001b[0m\u001b[1;33m=\u001b[0m\u001b[0mreturn_dict\u001b[0m\u001b[1;33m,\u001b[0m\u001b[1;33m\u001b[0m\u001b[1;33m\u001b[0m\u001b[0m\n\u001b[0m\u001b[0;32m   1130\u001b[0m         )\n",
      "\u001b[1;32mD:\\anaconda\\lib\\site-packages\\torch\\nn\\modules\\module.py\u001b[0m in \u001b[0;36m_call_impl\u001b[1;34m(self, *input, **kwargs)\u001b[0m\n\u001b[0;32m   1129\u001b[0m                 or _global_forward_hooks or _global_forward_pre_hooks):\n\u001b[1;32m-> 1130\u001b[1;33m             \u001b[1;32mreturn\u001b[0m \u001b[0mforward_call\u001b[0m\u001b[1;33m(\u001b[0m\u001b[1;33m*\u001b[0m\u001b[0minput\u001b[0m\u001b[1;33m,\u001b[0m \u001b[1;33m**\u001b[0m\u001b[0mkwargs\u001b[0m\u001b[1;33m)\u001b[0m\u001b[1;33m\u001b[0m\u001b[1;33m\u001b[0m\u001b[0m\n\u001b[0m\u001b[0;32m   1131\u001b[0m         \u001b[1;31m# Do not call functions when jit is used\u001b[0m\u001b[1;33m\u001b[0m\u001b[1;33m\u001b[0m\u001b[1;33m\u001b[0m\u001b[0m\n",
      "\u001b[1;32mD:\\anaconda\\lib\\site-packages\\transformers\\models\\electra\\modeling_electra.py\u001b[0m in \u001b[0;36mforward\u001b[1;34m(self, input_ids, attention_mask, token_type_ids, position_ids, head_mask, inputs_embeds, encoder_hidden_states, encoder_attention_mask, past_key_values, use_cache, output_attentions, output_hidden_states, return_dict)\u001b[0m\n\u001b[0;32m    926\u001b[0m             \u001b[0moutput_hidden_states\u001b[0m\u001b[1;33m=\u001b[0m\u001b[0moutput_hidden_states\u001b[0m\u001b[1;33m,\u001b[0m\u001b[1;33m\u001b[0m\u001b[1;33m\u001b[0m\u001b[0m\n\u001b[1;32m--> 927\u001b[1;33m             \u001b[0mreturn_dict\u001b[0m\u001b[1;33m=\u001b[0m\u001b[0mreturn_dict\u001b[0m\u001b[1;33m,\u001b[0m\u001b[1;33m\u001b[0m\u001b[1;33m\u001b[0m\u001b[0m\n\u001b[0m\u001b[0;32m    928\u001b[0m         )\n",
      "\u001b[1;32mD:\\anaconda\\lib\\site-packages\\torch\\nn\\modules\\module.py\u001b[0m in \u001b[0;36m_call_impl\u001b[1;34m(self, *input, **kwargs)\u001b[0m\n\u001b[0;32m   1129\u001b[0m                 or _global_forward_hooks or _global_forward_pre_hooks):\n\u001b[1;32m-> 1130\u001b[1;33m             \u001b[1;32mreturn\u001b[0m \u001b[0mforward_call\u001b[0m\u001b[1;33m(\u001b[0m\u001b[1;33m*\u001b[0m\u001b[0minput\u001b[0m\u001b[1;33m,\u001b[0m \u001b[1;33m**\u001b[0m\u001b[0mkwargs\u001b[0m\u001b[1;33m)\u001b[0m\u001b[1;33m\u001b[0m\u001b[1;33m\u001b[0m\u001b[0m\n\u001b[0m\u001b[0;32m   1131\u001b[0m         \u001b[1;31m# Do not call functions when jit is used\u001b[0m\u001b[1;33m\u001b[0m\u001b[1;33m\u001b[0m\u001b[1;33m\u001b[0m\u001b[0m\n",
      "\u001b[1;32mD:\\anaconda\\lib\\site-packages\\transformers\\models\\electra\\modeling_electra.py\u001b[0m in \u001b[0;36mforward\u001b[1;34m(self, hidden_states, attention_mask, head_mask, encoder_hidden_states, encoder_attention_mask, past_key_values, use_cache, output_attentions, output_hidden_states, return_dict)\u001b[0m\n\u001b[0;32m    591\u001b[0m                     \u001b[0mpast_key_value\u001b[0m\u001b[1;33m,\u001b[0m\u001b[1;33m\u001b[0m\u001b[1;33m\u001b[0m\u001b[0m\n\u001b[1;32m--> 592\u001b[1;33m                     \u001b[0moutput_attentions\u001b[0m\u001b[1;33m,\u001b[0m\u001b[1;33m\u001b[0m\u001b[1;33m\u001b[0m\u001b[0m\n\u001b[0m\u001b[0;32m    593\u001b[0m                 )\n",
      "\u001b[1;32mD:\\anaconda\\lib\\site-packages\\torch\\nn\\modules\\module.py\u001b[0m in \u001b[0;36m_call_impl\u001b[1;34m(self, *input, **kwargs)\u001b[0m\n\u001b[0;32m   1129\u001b[0m                 or _global_forward_hooks or _global_forward_pre_hooks):\n\u001b[1;32m-> 1130\u001b[1;33m             \u001b[1;32mreturn\u001b[0m \u001b[0mforward_call\u001b[0m\u001b[1;33m(\u001b[0m\u001b[1;33m*\u001b[0m\u001b[0minput\u001b[0m\u001b[1;33m,\u001b[0m \u001b[1;33m**\u001b[0m\u001b[0mkwargs\u001b[0m\u001b[1;33m)\u001b[0m\u001b[1;33m\u001b[0m\u001b[1;33m\u001b[0m\u001b[0m\n\u001b[0m\u001b[0;32m   1131\u001b[0m         \u001b[1;31m# Do not call functions when jit is used\u001b[0m\u001b[1;33m\u001b[0m\u001b[1;33m\u001b[0m\u001b[1;33m\u001b[0m\u001b[0m\n",
      "\u001b[1;32mD:\\anaconda\\lib\\site-packages\\transformers\\models\\electra\\modeling_electra.py\u001b[0m in \u001b[0;36mforward\u001b[1;34m(self, hidden_states, attention_mask, head_mask, encoder_hidden_states, encoder_attention_mask, past_key_value, output_attentions)\u001b[0m\n\u001b[0;32m    474\u001b[0m             \u001b[0moutput_attentions\u001b[0m\u001b[1;33m=\u001b[0m\u001b[0moutput_attentions\u001b[0m\u001b[1;33m,\u001b[0m\u001b[1;33m\u001b[0m\u001b[1;33m\u001b[0m\u001b[0m\n\u001b[1;32m--> 475\u001b[1;33m             \u001b[0mpast_key_value\u001b[0m\u001b[1;33m=\u001b[0m\u001b[0mself_attn_past_key_value\u001b[0m\u001b[1;33m,\u001b[0m\u001b[1;33m\u001b[0m\u001b[1;33m\u001b[0m\u001b[0m\n\u001b[0m\u001b[0;32m    476\u001b[0m         )\n",
      "\u001b[1;32mD:\\anaconda\\lib\\site-packages\\torch\\nn\\modules\\module.py\u001b[0m in \u001b[0;36m_call_impl\u001b[1;34m(self, *input, **kwargs)\u001b[0m\n\u001b[0;32m   1129\u001b[0m                 or _global_forward_hooks or _global_forward_pre_hooks):\n\u001b[1;32m-> 1130\u001b[1;33m             \u001b[1;32mreturn\u001b[0m \u001b[0mforward_call\u001b[0m\u001b[1;33m(\u001b[0m\u001b[1;33m*\u001b[0m\u001b[0minput\u001b[0m\u001b[1;33m,\u001b[0m \u001b[1;33m**\u001b[0m\u001b[0mkwargs\u001b[0m\u001b[1;33m)\u001b[0m\u001b[1;33m\u001b[0m\u001b[1;33m\u001b[0m\u001b[0m\n\u001b[0m\u001b[0;32m   1131\u001b[0m         \u001b[1;31m# Do not call functions when jit is used\u001b[0m\u001b[1;33m\u001b[0m\u001b[1;33m\u001b[0m\u001b[1;33m\u001b[0m\u001b[0m\n",
      "\u001b[1;32mD:\\anaconda\\lib\\site-packages\\transformers\\models\\electra\\modeling_electra.py\u001b[0m in \u001b[0;36mforward\u001b[1;34m(self, hidden_states, attention_mask, head_mask, encoder_hidden_states, encoder_attention_mask, past_key_value, output_attentions)\u001b[0m\n\u001b[0;32m    403\u001b[0m             \u001b[0mpast_key_value\u001b[0m\u001b[1;33m,\u001b[0m\u001b[1;33m\u001b[0m\u001b[1;33m\u001b[0m\u001b[0m\n\u001b[1;32m--> 404\u001b[1;33m             \u001b[0moutput_attentions\u001b[0m\u001b[1;33m,\u001b[0m\u001b[1;33m\u001b[0m\u001b[1;33m\u001b[0m\u001b[0m\n\u001b[0m\u001b[0;32m    405\u001b[0m         )\n",
      "\u001b[1;32mD:\\anaconda\\lib\\site-packages\\torch\\nn\\modules\\module.py\u001b[0m in \u001b[0;36m_call_impl\u001b[1;34m(self, *input, **kwargs)\u001b[0m\n\u001b[0;32m   1129\u001b[0m                 or _global_forward_hooks or _global_forward_pre_hooks):\n\u001b[1;32m-> 1130\u001b[1;33m             \u001b[1;32mreturn\u001b[0m \u001b[0mforward_call\u001b[0m\u001b[1;33m(\u001b[0m\u001b[1;33m*\u001b[0m\u001b[0minput\u001b[0m\u001b[1;33m,\u001b[0m \u001b[1;33m**\u001b[0m\u001b[0mkwargs\u001b[0m\u001b[1;33m)\u001b[0m\u001b[1;33m\u001b[0m\u001b[1;33m\u001b[0m\u001b[0m\n\u001b[0m\u001b[0;32m   1131\u001b[0m         \u001b[1;31m# Do not call functions when jit is used\u001b[0m\u001b[1;33m\u001b[0m\u001b[1;33m\u001b[0m\u001b[1;33m\u001b[0m\u001b[0m\n",
      "\u001b[1;32mD:\\anaconda\\lib\\site-packages\\transformers\\models\\electra\\modeling_electra.py\u001b[0m in \u001b[0;36mforward\u001b[1;34m(self, hidden_states, attention_mask, head_mask, encoder_hidden_states, encoder_attention_mask, past_key_value, output_attentions)\u001b[0m\n\u001b[0;32m    298\u001b[0m         \u001b[1;31m# Take the dot product between \"query\" and \"key\" to get the raw attention scores.\u001b[0m\u001b[1;33m\u001b[0m\u001b[1;33m\u001b[0m\u001b[1;33m\u001b[0m\u001b[0m\n\u001b[1;32m--> 299\u001b[1;33m         \u001b[0mattention_scores\u001b[0m \u001b[1;33m=\u001b[0m \u001b[0mtorch\u001b[0m\u001b[1;33m.\u001b[0m\u001b[0mmatmul\u001b[0m\u001b[1;33m(\u001b[0m\u001b[0mquery_layer\u001b[0m\u001b[1;33m,\u001b[0m \u001b[0mkey_layer\u001b[0m\u001b[1;33m.\u001b[0m\u001b[0mtranspose\u001b[0m\u001b[1;33m(\u001b[0m\u001b[1;33m-\u001b[0m\u001b[1;36m1\u001b[0m\u001b[1;33m,\u001b[0m \u001b[1;33m-\u001b[0m\u001b[1;36m2\u001b[0m\u001b[1;33m)\u001b[0m\u001b[1;33m)\u001b[0m\u001b[1;33m\u001b[0m\u001b[1;33m\u001b[0m\u001b[0m\n\u001b[0m\u001b[0;32m    300\u001b[0m \u001b[1;33m\u001b[0m\u001b[0m\n",
      "\u001b[1;31mKeyboardInterrupt\u001b[0m: ",
      "\nDuring handling of the above exception, another exception occurred:\n",
      "\u001b[1;31mKeyboardInterrupt\u001b[0m                         Traceback (most recent call last)",
      "\u001b[1;32mD:\\anaconda\\lib\\site-packages\\IPython\\core\\interactiveshell.py\u001b[0m in \u001b[0;36mrun_code\u001b[1;34m(self, code_obj, result, async_)\u001b[0m\n\u001b[0;32m   3325\u001b[0m                 \u001b[1;32melse\u001b[0m\u001b[1;33m:\u001b[0m\u001b[1;33m\u001b[0m\u001b[1;33m\u001b[0m\u001b[0m\n\u001b[1;32m-> 3326\u001b[1;33m                     \u001b[0mexec\u001b[0m\u001b[1;33m(\u001b[0m\u001b[0mcode_obj\u001b[0m\u001b[1;33m,\u001b[0m \u001b[0mself\u001b[0m\u001b[1;33m.\u001b[0m\u001b[0muser_global_ns\u001b[0m\u001b[1;33m,\u001b[0m \u001b[0mself\u001b[0m\u001b[1;33m.\u001b[0m\u001b[0muser_ns\u001b[0m\u001b[1;33m)\u001b[0m\u001b[1;33m\u001b[0m\u001b[1;33m\u001b[0m\u001b[0m\n\u001b[0m\u001b[0;32m   3327\u001b[0m             \u001b[1;32mfinally\u001b[0m\u001b[1;33m:\u001b[0m\u001b[1;33m\u001b[0m\u001b[1;33m\u001b[0m\u001b[0m\n",
      "\u001b[1;32m<ipython-input-63-601112e4733d>\u001b[0m in \u001b[0;36m<module>\u001b[1;34m\u001b[0m\n\u001b[1;32m----> 1\u001b[1;33m \u001b[0mtesting_2\u001b[0m \u001b[1;33m=\u001b[0m \u001b[0mdf_2\u001b[0m\u001b[1;33m.\u001b[0m\u001b[0mloc\u001b[0m\u001b[1;33m[\u001b[0m\u001b[0mtime_idx_2\u001b[0m\u001b[1;33m]\u001b[0m\u001b[1;33m[\u001b[0m\u001b[1;33m[\u001b[0m\u001b[1;34m'요약'\u001b[0m\u001b[1;33m]\u001b[0m\u001b[1;33m]\u001b[0m\u001b[1;33m.\u001b[0m\u001b[0mprogress_apply\u001b[0m\u001b[1;33m(\u001b[0m\u001b[0mcalculate_similarity_row\u001b[0m\u001b[1;33m,\u001b[0m\u001b[0maxis\u001b[0m\u001b[1;33m=\u001b[0m\u001b[1;36m1\u001b[0m\u001b[1;33m)\u001b[0m\u001b[1;33m\u001b[0m\u001b[1;33m\u001b[0m\u001b[0m\n\u001b[0m",
      "\u001b[1;32mD:\\anaconda\\lib\\site-packages\\tqdm\\std.py\u001b[0m in \u001b[0;36minner\u001b[1;34m(df, func, *args, **kwargs)\u001b[0m\n\u001b[0;32m    815\u001b[0m                 \u001b[1;32mfinally\u001b[0m\u001b[1;33m:\u001b[0m\u001b[1;33m\u001b[0m\u001b[1;33m\u001b[0m\u001b[0m\n\u001b[1;32m--> 816\u001b[1;33m                     \u001b[0mt\u001b[0m\u001b[1;33m.\u001b[0m\u001b[0mclose\u001b[0m\u001b[1;33m(\u001b[0m\u001b[1;33m)\u001b[0m\u001b[1;33m\u001b[0m\u001b[1;33m\u001b[0m\u001b[0m\n\u001b[0m\u001b[0;32m    817\u001b[0m \u001b[1;33m\u001b[0m\u001b[0m\n",
      "\u001b[1;31mKeyboardInterrupt\u001b[0m: ",
      "\nDuring handling of the above exception, another exception occurred:\n",
      "\u001b[1;31mAttributeError\u001b[0m                            Traceback (most recent call last)",
      "\u001b[1;32mD:\\anaconda\\lib\\site-packages\\IPython\\core\\interactiveshell.py\u001b[0m in \u001b[0;36mshowtraceback\u001b[1;34m(self, exc_tuple, filename, tb_offset, exception_only, running_compiled_code)\u001b[0m\n\u001b[0;32m   2039\u001b[0m                         \u001b[1;31m# in the engines. This should return a list of strings.\u001b[0m\u001b[1;33m\u001b[0m\u001b[1;33m\u001b[0m\u001b[1;33m\u001b[0m\u001b[0m\n\u001b[1;32m-> 2040\u001b[1;33m                         \u001b[0mstb\u001b[0m \u001b[1;33m=\u001b[0m \u001b[0mvalue\u001b[0m\u001b[1;33m.\u001b[0m\u001b[0m_render_traceback_\u001b[0m\u001b[1;33m(\u001b[0m\u001b[1;33m)\u001b[0m\u001b[1;33m\u001b[0m\u001b[1;33m\u001b[0m\u001b[0m\n\u001b[0m\u001b[0;32m   2041\u001b[0m                     \u001b[1;32mexcept\u001b[0m \u001b[0mException\u001b[0m\u001b[1;33m:\u001b[0m\u001b[1;33m\u001b[0m\u001b[1;33m\u001b[0m\u001b[0m\n",
      "\u001b[1;31mAttributeError\u001b[0m: 'KeyboardInterrupt' object has no attribute '_render_traceback_'",
      "\nDuring handling of the above exception, another exception occurred:\n",
      "\u001b[1;31mKeyboardInterrupt\u001b[0m                         Traceback (most recent call last)",
      "\u001b[1;32mD:\\anaconda\\lib\\site-packages\\IPython\\core\\interactiveshell.py\u001b[0m in \u001b[0;36mshowtraceback\u001b[1;34m(self, exc_tuple, filename, tb_offset, exception_only, running_compiled_code)\u001b[0m\n\u001b[0;32m   2042\u001b[0m                         stb = self.InteractiveTB.structured_traceback(etype,\n\u001b[1;32m-> 2043\u001b[1;33m                                             value, tb, tb_offset=tb_offset)\n\u001b[0m\u001b[0;32m   2044\u001b[0m \u001b[1;33m\u001b[0m\u001b[0m\n",
      "\u001b[1;32mD:\\anaconda\\lib\\site-packages\\IPython\\core\\ultratb.py\u001b[0m in \u001b[0;36mstructured_traceback\u001b[1;34m(self, etype, value, tb, tb_offset, number_of_lines_of_context)\u001b[0m\n\u001b[0;32m   1383\u001b[0m         \u001b[0mself\u001b[0m\u001b[1;33m.\u001b[0m\u001b[0mtb\u001b[0m \u001b[1;33m=\u001b[0m \u001b[0mtb\u001b[0m\u001b[1;33m\u001b[0m\u001b[1;33m\u001b[0m\u001b[0m\n\u001b[1;32m-> 1384\u001b[1;33m         return FormattedTB.structured_traceback(\n\u001b[0m\u001b[0;32m   1385\u001b[0m             self, etype, value, tb, tb_offset, number_of_lines_of_context)\n",
      "\u001b[1;31mKeyboardInterrupt\u001b[0m: ",
      "\nDuring handling of the above exception, another exception occurred:\n",
      "\u001b[1;31mKeyboardInterrupt\u001b[0m                         Traceback (most recent call last)",
      "\u001b[1;32mD:\\anaconda\\lib\\site-packages\\IPython\\core\\interactiveshell.py\u001b[0m in \u001b[0;36mrun_code\u001b[1;34m(self, code_obj, result, async_)\u001b[0m\n\u001b[0;32m   3341\u001b[0m             \u001b[1;32mif\u001b[0m \u001b[0mresult\u001b[0m \u001b[1;32mis\u001b[0m \u001b[1;32mnot\u001b[0m \u001b[1;32mNone\u001b[0m\u001b[1;33m:\u001b[0m\u001b[1;33m\u001b[0m\u001b[1;33m\u001b[0m\u001b[0m\n\u001b[0;32m   3342\u001b[0m                 \u001b[0mresult\u001b[0m\u001b[1;33m.\u001b[0m\u001b[0merror_in_exec\u001b[0m \u001b[1;33m=\u001b[0m \u001b[0msys\u001b[0m\u001b[1;33m.\u001b[0m\u001b[0mexc_info\u001b[0m\u001b[1;33m(\u001b[0m\u001b[1;33m)\u001b[0m\u001b[1;33m[\u001b[0m\u001b[1;36m1\u001b[0m\u001b[1;33m]\u001b[0m\u001b[1;33m\u001b[0m\u001b[1;33m\u001b[0m\u001b[0m\n\u001b[1;32m-> 3343\u001b[1;33m             \u001b[0mself\u001b[0m\u001b[1;33m.\u001b[0m\u001b[0mshowtraceback\u001b[0m\u001b[1;33m(\u001b[0m\u001b[0mrunning_compiled_code\u001b[0m\u001b[1;33m=\u001b[0m\u001b[1;32mTrue\u001b[0m\u001b[1;33m)\u001b[0m\u001b[1;33m\u001b[0m\u001b[1;33m\u001b[0m\u001b[0m\n\u001b[0m\u001b[0;32m   3344\u001b[0m         \u001b[1;32melse\u001b[0m\u001b[1;33m:\u001b[0m\u001b[1;33m\u001b[0m\u001b[1;33m\u001b[0m\u001b[0m\n\u001b[0;32m   3345\u001b[0m             \u001b[0moutflag\u001b[0m \u001b[1;33m=\u001b[0m \u001b[1;32mFalse\u001b[0m\u001b[1;33m\u001b[0m\u001b[1;33m\u001b[0m\u001b[0m\n",
      "\u001b[1;32mD:\\anaconda\\lib\\site-packages\\IPython\\core\\interactiveshell.py\u001b[0m in \u001b[0;36mshowtraceback\u001b[1;34m(self, exc_tuple, filename, tb_offset, exception_only, running_compiled_code)\u001b[0m\n\u001b[0;32m   2053\u001b[0m \u001b[1;33m\u001b[0m\u001b[0m\n\u001b[0;32m   2054\u001b[0m         \u001b[1;32mexcept\u001b[0m \u001b[0mKeyboardInterrupt\u001b[0m\u001b[1;33m:\u001b[0m\u001b[1;33m\u001b[0m\u001b[1;33m\u001b[0m\u001b[0m\n\u001b[1;32m-> 2055\u001b[1;33m             \u001b[0mprint\u001b[0m\u001b[1;33m(\u001b[0m\u001b[1;34m'\\n'\u001b[0m \u001b[1;33m+\u001b[0m \u001b[0mself\u001b[0m\u001b[1;33m.\u001b[0m\u001b[0mget_exception_only\u001b[0m\u001b[1;33m(\u001b[0m\u001b[1;33m)\u001b[0m\u001b[1;33m,\u001b[0m \u001b[0mfile\u001b[0m\u001b[1;33m=\u001b[0m\u001b[0msys\u001b[0m\u001b[1;33m.\u001b[0m\u001b[0mstderr\u001b[0m\u001b[1;33m)\u001b[0m\u001b[1;33m\u001b[0m\u001b[1;33m\u001b[0m\u001b[0m\n\u001b[0m\u001b[0;32m   2056\u001b[0m \u001b[1;33m\u001b[0m\u001b[0m\n\u001b[0;32m   2057\u001b[0m     \u001b[1;32mdef\u001b[0m \u001b[0m_showtraceback\u001b[0m\u001b[1;33m(\u001b[0m\u001b[0mself\u001b[0m\u001b[1;33m,\u001b[0m \u001b[0metype\u001b[0m\u001b[1;33m,\u001b[0m \u001b[0mevalue\u001b[0m\u001b[1;33m,\u001b[0m \u001b[0mstb\u001b[0m\u001b[1;33m)\u001b[0m\u001b[1;33m:\u001b[0m\u001b[1;33m\u001b[0m\u001b[1;33m\u001b[0m\u001b[0m\n",
      "\u001b[1;32mD:\\anaconda\\lib\\site-packages\\IPython\\core\\interactiveshell.py\u001b[0m in \u001b[0;36mget_exception_only\u001b[1;34m(self, exc_tuple)\u001b[0m\n\u001b[0;32m   1998\u001b[0m         \"\"\"\n\u001b[0;32m   1999\u001b[0m         \u001b[0metype\u001b[0m\u001b[1;33m,\u001b[0m \u001b[0mvalue\u001b[0m\u001b[1;33m,\u001b[0m \u001b[0mtb\u001b[0m \u001b[1;33m=\u001b[0m \u001b[0mself\u001b[0m\u001b[1;33m.\u001b[0m\u001b[0m_get_exc_info\u001b[0m\u001b[1;33m(\u001b[0m\u001b[0mexc_tuple\u001b[0m\u001b[1;33m)\u001b[0m\u001b[1;33m\u001b[0m\u001b[1;33m\u001b[0m\u001b[0m\n\u001b[1;32m-> 2000\u001b[1;33m         \u001b[0mmsg\u001b[0m \u001b[1;33m=\u001b[0m \u001b[0mtraceback\u001b[0m\u001b[1;33m.\u001b[0m\u001b[0mformat_exception_only\u001b[0m\u001b[1;33m(\u001b[0m\u001b[0metype\u001b[0m\u001b[1;33m,\u001b[0m \u001b[0mvalue\u001b[0m\u001b[1;33m)\u001b[0m\u001b[1;33m\u001b[0m\u001b[1;33m\u001b[0m\u001b[0m\n\u001b[0m\u001b[0;32m   2001\u001b[0m         \u001b[1;32mreturn\u001b[0m \u001b[1;34m''\u001b[0m\u001b[1;33m.\u001b[0m\u001b[0mjoin\u001b[0m\u001b[1;33m(\u001b[0m\u001b[0mmsg\u001b[0m\u001b[1;33m)\u001b[0m\u001b[1;33m\u001b[0m\u001b[1;33m\u001b[0m\u001b[0m\n\u001b[0;32m   2002\u001b[0m \u001b[1;33m\u001b[0m\u001b[0m\n",
      "\u001b[1;32mD:\\anaconda\\lib\\traceback.py\u001b[0m in \u001b[0;36mformat_exception_only\u001b[1;34m(etype, value)\u001b[0m\n\u001b[0;32m    138\u001b[0m \u001b[1;33m\u001b[0m\u001b[0m\n\u001b[0;32m    139\u001b[0m     \"\"\"\n\u001b[1;32m--> 140\u001b[1;33m     \u001b[1;32mreturn\u001b[0m \u001b[0mlist\u001b[0m\u001b[1;33m(\u001b[0m\u001b[0mTracebackException\u001b[0m\u001b[1;33m(\u001b[0m\u001b[0metype\u001b[0m\u001b[1;33m,\u001b[0m \u001b[0mvalue\u001b[0m\u001b[1;33m,\u001b[0m \u001b[1;32mNone\u001b[0m\u001b[1;33m)\u001b[0m\u001b[1;33m.\u001b[0m\u001b[0mformat_exception_only\u001b[0m\u001b[1;33m(\u001b[0m\u001b[1;33m)\u001b[0m\u001b[1;33m)\u001b[0m\u001b[1;33m\u001b[0m\u001b[1;33m\u001b[0m\u001b[0m\n\u001b[0m\u001b[0;32m    141\u001b[0m \u001b[1;33m\u001b[0m\u001b[0m\n\u001b[0;32m    142\u001b[0m \u001b[1;33m\u001b[0m\u001b[0m\n",
      "\u001b[1;32mD:\\anaconda\\lib\\traceback.py\u001b[0m in \u001b[0;36m__init__\u001b[1;34m(self, exc_type, exc_value, exc_traceback, limit, lookup_lines, capture_locals, _seen)\u001b[0m\n\u001b[0;32m    495\u001b[0m                 \u001b[0mlookup_lines\u001b[0m\u001b[1;33m=\u001b[0m\u001b[1;32mFalse\u001b[0m\u001b[1;33m,\u001b[0m\u001b[1;33m\u001b[0m\u001b[1;33m\u001b[0m\u001b[0m\n\u001b[0;32m    496\u001b[0m                 \u001b[0mcapture_locals\u001b[0m\u001b[1;33m=\u001b[0m\u001b[0mcapture_locals\u001b[0m\u001b[1;33m,\u001b[0m\u001b[1;33m\u001b[0m\u001b[1;33m\u001b[0m\u001b[0m\n\u001b[1;32m--> 497\u001b[1;33m                 _seen=_seen)\n\u001b[0m\u001b[0;32m    498\u001b[0m         \u001b[1;32melse\u001b[0m\u001b[1;33m:\u001b[0m\u001b[1;33m\u001b[0m\u001b[1;33m\u001b[0m\u001b[0m\n\u001b[0;32m    499\u001b[0m             \u001b[0mcontext\u001b[0m \u001b[1;33m=\u001b[0m \u001b[1;32mNone\u001b[0m\u001b[1;33m\u001b[0m\u001b[1;33m\u001b[0m\u001b[0m\n",
      "\u001b[1;32mD:\\anaconda\\lib\\traceback.py\u001b[0m in \u001b[0;36m__init__\u001b[1;34m(self, exc_type, exc_value, exc_traceback, limit, lookup_lines, capture_locals, _seen)\u001b[0m\n\u001b[0;32m    495\u001b[0m                 \u001b[0mlookup_lines\u001b[0m\u001b[1;33m=\u001b[0m\u001b[1;32mFalse\u001b[0m\u001b[1;33m,\u001b[0m\u001b[1;33m\u001b[0m\u001b[1;33m\u001b[0m\u001b[0m\n\u001b[0;32m    496\u001b[0m                 \u001b[0mcapture_locals\u001b[0m\u001b[1;33m=\u001b[0m\u001b[0mcapture_locals\u001b[0m\u001b[1;33m,\u001b[0m\u001b[1;33m\u001b[0m\u001b[1;33m\u001b[0m\u001b[0m\n\u001b[1;32m--> 497\u001b[1;33m                 _seen=_seen)\n\u001b[0m\u001b[0;32m    498\u001b[0m         \u001b[1;32melse\u001b[0m\u001b[1;33m:\u001b[0m\u001b[1;33m\u001b[0m\u001b[1;33m\u001b[0m\u001b[0m\n\u001b[0;32m    499\u001b[0m             \u001b[0mcontext\u001b[0m \u001b[1;33m=\u001b[0m \u001b[1;32mNone\u001b[0m\u001b[1;33m\u001b[0m\u001b[1;33m\u001b[0m\u001b[0m\n",
      "\u001b[1;32mD:\\anaconda\\lib\\traceback.py\u001b[0m in \u001b[0;36m__init__\u001b[1;34m(self, exc_type, exc_value, exc_traceback, limit, lookup_lines, capture_locals, _seen)\u001b[0m\n\u001b[0;32m    495\u001b[0m                 \u001b[0mlookup_lines\u001b[0m\u001b[1;33m=\u001b[0m\u001b[1;32mFalse\u001b[0m\u001b[1;33m,\u001b[0m\u001b[1;33m\u001b[0m\u001b[1;33m\u001b[0m\u001b[0m\n\u001b[0;32m    496\u001b[0m                 \u001b[0mcapture_locals\u001b[0m\u001b[1;33m=\u001b[0m\u001b[0mcapture_locals\u001b[0m\u001b[1;33m,\u001b[0m\u001b[1;33m\u001b[0m\u001b[1;33m\u001b[0m\u001b[0m\n\u001b[1;32m--> 497\u001b[1;33m                 _seen=_seen)\n\u001b[0m\u001b[0;32m    498\u001b[0m         \u001b[1;32melse\u001b[0m\u001b[1;33m:\u001b[0m\u001b[1;33m\u001b[0m\u001b[1;33m\u001b[0m\u001b[0m\n\u001b[0;32m    499\u001b[0m             \u001b[0mcontext\u001b[0m \u001b[1;33m=\u001b[0m \u001b[1;32mNone\u001b[0m\u001b[1;33m\u001b[0m\u001b[1;33m\u001b[0m\u001b[0m\n",
      "\u001b[1;32mD:\\anaconda\\lib\\traceback.py\u001b[0m in \u001b[0;36m__init__\u001b[1;34m(self, exc_type, exc_value, exc_traceback, limit, lookup_lines, capture_locals, _seen)\u001b[0m\n\u001b[0;32m    506\u001b[0m         self.stack = StackSummary.extract(\n\u001b[0;32m    507\u001b[0m             \u001b[0mwalk_tb\u001b[0m\u001b[1;33m(\u001b[0m\u001b[0mexc_traceback\u001b[0m\u001b[1;33m)\u001b[0m\u001b[1;33m,\u001b[0m \u001b[0mlimit\u001b[0m\u001b[1;33m=\u001b[0m\u001b[0mlimit\u001b[0m\u001b[1;33m,\u001b[0m \u001b[0mlookup_lines\u001b[0m\u001b[1;33m=\u001b[0m\u001b[0mlookup_lines\u001b[0m\u001b[1;33m,\u001b[0m\u001b[1;33m\u001b[0m\u001b[1;33m\u001b[0m\u001b[0m\n\u001b[1;32m--> 508\u001b[1;33m             capture_locals=capture_locals)\n\u001b[0m\u001b[0;32m    509\u001b[0m         \u001b[0mself\u001b[0m\u001b[1;33m.\u001b[0m\u001b[0mexc_type\u001b[0m \u001b[1;33m=\u001b[0m \u001b[0mexc_type\u001b[0m\u001b[1;33m\u001b[0m\u001b[1;33m\u001b[0m\u001b[0m\n\u001b[0;32m    510\u001b[0m         \u001b[1;31m# Capture now to permit freeing resources: only complication is in the\u001b[0m\u001b[1;33m\u001b[0m\u001b[1;33m\u001b[0m\u001b[1;33m\u001b[0m\u001b[0m\n",
      "\u001b[1;32mD:\\anaconda\\lib\\traceback.py\u001b[0m in \u001b[0;36mextract\u001b[1;34m(klass, frame_gen, limit, lookup_lines, capture_locals)\u001b[0m\n\u001b[0;32m    342\u001b[0m         \u001b[0mresult\u001b[0m \u001b[1;33m=\u001b[0m \u001b[0mklass\u001b[0m\u001b[1;33m(\u001b[0m\u001b[1;33m)\u001b[0m\u001b[1;33m\u001b[0m\u001b[1;33m\u001b[0m\u001b[0m\n\u001b[0;32m    343\u001b[0m         \u001b[0mfnames\u001b[0m \u001b[1;33m=\u001b[0m \u001b[0mset\u001b[0m\u001b[1;33m(\u001b[0m\u001b[1;33m)\u001b[0m\u001b[1;33m\u001b[0m\u001b[1;33m\u001b[0m\u001b[0m\n\u001b[1;32m--> 344\u001b[1;33m         \u001b[1;32mfor\u001b[0m \u001b[0mf\u001b[0m\u001b[1;33m,\u001b[0m \u001b[0mlineno\u001b[0m \u001b[1;32min\u001b[0m \u001b[0mframe_gen\u001b[0m\u001b[1;33m:\u001b[0m\u001b[1;33m\u001b[0m\u001b[1;33m\u001b[0m\u001b[0m\n\u001b[0m\u001b[0;32m    345\u001b[0m             \u001b[0mco\u001b[0m \u001b[1;33m=\u001b[0m \u001b[0mf\u001b[0m\u001b[1;33m.\u001b[0m\u001b[0mf_code\u001b[0m\u001b[1;33m\u001b[0m\u001b[1;33m\u001b[0m\u001b[0m\n\u001b[0;32m    346\u001b[0m             \u001b[0mfilename\u001b[0m \u001b[1;33m=\u001b[0m \u001b[0mco\u001b[0m\u001b[1;33m.\u001b[0m\u001b[0mco_filename\u001b[0m\u001b[1;33m\u001b[0m\u001b[1;33m\u001b[0m\u001b[0m\n",
      "\u001b[1;32mD:\\anaconda\\lib\\traceback.py\u001b[0m in \u001b[0;36mwalk_tb\u001b[1;34m(tb)\u001b[0m\n\u001b[0;32m    307\u001b[0m     \"\"\"\n\u001b[0;32m    308\u001b[0m     \u001b[1;32mwhile\u001b[0m \u001b[0mtb\u001b[0m \u001b[1;32mis\u001b[0m \u001b[1;32mnot\u001b[0m \u001b[1;32mNone\u001b[0m\u001b[1;33m:\u001b[0m\u001b[1;33m\u001b[0m\u001b[1;33m\u001b[0m\u001b[0m\n\u001b[1;32m--> 309\u001b[1;33m         \u001b[1;32myield\u001b[0m \u001b[0mtb\u001b[0m\u001b[1;33m.\u001b[0m\u001b[0mtb_frame\u001b[0m\u001b[1;33m,\u001b[0m \u001b[0mtb\u001b[0m\u001b[1;33m.\u001b[0m\u001b[0mtb_lineno\u001b[0m\u001b[1;33m\u001b[0m\u001b[1;33m\u001b[0m\u001b[0m\n\u001b[0m\u001b[0;32m    310\u001b[0m         \u001b[0mtb\u001b[0m \u001b[1;33m=\u001b[0m \u001b[0mtb\u001b[0m\u001b[1;33m.\u001b[0m\u001b[0mtb_next\u001b[0m\u001b[1;33m\u001b[0m\u001b[1;33m\u001b[0m\u001b[0m\n\u001b[0;32m    311\u001b[0m \u001b[1;33m\u001b[0m\u001b[0m\n",
      "\u001b[1;31mKeyboardInterrupt\u001b[0m: "
     ]
    }
   ],
   "source": [
    "testing_2 = df_2.loc[time_idx_2][['요약']].progress_apply(calculate_similarity_row,axis=1)"
   ]
  },
  {
   "cell_type": "code",
   "execution_count": 30,
   "metadata": {},
   "outputs": [],
   "source": [
    "df_2_test = df_2.loc[time_idx].copy()"
   ]
  },
  {
   "cell_type": "code",
   "execution_count": 31,
   "metadata": {},
   "outputs": [],
   "source": [
    "df_2_test['cosine_simliarity'] = testing"
   ]
  },
  {
   "cell_type": "code",
   "execution_count": 37,
   "metadata": {},
   "outputs": [],
   "source": [
    "df_2_test.to_csv('20210101_cosine_similarity.csv',encoding = 'utf-8-sig')"
   ]
  },
  {
   "cell_type": "code",
   "execution_count": 47,
   "metadata": {},
   "outputs": [
    {
     "data": {
      "text/html": [
       "<div>\n",
       "<style scoped>\n",
       "    .dataframe tbody tr th:only-of-type {\n",
       "        vertical-align: middle;\n",
       "    }\n",
       "\n",
       "    .dataframe tbody tr th {\n",
       "        vertical-align: top;\n",
       "    }\n",
       "\n",
       "    .dataframe thead th {\n",
       "        text-align: right;\n",
       "    }\n",
       "</style>\n",
       "<table border=\"1\" class=\"dataframe\">\n",
       "  <thead>\n",
       "    <tr style=\"text-align: right;\">\n",
       "      <th></th>\n",
       "      <th>요약</th>\n",
       "      <th>cosine_simliarity</th>\n",
       "    </tr>\n",
       "  </thead>\n",
       "  <tbody>\n",
       "    <tr>\n",
       "      <th>20082</th>\n",
       "      <td>음성 정보 기반의 개인맞춤형 정신건강 분석 및 관리서비스 제공방법이 개시된다. 음성...</td>\n",
       "      <td>-0.740542</td>\n",
       "    </tr>\n",
       "    <tr>\n",
       "      <th>48854</th>\n",
       "      <td>본 발명은 비즈니스 관리를 지원하는 플랫폼에 관한 것이다. 비즈니스 관리를 지원하는...</td>\n",
       "      <td>-0.716817</td>\n",
       "    </tr>\n",
       "    <tr>\n",
       "      <th>2228</th>\n",
       "      <td>국제 중장비 거래 시스템이 제공된다. 국제 중장비 거래 시스템</td>\n",
       "      <td>-0.712816</td>\n",
       "    </tr>\n",
       "    <tr>\n",
       "      <th>45926</th>\n",
       "      <td>실시예들은, 비즈니스 플랫폼을 운용하는 시스템을 제공한다. 실시예들에 따른 비즈니스...</td>\n",
       "      <td>-0.676855</td>\n",
       "    </tr>\n",
       "    <tr>\n",
       "      <th>16189</th>\n",
       "      <td>본 발명은 부동산 매물의 역경매 서비스를 운용하는 방법 및 그 장치에 관한 것이다....</td>\n",
       "      <td>-0.676700</td>\n",
       "    </tr>\n",
       "    <tr>\n",
       "      <th>...</th>\n",
       "      <td>...</td>\n",
       "      <td>...</td>\n",
       "    </tr>\n",
       "    <tr>\n",
       "      <th>56867</th>\n",
       "      <td>본 발명은 자동차의 컴퓨터 생성 모델(100)의 구성 요소를 변경하기 위한 컴퓨터 ...</td>\n",
       "      <td>0.912745</td>\n",
       "    </tr>\n",
       "    <tr>\n",
       "      <th>77816</th>\n",
       "      <td>본 발명은 휠체어의 전후방 알림 장치에 관한 것으로, 사람이 착석하는 좌석부가 형성...</td>\n",
       "      <td>0.913227</td>\n",
       "    </tr>\n",
       "    <tr>\n",
       "      <th>20322</th>\n",
       "      <td>본 발명은 사용자와 의류 전문가 매칭 방법에 관한 것으로서, 본 발명에 따른 사용자...</td>\n",
       "      <td>0.913990</td>\n",
       "    </tr>\n",
       "    <tr>\n",
       "      <th>16592</th>\n",
       "      <td>본 발명은 온라인 광고, 마케팅 및 홍보를 위한 비즈니스 모델을 제시함에 있어서,인...</td>\n",
       "      <td>0.914336</td>\n",
       "    </tr>\n",
       "    <tr>\n",
       "      <th>28261</th>\n",
       "      <td>본 발명의 실시 예에 따른 셀프 촬영 관리 서버는, 사용자 장치로부터 회원 정보를 ...</td>\n",
       "      <td>0.917430</td>\n",
       "    </tr>\n",
       "  </tbody>\n",
       "</table>\n",
       "<p>9667 rows × 2 columns</p>\n",
       "</div>"
      ],
      "text/plain": [
       "                                                      요약  cosine_simliarity\n",
       "20082  음성 정보 기반의 개인맞춤형 정신건강 분석 및 관리서비스 제공방법이 개시된다. 음성...          -0.740542\n",
       "48854  본 발명은 비즈니스 관리를 지원하는 플랫폼에 관한 것이다. 비즈니스 관리를 지원하는...          -0.716817\n",
       "2228                  국제 중장비 거래 시스템이 제공된다. 국제 중장비 거래 시스템          -0.712816\n",
       "45926  실시예들은, 비즈니스 플랫폼을 운용하는 시스템을 제공한다. 실시예들에 따른 비즈니스...          -0.676855\n",
       "16189  본 발명은 부동산 매물의 역경매 서비스를 운용하는 방법 및 그 장치에 관한 것이다....          -0.676700\n",
       "...                                                  ...                ...\n",
       "56867  본 발명은 자동차의 컴퓨터 생성 모델(100)의 구성 요소를 변경하기 위한 컴퓨터 ...           0.912745\n",
       "77816  본 발명은 휠체어의 전후방 알림 장치에 관한 것으로, 사람이 착석하는 좌석부가 형성...           0.913227\n",
       "20322  본 발명은 사용자와 의류 전문가 매칭 방법에 관한 것으로서, 본 발명에 따른 사용자...           0.913990\n",
       "16592  본 발명은 온라인 광고, 마케팅 및 홍보를 위한 비즈니스 모델을 제시함에 있어서,인...           0.914336\n",
       "28261  본 발명의 실시 예에 따른 셀프 촬영 관리 서버는, 사용자 장치로부터 회원 정보를 ...           0.917430\n",
       "\n",
       "[9667 rows x 2 columns]"
      ]
     },
     "execution_count": 47,
     "metadata": {},
     "output_type": "execute_result"
    }
   ],
   "source": [
    "df_2_test[['요약','cosine_simliarity']].sort_values('cosine_simliarity')"
   ]
  },
  {
   "cell_type": "code",
   "execution_count": 39,
   "metadata": {},
   "outputs": [
    {
     "data": {
      "text/html": [
       "<div>\n",
       "<style scoped>\n",
       "    .dataframe tbody tr th:only-of-type {\n",
       "        vertical-align: middle;\n",
       "    }\n",
       "\n",
       "    .dataframe tbody tr th {\n",
       "        vertical-align: top;\n",
       "    }\n",
       "\n",
       "    .dataframe thead th {\n",
       "        text-align: right;\n",
       "    }\n",
       "</style>\n",
       "<table border=\"1\" class=\"dataframe\">\n",
       "  <thead>\n",
       "    <tr style=\"text-align: right;\">\n",
       "      <th></th>\n",
       "      <th>Unnamed: 0</th>\n",
       "      <th>Unnamed: 0.1</th>\n",
       "      <th>제목</th>\n",
       "      <th>출원인</th>\n",
       "      <th>피인용 횟수</th>\n",
       "      <th>IPC</th>\n",
       "      <th>출원번호(일자)</th>\n",
       "      <th>최종권리자</th>\n",
       "      <th>요약</th>\n",
       "      <th>(51) Int. CL</th>\n",
       "      <th>...</th>\n",
       "      <th>심판사항</th>\n",
       "      <th>구분</th>\n",
       "      <th>원출원번호/일자(국제)</th>\n",
       "      <th>관련 출원번호</th>\n",
       "      <th>기술이전 희망</th>\n",
       "      <th>심사청구여부/일자</th>\n",
       "      <th>심사청구항수</th>\n",
       "      <th>(21) 출원번호/일자</th>\n",
       "      <th>원출원번호/일자</th>\n",
       "      <th>cosine_simliarity</th>\n",
       "    </tr>\n",
       "  </thead>\n",
       "  <tbody>\n",
       "    <tr>\n",
       "      <th>0</th>\n",
       "      <td>1</td>\n",
       "      <td>1</td>\n",
       "      <td>영상, 강화학습, UAV 기반 공항시설물 균열, 결함, FOD 자동검출 시스템을 이...</td>\n",
       "      <td>주식회사 딥인스펙션\\n, 이철희\\n더보기</td>\n",
       "      <td>0.0</td>\n",
       "      <td>['G06Q 50/10', 'G01N 21/88', 'G01S 17/08', 'G0...</td>\n",
       "      <td>1020220053275 (2022.04.29)</td>\n",
       "      <td>NaN</td>\n",
       "      <td>본 발명은 영상, 강화학습, UAV 기반 공항시설물 균열, 결함, FOD(Forei...</td>\n",
       "      <td>['G06Q50/10(2012.01.01)', 'G01N21/88(2006.01.0...</td>\n",
       "      <td>...</td>\n",
       "      <td>['']</td>\n",
       "      <td>국내출원/신규</td>\n",
       "      <td>NaN</td>\n",
       "      <td>['\\xa0']</td>\n",
       "      <td>NaN</td>\n",
       "      <td>Y(2022.04.29)</td>\n",
       "      <td>8.0</td>\n",
       "      <td>1020220053275 (2022.04.29)</td>\n",
       "      <td>NaN</td>\n",
       "      <td>0.791075</td>\n",
       "    </tr>\n",
       "    <tr>\n",
       "      <th>1</th>\n",
       "      <td>2</td>\n",
       "      <td>2</td>\n",
       "      <td>모바일 단말 기반의 구조물 균열 검출 방법, 장치 및 시스템(METHOD, DEVI...</td>\n",
       "      <td>주식회사 디와이스코프코리아</td>\n",
       "      <td>0.0</td>\n",
       "      <td>['G01N 21/88', 'G01B 11/02', 'G01B 11/03', 'G0...</td>\n",
       "      <td>1020220045565 (2022.04.13)</td>\n",
       "      <td>주식회사 디와이스코프코리아</td>\n",
       "      <td>본 발명은 모바일 단말 기반의 구조물 균열 검출 방법, 장치 및 시스템에 관한 것이...</td>\n",
       "      <td>['G01N21/88(2006.01.01)', 'G01B11/02(2006.01.0...</td>\n",
       "      <td>...</td>\n",
       "      <td>['']</td>\n",
       "      <td>국내출원/신규</td>\n",
       "      <td>NaN</td>\n",
       "      <td>['\\xa0']</td>\n",
       "      <td>NaN</td>\n",
       "      <td>Y(2022.04.13)</td>\n",
       "      <td>1.0</td>\n",
       "      <td>1020220045565 (2022.04.13)</td>\n",
       "      <td>NaN</td>\n",
       "      <td>0.838633</td>\n",
       "    </tr>\n",
       "    <tr>\n",
       "      <th>2</th>\n",
       "      <td>3</td>\n",
       "      <td>3</td>\n",
       "      <td>NWDAF를 이용한 서비스 연속성 지원 방법 및 장치(METHOD AND APPAR...</td>\n",
       "      <td>한국전자통신연구원</td>\n",
       "      <td>0.0</td>\n",
       "      <td>['H04W 36/14', 'H04W 36/18', 'H04W 36/00', 'H0...</td>\n",
       "      <td>1020220043045 (2022.04.06)</td>\n",
       "      <td>NaN</td>\n",
       "      <td>단말이 제1 네트워크에서 제2 네트워크로 이동하기 전에, 제1 네트워크의 NWDAF...</td>\n",
       "      <td>['H04W36/14(2009.01.01)', 'H04W36/18(2009.01.0...</td>\n",
       "      <td>...</td>\n",
       "      <td>['']</td>\n",
       "      <td>국내출원/신규</td>\n",
       "      <td>NaN</td>\n",
       "      <td>['\\xa0']</td>\n",
       "      <td>기술양도</td>\n",
       "      <td>Y(2022.04.07)</td>\n",
       "      <td>18.0</td>\n",
       "      <td>1020220043045 (2022.04.06)</td>\n",
       "      <td>NaN</td>\n",
       "      <td>0.781089</td>\n",
       "    </tr>\n",
       "    <tr>\n",
       "      <th>3</th>\n",
       "      <td>4</td>\n",
       "      <td>4</td>\n",
       "      <td>사이클 및 안전 재고 결정 시스템(CYCLE AND SAFETY STOCK DETE...</td>\n",
       "      <td>쿠팡 주식회사</td>\n",
       "      <td>0.0</td>\n",
       "      <td>['G06Q 10/06', 'G06Q 10/08']</td>\n",
       "      <td>1020220019685 (2022.02.15)</td>\n",
       "      <td>NaN</td>\n",
       "      <td>제품의 지능적인 분배를 위한 방법 및 시스템이 개시된다. 일 양태에서, 시스템은 명...</td>\n",
       "      <td>['G06Q10/06(2012.01.01)', 'G06Q10/08(2012.01.0...</td>\n",
       "      <td>...</td>\n",
       "      <td>['']</td>\n",
       "      <td>국내출원/분할</td>\n",
       "      <td>NaN</td>\n",
       "      <td>['1020200015881\\xa0']</td>\n",
       "      <td>NaN</td>\n",
       "      <td>Y(2022.02.15)</td>\n",
       "      <td>20.0</td>\n",
       "      <td>1020220019685 (2022.02.15)</td>\n",
       "      <td>1020200015881 (2020.02.10)</td>\n",
       "      <td>0.866357</td>\n",
       "    </tr>\n",
       "    <tr>\n",
       "      <th>4</th>\n",
       "      <td>5</td>\n",
       "      <td>5</td>\n",
       "      <td>인바운드 제품의 지능적인 분배를 통해 제품 인벤토리를 최적화하는 컴퓨터-구현 시스템...</td>\n",
       "      <td>쿠팡 주식회사</td>\n",
       "      <td>0.0</td>\n",
       "      <td>['G06Q 10/06', 'G06Q 10/08', 'G06Q 30/06', 'G0...</td>\n",
       "      <td>1020220003265 (2022.01.10)</td>\n",
       "      <td>NaN</td>\n",
       "      <td>제품을 지능적으로 분배하기 위한 컴퓨터-구현 시스템 및 방법이 개시된다. 시스템 및...</td>\n",
       "      <td>['G06Q10/06(2012.01.01)', 'G06Q10/08(2012.01.0...</td>\n",
       "      <td>...</td>\n",
       "      <td>['']</td>\n",
       "      <td>국내출원/분할</td>\n",
       "      <td>NaN</td>\n",
       "      <td>['1020200003682\\xa0']</td>\n",
       "      <td>NaN</td>\n",
       "      <td>Y(2022.01.10)</td>\n",
       "      <td>20.0</td>\n",
       "      <td>1020220003265 (2022.01.10)</td>\n",
       "      <td>1020200003682 (2020.01.10)</td>\n",
       "      <td>0.858729</td>\n",
       "    </tr>\n",
       "    <tr>\n",
       "      <th>...</th>\n",
       "      <td>...</td>\n",
       "      <td>...</td>\n",
       "      <td>...</td>\n",
       "      <td>...</td>\n",
       "      <td>...</td>\n",
       "      <td>...</td>\n",
       "      <td>...</td>\n",
       "      <td>...</td>\n",
       "      <td>...</td>\n",
       "      <td>...</td>\n",
       "      <td>...</td>\n",
       "      <td>...</td>\n",
       "      <td>...</td>\n",
       "      <td>...</td>\n",
       "      <td>...</td>\n",
       "      <td>...</td>\n",
       "      <td>...</td>\n",
       "      <td>...</td>\n",
       "      <td>...</td>\n",
       "      <td>...</td>\n",
       "      <td>...</td>\n",
       "    </tr>\n",
       "    <tr>\n",
       "      <th>9662</th>\n",
       "      <td>86300</td>\n",
       "      <td>86300</td>\n",
       "      <td>지식 표현 학습 방법, 장치, 전자 기기, 저장 매체 및 프로그램(METHOD AN...</td>\n",
       "      <td>베이징 바이두 넷컴 사이언스 앤 테크놀로지 코., 엘티디.</td>\n",
       "      <td>0.0</td>\n",
       "      <td>['G06N 5/02', 'G06N 7/00', 'G06N 20/00']</td>\n",
       "      <td>1020210032500 (2021.03.12)</td>\n",
       "      <td>NaN</td>\n",
       "      <td>본 출원의 실시예는 지식 표현 학습 방법, 장치, 전자 기기, 저장 매체 및 프로그...</td>\n",
       "      <td>['G06N5/02(2006.01.01)', 'G06N7/00(2022.01.01)...</td>\n",
       "      <td>...</td>\n",
       "      <td>['']</td>\n",
       "      <td>국내출원/신규</td>\n",
       "      <td>NaN</td>\n",
       "      <td>['\\xa0']</td>\n",
       "      <td>NaN</td>\n",
       "      <td>Y(2021.03.12)</td>\n",
       "      <td>15.0</td>\n",
       "      <td>1020210032500 (2021.03.12)</td>\n",
       "      <td>NaN</td>\n",
       "      <td>0.801069</td>\n",
       "    </tr>\n",
       "    <tr>\n",
       "      <th>9663</th>\n",
       "      <td>86321</td>\n",
       "      <td>86321</td>\n",
       "      <td>비대면 자가운동 유도방법(Method for inducing non-facing s...</td>\n",
       "      <td>주식회사 펀리햅</td>\n",
       "      <td>0.0</td>\n",
       "      <td>['G16H 20/30', 'A63B 24/00', 'A63B 71/06', 'G0...</td>\n",
       "      <td>1020210014676 (2021.02.02)</td>\n",
       "      <td>주식회사 펀리햅</td>\n",
       "      <td>본 발명은 상기와 같은 문제를 해결하기 위하여, 직접 병원에 가지 않고도 휴대기기를...</td>\n",
       "      <td>['G16H20/30(2018.01.01)', 'A63B24/00(2006.01.0...</td>\n",
       "      <td>...</td>\n",
       "      <td>['']</td>\n",
       "      <td>국내출원/신규</td>\n",
       "      <td>NaN</td>\n",
       "      <td>['\\xa0']</td>\n",
       "      <td>NaN</td>\n",
       "      <td>Y(2021.02.02)</td>\n",
       "      <td>1.0</td>\n",
       "      <td>1020210014676 (2021.02.02)</td>\n",
       "      <td>NaN</td>\n",
       "      <td>0.857206</td>\n",
       "    </tr>\n",
       "    <tr>\n",
       "      <th>9664</th>\n",
       "      <td>86322</td>\n",
       "      <td>86322</td>\n",
       "      <td>지능형 콜봇 서버 및 이를 이용한 무인 상담 방법(INTELLIGENT CALLBO...</td>\n",
       "      <td>(주)두타위즈</td>\n",
       "      <td>0.0</td>\n",
       "      <td>['H04M 3/51', 'G10L 15/26', 'H04M 3/53', 'G06Q...</td>\n",
       "      <td>1020210006362 (2021.01.15)</td>\n",
       "      <td>(주)두타위즈</td>\n",
       "      <td>본 발명의 일실시예에 따른 지능형 콜봇 서버 및 이를 이용한 무인 상담 방법은, 고...</td>\n",
       "      <td>['H04M3/51(2006.01.01)', 'G10L15/26(2006.01.01...</td>\n",
       "      <td>...</td>\n",
       "      <td>['']</td>\n",
       "      <td>국내출원/신규</td>\n",
       "      <td>NaN</td>\n",
       "      <td>['\\xa0']</td>\n",
       "      <td>NaN</td>\n",
       "      <td>Y(2021.01.15)</td>\n",
       "      <td>13.0</td>\n",
       "      <td>1020210006362 (2021.01.15)</td>\n",
       "      <td>NaN</td>\n",
       "      <td>0.825151</td>\n",
       "    </tr>\n",
       "    <tr>\n",
       "      <th>9665</th>\n",
       "      <td>86644</td>\n",
       "      <td>86644</td>\n",
       "      <td>온라인 예배 시스템(Online worship system)</td>\n",
       "      <td>이영규</td>\n",
       "      <td>0.0</td>\n",
       "      <td>['G06Q 50/10', 'H04N 7/18', 'H04N 21/2743', 'G...</td>\n",
       "      <td>1020210008422 (2021.01.21)</td>\n",
       "      <td>이영규</td>\n",
       "      <td>본 발명은 관리자 단말기를 통해 촬영하는 예배의 영상이 사용자 단말기의 화면에 표시...</td>\n",
       "      <td>['G06Q50/10(2012.01.01)', 'H04N7/18(2006.01.01...</td>\n",
       "      <td>...</td>\n",
       "      <td>['']</td>\n",
       "      <td>국내출원/신규</td>\n",
       "      <td>NaN</td>\n",
       "      <td>['\\xa0']</td>\n",
       "      <td>NaN</td>\n",
       "      <td>Y(2021.01.21)</td>\n",
       "      <td>4.0</td>\n",
       "      <td>1020210008422 (2021.01.21)</td>\n",
       "      <td>NaN</td>\n",
       "      <td>0.854415</td>\n",
       "    </tr>\n",
       "    <tr>\n",
       "      <th>9666</th>\n",
       "      <td>86902</td>\n",
       "      <td>86902</td>\n",
       "      <td>투명교정장치 원격모니터링 시스템(Orthodontic system using cle...</td>\n",
       "      <td>주식회사 지앤드아이</td>\n",
       "      <td>0.0</td>\n",
       "      <td>['A61C 7/00', 'G16H 20/30', 'G06Q 50/22', 'A61...</td>\n",
       "      <td>1020210007795 (2021.01.20)</td>\n",
       "      <td>주식회사 지앤드아이</td>\n",
       "      <td>투명교정장치 원격모니터링 시스템은, 치아들의 교정을 위해 치아들에 착용되는 클리어 ...</td>\n",
       "      <td>['A61C7/00(2006.01.01)', 'G16H20/30(2018.01.01...</td>\n",
       "      <td>...</td>\n",
       "      <td>['']</td>\n",
       "      <td>국내출원/신규</td>\n",
       "      <td>NaN</td>\n",
       "      <td>['\\xa0']</td>\n",
       "      <td>NaN</td>\n",
       "      <td>Y(2021.01.20)</td>\n",
       "      <td>2.0</td>\n",
       "      <td>1020210007795 (2021.01.20)</td>\n",
       "      <td>NaN</td>\n",
       "      <td>0.824871</td>\n",
       "    </tr>\n",
       "  </tbody>\n",
       "</table>\n",
       "<p>9667 rows × 32 columns</p>\n",
       "</div>"
      ],
      "text/plain": [
       "      Unnamed: 0  Unnamed: 0.1  \\\n",
       "0              1             1   \n",
       "1              2             2   \n",
       "2              3             3   \n",
       "3              4             4   \n",
       "4              5             5   \n",
       "...          ...           ...   \n",
       "9662       86300         86300   \n",
       "9663       86321         86321   \n",
       "9664       86322         86322   \n",
       "9665       86644         86644   \n",
       "9666       86902         86902   \n",
       "\n",
       "                                                     제목  \\\n",
       "0     영상, 강화학습, UAV 기반 공항시설물 균열, 결함, FOD 자동검출 시스템을 이...   \n",
       "1     모바일 단말 기반의 구조물 균열 검출 방법, 장치 및 시스템(METHOD, DEVI...   \n",
       "2     NWDAF를 이용한 서비스 연속성 지원 방법 및 장치(METHOD AND APPAR...   \n",
       "3     사이클 및 안전 재고 결정 시스템(CYCLE AND SAFETY STOCK DETE...   \n",
       "4     인바운드 제품의 지능적인 분배를 통해 제품 인벤토리를 최적화하는 컴퓨터-구현 시스템...   \n",
       "...                                                 ...   \n",
       "9662  지식 표현 학습 방법, 장치, 전자 기기, 저장 매체 및 프로그램(METHOD AN...   \n",
       "9663  비대면 자가운동 유도방법(Method for inducing non-facing s...   \n",
       "9664  지능형 콜봇 서버 및 이를 이용한 무인 상담 방법(INTELLIGENT CALLBO...   \n",
       "9665                  온라인 예배 시스템(Online worship system)   \n",
       "9666  투명교정장치 원격모니터링 시스템(Orthodontic system using cle...   \n",
       "\n",
       "                                    출원인  피인용 횟수  \\\n",
       "0                주식회사 딥인스펙션\\n, 이철희\\n더보기     0.0   \n",
       "1                        주식회사 디와이스코프코리아     0.0   \n",
       "2                             한국전자통신연구원     0.0   \n",
       "3                               쿠팡 주식회사     0.0   \n",
       "4                               쿠팡 주식회사     0.0   \n",
       "...                                 ...     ...   \n",
       "9662   베이징 바이두 넷컴 사이언스 앤 테크놀로지 코., 엘티디.     0.0   \n",
       "9663                           주식회사 펀리햅     0.0   \n",
       "9664                            (주)두타위즈     0.0   \n",
       "9665                                이영규     0.0   \n",
       "9666                         주식회사 지앤드아이     0.0   \n",
       "\n",
       "                                                    IPC  \\\n",
       "0     ['G06Q 50/10', 'G01N 21/88', 'G01S 17/08', 'G0...   \n",
       "1     ['G01N 21/88', 'G01B 11/02', 'G01B 11/03', 'G0...   \n",
       "2     ['H04W 36/14', 'H04W 36/18', 'H04W 36/00', 'H0...   \n",
       "3                          ['G06Q 10/06', 'G06Q 10/08']   \n",
       "4     ['G06Q 10/06', 'G06Q 10/08', 'G06Q 30/06', 'G0...   \n",
       "...                                                 ...   \n",
       "9662           ['G06N 5/02', 'G06N 7/00', 'G06N 20/00']   \n",
       "9663  ['G16H 20/30', 'A63B 24/00', 'A63B 71/06', 'G0...   \n",
       "9664  ['H04M 3/51', 'G10L 15/26', 'H04M 3/53', 'G06Q...   \n",
       "9665  ['G06Q 50/10', 'H04N 7/18', 'H04N 21/2743', 'G...   \n",
       "9666  ['A61C 7/00', 'G16H 20/30', 'G06Q 50/22', 'A61...   \n",
       "\n",
       "                        출원번호(일자)            최종권리자  \\\n",
       "0     1020220053275 (2022.04.29)              NaN   \n",
       "1     1020220045565 (2022.04.13)   주식회사 디와이스코프코리아   \n",
       "2     1020220043045 (2022.04.06)              NaN   \n",
       "3     1020220019685 (2022.02.15)              NaN   \n",
       "4     1020220003265 (2022.01.10)              NaN   \n",
       "...                          ...              ...   \n",
       "9662  1020210032500 (2021.03.12)              NaN   \n",
       "9663  1020210014676 (2021.02.02)         주식회사 펀리햅   \n",
       "9664  1020210006362 (2021.01.15)          (주)두타위즈   \n",
       "9665  1020210008422 (2021.01.21)              이영규   \n",
       "9666  1020210007795 (2021.01.20)       주식회사 지앤드아이   \n",
       "\n",
       "                                                     요약  \\\n",
       "0     본 발명은 영상, 강화학습, UAV 기반 공항시설물 균열, 결함, FOD(Forei...   \n",
       "1     본 발명은 모바일 단말 기반의 구조물 균열 검출 방법, 장치 및 시스템에 관한 것이...   \n",
       "2     단말이 제1 네트워크에서 제2 네트워크로 이동하기 전에, 제1 네트워크의 NWDAF...   \n",
       "3     제품의 지능적인 분배를 위한 방법 및 시스템이 개시된다. 일 양태에서, 시스템은 명...   \n",
       "4     제품을 지능적으로 분배하기 위한 컴퓨터-구현 시스템 및 방법이 개시된다. 시스템 및...   \n",
       "...                                                 ...   \n",
       "9662  본 출원의 실시예는 지식 표현 학습 방법, 장치, 전자 기기, 저장 매체 및 프로그...   \n",
       "9663  본 발명은 상기와 같은 문제를 해결하기 위하여, 직접 병원에 가지 않고도 휴대기기를...   \n",
       "9664  본 발명의 일실시예에 따른 지능형 콜봇 서버 및 이를 이용한 무인 상담 방법은, 고...   \n",
       "9665  본 발명은 관리자 단말기를 통해 촬영하는 예배의 영상이 사용자 단말기의 화면에 표시...   \n",
       "9666  투명교정장치 원격모니터링 시스템은, 치아들의 교정을 위해 치아들에 착용되는 클리어 ...   \n",
       "\n",
       "                                           (51) Int. CL  ...  심판사항       구분  \\\n",
       "0     ['G06Q50/10(2012.01.01)', 'G01N21/88(2006.01.0...  ...  ['']  국내출원/신규   \n",
       "1     ['G01N21/88(2006.01.01)', 'G01B11/02(2006.01.0...  ...  ['']  국내출원/신규   \n",
       "2     ['H04W36/14(2009.01.01)', 'H04W36/18(2009.01.0...  ...  ['']  국내출원/신규   \n",
       "3     ['G06Q10/06(2012.01.01)', 'G06Q10/08(2012.01.0...  ...  ['']  국내출원/분할   \n",
       "4     ['G06Q10/06(2012.01.01)', 'G06Q10/08(2012.01.0...  ...  ['']  국내출원/분할   \n",
       "...                                                 ...  ...   ...      ...   \n",
       "9662  ['G06N5/02(2006.01.01)', 'G06N7/00(2022.01.01)...  ...  ['']  국내출원/신규   \n",
       "9663  ['G16H20/30(2018.01.01)', 'A63B24/00(2006.01.0...  ...  ['']  국내출원/신규   \n",
       "9664  ['H04M3/51(2006.01.01)', 'G10L15/26(2006.01.01...  ...  ['']  국내출원/신규   \n",
       "9665  ['G06Q50/10(2012.01.01)', 'H04N7/18(2006.01.01...  ...  ['']  국내출원/신규   \n",
       "9666  ['A61C7/00(2006.01.01)', 'G16H20/30(2018.01.01...  ...  ['']  국내출원/신규   \n",
       "\n",
       "     원출원번호/일자(국제)                관련 출원번호 기술이전 희망      심사청구여부/일자  심사청구항수  \\\n",
       "0             NaN               ['\\xa0']     NaN  Y(2022.04.29)     8.0   \n",
       "1             NaN               ['\\xa0']     NaN  Y(2022.04.13)     1.0   \n",
       "2             NaN               ['\\xa0']    기술양도  Y(2022.04.07)    18.0   \n",
       "3             NaN  ['1020200015881\\xa0']     NaN  Y(2022.02.15)    20.0   \n",
       "4             NaN  ['1020200003682\\xa0']     NaN  Y(2022.01.10)    20.0   \n",
       "...           ...                    ...     ...            ...     ...   \n",
       "9662          NaN               ['\\xa0']     NaN  Y(2021.03.12)    15.0   \n",
       "9663          NaN               ['\\xa0']     NaN  Y(2021.02.02)     1.0   \n",
       "9664          NaN               ['\\xa0']     NaN  Y(2021.01.15)    13.0   \n",
       "9665          NaN               ['\\xa0']     NaN  Y(2021.01.21)     4.0   \n",
       "9666          NaN               ['\\xa0']     NaN  Y(2021.01.20)     2.0   \n",
       "\n",
       "                    (21) 출원번호/일자                    원출원번호/일자 cosine_simliarity  \n",
       "0     1020220053275 (2022.04.29)                         NaN          0.791075  \n",
       "1     1020220045565 (2022.04.13)                         NaN          0.838633  \n",
       "2     1020220043045 (2022.04.06)                         NaN          0.781089  \n",
       "3     1020220019685 (2022.02.15)  1020200015881 (2020.02.10)          0.866357  \n",
       "4     1020220003265 (2022.01.10)  1020200003682 (2020.01.10)          0.858729  \n",
       "...                          ...                         ...               ...  \n",
       "9662  1020210032500 (2021.03.12)                         NaN          0.801069  \n",
       "9663  1020210014676 (2021.02.02)                         NaN          0.857206  \n",
       "9664  1020210006362 (2021.01.15)                         NaN          0.825151  \n",
       "9665  1020210008422 (2021.01.21)                         NaN          0.854415  \n",
       "9666  1020210007795 (2021.01.20)                         NaN          0.824871  \n",
       "\n",
       "[9667 rows x 32 columns]"
      ]
     },
     "execution_count": 39,
     "metadata": {},
     "output_type": "execute_result"
    }
   ],
   "source": [
    "pd.read_csv(direct_path + '/korpatbert_v1.0/20210101_cosine_similarity.csv')"
   ]
  },
  {
   "cell_type": "code",
   "execution_count": 48,
   "metadata": {},
   "outputs": [
    {
     "data": {
      "text/plain": [
       "array([[0.8056965]], dtype=float32)"
      ]
     },
     "execution_count": 48,
     "metadata": {},
     "output_type": "execute_result"
    }
   ],
   "source": [
    "cosine_similarity(get_embeddings(df_2.iloc[1]['요약']),get_embeddings(df_2.iloc[2]['요약']))"
   ]
  },
  {
   "cell_type": "code",
   "execution_count": 51,
   "metadata": {},
   "outputs": [
    {
     "data": {
      "text/plain": [
       "'본 발명은 부동산 매물의 역경매 서비스를 운용하는 방법 및 그 장치에 관한 것이다. 상세하게는 사용자가 입찰하고자 하는 부동산 매물에 대한 조건들을 입력하고, 이에 중개인들이 적절한 부동산 매물들을 제안하면, 제안된 부동산 매물들 중 사용자에게 적절한 부동산 매물을 추천하는 서비스에 관한 것이다. 부동산 정보를 제공하는 온라인 플랫폼.'"
      ]
     },
     "execution_count": 51,
     "metadata": {},
     "output_type": "execute_result"
    }
   ],
   "source": [
    "df_2.iloc[16189]['요약']"
   ]
  },
  {
   "cell_type": "code",
   "execution_count": 52,
   "metadata": {},
   "outputs": [
    {
     "data": {
      "text/plain": [
       "'본 발명의 실시 예에 따른 셀프 촬영 관리 서버는, 사용자 장치로부터 회원 정보를 입력 받고, 셀프 촬영 장치로부터 촬영 정보를 제공 받기 위한 통신부; 상기 통신부를 통해 입력된 회원 정보와 촬영 정보를 저장하기 위한 저장부; 및 상기 저장부에 저장된 촬영 정보에 근거하여 촬영 정보를 분석하고, 분석 결과를 상기 사용자 장치로 제공하기 위한 제어부를 포함할 수 있다. 상기 셀프 촬영 장치는, 액션캠을 통해 촬영한 타임랩스 영상을 디스플레이의 화면으로 보여주기 위한 화면부; 리모콘과 리모콘 수신기를 통해 카메라의 움직임이나 줌 거리를 조절하고, 상기 카메라는 수직 이동바를 통해 수직 방향으로 움직이고 수평 이동바를 통해 수평 방향으로 움직이면서 촬영 동작을 수행하고, 상기 카메라는 회전대를 이용하여 촬영 각도를 조절하고, 상기 카메라로 촬영한 사진을 소정의 시간 동안 상기 화면으로 보여주고, 상기 카메라를 통해 찍은 사진 파일은 저장매체에 저장되거나 유선 또는 무선으로 상기 셀프 촬영 관리 서버로 전송되는 촬영부; 및 상기 셀프 촬영 장치를 이용하여 셀프 촬영한 시간을 측정하기 위한 타이머를 포함할 수 있다. 상기 타이머에서 제공된 셀프 촬영 시간을 근거로 셀프 촬영 비용을 계산할 수 있다. 셀프 촬영 관리 서버에 있어서,사용자 장치로부터 회원 정보를 입력 받고, 셀프 촬영 장치로부터 촬영 정보를 제공 받기 위한 통신부;상기 통신부를 통해 입력된 회원 정보와 촬영 정보를 저장하기 위한 저장부; 및상기 저장부에 저장된 촬영 정보에 근거하여 촬영 정보를 분석하고, 분석 결과를 상기 사용자 장치로 제공하기 위한 제어부를 포함하되,상기 셀프 촬영 장치는,액션캠을 통해 촬영한 타임랩스 영상을 디스플레이의 화면으로 보여주기 위한 화면부;리모콘과 리모콘 수신기를 통해 카메라의 움직임이나 줌 거리를 조절하고, 상기 카메라는 수직 이동바를 통해 수직 방향으로 움직이고 수평 이동바를 통해 수평 방향으로 움직이면서 촬영 동작을 수행하고, 상기 카메라는 회전대를 이용하여 촬영 각도를 조절하고, 상기 카메라로 촬영한 사진을 소정의 시간 동안 상기 화면으로 보여주고, 상기 카메라를 통해 찍은 사진 파일은 저장매체에 저장되거나 유선 또는 무선으로 상기 셀프 촬영 관리 서버로 전송되는 촬영부; 및상기 셀프 촬영 장치를 이용하여 셀프 촬영한 시간을 측정하기 위한 타이머를 포함하고, 상기 타이머에서 제공된 셀프 촬영 시간을 근거로 셀프 촬영 비용을 계산하는 셀프 촬영 관리 서버. 제 1 항에 있어서,상기 저장부는 상기 촬영 정보를 저장하는 촬영정보 DB를 포함하고,상기 촬영정보 DB에는, 상기 셀프 촬영 장치를 이용한 날짜와 시간에 대한 정보가 저장되고, 상기 셀프 촬영 장치를 이용한 촬영 장소에 대한 정보가 저장되고, 사진 촬영인지 영상 촬영인지 또는 개인 촬영인지 단체 촬영인지 또는 수동 촬영인지 단체 촬영인지 또는 일반 서비스 촬영인지 프리미엄 서비스 촬영인지에 대한 촬영 종류에 대한 정보가 저장되고, 촬영한 상기 카메라에 대한 정보 또는 상기 카메라의 촬영 각도나 촬영 기법에 대한 촬영 방법에 정보가 저장되는 셀프 촬영 관리 서버.  제 1 항에 있어,상기 저장부는 셀프 촬영한 비용 정보를 저장하는 비용정보 DB를 포함하고,상기 비용정보 DB에는, 인원 및 시간 기준으로 비용 산출을 위한 기본 비용에 대한 정보가 저장되고,기준 인원을 초과하는 경우에 인원 추가 비용에 대한 정보가 저장되고,인화하는 사진 추가 비용에 대한 정보가 저장되고,선택 사진을 교정하고 출력해서 제공하는 선택 사진 비용에 대한 정보가 저장되는 셀프 촬영 관리 서버.'"
      ]
     },
     "execution_count": 52,
     "metadata": {},
     "output_type": "execute_result"
    }
   ],
   "source": [
    "df_2.iloc[28261]['요약']"
   ]
  },
  {
   "cell_type": "code",
   "execution_count": 126,
   "metadata": {},
   "outputs": [
    {
     "name": "stderr",
     "output_type": "stream",
     "text": [
      "100%|████████████████████████████████████████████████████████████████████████████████████| 1/1 [00:02<00:00,  2.89s/it]\n"
     ]
    },
    {
     "data": {
      "text/plain": [
       "111509    0.811504\n",
       "dtype: float32"
      ]
     },
     "execution_count": 126,
     "metadata": {},
     "output_type": "execute_result"
    }
   ],
   "source": [
    "df_2.iloc[111509:111510][['요약']].progress_apply(calculate_similarity_row,axis=1)"
   ]
  },
  {
   "cell_type": "code",
   "execution_count": 132,
   "metadata": {},
   "outputs": [
    {
     "data": {
      "text/plain": [
       "array(['뉴럴 네트워크 정보처리를 실행하는 정보처리장치로서, 많은 수의 뉴론을 하나의 칩상에 집적하는 것이 곤란한 문제점을 해소하기 위해, 뉴론 출력값, 결합 가중 값, 출력의 기대값 및 학습에 필요한 데이타등을 기억하는 메모리 회로, 메모리 회로에 정보를 라이트하거나 메모리 회로에서 정보를 리드하거나 하기 위한 입출력회로, 메모리 회로에 기억되어 있는 정보를 사용하여 승산가산 및 비선형 변환등 뉴론 출력값을 구하기 위한 연산 및 출력값과 그 기대값의 비교, 학습에 필요한 연산등을 실행하는 연산회로, 메모리 회로, 입출력회로, 연산회로의 동작을 제어하기 위한 제어회로를 마련하고, 연산회로는 가산기, 승산기, 비선형 함수회로, 비교기등 어느 것인가를 적어도 하나 이상 포함해서 구성되고, 승산가산등 뉴론 출력값을 구하기 위해 필요한 연산중 적어도 일부를 병렬로 실행시킬 수 있도록 하며, 또 이들 회로를 다수의 뉴론으로 공용시켜 시분할로 동작시키는 것에 의해 다수의 뉴론 출력값을 구하도록 하며, 비교기는 구한 뉴론 출력값과 출력의 기대값을 병렬로 비교한다. 반도체칩상에 집적된 정보처리시스템에 있어서, 여러개의 데이타선, 상기 여러개의 데이타선과 교차하도록 배치된 여러개의 워드선 및 그 각각이 상기 여러개의 데이타선중의 하나와 상기 여러개의 워드선중의 하나의 교차부에 형성되는 여러개의 메모리 셀을 갖는 메모리, 상기 워드선중의 하나를 택일적으로 선택하는 워드선 선택회로 및 한쌍의 제2데이타아이템과는 다른 한쌍의 제1데이타아이템을 갖는 데이타아이템쌍에 대해서 병렬연산을 일괄적으로 실행하는 여러개의 처리회로를 포함하고, 상기 여러개의 처리회로의 각각은 상기 여러개의 워드선중의 제1워드선에 접속된 제1메모리 셀에서 상기 여러개의 데이타선을 거쳐서 상기 여러개의 처리회로로 출력하는 상기 제1데이타아이템을 포함하는 제1데이타를 저장하는 레지스터 및 상기 여러개의 워드선중의 제2워드선에 접속된 제2메모리 셀에서 상기 여러개의 데이타선을 거쳐서 상기 여러개의 처리회로로 출력하는 제2데이타아이템과 동시에 상기 레지스터에 저장된 제1데이타에 따라 연산처리를 실행하는 수단을 포함하는 정보처리시스템. 제1항에 있어서, 상기 여러개의 처리회로의 출력데이타를 상기 메모리에 라이트하는 데이타라이트수단을 또 포함하는 정보처리시스템. 제1항에 있어서, 상기 메모리에서 데이타를 리드하여 상기 반도체칩의 출력으로 리드데이타를 인도하고, 상기 반도체칩의 외부로 부터의 데이타를 상기 메모리에 라이트하는 리드/라이트수단을 또 포함하는 정보처리시스템.'],\n",
       "      dtype=object)"
      ]
     },
     "execution_count": 132,
     "metadata": {},
     "output_type": "execute_result"
    }
   ],
   "source": [
    "df_2.iloc[111509:111510]['요약'].values"
   ]
  },
  {
   "cell_type": "code",
   "execution_count": 97,
   "metadata": {},
   "outputs": [
    {
     "data": {
      "text/plain": [
       "'본 발명은 블록체인 및 머신러닝을 이용한 프랜차이즈 유통 및 관리 시스템에 관한 것으로, 이 시스템은, 상기 프랜차이즈 유통 및 관리 시스템은 프랜차이즈 협력업체 단말과 통신가능하도록 구성된 중개 관리 서버를 포함하고, 협력업체 단말은 프랜차이즈 본점측 단말, 가맹점측 단말, 물류측 단말, 및 금융사측 단말을 포함하고, 중개 관리 서버는 상품의 주문을 관리하는 주문관리를 수행하는 주문관리 모듈, 물류를 관리하는 수행하는 물류관리 모듈, 구매/생산 관리를 수행하는 구매/생산관리 모듈, 재고/손익을 관리하는 재고/손익 관리 모듈, 거래 내역을 블록체인 네트워크에 저장하는 거래내역 등재 모듈을 포함하고, 블록체인 네트워크는 거래내역이 저장되는 블록체인 주노드 네트워크와 블록체인 주노드 네트워크에 저장된 거래내역이 실시간으로 동기화되어 저장되는 블록체인 부노드 네트워크를 포함하고, 중개 관리 서버는 블록체인 주노드 네트워크에 연결되어 있고, 상기 협력업체 단말은 블록체인 부노드 네트워크에 연결되어, 중개 관리 서버는 블록체인 협력업체 사이에 거래가 발생되면 주노드 네트워크에 거래 내역을 저장하는 동시에 부노드 네트워크에 거래 내역을 복제하여 분산 저장하도록 구성된다. 블록체인 및 머신러닝을 이용한 프랜차이즈 유통 및 관리 시스템에 있어서,프랜차이즈 협력업체 단말과 통신가능하도록 구성된 중개 관리 서버를 포함하고,상기 협력업체 단말은 프랜차이즈 본점측 단말, 가맹점측 단말,  물류측 단말, 및 금융사측 단말을 포함하고,상기 중개 관리 서버는 상품의 주문을 관리하는 주문관리를 수행하는 주문관리 모듈, 물류를 관리하는 수행하는 문류관리 모듈, 구매/생산 관리를 수행하는 구매/생산관리 모듈, 재고/손익을 관리하는 재고/손익 관리 모듈, 거래 내역을 블록체인 네트워크에 저자하는 거래내역 등재 모듈을 포함하고,상기 블록체인 네트워크는 거래내역이 저장되는 블록체인 주노드 네트워크와 블록체인 주노드 네트워크에 저장된 거래내역이 실시간으로 동기화되어 저장되는 블록체인 부노드 네트워크를 포함하고,상기 중개 관리 서버는 블록체인 주노드 네트워크에 연결되어 있고, 상기 협력업체 단말은 블록체인 부노드 네트워크에 연결되어, 중개 관리 서버는 블록체인 협력업체 사이에 거래가 발생되면 주노드 네트워크에 거래 내역을 저장하는 동시에 부노드 네트워크에 거래 내역을 복제하여 분산 저장하도록 구성된 것을 특징으로 하는블록체인 및 머신러닝을 이용한 프랜차이즈 유통 및 관리 시스템. 제1항에 있어서,가맹점측 단말로부터 중개관리 서버를 통해 본점측 단말에 물품 구매 요청이 발생되면, 중개관리 서버는 금융사측 단말에 가상계좌 개설을 요청하고, 중개관리 서버가 금융사측 단말로부터 가성계좌 개설을 통보받으면 개설된 가상계좌를 가맹점측 단말에 전송하도록 구성된 블록체인 및 머신러닝을 이용한 프랜차이즈 유통 및 관리 시스템. 제2항에 있어서,가맹점측 단말에서 개설된 가상계좌에 입금을 수행하면 금융사측 단말은 입금 확인을 중개 관리 서버에 전송하고, 중개 관리 서버는 본점측 단말에 금융사측으로부터의 입금 확인을 전달한 후, 입금 거래 내역을 블록체인 주노드에 저장하고 주노드에 저장된 입급 거래 내역을 금융사측 단말의 블록체인 부노드, 가맹점측 단말의 블록체인 부노드, 본점측 단말의 블록체인 부노드에 복제하여 분산 저장하도록 구성된 것을 특징으로 하는 블록체인 및 머신러닝을 이용한 프랜차이즈 유통 및 관리 시스템. 제1항에 있어서,중개 관리 서버는 상품의 수요를 예측하기 위한 수요 예측 모듈을 더 포함하고, 상기 수요 예측 모듈은, 가맹점측 단말로부터 월, 일자, 요일, 상품 정보를 포함하는 판매 상품 데이터를 수집하는 데이터 수집부;수집된 판매 상품 데이터를 월별, 일자별, 요일별 판매 상품 항목으로 분류하는 데이터 분류부;분류된 데이터를 분석 정의 데이터에 부합하여 분석하여 분석 데이터를 생성하는 데이터 분석부 - 분석 정의 데이터는 분석실행 방식, 분석수행 주기, 분석대상 평가항목 또는 가중치 중에 어느 하나를 포함하며, 분석 데이터는 판매 품목 대한 빈도수를 월별, 요일별, 일자별, 시간대별 수치화한 데이터를 포함하여 구성됨 - ;분석 데이터를 딥러닝을 통한 머신러닝을 수행하는 데이터 학습부; 및데이터 학습부로부터 인가받은 머신러닝 결과에 기반하여 월별, 일자별, 요일별, 시간대별, 품목 판매 예측값을 제공하는 수요 예측부를 포함하는블록체인 및 머신러닝을 이용한 프랜차이즈 유통 및 관리 시스템.'"
      ]
     },
     "execution_count": 97,
     "metadata": {},
     "output_type": "execute_result"
    }
   ],
   "source": [
    "df_2.iloc[15137]['요약']"
   ]
  },
  {
   "cell_type": "code",
   "execution_count": null,
   "metadata": {},
   "outputs": [],
   "source": []
  },
  {
   "cell_type": "code",
   "execution_count": null,
   "metadata": {},
   "outputs": [],
   "source": []
  },
  {
   "cell_type": "code",
   "execution_count": null,
   "metadata": {},
   "outputs": [],
   "source": []
  },
  {
   "cell_type": "code",
   "execution_count": null,
   "metadata": {},
   "outputs": [],
   "source": []
  },
  {
   "cell_type": "code",
   "execution_count": null,
   "metadata": {},
   "outputs": [],
   "source": []
  },
  {
   "cell_type": "code",
   "execution_count": null,
   "metadata": {},
   "outputs": [],
   "source": []
  },
  {
   "cell_type": "code",
   "execution_count": null,
   "metadata": {},
   "outputs": [],
   "source": []
  },
  {
   "cell_type": "code",
   "execution_count": null,
   "metadata": {},
   "outputs": [],
   "source": []
  },
  {
   "cell_type": "code",
   "execution_count": null,
   "metadata": {},
   "outputs": [],
   "source": []
  },
  {
   "cell_type": "code",
   "execution_count": null,
   "metadata": {},
   "outputs": [],
   "source": []
  },
  {
   "cell_type": "code",
   "execution_count": null,
   "metadata": {},
   "outputs": [],
   "source": []
  }
 ],
 "metadata": {
  "hide_input": false,
  "kernelspec": {
   "display_name": "Python 3",
   "language": "python",
   "name": "python3"
  },
  "language_info": {
   "codemirror_mode": {
    "name": "ipython",
    "version": 3
   },
   "file_extension": ".py",
   "mimetype": "text/x-python",
   "name": "python",
   "nbconvert_exporter": "python",
   "pygments_lexer": "ipython3",
   "version": "3.7.4"
  },
  "toc": {
   "base_numbering": 1,
   "nav_menu": {},
   "number_sections": true,
   "sideBar": true,
   "skip_h1_title": false,
   "title_cell": "Table of Contents",
   "title_sidebar": "Contents",
   "toc_cell": false,
   "toc_position": {},
   "toc_section_display": true,
   "toc_window_display": false
  },
  "varInspector": {
   "cols": {
    "lenName": 16,
    "lenType": 16,
    "lenVar": 40
   },
   "kernels_config": {
    "python": {
     "delete_cmd_postfix": "",
     "delete_cmd_prefix": "del ",
     "library": "var_list.py",
     "varRefreshCmd": "print(var_dic_list())"
    },
    "r": {
     "delete_cmd_postfix": ") ",
     "delete_cmd_prefix": "rm(",
     "library": "var_list.r",
     "varRefreshCmd": "cat(var_dic_list()) "
    }
   },
   "types_to_exclude": [
    "module",
    "function",
    "builtin_function_or_method",
    "instance",
    "_Feature"
   ],
   "window_display": false
  }
 },
 "nbformat": 4,
 "nbformat_minor": 2
}
