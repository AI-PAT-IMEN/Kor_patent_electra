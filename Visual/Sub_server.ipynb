{
 "cells": [
  {
   "cell_type": "markdown",
   "metadata": {},
   "source": [
    "#  검색 결과 : base "
   ]
  },
  {
   "cell_type": "code",
   "execution_count": 1,
   "metadata": {},
   "outputs": [],
   "source": [
    "from dash import Dash, html, dcc, Input, Output\n",
    "import pandas as pd\n",
    "import plotly.express as px\n",
    "import dash\n",
    "\n",
    "from wordcloud import WordCloud\n",
    "from dash_holoniq_wordcloud import DashWordcloud\n",
    "direct_path = 'C:/Users/USER/Documents/Jupyter Notebook/AI_IMEN/korpatbert_v1.0/startbootstrap-sb-admin-gh-pages/'"
   ]
  },
  {
   "cell_type": "code",
   "execution_count": 2,
   "metadata": {},
   "outputs": [],
   "source": [
    "standard = pd.read_csv('standard.csv',index_col = 0)"
   ]
  },
  {
   "cell_type": "code",
   "execution_count": 3,
   "metadata": {
    "scrolled": true
   },
   "outputs": [],
   "source": [
    "security_data = standard.reset_index().values.tolist()"
   ]
  },
  {
   "cell_type": "code",
   "execution_count": 4,
   "metadata": {},
   "outputs": [
    {
     "data": {
      "text/plain": [
       "0       관리\n",
       "1       블록\n",
       "2       체인\n",
       "3       단말\n",
       "4       노드\n",
       "      ... \n",
       "98      방식\n",
       "99      전달\n",
       "100     발명\n",
       "101     에서\n",
       "102    수집부\n",
       "Name: 0, Length: 103, dtype: object"
      ]
     },
     "execution_count": 4,
     "metadata": {},
     "output_type": "execute_result"
    }
   ],
   "source": [
    "pd.DataFrame(security_data)[0]"
   ]
  },
  {
   "cell_type": "code",
   "execution_count": 9,
   "metadata": {
    "scrolled": false
   },
   "outputs": [
    {
     "name": "stdout",
     "output_type": "stream",
     "text": [
      "Dash is running on http://127.0.0.1:8081/\n",
      "\n",
      "Dash is running on http://127.0.0.1:8081/\n",
      "\n",
      "Dash is running on http://127.0.0.1:8081/\n",
      "\n",
      "Dash is running on http://127.0.0.1:8081/\n",
      "\n"
     ]
    },
    {
     "name": "stderr",
     "output_type": "stream",
     "text": [
      "INFO:__main__:Dash is running on http://127.0.0.1:8081/\n",
      "\n"
     ]
    },
    {
     "name": "stdout",
     "output_type": "stream",
     "text": [
      " * Serving Flask app \"__main__\" (lazy loading)\n",
      " * Environment: production\n",
      "\u001b[31m   WARNING: This is a development server. Do not use it in a production deployment.\u001b[0m\n",
      "\u001b[2m   Use a production WSGI server instead.\u001b[0m\n",
      " * Debug mode: off\n"
     ]
    },
    {
     "name": "stderr",
     "output_type": "stream",
     "text": [
      " * Running on http://127.0.0.1:8081/ (Press CTRL+C to quit)\n",
      "INFO:werkzeug: * Running on http://127.0.0.1:8081/ (Press CTRL+C to quit)\n",
      "127.0.0.1 - - [20/Nov/2022 15:30:17] \"GET / HTTP/1.1\" 200 -\n",
      "INFO:werkzeug:127.0.0.1 - - [20/Nov/2022 15:30:17] \"GET / HTTP/1.1\" 200 -\n",
      "127.0.0.1 - - [20/Nov/2022 15:30:18] \"GET /_dash-layout HTTP/1.1\" 200 -\n",
      "INFO:werkzeug:127.0.0.1 - - [20/Nov/2022 15:30:18] \"GET /_dash-layout HTTP/1.1\" 200 -\n",
      "127.0.0.1 - - [20/Nov/2022 15:30:18] \"GET /_dash-dependencies HTTP/1.1\" 200 -\n",
      "INFO:werkzeug:127.0.0.1 - - [20/Nov/2022 15:30:18] \"GET /_dash-dependencies HTTP/1.1\" 200 -\n",
      "127.0.0.1 - - [20/Nov/2022 15:30:18] \"GET /_dash-component-suites/dash/dcc/async-graph.js HTTP/1.1\" 200 -\n",
      "INFO:werkzeug:127.0.0.1 - - [20/Nov/2022 15:30:18] \"GET /_dash-component-suites/dash/dcc/async-graph.js HTTP/1.1\" 200 -\n",
      "127.0.0.1 - - [20/Nov/2022 15:30:18] \"GET /_dash-component-suites/dash/dcc/async-plotlyjs.js HTTP/1.1\" 200 -\n",
      "INFO:werkzeug:127.0.0.1 - - [20/Nov/2022 15:30:18] \"GET /_dash-component-suites/dash/dcc/async-plotlyjs.js HTTP/1.1\" 200 -\n",
      "127.0.0.1 - - [20/Nov/2022 16:02:40] \"GET / HTTP/1.1\" 200 -\n",
      "INFO:werkzeug:127.0.0.1 - - [20/Nov/2022 16:02:40] \"GET / HTTP/1.1\" 200 -\n",
      "127.0.0.1 - - [20/Nov/2022 16:02:41] \"GET /_dash-layout HTTP/1.1\" 200 -\n",
      "INFO:werkzeug:127.0.0.1 - - [20/Nov/2022 16:02:41] \"GET /_dash-layout HTTP/1.1\" 200 -\n",
      "127.0.0.1 - - [20/Nov/2022 16:02:41] \"GET /_dash-dependencies HTTP/1.1\" 200 -\n",
      "INFO:werkzeug:127.0.0.1 - - [20/Nov/2022 16:02:41] \"GET /_dash-dependencies HTTP/1.1\" 200 -\n",
      "127.0.0.1 - - [20/Nov/2022 16:02:41] \"GET /_dash-component-suites/dash/dcc/async-graph.js HTTP/1.1\" 200 -\n",
      "INFO:werkzeug:127.0.0.1 - - [20/Nov/2022 16:02:41] \"GET /_dash-component-suites/dash/dcc/async-graph.js HTTP/1.1\" 200 -\n",
      "127.0.0.1 - - [20/Nov/2022 16:02:41] \"GET /_dash-component-suites/dash/dcc/async-plotlyjs.js HTTP/1.1\" 200 -\n",
      "INFO:werkzeug:127.0.0.1 - - [20/Nov/2022 16:02:41] \"GET /_dash-component-suites/dash/dcc/async-plotlyjs.js HTTP/1.1\" 200 -\n",
      "127.0.0.1 - - [20/Nov/2022 16:27:18] \"GET / HTTP/1.1\" 200 -\n",
      "INFO:werkzeug:127.0.0.1 - - [20/Nov/2022 16:27:18] \"GET / HTTP/1.1\" 200 -\n",
      "127.0.0.1 - - [20/Nov/2022 16:27:19] \"GET /_dash-layout HTTP/1.1\" 200 -\n",
      "INFO:werkzeug:127.0.0.1 - - [20/Nov/2022 16:27:19] \"GET /_dash-layout HTTP/1.1\" 200 -\n",
      "127.0.0.1 - - [20/Nov/2022 16:27:19] \"GET /_dash-dependencies HTTP/1.1\" 200 -\n",
      "INFO:werkzeug:127.0.0.1 - - [20/Nov/2022 16:27:19] \"GET /_dash-dependencies HTTP/1.1\" 200 -\n",
      "127.0.0.1 - - [20/Nov/2022 16:27:19] \"GET /_dash-component-suites/dash/dcc/async-graph.js HTTP/1.1\" 200 -\n",
      "INFO:werkzeug:127.0.0.1 - - [20/Nov/2022 16:27:19] \"GET /_dash-component-suites/dash/dcc/async-graph.js HTTP/1.1\" 200 -\n",
      "127.0.0.1 - - [20/Nov/2022 16:27:19] \"GET /_dash-component-suites/dash/dcc/async-plotlyjs.js HTTP/1.1\" 200 -\n",
      "INFO:werkzeug:127.0.0.1 - - [20/Nov/2022 16:27:19] \"GET /_dash-component-suites/dash/dcc/async-plotlyjs.js HTTP/1.1\" 200 -\n",
      "127.0.0.1 - - [20/Nov/2022 16:28:57] \"GET / HTTP/1.1\" 200 -\n",
      "INFO:werkzeug:127.0.0.1 - - [20/Nov/2022 16:28:57] \"GET / HTTP/1.1\" 200 -\n",
      "127.0.0.1 - - [20/Nov/2022 16:28:57] \"GET /_dash-layout HTTP/1.1\" 200 -\n",
      "INFO:werkzeug:127.0.0.1 - - [20/Nov/2022 16:28:57] \"GET /_dash-layout HTTP/1.1\" 200 -\n",
      "127.0.0.1 - - [20/Nov/2022 16:28:57] \"GET /_dash-dependencies HTTP/1.1\" 200 -\n",
      "INFO:werkzeug:127.0.0.1 - - [20/Nov/2022 16:28:57] \"GET /_dash-dependencies HTTP/1.1\" 200 -\n",
      "127.0.0.1 - - [20/Nov/2022 16:28:57] \"GET /_dash-component-suites/dash/dcc/async-graph.js HTTP/1.1\" 200 -\n",
      "INFO:werkzeug:127.0.0.1 - - [20/Nov/2022 16:28:57] \"GET /_dash-component-suites/dash/dcc/async-graph.js HTTP/1.1\" 200 -\n",
      "127.0.0.1 - - [20/Nov/2022 16:28:57] \"GET /_dash-component-suites/dash/dcc/async-plotlyjs.js HTTP/1.1\" 200 -\n",
      "INFO:werkzeug:127.0.0.1 - - [20/Nov/2022 16:28:57] \"GET /_dash-component-suites/dash/dcc/async-plotlyjs.js HTTP/1.1\" 200 -\n",
      "127.0.0.1 - - [20/Nov/2022 16:31:52] \"GET / HTTP/1.1\" 200 -\n",
      "INFO:werkzeug:127.0.0.1 - - [20/Nov/2022 16:31:52] \"GET / HTTP/1.1\" 200 -\n",
      "127.0.0.1 - - [20/Nov/2022 16:31:52] \"GET /_dash-layout HTTP/1.1\" 200 -\n",
      "INFO:werkzeug:127.0.0.1 - - [20/Nov/2022 16:31:52] \"GET /_dash-layout HTTP/1.1\" 200 -\n",
      "127.0.0.1 - - [20/Nov/2022 16:31:52] \"GET /_dash-dependencies HTTP/1.1\" 200 -\n",
      "INFO:werkzeug:127.0.0.1 - - [20/Nov/2022 16:31:52] \"GET /_dash-dependencies HTTP/1.1\" 200 -\n",
      "127.0.0.1 - - [20/Nov/2022 16:31:52] \"GET /_dash-component-suites/dash/dcc/async-graph.js HTTP/1.1\" 200 -\n",
      "INFO:werkzeug:127.0.0.1 - - [20/Nov/2022 16:31:52] \"GET /_dash-component-suites/dash/dcc/async-graph.js HTTP/1.1\" 200 -\n",
      "127.0.0.1 - - [20/Nov/2022 16:31:52] \"GET /_dash-component-suites/dash/dcc/async-plotlyjs.js HTTP/1.1\" 200 -\n",
      "INFO:werkzeug:127.0.0.1 - - [20/Nov/2022 16:31:52] \"GET /_dash-component-suites/dash/dcc/async-plotlyjs.js HTTP/1.1\" 200 -\n",
      "127.0.0.1 - - [20/Nov/2022 16:31:58] \"GET / HTTP/1.1\" 200 -\n",
      "INFO:werkzeug:127.0.0.1 - - [20/Nov/2022 16:31:58] \"GET / HTTP/1.1\" 200 -\n",
      "127.0.0.1 - - [20/Nov/2022 16:31:59] \"GET /_dash-layout HTTP/1.1\" 200 -\n",
      "INFO:werkzeug:127.0.0.1 - - [20/Nov/2022 16:31:59] \"GET /_dash-layout HTTP/1.1\" 200 -\n",
      "127.0.0.1 - - [20/Nov/2022 16:31:59] \"GET /_dash-dependencies HTTP/1.1\" 200 -\n",
      "INFO:werkzeug:127.0.0.1 - - [20/Nov/2022 16:31:59] \"GET /_dash-dependencies HTTP/1.1\" 200 -\n",
      "127.0.0.1 - - [20/Nov/2022 16:31:59] \"GET /_dash-component-suites/dash/dcc/async-graph.js HTTP/1.1\" 200 -\n",
      "INFO:werkzeug:127.0.0.1 - - [20/Nov/2022 16:31:59] \"GET /_dash-component-suites/dash/dcc/async-graph.js HTTP/1.1\" 200 -\n",
      "127.0.0.1 - - [20/Nov/2022 16:31:59] \"GET /_dash-component-suites/dash/dcc/async-plotlyjs.js HTTP/1.1\" 200 -\n",
      "INFO:werkzeug:127.0.0.1 - - [20/Nov/2022 16:31:59] \"GET /_dash-component-suites/dash/dcc/async-plotlyjs.js HTTP/1.1\" 200 -\n",
      "127.0.0.1 - - [20/Nov/2022 16:32:00] \"GET / HTTP/1.1\" 200 -\n",
      "INFO:werkzeug:127.0.0.1 - - [20/Nov/2022 16:32:00] \"GET / HTTP/1.1\" 200 -\n",
      "127.0.0.1 - - [20/Nov/2022 16:32:00] \"GET /_dash-layout HTTP/1.1\" 200 -\n",
      "INFO:werkzeug:127.0.0.1 - - [20/Nov/2022 16:32:00] \"GET /_dash-layout HTTP/1.1\" 200 -\n",
      "127.0.0.1 - - [20/Nov/2022 16:32:00] \"GET /_dash-dependencies HTTP/1.1\" 200 -\n",
      "INFO:werkzeug:127.0.0.1 - - [20/Nov/2022 16:32:00] \"GET /_dash-dependencies HTTP/1.1\" 200 -\n",
      "127.0.0.1 - - [20/Nov/2022 16:32:00] \"GET /_dash-component-suites/dash/dcc/async-graph.js HTTP/1.1\" 200 -\n",
      "INFO:werkzeug:127.0.0.1 - - [20/Nov/2022 16:32:00] \"GET /_dash-component-suites/dash/dcc/async-graph.js HTTP/1.1\" 200 -\n",
      "127.0.0.1 - - [20/Nov/2022 16:32:00] \"GET /_dash-component-suites/dash/dcc/async-plotlyjs.js HTTP/1.1\" 200 -\n",
      "INFO:werkzeug:127.0.0.1 - - [20/Nov/2022 16:32:00] \"GET /_dash-component-suites/dash/dcc/async-plotlyjs.js HTTP/1.1\" 200 -\n",
      "127.0.0.1 - - [20/Nov/2022 16:34:55] \"GET / HTTP/1.1\" 200 -\n",
      "INFO:werkzeug:127.0.0.1 - - [20/Nov/2022 16:34:55] \"GET / HTTP/1.1\" 200 -\n",
      "127.0.0.1 - - [20/Nov/2022 16:34:56] \"GET / HTTP/1.1\" 200 -\n",
      "INFO:werkzeug:127.0.0.1 - - [20/Nov/2022 16:34:56] \"GET / HTTP/1.1\" 200 -\n",
      "127.0.0.1 - - [20/Nov/2022 16:34:57] \"GET / HTTP/1.1\" 200 -\n",
      "INFO:werkzeug:127.0.0.1 - - [20/Nov/2022 16:34:57] \"GET / HTTP/1.1\" 200 -\n",
      "127.0.0.1 - - [20/Nov/2022 16:34:57] \"GET /_dash-layout HTTP/1.1\" 200 -\n",
      "INFO:werkzeug:127.0.0.1 - - [20/Nov/2022 16:34:57] \"GET /_dash-layout HTTP/1.1\" 200 -\n",
      "127.0.0.1 - - [20/Nov/2022 16:34:57] \"GET /_dash-dependencies HTTP/1.1\" 200 -\n",
      "INFO:werkzeug:127.0.0.1 - - [20/Nov/2022 16:34:57] \"GET /_dash-dependencies HTTP/1.1\" 200 -\n",
      "127.0.0.1 - - [20/Nov/2022 16:34:57] \"GET /_dash-component-suites/dash/dcc/async-graph.js HTTP/1.1\" 200 -\n",
      "INFO:werkzeug:127.0.0.1 - - [20/Nov/2022 16:34:57] \"GET /_dash-component-suites/dash/dcc/async-graph.js HTTP/1.1\" 200 -\n",
      "127.0.0.1 - - [20/Nov/2022 16:34:57] \"GET /_dash-component-suites/dash/dcc/async-plotlyjs.js HTTP/1.1\" 200 -\n",
      "INFO:werkzeug:127.0.0.1 - - [20/Nov/2022 16:34:57] \"GET /_dash-component-suites/dash/dcc/async-plotlyjs.js HTTP/1.1\" 200 -\n",
      "127.0.0.1 - - [20/Nov/2022 16:35:00] \"GET / HTTP/1.1\" 200 -\n",
      "INFO:werkzeug:127.0.0.1 - - [20/Nov/2022 16:35:00] \"GET / HTTP/1.1\" 200 -\n",
      "127.0.0.1 - - [20/Nov/2022 16:35:00] \"GET /_dash-layout HTTP/1.1\" 200 -\n",
      "INFO:werkzeug:127.0.0.1 - - [20/Nov/2022 16:35:00] \"GET /_dash-layout HTTP/1.1\" 200 -\n",
      "127.0.0.1 - - [20/Nov/2022 16:35:00] \"GET /_dash-dependencies HTTP/1.1\" 200 -\n",
      "INFO:werkzeug:127.0.0.1 - - [20/Nov/2022 16:35:00] \"GET /_dash-dependencies HTTP/1.1\" 200 -\n"
     ]
    },
    {
     "name": "stderr",
     "output_type": "stream",
     "text": [
      "127.0.0.1 - - [20/Nov/2022 16:35:00] \"GET /_dash-component-suites/dash/dcc/async-graph.js HTTP/1.1\" 200 -\n",
      "INFO:werkzeug:127.0.0.1 - - [20/Nov/2022 16:35:00] \"GET /_dash-component-suites/dash/dcc/async-graph.js HTTP/1.1\" 200 -\n",
      "127.0.0.1 - - [20/Nov/2022 16:35:00] \"GET /_dash-component-suites/dash/dcc/async-plotlyjs.js HTTP/1.1\" 200 -\n",
      "INFO:werkzeug:127.0.0.1 - - [20/Nov/2022 16:35:00] \"GET /_dash-component-suites/dash/dcc/async-plotlyjs.js HTTP/1.1\" 200 -\n"
     ]
    }
   ],
   "source": [
    "\n",
    "external_stylesheets = ['https://codepen.io/chriddyp/pen/bWLwgP.css']\n",
    "\n",
    "app = Dash(__name__, external_stylesheets=external_stylesheets)\n",
    "\n",
    "df = pd.DataFrame([i for i in security_data if i[1] > 7])\n",
    "fig = px.bar(x = df[0], y =df[1].astype('int') ,text_auto='.2s',template = 'seaborn',title=\"단어 수 빈도 및 시각화\")\n",
    "\n",
    "\n",
    "app.layout = html.Div([\n",
    "\n",
    "    html.Div([\n",
    "\n",
    "        html.Div([\n",
    "            html.Img(src= 'https://prayprey.github.io/plotly_test/Friend.PNG', style={'height':'90%', 'width':'90%'}),\n",
    "        ], style={'width': '49%', 'float': 'left', 'display': 'inline-block',\"height\": '80%'})\n",
    "    ], style={\n",
    "        'padding': '10px 5px'\n",
    "    }),\n",
    "\n",
    "\n",
    "    html.Div([\n",
    "        \n",
    "        html.Div([\n",
    "            dcc.Graph(figure=fig)\n",
    "            ]),\n",
    "        html.Div([\n",
    "            DashWordcloud(\n",
    "                id='wordcloud',\n",
    "                list=security_data,\n",
    "                width=700, height=450,\n",
    "                gridSize=10,\n",
    "                backgroundColor='#ffffff',\n",
    "                shuffle=False,\n",
    "                rotateRatio=0.5,\n",
    "                shrinkToFit=True,\n",
    "                hover=True,\n",
    "                fontWeight =' bold',\n",
    "                shape = 'square',\n",
    "                weightFactor  = 18\n",
    "                )\n",
    "            ]),\n",
    "\n",
    "    ], style={'display': 'inline-block', 'width': '49%'}),\n",
    "\n",
    "\n",
    "    html.Iframe(src=\"http://projector.tensorflow.org/?config=https://prayprey.github.io/plotly_test/embedded_projection.json\",\n",
    "                style={\"height\": '800px', \"width\": \"100%\"}\n",
    "               )\n",
    "])\n",
    "\n",
    "\n",
    "if __name__ == '__main__':\n",
    "    app.run_server(host = '127.0.0.1',port = '8081')"
   ]
  },
  {
   "cell_type": "markdown",
   "metadata": {},
   "source": [
    "# Testing"
   ]
  },
  {
   "cell_type": "code",
   "execution_count": 6,
   "metadata": {},
   "outputs": [
    {
     "data": {
      "text/html": [
       "        <script type=\"text/javascript\">\n",
       "        window.PlotlyConfig = {MathJaxConfig: 'local'};\n",
       "        if (window.MathJax) {MathJax.Hub.Config({SVG: {font: \"STIX-Web\"}});}\n",
       "        if (typeof require !== 'undefined') {\n",
       "        require.undef(\"plotly\");\n",
       "        requirejs.config({\n",
       "            paths: {\n",
       "                'plotly': ['https://cdn.plot.ly/plotly-2.9.0.min']\n",
       "            }\n",
       "        });\n",
       "        require(['plotly'], function(Plotly) {\n",
       "            window._Plotly = Plotly;\n",
       "        });\n",
       "        }\n",
       "        </script>\n",
       "        "
      ]
     },
     "metadata": {},
     "output_type": "display_data"
    },
    {
     "name": "stderr",
     "output_type": "stream",
     "text": [
      "D:\\anaconda\\lib\\site-packages\\statsmodels\\tools\\_testing.py:19: FutureWarning:\n",
      "\n",
      "pandas.util.testing is deprecated. Use the functions in the public API at pandas.testing instead.\n",
      "\n",
      "ERROR:root:Internal Python error in the inspect module.\n",
      "Below is the traceback from this internal error.\n",
      "\n"
     ]
    },
    {
     "name": "stdout",
     "output_type": "stream",
     "text": [
      "Traceback (most recent call last):\n",
      "  File \"D:\\anaconda\\lib\\site-packages\\IPython\\core\\interactiveshell.py\", line 3326, in run_code\n",
      "    exec(code_obj, self.user_global_ns, self.user_ns)\n",
      "  File \"<ipython-input-6-65086b7c7a95>\", line 21, in <module>\n",
      "    import tensorflow as tf\n",
      "  File \"C:\\Users\\USER\\AppData\\Roaming\\Python\\Python37\\site-packages\\tensorflow\\__init__.py\", line 41, in <module>\n",
      "    from tensorflow.python.tools import module_util as _module_util\n",
      "  File \"C:\\Users\\USER\\AppData\\Roaming\\Python\\Python37\\site-packages\\tensorflow\\python\\__init__.py\", line 41, in <module>\n",
      "    from tensorflow.python.eager import context\n",
      "  File \"C:\\Users\\USER\\AppData\\Roaming\\Python\\Python37\\site-packages\\tensorflow\\python\\eager\\context.py\", line 39, in <module>\n",
      "    from tensorflow.python.eager import monitoring\n",
      "  File \"C:\\Users\\USER\\AppData\\Roaming\\Python\\Python37\\site-packages\\tensorflow\\python\\eager\\monitoring.py\", line 28, in <module>\n",
      "    from tensorflow.python.framework import c_api_util\n",
      "  File \"C:\\Users\\USER\\AppData\\Roaming\\Python\\Python37\\site-packages\\tensorflow\\python\\framework\\c_api_util.py\", line 25, in <module>\n",
      "    from tensorflow.python.util import compat\n",
      "  File \"C:\\Users\\USER\\AppData\\Roaming\\Python\\Python37\\site-packages\\tensorflow\\python\\util\\compat.py\", line 55, in <module>\n",
      "    from tensorflow.python.util.tf_export import tf_export\n",
      "  File \"C:\\Users\\USER\\AppData\\Roaming\\Python\\Python37\\site-packages\\tensorflow\\python\\util\\tf_export.py\", line 48, in <module>\n",
      "    from tensorflow.python.util import tf_decorator\n",
      "  File \"C:\\Users\\USER\\AppData\\Roaming\\Python\\Python37\\site-packages\\tensorflow\\python\\util\\tf_decorator.py\", line 64, in <module>\n",
      "    from tensorflow.python.util import tf_stack\n",
      "  File \"C:\\Users\\USER\\AppData\\Roaming\\Python\\Python37\\site-packages\\tensorflow\\python\\util\\tf_stack.py\", line 28, in <module>\n",
      "    from tensorflow.python import _tf_stack\n",
      "  File \"<frozen importlib._bootstrap>\", line 983, in _find_and_load\n",
      "  File \"<frozen importlib._bootstrap>\", line 967, in _find_and_load_unlocked\n",
      "  File \"<frozen importlib._bootstrap>\", line 670, in _load_unlocked\n",
      "  File \"<frozen importlib._bootstrap>\", line 583, in module_from_spec\n",
      "  File \"<frozen importlib._bootstrap_external>\", line 1043, in create_module\n",
      "KeyboardInterrupt\n",
      "\n",
      "During handling of the above exception, another exception occurred:\n",
      "\n",
      "Traceback (most recent call last):\n",
      "  File \"D:\\anaconda\\lib\\site-packages\\IPython\\core\\interactiveshell.py\", line 2040, in showtraceback\n",
      "    stb = value._render_traceback_()\n",
      "AttributeError: 'KeyboardInterrupt' object has no attribute '_render_traceback_'\n",
      "\n",
      "During handling of the above exception, another exception occurred:\n",
      "\n",
      "Traceback (most recent call last):\n",
      "  File \"D:\\anaconda\\lib\\site-packages\\IPython\\core\\ultratb.py\", line 1101, in get_records\n",
      "    return _fixed_getinnerframes(etb, number_of_lines_of_context, tb_offset)\n",
      "  File \"D:\\anaconda\\lib\\site-packages\\IPython\\core\\ultratb.py\", line 319, in wrapped\n",
      "    return f(*args, **kwargs)\n",
      "  File \"D:\\anaconda\\lib\\site-packages\\IPython\\core\\ultratb.py\", line 353, in _fixed_getinnerframes\n",
      "    records = fix_frame_records_filenames(inspect.getinnerframes(etb, context))\n",
      "  File \"D:\\anaconda\\lib\\inspect.py\", line 1502, in getinnerframes\n",
      "    frameinfo = (tb.tb_frame,) + getframeinfo(tb, context)\n",
      "  File \"D:\\anaconda\\lib\\inspect.py\", line 1460, in getframeinfo\n",
      "    filename = getsourcefile(frame) or getfile(frame)\n",
      "  File \"D:\\anaconda\\lib\\inspect.py\", line 696, in getsourcefile\n",
      "    if getattr(getmodule(object, filename), '__loader__', None) is not None:\n",
      "  File \"D:\\anaconda\\lib\\inspect.py\", line 739, in getmodule\n",
      "    f = getabsfile(module)\n",
      "  File \"D:\\anaconda\\lib\\inspect.py\", line 708, in getabsfile\n",
      "    _filename = getsourcefile(object) or getfile(object)\n",
      "  File \"D:\\anaconda\\lib\\inspect.py\", line 693, in getsourcefile\n",
      "    if os.path.exists(filename):\n",
      "  File \"D:\\anaconda\\lib\\genericpath.py\", line 19, in exists\n",
      "    os.stat(path)\n",
      "KeyboardInterrupt\n"
     ]
    },
    {
     "ename": "KeyboardInterrupt",
     "evalue": "",
     "output_type": "error",
     "traceback": [
      "\u001b[1;31m---------------------------------------------------------------------------\u001b[0m"
     ]
    }
   ],
   "source": [
    "import pandas as pd\n",
    "import numpy as np\n",
    "\n",
    "import cufflinks as cf\n",
    "import plotly.graph_objects as go\n",
    "import chart_studio.plotly as py\n",
    "\n",
    "cf.go_offline(connected = True)\n",
    "\n",
    "from IPython.core.display import display, HTML\n",
    "import os\n",
    "import datetime\n",
    "\n",
    "import IPython\n",
    "import IPython.display\n",
    "import matplotlib as mpl\n",
    "import matplotlib.pyplot as plt\n",
    "import numpy as np\n",
    "import pandas as pd\n",
    "import seaborn as sns\n",
    "import tensorflow as tf\n",
    "\n",
    "\n",
    "from dash import Dash, dcc, html\n",
    "import numpy as np\n",
    "import pandas as pd\n",
    "from dash.dependencies import Input, Output\n",
    "import plotly.express as px\n",
    "\n",
    "\n",
    "mpl.rcParams['figure.figsize'] = (8, 6)\n",
    "mpl.rcParams['axes.grid'] = False\n",
    "\n",
    "\n",
    "\n",
    "display(HTML(\"<style>.container { width:70% !important; }</style>\"))\n",
    "direct = 'C:/Users/USER/Documents/Jupyter Notebook/AI_IMEN/korpatbert_v1.0/'\n",
    "\n"
   ]
  },
  {
   "cell_type": "code",
   "execution_count": null,
   "metadata": {
    "scrolled": false
   },
   "outputs": [],
   "source": [
    "wordcloud = WordCloud (\n",
    "                    background_color ='white',\n",
    "    colormap  ='viridis',\n",
    "    font_path= r\"C:\\Windows\\Fonts\\malgun.ttf\"\n",
    "                        ).generate(standard)\n",
    "\n",
    "plt.figure(figsize = (12, 12))\n",
    "\n",
    "plt.axis('off') # to off the axis of x and y\n",
    "# plt.savefig('wordcloud.png')\n",
    "plt.imshow(wordcloud) # image show"
   ]
  },
  {
   "cell_type": "code",
   "execution_count": null,
   "metadata": {},
   "outputs": [],
   "source": [
    "plt.imshow(wordcloud) "
   ]
  },
  {
   "cell_type": "code",
   "execution_count": null,
   "metadata": {},
   "outputs": [],
   "source": []
  },
  {
   "cell_type": "code",
   "execution_count": null,
   "metadata": {},
   "outputs": [],
   "source": []
  },
  {
   "cell_type": "code",
   "execution_count": null,
   "metadata": {},
   "outputs": [],
   "source": []
  },
  {
   "cell_type": "code",
   "execution_count": null,
   "metadata": {},
   "outputs": [],
   "source": []
  },
  {
   "cell_type": "code",
   "execution_count": null,
   "metadata": {},
   "outputs": [],
   "source": []
  },
  {
   "cell_type": "code",
   "execution_count": null,
   "metadata": {},
   "outputs": [],
   "source": []
  },
  {
   "cell_type": "code",
   "execution_count": null,
   "metadata": {},
   "outputs": [],
   "source": []
  },
  {
   "cell_type": "code",
   "execution_count": null,
   "metadata": {},
   "outputs": [],
   "source": []
  },
  {
   "cell_type": "code",
   "execution_count": null,
   "metadata": {},
   "outputs": [],
   "source": []
  },
  {
   "cell_type": "code",
   "execution_count": null,
   "metadata": {},
   "outputs": [],
   "source": []
  },
  {
   "cell_type": "code",
   "execution_count": null,
   "metadata": {},
   "outputs": [],
   "source": []
  },
  {
   "cell_type": "code",
   "execution_count": null,
   "metadata": {},
   "outputs": [],
   "source": []
  },
  {
   "cell_type": "code",
   "execution_count": null,
   "metadata": {},
   "outputs": [],
   "source": []
  },
  {
   "cell_type": "code",
   "execution_count": null,
   "metadata": {},
   "outputs": [],
   "source": []
  },
  {
   "cell_type": "code",
   "execution_count": null,
   "metadata": {},
   "outputs": [],
   "source": []
  },
  {
   "cell_type": "code",
   "execution_count": null,
   "metadata": {},
   "outputs": [],
   "source": []
  },
  {
   "cell_type": "code",
   "execution_count": null,
   "metadata": {},
   "outputs": [],
   "source": []
  },
  {
   "cell_type": "code",
   "execution_count": null,
   "metadata": {},
   "outputs": [],
   "source": []
  },
  {
   "cell_type": "code",
   "execution_count": null,
   "metadata": {},
   "outputs": [],
   "source": []
  },
  {
   "cell_type": "code",
   "execution_count": null,
   "metadata": {},
   "outputs": [],
   "source": []
  }
 ],
 "metadata": {
  "hide_input": false,
  "kernelspec": {
   "display_name": "Python 3",
   "language": "python",
   "name": "python3"
  },
  "language_info": {
   "codemirror_mode": {
    "name": "ipython",
    "version": 3
   },
   "file_extension": ".py",
   "mimetype": "text/x-python",
   "name": "python",
   "nbconvert_exporter": "python",
   "pygments_lexer": "ipython3",
   "version": "3.7.4"
  },
  "toc": {
   "base_numbering": 1,
   "nav_menu": {},
   "number_sections": true,
   "sideBar": true,
   "skip_h1_title": false,
   "title_cell": "Table of Contents",
   "title_sidebar": "Contents",
   "toc_cell": false,
   "toc_position": {},
   "toc_section_display": true,
   "toc_window_display": false
  },
  "varInspector": {
   "cols": {
    "lenName": 16,
    "lenType": 16,
    "lenVar": 40
   },
   "kernels_config": {
    "python": {
     "delete_cmd_postfix": "",
     "delete_cmd_prefix": "del ",
     "library": "var_list.py",
     "varRefreshCmd": "print(var_dic_list())"
    },
    "r": {
     "delete_cmd_postfix": ") ",
     "delete_cmd_prefix": "rm(",
     "library": "var_list.r",
     "varRefreshCmd": "cat(var_dic_list()) "
    }
   },
   "types_to_exclude": [
    "module",
    "function",
    "builtin_function_or_method",
    "instance",
    "_Feature"
   ],
   "window_display": false
  }
 },
 "nbformat": 4,
 "nbformat_minor": 2
}
