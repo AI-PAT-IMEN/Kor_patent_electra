{
 "cells": [
  {
   "cell_type": "code",
   "execution_count": 1,
   "metadata": {},
   "outputs": [
    {
     "name": "stderr",
     "output_type": "stream",
     "text": [
      "D:\\anaconda\\lib\\site-packages\\statsmodels\\tools\\_testing.py:19: FutureWarning: pandas.util.testing is deprecated. Use the functions in the public API at pandas.testing instead.\n",
      "  import pandas.util.testing as tm\n"
     ]
    }
   ],
   "source": [
    "import pandas as pd\n",
    "import numpy as np\n",
    "\n",
    "# import cufflinks as cf\n",
    "# import plotly.graph_objects as go\n",
    "# import chart_studio.plotly as py\n",
    "\n",
    "# cf.go_offline(connected = True)\n",
    "\n",
    "from IPython.core.display import display, HTML\n",
    "import os\n",
    "import datetime\n",
    "\n",
    "import IPython\n",
    "import IPython.display\n",
    "import matplotlib as mpl\n",
    "import matplotlib.pyplot as plt\n",
    "import numpy as np\n",
    "import pandas as pd\n",
    "import seaborn as sns\n",
    "\n",
    "mpl.rcParams['figure.figsize'] = (8, 6)\n",
    "mpl.rcParams['axes.grid'] = False\n",
    "\n"
   ]
  },
  {
   "cell_type": "code",
   "execution_count": 2,
   "metadata": {},
   "outputs": [],
   "source": [
    "import easydict\n",
    " \n",
    "\n",
    "args = easydict.EasyDict({\n",
    " \n",
    "        \"n_epochs\": 200,\n",
    " \n",
    "        \"batch_size\": 64,\n",
    " \n",
    "        \"lr\": 0.0002,\n",
    " \n",
    "        \"b1\": 0.5,\n",
    " \n",
    "        \"b2\": 0.999,\n",
    " \n",
    "        \"n_cpu\": 8,\n",
    "    \n",
    "        \"latent_dim\": 100,\n",
    " \n",
    "        \"img_size\": 28,\n",
    " \n",
    "        \"channels\": 1,\n",
    " \n",
    "        \"sample_interval\": 400\n",
    " \n",
    "    \n",
    "})"
   ]
  },
  {
   "cell_type": "code",
   "execution_count": 6,
   "metadata": {},
   "outputs": [
    {
     "name": "stdout",
     "output_type": "stream",
     "text": [
      " * Serving Flask app \"__main__\" (lazy loading)\n",
      " * Environment: production\n",
      "\u001b[31m   WARNING: This is a development server. Do not use it in a production deployment.\u001b[0m\n",
      "\u001b[2m   Use a production WSGI server instead.\u001b[0m\n",
      " * Debug mode: off\n"
     ]
    },
    {
     "name": "stderr",
     "output_type": "stream",
     "text": [
      " * Running on http://127.0.0.1:8000/ (Press CTRL+C to quit)\n",
      "127.0.0.1 - - [20/Nov/2022 18:23:14] \"GET / HTTP/1.1\" 200 -\n"
     ]
    }
   ],
   "source": [
    "from flask import  Flask, request, make_response, jsonify, render_template\n",
    "from flask_cors import CORS\n",
    "\n",
    "app = Flask(__name__ , static_url_path='/static')\n",
    "\n",
    "\n",
    "\n",
    "\n",
    "\n",
    "# @app.route('/index') # 라우팅 주소에 있는 변수를 벡엔드에서 받아서 다시 프론트 엔드로 전달할 수 있다.\n",
    "# def get_first(): # routing에 받은 변수를 함수에 사용할 수 있게, ()안에 써준다.\n",
    "#     return render_template('index.html')\n",
    "\n",
    "\n",
    "####################################실제 쓰이는 페이지 ########################################\n",
    "\n",
    "########### 검색 페이지\n",
    "@app.route('/') # 라우팅 주소에 있는 변수를 벡엔드에서 받아서 다시 프론트 엔드로 전달할 수 있다.\n",
    "def get_zero(): # routing에 받은 변수를 함수에 사용할 수 있게, ()안에 써준다.\n",
    "    return render_template('colorlib.html')\n",
    "\n",
    "############검색 결과\n",
    "@app.route('/base') \n",
    "def get_base(): \n",
    "    return render_template('index.html') \n",
    "\n",
    "\n",
    "#############기업사례분석\n",
    "@app.route('/charts.html')\n",
    "def get_charts(): \n",
    "    return render_template('charts.html')\n",
    "\n",
    "#############기술수명주기분석\n",
    "@app.route('/layout_static.html') \n",
    "def get_layout_static(): \n",
    "    return render_template('layout_static.html')\n",
    "\n",
    "###############기술사례분석\n",
    "@app.route('/tables.html') \n",
    "def get_tables(): \n",
    "    return render_template('tables.html')\n",
    "\n",
    "##################################################################################################\n",
    "\n",
    "\n",
    "@app.route('/404.html') \n",
    "def get_404(): \n",
    "    return render_template('404.html')\n",
    "\n",
    "    \n",
    "@app.route('/401.html') \n",
    "def get_401(): \n",
    "    return render_template('401.html')\n",
    "\n",
    "\n",
    "@app.route('/layout-sidenav-light.html') \n",
    "def get_layout_sidenav_light(): \n",
    "    return render_template('layout-sidenav-light.html')\n",
    "\n",
    "\n",
    "\n",
    "    \n",
    "@app.route('/login.html')\n",
    "def get_login(): \n",
    "    return render_template('login.html')\n",
    "\n",
    "\n",
    "@app.route('/password.html')\n",
    "def get_password():\n",
    "    return render_template('password.html')\n",
    "\n",
    "\n",
    "@app.route('/register.html')\n",
    "def register():\n",
    "    return render_template('register.html')\n",
    "\n",
    "\n",
    "\n",
    "\n",
    "\n",
    "if  __name__ == '__main__':\n",
    "    app.run(port=8000)\n"
   ]
  },
  {
   "cell_type": "code",
   "execution_count": null,
   "metadata": {},
   "outputs": [],
   "source": []
  },
  {
   "cell_type": "code",
   "execution_count": null,
   "metadata": {},
   "outputs": [],
   "source": []
  },
  {
   "cell_type": "code",
   "execution_count": null,
   "metadata": {},
   "outputs": [],
   "source": []
  },
  {
   "cell_type": "code",
   "execution_count": null,
   "metadata": {},
   "outputs": [],
   "source": []
  },
  {
   "cell_type": "code",
   "execution_count": null,
   "metadata": {},
   "outputs": [],
   "source": []
  },
  {
   "cell_type": "code",
   "execution_count": null,
   "metadata": {},
   "outputs": [],
   "source": []
  },
  {
   "cell_type": "code",
   "execution_count": null,
   "metadata": {},
   "outputs": [],
   "source": []
  },
  {
   "cell_type": "code",
   "execution_count": null,
   "metadata": {},
   "outputs": [],
   "source": []
  },
  {
   "cell_type": "code",
   "execution_count": null,
   "metadata": {},
   "outputs": [],
   "source": []
  },
  {
   "cell_type": "code",
   "execution_count": null,
   "metadata": {},
   "outputs": [],
   "source": []
  },
  {
   "cell_type": "code",
   "execution_count": null,
   "metadata": {},
   "outputs": [],
   "source": []
  },
  {
   "cell_type": "code",
   "execution_count": null,
   "metadata": {},
   "outputs": [],
   "source": []
  },
  {
   "cell_type": "code",
   "execution_count": null,
   "metadata": {},
   "outputs": [],
   "source": []
  },
  {
   "cell_type": "code",
   "execution_count": null,
   "metadata": {},
   "outputs": [],
   "source": []
  },
  {
   "cell_type": "code",
   "execution_count": null,
   "metadata": {},
   "outputs": [],
   "source": []
  },
  {
   "cell_type": "code",
   "execution_count": null,
   "metadata": {},
   "outputs": [],
   "source": []
  },
  {
   "cell_type": "code",
   "execution_count": null,
   "metadata": {},
   "outputs": [],
   "source": []
  },
  {
   "cell_type": "code",
   "execution_count": null,
   "metadata": {},
   "outputs": [],
   "source": []
  },
  {
   "cell_type": "code",
   "execution_count": null,
   "metadata": {},
   "outputs": [],
   "source": []
  },
  {
   "cell_type": "code",
   "execution_count": null,
   "metadata": {},
   "outputs": [],
   "source": []
  },
  {
   "cell_type": "code",
   "execution_count": null,
   "metadata": {},
   "outputs": [],
   "source": []
  },
  {
   "cell_type": "code",
   "execution_count": null,
   "metadata": {},
   "outputs": [],
   "source": []
  },
  {
   "cell_type": "code",
   "execution_count": null,
   "metadata": {},
   "outputs": [],
   "source": []
  },
  {
   "cell_type": "code",
   "execution_count": null,
   "metadata": {},
   "outputs": [],
   "source": []
  },
  {
   "cell_type": "code",
   "execution_count": null,
   "metadata": {},
   "outputs": [],
   "source": []
  },
  {
   "cell_type": "code",
   "execution_count": null,
   "metadata": {},
   "outputs": [],
   "source": []
  },
  {
   "cell_type": "code",
   "execution_count": null,
   "metadata": {},
   "outputs": [],
   "source": []
  },
  {
   "cell_type": "code",
   "execution_count": null,
   "metadata": {},
   "outputs": [],
   "source": []
  },
  {
   "cell_type": "code",
   "execution_count": null,
   "metadata": {},
   "outputs": [],
   "source": []
  },
  {
   "cell_type": "code",
   "execution_count": null,
   "metadata": {},
   "outputs": [],
   "source": []
  }
 ],
 "metadata": {
  "hide_input": false,
  "kernelspec": {
   "display_name": "Python 3",
   "language": "python",
   "name": "python3"
  },
  "language_info": {
   "codemirror_mode": {
    "name": "ipython",
    "version": 3
   },
   "file_extension": ".py",
   "mimetype": "text/x-python",
   "name": "python",
   "nbconvert_exporter": "python",
   "pygments_lexer": "ipython3",
   "version": "3.7.4"
  },
  "toc": {
   "base_numbering": 1,
   "nav_menu": {},
   "number_sections": true,
   "sideBar": true,
   "skip_h1_title": false,
   "title_cell": "Table of Contents",
   "title_sidebar": "Contents",
   "toc_cell": false,
   "toc_position": {},
   "toc_section_display": true,
   "toc_window_display": false
  },
  "varInspector": {
   "cols": {
    "lenName": 16,
    "lenType": 16,
    "lenVar": 40
   },
   "kernels_config": {
    "python": {
     "delete_cmd_postfix": "",
     "delete_cmd_prefix": "del ",
     "library": "var_list.py",
     "varRefreshCmd": "print(var_dic_list())"
    },
    "r": {
     "delete_cmd_postfix": ") ",
     "delete_cmd_prefix": "rm(",
     "library": "var_list.r",
     "varRefreshCmd": "cat(var_dic_list()) "
    }
   },
   "types_to_exclude": [
    "module",
    "function",
    "builtin_function_or_method",
    "instance",
    "_Feature"
   ],
   "window_display": false
  }
 },
 "nbformat": 4,
 "nbformat_minor": 2
}
